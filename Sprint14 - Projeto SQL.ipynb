{
 "cells": [
  {
   "cell_type": "markdown",
   "metadata": {},
   "source": [
    "## Introdução\n",
    "\n",
    "O projeto em questão está focado na análise de dados relacionados ao mercado de livros, particularmente durante a pandemia de coronavírus, que transformou os hábitos de consumo de conteúdo, levando muitas pessoas a se dedicarem à leitura. Para entender esse fenômeno, um banco de dados de uma startup concorrente no mercado de livros foi fornecido, contendo informações sobre livros, autores, editoras, avaliações dos leitores e resenhas dos usuários.\n",
    "\n",
    "A análise desses dados nos permitirá gerar insights valiosos para ajudar no desenvolvimento de um novo produto para os amantes de livros. As consultas SQL a serem realizadas são divididas em várias tarefas, que nos ajudarão a responder perguntas específicas sobre o comportamento dos leitores, as editoras, e a recepção dos livros no mercado."
   ]
  },
  {
   "cell_type": "markdown",
   "metadata": {},
   "source": [
    "### Tarefa 1: Encontrar o número de livros lançados depois de 1 de janeiro de 2000\n",
    "\n",
    "Nesta tarefa, o objetivo é entender o volume de lançamentos de livros após o ano de 2000. Sabemos que a indústria editorial passou por transformações significativas após esse período, com novas editoras, tecnologias e mudanças nos padrões de consumo. A partir da análise dessa data de lançamento, podemos obter uma visão sobre o comportamento do mercado editorial ao longo do tempo."
   ]
  },
  {
   "cell_type": "code",
   "execution_count": 1,
   "metadata": {},
   "outputs": [],
   "source": [
    "import pandas as pd\n",
    "from sqlalchemy import create_engine\n",
    "\n",
    "db_config = { \n",
    "                'user': 'practicum_student', # username\n",
    "                'pwd': 'QnmDH8Sc2TQLvy2G3Vvh7', # password\n",
    "                'host': 'yp-trainers-practicum.cluster-czs0gxyx2d8w.us-east-1.rds.amazonaws.com',\n",
    "                'port': 5432, # connection port\n",
    "                'db': 'data-analyst-final-project-db' # the name of the database\n",
    "            }\n",
    "\n",
    "connection_string = 'postgresql://{}:{}@{}:{}/{}'.format(db_config['user'],\n",
    "                                                         db_config ['pwd'],\n",
    "                                                         db_config['host'],\n",
    "                                                         db_config['port'],\n",
    "                                                         db_config['db'])\n",
    "\n",
    "engine = create_engine(connection_string, connect_args={'sslmode':'require'})"
   ]
  },
  {
   "cell_type": "code",
   "execution_count": 2,
   "metadata": {},
   "outputs": [
    {
     "name": "stdout",
     "output_type": "stream",
     "text": [
      "Número de livros lançados após 1º de janeiro de 2000: 819\n"
     ]
    }
   ],
   "source": [
    "# Consulta SQL para contar o número de livros lançados após 1 de janeiro de 2000\n",
    "query = \"\"\"\n",
    "    SELECT COUNT(*) \n",
    "    FROM books\n",
    "    WHERE publication_date > '2000-01-01';\n",
    "\"\"\"\n",
    "\n",
    "# Executando a consulta e carregando o resultado no DataFrame\n",
    "result = pd.read_sql(query, con = engine)\n",
    "\n",
    "# Exibindo o número de livros lançados após 1º de janeiro de 2000\n",
    "num_livros_lancados = result.iloc[0, 0]  # O resultado vem em uma célula no DataFrame\n",
    "print(f'Número de livros lançados após 1º de janeiro de 2000: {num_livros_lancados}')\n"
   ]
  },
  {
   "cell_type": "markdown",
   "metadata": {},
   "source": [
    "<div class=\"alert alert-block alert-success\">\n",
    "<b> Comentário: </b> <a class=\"tocSkip\"></a>\n",
    "\n",
    "    \n",
    "- A quantidade de livros lançadas após Jan-2000 foi calculada\n",
    "</div>"
   ]
  },
  {
   "cell_type": "markdown",
   "metadata": {},
   "source": [
    "### Tarefa 2: Encontrar o número de avaliações e a classificação média para cada livro\n",
    "\n",
    "Aqui, o foco é analisar a recepção dos livros pelos leitores. Com isso, podemos identificar os livros que receberam mais avaliações, além de calcular a média das classificações para cada livro. Isso nos ajudará a entender a popularidade e a qualidade dos livros, além de fornecer uma visão mais precisa sobre o que os leitores pensam sobre os títulos disponíveis."
   ]
  },
  {
   "cell_type": "code",
   "execution_count": 3,
   "metadata": {},
   "outputs": [
    {
     "name": "stdout",
     "output_type": "stream",
     "text": [
      "   book_id  num_avaliacoes  media_classificacao\n",
      "0      652               2             4.500000\n",
      "1      273               2             4.500000\n",
      "2       51              12             4.250000\n",
      "3      951               2             4.000000\n",
      "4      839               7             4.285714\n"
     ]
    }
   ],
   "source": [
    "# Consulta SQL para encontrar o número de avaliações e a média das classificações por livro\n",
    "query = \"\"\"\n",
    "    SELECT \n",
    "        book_id, \n",
    "        COUNT(rating_id) AS num_avaliacoes,\n",
    "        AVG(rating) AS media_classificacao\n",
    "    FROM ratings\n",
    "    GROUP BY book_id;\n",
    "\"\"\"\n",
    "\n",
    "# Executando a consulta e carregando o resultado no DataFrame\n",
    "avaliacoes = pd.read_sql(query, engine)\n",
    "\n",
    "# Exibindo as primeiras linhas do DataFrame resultante\n",
    "print(avaliacoes.head())\n",
    "\n"
   ]
  },
  {
   "cell_type": "markdown",
   "metadata": {},
   "source": [
    "### Tarefa 3: Identificar a editora que lançou o maior número de livros com mais de 50 páginas\n",
    "\n",
    "Nesta análise, queremos focar nas editoras que publicaram livros com mais de 50 páginas, excluindo assim brochuras e livros de menor porte. Saber quais editoras dominam o mercado de livros mais longos pode ser útil para entender quais editoras estão investindo em títulos mais robustos. Isso também pode ajudar a destacar editoras que se dedicam mais ao público ávido por leitura."
   ]
  },
  {
   "cell_type": "code",
   "execution_count": 4,
   "metadata": {},
   "outputs": [
    {
     "name": "stdout",
     "output_type": "stream",
     "text": [
      "Editora com o maior número de livros com mais de 50 páginas:\n",
      "       publisher  num_livros\n",
      "0  Penguin Books          42\n"
     ]
    }
   ],
   "source": [
    "import pandas as pd\n",
    "\n",
    "# Consulta SQL para identificar a editora com o maior número de livros com mais de 50 páginas\n",
    "query = \"\"\"\n",
    "    SELECT \n",
    "        p.publisher, \n",
    "        COUNT(b.book_id) AS num_livros\n",
    "    FROM books b\n",
    "    JOIN publishers p ON b.publisher_id = p.publisher_id\n",
    "    WHERE b.num_pages > 50\n",
    "    GROUP BY p.publisher\n",
    "    ORDER BY num_livros DESC\n",
    "    LIMIT 1;\n",
    "\"\"\"\n",
    "\n",
    "# Executando a consulta e carregando o resultado no DataFrame\n",
    "resultado = pd.read_sql(query, engine)\n",
    "\n",
    "# Exibindo o resultado\n",
    "print(\"Editora com o maior número de livros com mais de 50 páginas:\")\n",
    "print(resultado)"
   ]
  },
  {
   "cell_type": "markdown",
   "metadata": {},
   "source": [
    "### Tarefa 4: Identificar o autor com a média mais alta de classificação de livros (considerando apenas livros com pelo menos 50 classificações)\n",
    "\n",
    "Neste caso, o objetivo é determinar o autor mais bem classificado, levando em consideração apenas os livros que receberam uma quantidade significativa de avaliações, ou seja, pelo menos 50 classificações. Isso nos ajudará a identificar os autores que são consistentemente bem avaliados pelos leitores."
   ]
  },
  {
   "cell_type": "code",
   "execution_count": 5,
   "metadata": {},
   "outputs": [
    {
     "name": "stdout",
     "output_type": "stream",
     "text": [
      "Autor com a maior média de classificação (considerando livros com pelo menos 50 classificações):\n",
      "                       author  media_classificacao\n",
      "0  J.K. Rowling/Mary GrandPré             4.414634\n"
     ]
    }
   ],
   "source": [
    "# Consulta SQL para identificar o autor com a maior média de classificação, considerando livros com pelo menos 50 classificações\n",
    "query = \"\"\"\n",
    "    SELECT \n",
    "        a.author, \n",
    "        AVG(r.rating) AS media_classificacao\n",
    "    FROM ratings r\n",
    "    JOIN books b ON r.book_id = b.book_id\n",
    "    JOIN authors a ON b.author_id = a.author_id\n",
    "    GROUP BY a.author, b.book_id\n",
    "    HAVING COUNT(r.rating_id) >= 50\n",
    "    ORDER BY media_classificacao DESC\n",
    "    LIMIT 1;\n",
    "\"\"\"\n",
    "\n",
    "# Executando a consulta e carregando o resultado no DataFrame\n",
    "resultado = pd.read_sql(query, con = engine)\n",
    "\n",
    "# Exibindo o resultado\n",
    "print(\"Autor com a maior média de classificação (considerando livros com pelo menos 50 classificações):\")\n",
    "print(resultado)\n"
   ]
  },
  {
   "cell_type": "markdown",
   "metadata": {},
   "source": [
    "<div class=\"alert alert-block alert-success\">\n",
    "<b> Comentário: </b> <a class=\"tocSkip\"></a>\n",
    "\n",
    "    \n",
    "Parabéns, todas as tarefas até aqui foram realizadas corretamente :D\n",
    "\n",
    "</div>"
   ]
  },
  {
   "cell_type": "markdown",
   "metadata": {},
   "source": [
    "### Tarefa 5: Encontrar o número médio de avaliações entre usuários que classificaram mais do que 50 livros\n",
    "\n",
    "Esta análise se concentra no comportamento de usuários que são mais ativos em termos de avaliações. Queremos calcular a média de avaliações feitas por aqueles que avaliaram mais de 50 livros, oferecendo insights sobre o perfil dos leitores mais engajados. Esses usuários podem ser considerados como formadores de opinião ou simplesmente leitores mais dedicados."
   ]
  },
  {
   "cell_type": "code",
   "execution_count": 7,
   "metadata": {},
   "outputs": [
    {
     "name": "stdout",
     "output_type": "stream",
     "text": [
      "Número médio de avaliações de texto feitas por usuários que avaliaram mais de 50 livros:\n",
      "   avg_reviews\n",
      "0    24.333333\n"
     ]
    }
   ],
   "source": [
    "# Consulta SQL para calcular a média da contagem de avaliações de texto (reviews) feitas por usuários que avaliaram mais de 50 livros\n",
    "query = \"\"\"\n",
    "    SELECT \n",
    "        AVG(review_count) AS avg_reviews\n",
    "    FROM (\n",
    "        SELECT \n",
    "            COUNT(*) AS review_count\n",
    "        FROM reviews\n",
    "        WHERE username IN (\n",
    "            SELECT\n",
    "                username\n",
    "            FROM ratings\n",
    "            GROUP BY username\n",
    "            HAVING COUNT(rating_id) > 50\n",
    "        )\n",
    "        GROUP BY username\n",
    "    ) AS review_counts;\n",
    "\"\"\"\n",
    "\n",
    "# Executando a consulta e carregando o resultado no DataFrame\n",
    "resultado = pd.read_sql(query, con=engine)\n",
    "\n",
    "# Exibindo o resultado\n",
    "print(\"Número médio de avaliações de texto feitas por usuários que avaliaram mais de 50 livros:\")\n",
    "print(resultado)\n"
   ]
  },
  {
   "cell_type": "markdown",
   "metadata": {},
   "source": [
    "## Conclusão:\n",
    "\n",
    "Esse projeto ajudou a entender melhor o comportamento dos leitores e as tendências do mercado editorial. Analisando os dados, conseguimos identificar alguns padrões interessantes:\n",
    "\n",
    "- Lançamentos de livros: Depois de 2000, houve um bom número de lançamentos de livros (819 livros), mostrando que a indústria continuou crescendo.\n",
    "\n",
    "- Avaliações dos livros: Livros que receberam mais avaliações e têm boas notas tendem a ser mais populares entre os leitores. Isso pode ser útil para saber quais livros têm mais chances de sucesso.\n",
    "\n",
    "- Editoras de livros longos: Editoras como a Penguin Books, que publicam livros com mais de 50 páginas, estão dominando o mercado de livros mais robustos. Isso pode ser um sinal de que há um público fiel para esse tipo de livro.\n",
    "\n",
    "- Autores bem avaliados: Autores como J.K. Rowling/Mary GrandPré têm uma média de classificação alta, o que mostra que são muito bem recebidos pelo público.\n",
    "\n",
    "- Leitores mais ativos: Os usuários que avaliam muitos livros (mais de 50) fazem em média 54 avaliações cada. Esses leitores são valiosos, porque ajudam a influenciar outros e engajam mais com os livros.\n",
    "\n",
    "\n",
    "## Recomendações:\n",
    "\n",
    "Com base nesses insights, editoras podem focar em promover livros com boas classificações e mais avaliações, investir em títulos mais longos e apostar em autores consagrados. Além disso, engajar leitores mais ativos pode ser uma boa estratégia para aumentar o sucesso no mercado.\n",
    "\n",
    "Esses dados são úteis para entender como os leitores estão interagindo com os livros e como as editoras podem melhorar suas ofertas para se destacar ainda mais no mercado."
   ]
  },
  {
   "cell_type": "markdown",
   "metadata": {},
   "source": [
    "<div class=\"alert alert-block alert-success\">\n",
    "\n",
    "<b>Comentário: </b> <a class=\"tocSkip\"></a>\n",
    "\n",
    "\n",
    "\n",
    "Conclusão detalhada e baseada em dados.\n",
    "\n",
    "</div>"
   ]
  },
  {
   "cell_type": "code",
   "execution_count": null,
   "metadata": {},
   "outputs": [],
   "source": []
  },
  {
   "cell_type": "markdown",
   "metadata": {},
   "source": [
    "<div class=\"alert alert-block alert-success\">\n",
    "\n",
    "<b>Comentário geral v2: </b> <a class=\"tocSkip\"></a>\n",
    "    \n",
    "Bruuu o trabalho ficou impecável! Muuuito bom! Fico triste que será a nossa última revisão, mas feliz pelo seu avanço e desenvovimento! Pode contar comigo pra qualquer ajuda (Dentro ou fora da Tripleten :D)\n",
    "\n",
    "Te desejo sucesso na sua jornada!🍀"
   ]
  }
 ],
 "metadata": {
  "ExecuteTimeLog": [
   {
    "duration": 7,
    "start_time": "2025-03-03T19:35:32.308Z"
   },
   {
    "duration": 5,
    "start_time": "2025-03-03T19:36:03.735Z"
   },
   {
    "duration": 6,
    "start_time": "2025-03-03T19:36:29.810Z"
   },
   {
    "duration": 4,
    "start_time": "2025-03-03T19:36:57.377Z"
   },
   {
    "duration": 4,
    "start_time": "2025-03-03T19:37:23.159Z"
   },
   {
    "duration": 1335,
    "start_time": "2025-03-03T19:38:39.005Z"
   },
   {
    "duration": 230,
    "start_time": "2025-03-03T19:39:39.354Z"
   },
   {
    "duration": 254,
    "start_time": "2025-03-03T19:40:12.118Z"
   },
   {
    "duration": 4,
    "start_time": "2025-03-03T19:40:56.222Z"
   },
   {
    "duration": 4,
    "start_time": "2025-03-03T19:41:15.610Z"
   },
   {
    "duration": 4,
    "start_time": "2025-03-03T19:42:07.056Z"
   },
   {
    "duration": 4,
    "start_time": "2025-03-03T19:42:13.441Z"
   },
   {
    "duration": 198,
    "start_time": "2025-03-03T19:44:13.435Z"
   },
   {
    "duration": 3,
    "start_time": "2025-03-03T19:45:13.412Z"
   },
   {
    "duration": 227,
    "start_time": "2025-03-03T19:45:15.844Z"
   },
   {
    "duration": 4,
    "start_time": "2025-03-03T19:45:29.689Z"
   },
   {
    "duration": 259,
    "start_time": "2025-03-03T19:46:11.446Z"
   },
   {
    "duration": 221,
    "start_time": "2025-03-03T19:46:58.077Z"
   },
   {
    "duration": 4,
    "start_time": "2025-03-03T19:49:14.042Z"
   },
   {
    "duration": 255,
    "start_time": "2025-03-03T20:06:01.147Z"
   },
   {
    "duration": 82,
    "start_time": "2025-03-03T20:07:56.972Z"
   },
   {
    "duration": 226,
    "start_time": "2025-03-03T20:08:43.887Z"
   },
   {
    "duration": 4,
    "start_time": "2025-03-03T20:09:19.984Z"
   },
   {
    "duration": 6,
    "start_time": "2025-03-03T20:23:57.196Z"
   },
   {
    "duration": 5,
    "start_time": "2025-03-03T20:24:40.632Z"
   },
   {
    "duration": 12,
    "start_time": "2025-03-03T20:25:18.498Z"
   },
   {
    "duration": 5,
    "start_time": "2025-03-03T20:27:03.558Z"
   },
   {
    "duration": 12,
    "start_time": "2025-03-03T20:27:05.592Z"
   },
   {
    "duration": 5,
    "start_time": "2025-03-03T20:30:28.644Z"
   },
   {
    "duration": 3,
    "start_time": "2025-03-03T20:32:01.932Z"
   },
   {
    "duration": 11,
    "start_time": "2025-03-03T20:32:06.879Z"
   },
   {
    "duration": 405,
    "start_time": "2025-03-04T20:34:57.866Z"
   },
   {
    "duration": 4,
    "start_time": "2025-03-04T20:35:03.222Z"
   },
   {
    "duration": 385,
    "start_time": "2025-03-05T11:10:30.347Z"
   },
   {
    "duration": 5,
    "start_time": "2025-03-05T11:10:30.735Z"
   },
   {
    "duration": 0,
    "start_time": "2025-03-05T11:10:30.741Z"
   },
   {
    "duration": 0,
    "start_time": "2025-03-05T11:10:30.742Z"
   },
   {
    "duration": 0,
    "start_time": "2025-03-05T11:10:30.743Z"
   },
   {
    "duration": 3203,
    "start_time": "2025-03-05T11:10:51.473Z"
   },
   {
    "duration": 5,
    "start_time": "2025-03-05T11:13:45.163Z"
   },
   {
    "duration": 847,
    "start_time": "2025-03-05T11:13:51.684Z"
   },
   {
    "duration": 4,
    "start_time": "2025-03-05T11:14:24.726Z"
   },
   {
    "duration": 124,
    "start_time": "2025-03-05T11:14:26.582Z"
   },
   {
    "duration": 156,
    "start_time": "2025-03-05T11:15:00.141Z"
   },
   {
    "duration": 9,
    "start_time": "2025-03-05T11:18:20.454Z"
   },
   {
    "duration": 15,
    "start_time": "2025-03-05T11:19:20.191Z"
   },
   {
    "duration": 10,
    "start_time": "2025-03-05T11:20:02.121Z"
   },
   {
    "duration": 14,
    "start_time": "2025-03-05T11:20:38.136Z"
   },
   {
    "duration": 14,
    "start_time": "2025-03-05T11:20:41.666Z"
   },
   {
    "duration": 10,
    "start_time": "2025-03-05T11:21:23.620Z"
   },
   {
    "duration": 9,
    "start_time": "2025-03-05T16:01:25.887Z"
   },
   {
    "duration": 448,
    "start_time": "2025-03-05T16:05:34.743Z"
   },
   {
    "duration": 31,
    "start_time": "2025-03-05T16:05:35.574Z"
   },
   {
    "duration": 11,
    "start_time": "2025-03-05T16:05:40.773Z"
   },
   {
    "duration": 603,
    "start_time": "2025-03-05T16:06:15.288Z"
   },
   {
    "duration": 119,
    "start_time": "2025-03-05T16:06:36.666Z"
   },
   {
    "duration": 425,
    "start_time": "2025-03-05T20:03:50.400Z"
   },
   {
    "duration": 33,
    "start_time": "2025-03-05T20:03:50.827Z"
   },
   {
    "duration": 16,
    "start_time": "2025-03-05T20:03:50.861Z"
   },
   {
    "duration": 10,
    "start_time": "2025-03-05T20:03:50.879Z"
   },
   {
    "duration": 13,
    "start_time": "2025-03-05T20:03:50.890Z"
   },
   {
    "duration": 9,
    "start_time": "2025-03-05T20:03:50.905Z"
   },
   {
    "duration": 12,
    "start_time": "2025-03-05T20:05:27.026Z"
   }
  ],
  "kernelspec": {
   "display_name": "Python 3 (ipykernel)",
   "language": "python",
   "name": "python3"
  },
  "language_info": {
   "codemirror_mode": {
    "name": "ipython",
    "version": 3
   },
   "file_extension": ".py",
   "mimetype": "text/x-python",
   "name": "python",
   "nbconvert_exporter": "python",
   "pygments_lexer": "ipython3",
   "version": "3.9.19"
  },
  "toc": {
   "base_numbering": 1,
   "nav_menu": {},
   "number_sections": true,
   "sideBar": true,
   "skip_h1_title": true,
   "title_cell": "Table of Contents",
   "title_sidebar": "Contents",
   "toc_cell": false,
   "toc_position": {},
   "toc_section_display": true,
   "toc_window_display": false
  }
 },
 "nbformat": 4,
 "nbformat_minor": 2
}
