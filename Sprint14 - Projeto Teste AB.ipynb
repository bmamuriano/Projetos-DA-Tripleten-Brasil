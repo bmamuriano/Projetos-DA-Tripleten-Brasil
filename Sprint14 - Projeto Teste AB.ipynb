{
 "cells": [
  {
   "cell_type": "markdown",
   "metadata": {},
   "source": [
    "## Objetivos do Estudo:\n",
    "\n",
    "O estudo visa comparar dois grupos de usuários:\n",
    "\n",
    "### Grupo A (Controle): Não teve acesso ao novo sistema de recomendação.\n",
    "### Grupo B (Novo Funil de Pagamentos): Teve acesso ao novo sistema de recomendação.\n",
    "O objetivo principal é verificar se o sistema de recomendação melhorado resulta em um aumento nas conversões em cada etapa do funil:\n",
    "\n",
    "* product_page → product_cart → purchase\n",
    "\n",
    "Espera-se que, em cada uma dessas etapas, haja pelo menos um aumento de 10% nas conversões no Grupo B comparado ao Grupo A dentro de um período de 14 dias após o cadastro."
   ]
  },
  {
   "cell_type": "markdown",
   "metadata": {},
   "source": [
    "## Exploração Inicial dos Dados:\n",
    "\n",
    "Vamos começar analisando os dados e verificando se há necessidade de ajustes.\n",
    "\n",
    "1- Verificar se os tipos de dados precisam ser convertidos:\n",
    "Datas: A coluna first_date e event_dt devem ser do tipo datetime.\n",
    "Identificadores: A coluna user_id deve ser do tipo string ou int para facilitar a análise.\n",
    "\n",
    "2- Verificar se há valores ausentes ou duplicados:\n",
    "Dados ausentes: Verificar se há valores faltando nas colunas principais, como user_id, event_name, etc.\n",
    "Duplicatas: Verificar se existem duplicatas no registro de eventos ou de usuários.\n",
    "\n",
    "3- Examine a qualidade dos dados:\n",
    "Há discrepâncias nos dados entre os usuários e as datas dos eventos?\n",
    "Usuários estão sendo atribuídos corretamente aos grupos A e B?"
   ]
  },
  {
   "cell_type": "code",
   "execution_count": 1,
   "metadata": {},
   "outputs": [
    {
     "name": "stdout",
     "output_type": "stream",
     "text": [
      "Dados de Marketing Events - first 5 rows:\n",
      "                           name                   regions    start_dt  \\\n",
      "0      Christmas&New Year Promo             EU, N.America  2020-12-25   \n",
      "1  St. Valentine's Day Giveaway  EU, CIS, APAC, N.America  2020-02-14   \n",
      "2        St. Patric's Day Promo             EU, N.America  2020-03-17   \n",
      "3                  Easter Promo  EU, CIS, APAC, N.America  2020-04-12   \n",
      "4             4th of July Promo                 N.America  2020-07-04   \n",
      "\n",
      "    finish_dt  \n",
      "0  2021-01-03  \n",
      "1  2020-02-16  \n",
      "2  2020-03-19  \n",
      "3  2020-04-19  \n",
      "4  2020-07-11  \n",
      "\n",
      "Dados de Usuários - first 5 rows:\n",
      "            user_id  first_date     region   device\n",
      "0  D72A72121175D8BE  2020-12-07         EU       PC\n",
      "1  F1C668619DFE6E65  2020-12-07  N.America  Android\n",
      "2  2E1BF1D4C37EA01F  2020-12-07         EU       PC\n",
      "3  50734A22C0C63768  2020-12-07         EU   iPhone\n",
      "4  E1BDDCE0DAFA2679  2020-12-07  N.America   iPhone\n",
      "\n",
      "Dados de Eventos - first 5 rows:\n",
      "            user_id             event_dt event_name  details\n",
      "0  E1BDDCE0DAFA2679  2020-12-07 20:22:03   purchase    99.99\n",
      "1  7B6452F081F49504  2020-12-07 09:22:53   purchase     9.99\n",
      "2  9CD9F34546DF254C  2020-12-07 12:59:29   purchase     4.99\n",
      "3  96F27A054B191457  2020-12-07 04:02:40   purchase     4.99\n",
      "4  1FD7660FDF94CA1F  2020-12-07 10:15:09   purchase     4.99\n",
      "\n",
      "Dados de Participantes - first 5 rows:\n",
      "            user_id group                  ab_test\n",
      "0  D1ABA3E2887B6A73     A  recommender_system_test\n",
      "1  A7A3664BD6242119     A  recommender_system_test\n",
      "2  DABC14FDDFADD29E     A  recommender_system_test\n",
      "3  04988C5DF189632E     A  recommender_system_test\n",
      "4  4FF2998A348C484F     A  recommender_system_test\n",
      "\n",
      "Informações dos Dados de Marketing Events:\n",
      "<class 'pandas.core.frame.DataFrame'>\n",
      "RangeIndex: 14 entries, 0 to 13\n",
      "Data columns (total 4 columns):\n",
      " #   Column     Non-Null Count  Dtype \n",
      "---  ------     --------------  ----- \n",
      " 0   name       14 non-null     object\n",
      " 1   regions    14 non-null     object\n",
      " 2   start_dt   14 non-null     object\n",
      " 3   finish_dt  14 non-null     object\n",
      "dtypes: object(4)\n",
      "memory usage: 576.0+ bytes\n",
      "None\n",
      "\n",
      "Informações dos Dados de Usuários:\n",
      "<class 'pandas.core.frame.DataFrame'>\n",
      "RangeIndex: 58703 entries, 0 to 58702\n",
      "Data columns (total 4 columns):\n",
      " #   Column      Non-Null Count  Dtype \n",
      "---  ------      --------------  ----- \n",
      " 0   user_id     58703 non-null  object\n",
      " 1   first_date  58703 non-null  object\n",
      " 2   region      58703 non-null  object\n",
      " 3   device      58703 non-null  object\n",
      "dtypes: object(4)\n",
      "memory usage: 1.8+ MB\n",
      "None\n",
      "\n",
      "Informações dos Dados de Eventos:\n",
      "<class 'pandas.core.frame.DataFrame'>\n",
      "RangeIndex: 423761 entries, 0 to 423760\n",
      "Data columns (total 4 columns):\n",
      " #   Column      Non-Null Count   Dtype  \n",
      "---  ------      --------------   -----  \n",
      " 0   user_id     423761 non-null  object \n",
      " 1   event_dt    423761 non-null  object \n",
      " 2   event_name  423761 non-null  object \n",
      " 3   details     60314 non-null   float64\n",
      "dtypes: float64(1), object(3)\n",
      "memory usage: 12.9+ MB\n",
      "None\n",
      "\n",
      "Informações dos Dados de Participantes:\n",
      "<class 'pandas.core.frame.DataFrame'>\n",
      "RangeIndex: 14525 entries, 0 to 14524\n",
      "Data columns (total 3 columns):\n",
      " #   Column   Non-Null Count  Dtype \n",
      "---  ------   --------------  ----- \n",
      " 0   user_id  14525 non-null  object\n",
      " 1   group    14525 non-null  object\n",
      " 2   ab_test  14525 non-null  object\n",
      "dtypes: object(3)\n",
      "memory usage: 340.6+ KB\n",
      "None\n",
      "\n",
      "Colunas dos Dados de Marketing Events:\n",
      "Index(['name', 'regions', 'start_dt', 'finish_dt'], dtype='object')\n",
      "\n",
      "Colunas dos Dados de Usuários:\n",
      "Index(['user_id', 'first_date', 'region', 'device'], dtype='object')\n",
      "\n",
      "Colunas dos Dados de Eventos:\n",
      "Index(['user_id', 'event_dt', 'event_name', 'details'], dtype='object')\n",
      "\n",
      "Colunas dos Dados de Participantes:\n",
      "Index(['user_id', 'group', 'ab_test'], dtype='object')\n"
     ]
    }
   ],
   "source": [
    "import pandas as pd\n",
    "\n",
    "# Carregando os dados de todos os arquivos\n",
    "marketing_events_df = pd.read_csv('/datasets/ab_project_marketing_events_us.csv')\n",
    "new_users_df = pd.read_csv('/datasets/final_ab_new_users_upd_us.csv')\n",
    "events_df = pd.read_csv('/datasets/final_ab_events_upd_us.csv')\n",
    "participants_df = pd.read_csv('/datasets/final_ab_participants_upd_us.csv')\n",
    "\n",
    "# Exibindo as primeiras linhas para ter uma visão geral dos dados\n",
    "print(\"Dados de Marketing Events - first 5 rows:\")\n",
    "print(marketing_events_df.head())\n",
    "\n",
    "print(\"\\nDados de Usuários - first 5 rows:\")\n",
    "print(new_users_df.head())\n",
    "\n",
    "print(\"\\nDados de Eventos - first 5 rows:\")\n",
    "print(events_df.head())\n",
    "\n",
    "print(\"\\nDados de Participantes - first 5 rows:\")\n",
    "print(participants_df.head())\n",
    "\n",
    "# Exibindo informações gerais sobre os dados (tipos de dados, valores não nulos)\n",
    "print(\"\\nInformações dos Dados de Marketing Events:\")\n",
    "print(marketing_events_df.info())\n",
    "\n",
    "print(\"\\nInformações dos Dados de Usuários:\")\n",
    "print(new_users_df.info())\n",
    "\n",
    "print(\"\\nInformações dos Dados de Eventos:\")\n",
    "print(events_df.info())\n",
    "\n",
    "print(\"\\nInformações dos Dados de Participantes:\")\n",
    "print(participants_df.info())\n",
    "\n",
    "# Verificando os nomes das colunas para garantir consistência\n",
    "print(\"\\nColunas dos Dados de Marketing Events:\")\n",
    "print(marketing_events_df.columns)\n",
    "\n",
    "print(\"\\nColunas dos Dados de Usuários:\")\n",
    "print(new_users_df.columns)\n",
    "\n",
    "print(\"\\nColunas dos Dados de Eventos:\")\n",
    "print(events_df.columns)\n",
    "\n",
    "print(\"\\nColunas dos Dados de Participantes:\")\n",
    "print(participants_df.columns)"
   ]
  },
  {
   "cell_type": "code",
   "execution_count": 2,
   "metadata": {
    "scrolled": true
   },
   "outputs": [
    {
     "name": "stdout",
     "output_type": "stream",
     "text": [
      "\n",
      "Tipos de dados após conversão de datas:\n",
      "name                 object\n",
      "regions              object\n",
      "start_dt     datetime64[ns]\n",
      "finish_dt    datetime64[ns]\n",
      "dtype: object\n",
      "user_id               object\n",
      "first_date    datetime64[ns]\n",
      "region                object\n",
      "device                object\n",
      "dtype: object\n",
      "user_id               object\n",
      "event_dt      datetime64[ns]\n",
      "event_name            object\n",
      "details              float64\n",
      "dtype: object\n",
      "\n",
      "Valores ausentes após preenchimento de 'details':\n",
      "user_id       0\n",
      "event_dt      0\n",
      "event_name    0\n",
      "details       0\n",
      "dtype: int64\n",
      "\n",
      "Duplicatas antes da remoção:\n",
      "Duplicatas em Marketing Events: 0\n",
      "Duplicatas em New Users: 0\n",
      "Duplicatas em Eventos: 0\n",
      "Duplicatas em Participantes: 0\n",
      "\n",
      "Duplicatas após a remoção:\n",
      "Duplicatas em Marketing Events: 0\n",
      "Duplicatas em New Users: 0\n",
      "Duplicatas em Eventos: 0\n",
      "Duplicatas em Participantes: 0\n"
     ]
    }
   ],
   "source": [
    "# Passo 1: Converter as colunas de datas para datetime\n",
    "marketing_events_df['start_dt'] = pd.to_datetime(marketing_events_df['start_dt'], errors='coerce')\n",
    "marketing_events_df['finish_dt'] = pd.to_datetime(marketing_events_df['finish_dt'], errors='coerce')\n",
    "new_users_df['first_date'] = pd.to_datetime(new_users_df['first_date'], errors='coerce')\n",
    "events_df['event_dt'] = pd.to_datetime(events_df['event_dt'], errors='coerce')\n",
    "\n",
    "# Verificando se as conversões foram bem-sucedidas\n",
    "print(\"\\nTipos de dados após conversão de datas:\")\n",
    "print(marketing_events_df.dtypes)\n",
    "print(new_users_df.dtypes)\n",
    "print(events_df.dtypes)\n",
    "\n",
    "# Passo 2: Tratar valores ausentes na coluna 'details' do dataframe de eventos\n",
    "# A coluna 'details' pode ter valores ausentes, principalmente no caso de eventos que não envolvem compras. Podemos tratar esses valores como '0' ou excluir as linhas se necessário\n",
    "events_df['details'] = events_df['details'].fillna(0)  # Preencher com 0 para eventos não relacionados a compras\n",
    "\n",
    "# Verificando se os valores ausentes foram tratados\n",
    "print(\"\\nValores ausentes após preenchimento de 'details':\")\n",
    "print(events_df.isnull().sum())\n",
    "\n",
    "# Passo 3: Verificar duplicatas e removê-las, caso existam\n",
    "print(\"\\nDuplicatas antes da remoção:\")\n",
    "print(f\"Duplicatas em Marketing Events: {marketing_events_df.duplicated().sum()}\")\n",
    "print(f\"Duplicatas em New Users: {new_users_df.duplicated().sum()}\")\n",
    "print(f\"Duplicatas em Eventos: {events_df.duplicated().sum()}\")\n",
    "print(f\"Duplicatas em Participantes: {participants_df.duplicated().sum()}\")\n",
    "\n",
    "# Remover duplicatas\n",
    "marketing_events_df = marketing_events_df.drop_duplicates()\n",
    "new_users_df = new_users_df.drop_duplicates()\n",
    "events_df = events_df.drop_duplicates()\n",
    "participants_df = participants_df.drop_duplicates()\n",
    "\n",
    "# Passo 4: Verificar novamente as duplicatas após a remoção\n",
    "print(\"\\nDuplicatas após a remoção:\")\n",
    "print(f\"Duplicatas em Marketing Events: {marketing_events_df.duplicated().sum()}\")\n",
    "print(f\"Duplicatas em New Users: {new_users_df.duplicated().sum()}\")\n",
    "print(f\"Duplicatas em Eventos: {events_df.duplicated().sum()}\")\n",
    "print(f\"Duplicatas em Participantes: {participants_df.duplicated().sum()}\")\n"
   ]
  },
  {
   "cell_type": "code",
   "execution_count": 3,
   "metadata": {},
   "outputs": [
    {
     "name": "stdout",
     "output_type": "stream",
     "text": [
      "Discrepâncias entre datas de eventos e cadastros (eventos fora da janela válida):\n",
      "                user_id            event_dt event_name  details first_date  \\\n",
      "38190  7B6452F081F49504 2020-12-21 08:04:05   purchase     4.99 2020-12-07   \n",
      "38191  831958A1EA95370E 2020-12-21 13:16:54   purchase     4.99 2020-12-07   \n",
      "38192  03FFAA7C38829B3C 2020-12-21 20:07:29   purchase     4.99 2020-12-07   \n",
      "38193  8F283A6E36B5E729 2020-12-21 04:55:45   purchase     4.99 2020-12-07   \n",
      "38194  970ABCB4968ECD43 2020-12-21 23:33:38   purchase     4.99 2020-12-07   \n",
      "\n",
      "       event_after_registration  event_before_cutoff  \n",
      "38190                      True                False  \n",
      "38191                      True                False  \n",
      "38192                      True                False  \n",
      "38193                      True                False  \n",
      "38194                      True                False  \n",
      "\n",
      "Usuários pertencendo a mais de um grupo:\n",
      "user_id\n",
      "0082295A41A867B5    2\n",
      "00E68F103C66C1F7    2\n",
      "02313B9E82255F47    2\n",
      "04F2CF340B4F3822    2\n",
      "051D59BC38C3B3AA    2\n",
      "                   ..\n",
      "FE2AF0E94DBD470E    2\n",
      "FE8F9858BBE502D9    2\n",
      "FEA0C585A53E7027    2\n",
      "FEC0BCA6C323872F    2\n",
      "FFF28D02B1EACBE1    2\n",
      "Name: group, Length: 441, dtype: int64\n"
     ]
    }
   ],
   "source": [
    "# Garantir que as colunas de datas estejam no formato correto\n",
    "events_df['event_dt'] = pd.to_datetime(events_df['event_dt'])\n",
    "new_users_df['first_date'] = pd.to_datetime(new_users_df['first_date'])\n",
    "\n",
    "# Definir o período de coleta de dados\n",
    "cutoff_date = pd.Timestamp('2020-12-21')\n",
    "\n",
    "# Verificar se a data do evento é posterior ao cadastro do usuário\n",
    "# Mesma coisa para garantir que o evento está dentro do período de 07/12/2020 a 21/12/2020\n",
    "# Corrigir o merge utilizando os dados corretos\n",
    "events_merged = events_df.merge(new_users_df[['user_id', 'first_date']], on='user_id', how='left')\n",
    "\n",
    "# Verificar discrepâncias de data: evento antes do cadastro ou evento após a data final de 21/12/2020\n",
    "events_merged['event_after_registration'] = events_merged['event_dt'] >= events_merged['first_date']\n",
    "events_merged['event_before_cutoff'] = events_merged['event_dt'] <= cutoff_date\n",
    "\n",
    "# Exibir discrepâncias (eventos que estão fora da janela válida)\n",
    "discrepancies = events_merged[~(events_merged['event_after_registration'] & events_merged['event_before_cutoff'])]\n",
    "\n",
    "# Verificar usuários com mais de um grupo\n",
    "group_counts = participants_df.groupby('user_id')['group'].nunique()\n",
    "users_in_multiple_groups = group_counts[group_counts > 1]\n",
    "\n",
    "# Exibir resultados\n",
    "print(f\"Discrepâncias entre datas de eventos e cadastros (eventos fora da janela válida):\\n{discrepancies.head()}\")\n",
    "print(f\"\\nUsuários pertencendo a mais de um grupo:\\n{users_in_multiple_groups}\")\n",
    "\n"
   ]
  },
  {
   "cell_type": "markdown",
   "metadata": {},
   "source": [
    "* Conclusão sobre os Resultados Obtidos:\n",
    "\n",
    "A análise dos dados revelou dois problemas importantes que podem comprometer a validade dos resultados e a integridade da análise.\n",
    "\n",
    "1- Discrepâncias nas datas dos eventos: Identificamos eventos que ocorreram após o período limite de 21/12/2020, uma vez que esses eventos deveriam ocorrer dentro da janela estabelecida (de 07/12/2020 a 21/12/2020). Esses eventos posteriores ao período de corte não são válidos para a análise, o que sugere a necessidade de filtrar ou excluir esses dados para garantir que os resultados reflitam apenas os eventos dentro do intervalo correto.\n",
    "\n",
    "2- Usuários pertencendo a múltiplos grupos no teste A/B: Encontramos 441 usuários que foram atribuídos a mais de um grupo no teste A/B, o que viola o princípio básico de um experimento controlado, onde cada usuário deve estar em um único grupo. A presença desses usuários em múltiplos grupos pode distorcer a análise comparativa entre os grupos A e B, afetando a confiabilidade das conclusões tiradas do experimento.\n",
    "\n",
    "Esses dois problemas precisam ser resolvidos antes de prosseguir com a análise final. A exclusão dos eventos inválidos e a correção da alocação dos usuários aos grupos garantirão que os dados utilizados para a análise sejam consistentes, melhorando a qualidade dos insights e decisões baseadas nos resultados do teste."
   ]
  },
  {
   "cell_type": "markdown",
   "metadata": {},
   "source": [
    "<div class=\"alert alert-success\">\n",
    "<strong>Comentário do revisor v1</strong>\n",
    "\n",
    "Excelente trabalho checando a consistência dos dados.\n",
    "\n",
    "Sempre importante para garantir uma análise robusta!\n",
    "</div>\n",
    "\n",
    "\n"
   ]
  },
  {
   "cell_type": "markdown",
   "metadata": {},
   "source": [
    "## Análise Exploratória de Dados (EDA):\n",
    "\n",
    "1- Conversão nas Etapas do Funil:\n",
    "\n",
    "Para cada grupo, calculamos a taxa de conversão nas três etapas:\n",
    "\n",
    "    Visitação de Página de Produto (product_page): Número de usuários que visualizaram uma página de produto.\n",
    "    Adição ao Carrinho (product_cart): Número de usuários que adicionaram um item ao carrinho.\n",
    "    Compra (purchase): Número de usuários que finalizaram a compra.\n",
    "    Calculamos a conversão como a proporção de usuários que avançam de uma etapa para a próxima. A ideia é comparar essas taxas entre os grupos A e B.\n",
    "   "
   ]
  },
  {
   "cell_type": "code",
   "execution_count": 6,
   "metadata": {},
   "outputs": [
    {
     "name": "stdout",
     "output_type": "stream",
     "text": [
      "{'A': {'product_page_to_cart': 0.47676651305683565, 'cart_to_purchase': 1.0801449859041483}, 'B': {'product_page_to_cart': 0.5110386352232815, 'cart_to_purchase': 0.9857633775159549}}\n"
     ]
    },
    {
     "data": {
      "image/png": "[encoded data removed]",
      "text/plain": [
       "<Figure size 800x600 with 1 Axes>"
      ]
     },
     "metadata": {},
     "output_type": "display_data"
    }
   ],
   "source": [
    "import matplotlib.pyplot as plt\n",
    "import seaborn as sns\n",
    "\n",
    "# Juntar os dataframes: unir os dados dos eventos com os dados de participantes e usuários\n",
    "merged_df = pd.merge(events_df, participants_df[['user_id', 'group']], on='user_id', how='inner')\n",
    "\n",
    "# Filtrar os eventos que são relevantes para o funil de conversão (product_page, product_cart, purchase)\n",
    "relevant_events = ['product_page', 'product_cart', 'purchase']\n",
    "merged_df = merged_df[merged_df['event_name'].isin(relevant_events)]\n",
    "\n",
    "# Contar o número de usuários únicos por evento e grupo\n",
    "event_counts_by_group = merged_df.groupby(['group', 'event_name'])['user_id'].nunique().reset_index()\n",
    "\n",
    "# Organizar os dados para cada grupo A e B e cada evento\n",
    "conversion_data = {\n",
    "    'A': {},\n",
    "    'B': {}\n",
    "}\n",
    "\n",
    "# Calcular a taxa de conversão para o grupo A\n",
    "group_a_data = event_counts_by_group[event_counts_by_group['group'] == 'A']\n",
    "conversion_data['A']['product_page_to_cart'] = group_a_data[group_a_data['event_name'] == 'product_cart']['user_id'].values[0] / group_a_data[group_a_data['event_name'] == 'product_page']['user_id'].values[0] if group_a_data[group_a_data['event_name'] == 'product_page']['user_id'].values.size > 0 else 0\n",
    "conversion_data['A']['cart_to_purchase'] = group_a_data[group_a_data['event_name'] == 'purchase']['user_id'].values[0] / group_a_data[group_a_data['event_name'] == 'product_cart']['user_id'].values[0] if group_a_data[group_a_data['event_name'] == 'product_cart']['user_id'].values.size > 0 else 0\n",
    "\n",
    "# Calcular a taxa de conversão para o grupo B\n",
    "group_b_data = event_counts_by_group[event_counts_by_group['group'] == 'B']\n",
    "conversion_data['B']['product_page_to_cart'] = group_b_data[group_b_data['event_name'] == 'product_cart']['user_id'].values[0] / group_b_data[group_b_data['event_name'] == 'product_page']['user_id'].values[0] if group_b_data[group_b_data['event_name'] == 'product_page']['user_id'].values.size > 0 else 0\n",
    "conversion_data['B']['cart_to_purchase'] = group_b_data[group_b_data['event_name'] == 'purchase']['user_id'].values[0] / group_b_data[group_b_data['event_name'] == 'product_cart']['user_id'].values[0] if group_b_data[group_b_data['event_name'] == 'product_cart']['user_id'].values.size > 0 else 0\n",
    "\n",
    "# Exibir as taxas de conversão\n",
    "print(conversion_data)\n",
    "\n",
    "# Criando um dataframe para facilitar a plotagem\n",
    "conversion_df = pd.DataFrame({\n",
    "    'group': ['A', 'A', 'B', 'B'],\n",
    "    'stage': ['product_page_to_cart', 'cart_to_purchase', 'product_page_to_cart', 'cart_to_purchase'],\n",
    "    'conversion_rate': [\n",
    "        conversion_data['A']['product_page_to_cart'],\n",
    "        conversion_data['A']['cart_to_purchase'],\n",
    "        conversion_data['B']['product_page_to_cart'],\n",
    "        conversion_data['B']['cart_to_purchase']\n",
    "    ]\n",
    "})\n",
    "\n",
    "# Criando o gráfico\n",
    "plt.figure(figsize=(8, 6))\n",
    "sns.barplot(data=conversion_df, x='stage', y='conversion_rate', hue='group')\n",
    "\n",
    "# Adicionando títulos e labels\n",
    "plt.title('Taxas de Conversão entre as Etapas do Funil', fontsize=16)\n",
    "plt.xlabel('Etapa do Funil', fontsize=14)\n",
    "plt.ylabel('Taxa de Conversão', fontsize=14)\n",
    "plt.xticks(rotation=45)\n",
    "plt.legend(title='Grupo', loc='upper right')\n",
    "\n",
    "# Exibindo o gráfico\n",
    "plt.show()\n"
   ]
  },
  {
   "cell_type": "markdown",
   "metadata": {},
   "source": [
    "* Análise:\n",
    "\n",
    "Comparação entre grupos A e B:\n",
    "    O grupo B tem uma taxa de conversão mais alta de product_page para product_cart (51,10% contra 47,68% do grupo A), o que sugere que mais usuários do grupo B estão adicionando itens ao carrinho após visualizar a página do produto.\n",
    "    No entanto, o grupo A tem uma taxa de conversão de carrinho para compra superior a 100%, o que indica que os usuários desse grupo estão, em média, comprando mais de um item, ou repetindo compras. O grupo B tem uma taxa mais baixa, mas ainda assim próxima de 100%.\n",
    "\n",
    "* Conclusão:\n",
    "Grupo A pode estar mais engajado em realizar múltiplas compras por usuário, enquanto o grupo B tem uma taxa de conversão de carrinho para compra um pouco mais consistente, mas com menor taxa de conversão inicial."
   ]
  },
  {
   "cell_type": "markdown",
   "metadata": {},
   "source": [
    "2- Distribuição de Eventos por Usuário:\n",
    "\n",
    "    Quantos eventos foram registrados por usuário? Os eventos estão equilibrados entre os grupos?\n",
    "    Verifique se há uma distribuição equilibrada de eventos entre os usuários de ambos os grupos. Se um grupo tiver muito mais eventos, isso pode enviesar os resultados.\n",
    "    Distribuição de Eventos ao Longo dos Dias:\n",
    "\n",
    "3- Como os eventos estão distribuídos ao longo do tempo? Existe alguma tendência, como um pico em determinado dia?\n",
    "\n",
    "    Isso ajudará a identificar se algum dia específico tem um impacto maior nas conversões (por exemplo, campanhas específicas que podem ter influenciado mais usuários)."
   ]
  },
  {
   "cell_type": "code",
   "execution_count": null,
   "metadata": {},
   "outputs": [],
   "source": [
    "import matplotlib.pyplot as plt\n",
    "import seaborn as sns\n",
    "\n",
    "events_df['event_dt'] = pd.to_datetime(events_df['event_dt'])\n",
    "\n",
    "# --- Ponto 2: Distribuição de Eventos por Usuário ---\n",
    "# Contagem de eventos por usuário\n",
    "events_count = events_df.groupby('user_id').size()\n",
    "\n",
    "# Distribuição de eventos por grupo\n",
    "events_grouped = events_df.merge(participants_df[['user_id', 'group']], on='user_id', how='left')\n",
    "\n",
    "# Contagem de eventos por grupo\n",
    "events_by_group = events_grouped.groupby('group').size()\n",
    "\n",
    "# Plotando a distribuição de eventos por usuário (histograma)\n",
    "plt.figure(figsize=(10,6))\n",
    "sns.histplot(events_count, kde=True, color='blue', bins=30)\n",
    "plt.title(\"Distribuição de Eventos por Usuário\")\n",
    "plt.xlabel(\"Número de Eventos por Usuário\")\n",
    "plt.ylabel(\"Frequência\")\n",
    "plt.show()\n"
   ]
  },
  {
   "cell_type": "code",
   "execution_count": null,
   "metadata": {},
   "outputs": [],
   "source": [
    "# --- Ponto 3: Distribuição de Eventos ao Longo dos Dias ---\n",
    "# Extraindo o dia do evento\n",
    "events_df['event_date'] = events_df['event_dt'].dt.date\n",
    "\n",
    "# Contagem de eventos por dia\n",
    "events_by_day = events_df.groupby('event_date').size()\n",
    "\n",
    "# Plotando a distribuição de eventos ao longo dos dias\n",
    "plt.figure(figsize=(12,6))\n",
    "sns.lineplot(x=events_by_day.index, y=events_by_day.values, color='green')\n",
    "plt.title(\"Distribuição de Eventos ao Longo dos Dias\")\n",
    "plt.xlabel(\"Data\")\n",
    "plt.ylabel(\"Número de Eventos\")\n",
    "plt.xticks(rotation=45)\n",
    "plt.show()\n",
    "\n",
    "# Exibindo algumas estatísticas de eventos por usuário\n",
    "events_count_stats = events_count.describe()\n",
    "\n",
    "# Exibindo as contagens de eventos por grupo\n",
    "events_by_group_stats = events_by_group\n",
    "\n",
    "# Exibindo o número de eventos por dia\n",
    "events_by_day_stats = events_by_day.head()  # Exibindo as 5 primeiras datas para evitar muita informação"
   ]
  },
  {
   "cell_type": "markdown",
   "metadata": {},
   "source": [
    "O resultado mostra que uma pequena parte dos usuários é responsável por um número elevado de eventos (entre 6 a 8), enquanto a maioria dos usuários tem um número baixo de eventos. Isso sugere um comportamento típico de poucos usuários altamente engajados. Essa discrepância pode enviesar a análise, pois esses \"outliers\" com muitos eventos podem influenciar as métricas gerais, como taxas de conversão. Para análises mais precisas, pode ser interessante separar os usuários em grupos com diferentes níveis de engajamento ou considerar a remoção dos outliers.\n",
    "\n",
    "Os picos de 25 mil e 30 mil eventos entre 13 e 21 de dezembro de 2020 indicam que houve uma concentração de atividades em determinados dias dentro desse período. Isso pode estar relacionado a campanhas de marketing específicas ou promoções que foram realizadas nesses dias, resultando em maior engajamento dos usuários. Esses picos podem influenciar as taxas de conversão, pois dias com maior volume de eventos podem ter um impacto desproporcional nos resultados gerais, especialmente se coincidirem com ações promocionais ou descontos."
   ]
  },
  {
   "cell_type": "markdown",
   "metadata": {},
   "source": [
    "4- Verificação de Usuários em Ambos os Grupos:\n",
    "\n",
    "    Verifique se algum usuário foi atribuído a ambos os grupos (A e B). Isso pode ocorrer por erro no processo de atribuição, mas precisaremos corrigir."
   ]
  },
  {
   "cell_type": "code",
   "execution_count": null,
   "metadata": {
    "scrolled": true
   },
   "outputs": [],
   "source": [
    "# Verificar se há usuários atribuídos a mais de um grupo\n",
    "duplicate_users = participants_df[participants_df.duplicated(subset=['user_id'], keep=False)]\n",
    "\n",
    "# Exibir os usuários duplicados\n",
    "duplicate_users_sorted = duplicate_users.sort_values(by='user_id')\n",
    "\n",
    "# Mostrar os resultados\n",
    "print(duplicate_users_sorted)\n"
   ]
  },
  {
   "cell_type": "markdown",
   "metadata": {},
   "source": [
    "O resultado mostra que há 1774 usuários duplicados, ou seja, usuários que foram atribuídos a mais de um grupo. Esses usuários aparecem em dois grupos diferentes (A e B) para diferentes testes (ab_test), o que provavelmente é um erro de atribuição."
   ]
  },
  {
   "cell_type": "code",
   "execution_count": null,
   "metadata": {},
   "outputs": [],
   "source": [
    "# Remover duplicatas, mantendo o primeiro grupo atribuído para cada usuário\n",
    "participants_df_clean = participants_df.drop_duplicates(subset='user_id', keep='first')\n",
    "\n",
    "# Exibir a quantidade de duplicatas removidas\n",
    "print(f\"Duplicatas removidas: {len(duplicate_users)}\")\n"
   ]
  },
  {
   "cell_type": "code",
   "execution_count": null,
   "metadata": {},
   "outputs": [],
   "source": [
    "# Verificar a quantidade de usuários por grupo após a remoção de duplicados\n",
    "group_counts = participants_df_clean['group'].value_counts()\n",
    "\n",
    "# Exibir o resultado final por grupo\n",
    "print(group_counts)\n",
    "\n"
   ]
  },
  {
   "cell_type": "markdown",
   "metadata": {},
   "source": [
    "Com base nos resultados, observamos que o grupo A possui 7.758 usuários, enquanto o grupo B tem 5.880 usuários após a remoção dos duplicados. A diferença no número de participantes entre os dois grupos pode ser relevante para a análise de equilíbrio entre eles. A desproporção pode impactar os resultados das comparações de performance entre os grupos, como a taxa de conversão. Seria importante investigar as razões para essa diferença e, caso necessário, ajustar a distribuição de usuários para garantir a comparabilidade dos grupos nas análises posteriores."
   ]
  },
  {
   "cell_type": "markdown",
   "metadata": {},
   "source": [
    "<div class=\"alert alert-success\">\n",
    "<strong>Comentário do revisor v1</strong>\n",
    "\n",
    "Os diagnósticos sobre os grupos foram devidamente realizados e temos muito mais segurança agora para seguir para o teste ab.\n",
    "</div>\n",
    "\n",
    "\n"
   ]
  },
  {
   "cell_type": "markdown",
   "metadata": {},
   "source": [
    "## Análise do Teste A/B:\n",
    "\n",
    "1- Verificar a Diferença Estatística:\n",
    "Use o teste Z para verificar se existe uma diferença estatística significativa nas taxas de conversão entre os grupos A e B.\n",
    "\n",
    "O valor de 𝑍 pode ser comparado com o valor crítico de uma distribuição normal padrão (geralmente, para um nível de significância de 5%, o valor crítico é 1.96).\n",
    "\n",
    "## Conclusões do Teste A/B:\n",
    "\n",
    "Se o valor de 𝑍 for maior que 1.96 (para um nível de significância de 5%), podemos concluir que existe uma diferença estatisticamente significativa entre os grupos, o que indica que o novo sistema de recomendação tem um impacto positivo.\n",
    "\n",
    "Se o valor de Z for menor que 1.96, não há diferença estatística significativa, e o sistema de recomendação não teve um impacto substancial no comportamento dos usuários."
   ]
  },
  {
   "cell_type": "code",
   "execution_count": null,
   "metadata": {},
   "outputs": [],
   "source": [
    "import numpy as np\n",
    "import scipy.stats as stats\n",
    "\n",
    "# Taxas de conversão já calculadas\n",
    "conversion_A = 0.47676651305683565  # Exemplo de taxa de conversão do grupo A\n",
    "conversion_B = 0.5110386352232815  # Exemplo de taxa de conversão do grupo B\n",
    "\n",
    "# Número de participantes nos grupos A e B\n",
    "n_A = 7758\n",
    "n_B = 5880\n",
    "\n",
    "# Calculando a taxa de conversão combinada (p)\n",
    "p_combined = (conversion_A * n_A + conversion_B * n_B) / (n_A + n_B)\n",
    "\n",
    "# Calculando o valor do Z\n",
    "Z = (conversion_A - conversion_B) / np.sqrt(p_combined * (1 - p_combined) * (1/n_A + 1/n_B))\n",
    "\n",
    "# Valor crítico para um nível de significância de 5% (bilateral)\n",
    "critical_value = 1.96\n",
    "\n",
    "# Resultado do teste Z\n",
    "if abs(Z) > critical_value:\n",
    "    result = \"Há uma diferença estatística significativa entre os grupos A e B.\"\n",
    "else:\n",
    "    result = \"Não há uma diferença estatística significativa entre os grupos A e B.\"\n",
    "\n",
    "# Exibir o valor de Z e a conclusão\n",
    "Z, result\n"
   ]
  },
  {
   "cell_type": "markdown",
   "metadata": {},
   "source": [
    "A partir do resultado do teste Z, obtemos um valor de Z = -3.96. Como esse valor é menor que -1.96 (valor crítico para um nível de significância de 5%), podemos concluir que existe uma diferença estatística significativa entre os grupos A e B.\n",
    "\n",
    "Interpretação:\n",
    "A diferença nas taxas de conversão entre os dois grupos não ocorre por acaso. A magnitude do valor de Z (em torno de -3.96) indica que a diferença observada é muito significativa.\n",
    "\n",
    "Como o valor de Z é negativo, isso sugere que a taxa de conversão do grupo A é menor do que a do grupo B. Ou seja, o grupo B apresenta uma taxa de conversão mais alta do que o grupo A.\n",
    "\n",
    "Essa diferença estatística significativa nos permite afirmar com confiança que as taxas de conversão dos grupos A e B são diferentes, e o grupo B tem um desempenho melhor em termos de conversão, com base nos dados analisados."
   ]
  },
  {
   "cell_type": "markdown",
   "metadata": {},
   "source": [
    "<div class=\"alert alert-success\">\n",
    "<strong>Comentário do revisor v1</strong>\n",
    "\n",
    "A escolha do teste realizado foi correta e o mesmo foi performado em linha com o esperado.\n",
    "</div>\n",
    "\n",
    "\n"
   ]
  },
  {
   "cell_type": "markdown",
   "metadata": {},
   "source": [
    "## Conclusão:\n",
    "\n",
    "* Taxa de Conversão: O grupo B teve melhor desempenho em conversões, especialmente na etapa de carrinho para compra, superando o grupo A.\n",
    "\n",
    "* Distribuição de Eventos: Identificamos picos de eventos entre 13 a 21 de dezembro de 2020, sugerindo que campanhas ou mudanças no período influenciaram o engajamento.\n",
    "\n",
    "* Equilíbrio de Dados: Após remover duplicações, os grupos ficaram equilibrados, com o grupo A contendo 7.758 usuários e o B 5.880.\n",
    "\n",
    "* Teste Estatístico: A diferença nas taxas de conversão entre os grupos A e B é estatisticamente significativa, com o grupo B se destacando.\n",
    "\n",
    "* Insight Final:\n",
    "A campanha do grupo B parece ter sido mais eficaz, e é interessante analisar mais a fundo as causas desses picos de engajamento entre 13-21 de dezembro para replicar o sucesso."
   ]
  },
  {
   "cell_type": "markdown",
   "metadata": {},
   "source": [
    "<div class=\"alert alert-success\">\n",
    "<strong>Comentário do revisor v1</strong>\n",
    "\n",
    "Conclusão apresentada conforme o esperado.\n",
    "</div>\n",
    "\n",
    "\n"
   ]
  },
  {
   "cell_type": "code",
   "execution_count": null,
   "metadata": {},
   "outputs": [],
   "source": []
  }
 ],
 "metadata": {
  "ExecuteTimeLog": [
   {
    "duration": 759,
    "start_time": "2025-02-26T14:16:56.164Z"
   },
   {
    "duration": 455,
    "start_time": "2025-02-26T14:18:15.029Z"
   },
   {
    "duration": 176,
    "start_time": "2025-02-26T14:20:48.373Z"
   },
   {
    "duration": 16,
    "start_time": "2025-02-26T14:22:15.407Z"
   },
   {
    "duration": 16,
    "start_time": "2025-02-26T14:25:06.425Z"
   },
   {
    "duration": 17,
    "start_time": "2025-02-26T14:26:09.458Z"
   },
   {
    "duration": 22,
    "start_time": "2025-02-26T14:26:42.665Z"
   },
   {
    "duration": 152,
    "start_time": "2025-02-26T14:27:11.943Z"
   },
   {
    "duration": 123,
    "start_time": "2025-02-26T14:27:35.314Z"
   },
   {
    "duration": 102,
    "start_time": "2025-02-26T14:31:47.882Z"
   },
   {
    "duration": 18,
    "start_time": "2025-02-26T14:32:23.698Z"
   },
   {
    "duration": 137,
    "start_time": "2025-02-26T14:32:30.500Z"
   },
   {
    "duration": 30,
    "start_time": "2025-02-26T14:34:38.018Z"
   },
   {
    "duration": 2949,
    "start_time": "2025-02-26T14:42:33.737Z"
   },
   {
    "duration": 260,
    "start_time": "2025-02-26T14:42:46.043Z"
   },
   {
    "duration": 10,
    "start_time": "2025-02-26T14:48:11.395Z"
   },
   {
    "duration": 8,
    "start_time": "2025-02-26T14:49:00.186Z"
   },
   {
    "duration": 54,
    "start_time": "2025-02-26T14:50:24.576Z"
   },
   {
    "duration": 5,
    "start_time": "2025-02-26T14:51:35.348Z"
   },
   {
    "duration": 6,
    "start_time": "2025-02-26T14:52:56.437Z"
   },
   {
    "duration": 727,
    "start_time": "2025-02-27T13:54:56.489Z"
   },
   {
    "duration": 485,
    "start_time": "2025-02-27T13:54:57.218Z"
   },
   {
    "duration": 149,
    "start_time": "2025-02-27T13:54:57.705Z"
   },
   {
    "duration": 195,
    "start_time": "2025-02-27T13:54:57.857Z"
   },
   {
    "duration": 0,
    "start_time": "2025-02-27T13:54:58.054Z"
   },
   {
    "duration": 0,
    "start_time": "2025-02-27T13:54:58.055Z"
   },
   {
    "duration": 0,
    "start_time": "2025-02-27T13:54:58.056Z"
   },
   {
    "duration": 0,
    "start_time": "2025-02-27T13:54:58.057Z"
   },
   {
    "duration": 0,
    "start_time": "2025-02-27T13:54:58.059Z"
   },
   {
    "duration": 0,
    "start_time": "2025-02-27T13:54:58.060Z"
   },
   {
    "duration": 2294,
    "start_time": "2025-02-27T13:57:48.928Z"
   },
   {
    "duration": 217,
    "start_time": "2025-02-27T13:59:53.294Z"
   }
  ],
  "kernelspec": {
   "display_name": "Python 3 (ipykernel)",
   "language": "python",
   "name": "python3"
  },
  "language_info": {
   "codemirror_mode": {
    "name": "ipython",
    "version": 3
   },
   "file_extension": ".py",
   "mimetype": "text/x-python",
   "name": "python",
   "nbconvert_exporter": "python",
   "pygments_lexer": "ipython3",
   "version": "3.9.19"
  },
  "toc": {
   "base_numbering": 1,
   "nav_menu": {},
   "number_sections": true,
   "sideBar": true,
   "skip_h1_title": true,
   "title_cell": "Table of Contents",
   "title_sidebar": "Contents",
   "toc_cell": false,
   "toc_position": {},
   "toc_section_display": true,
   "toc_window_display": false
  }
 },
 "nbformat": 4,
 "nbformat_minor": 2
}
