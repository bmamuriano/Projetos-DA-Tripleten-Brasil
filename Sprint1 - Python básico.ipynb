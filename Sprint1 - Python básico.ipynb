{
 "cells": [
  {
   "cell_type": "markdown",
   "metadata": {
    "id": "FnPB8Fx5TMRb"
   },
   "source": [
    "Uma empresa de comércio eletrônico, Store 1, começou recentemente a coletar dados sobre seus clientes. O objetivo da Store 1 é entender melhor o comportamento dos clientes e tomar decisões baseadas em dados para melhorar experiência online deles.\n",
    "\n",
    "Como parte da equipe analítica, sua primeira tarefa é avaliar a qualidade de uma amostra de dados coletados e preparar elas para análises futuras."
   ]
  },
  {
   "cell_type": "markdown",
   "metadata": {
    "id": "vLW81iYmTMRe"
   },
   "source": [
    "# Quiz\n",
    "\n",
    "A Store 1 visa garantir a consistência na coleta de dados. Como parte desse esforço, a qualidade dos dados coletados sobre os usuários precisa ser avaliada. Foi pedido que você revise os dados coletados e proponha alterações. Abaixo, você verá dados sobre um determinado usuário. Revise os dados e identifique possíveis problemas."
   ]
  },
  {
   "cell_type": "code",
   "execution_count": 2,
   "metadata": {
    "id": "i7_O27ZRTMRe"
   },
   "outputs": [],
   "source": [
    "user_id = '32415'\n",
    "user_name = ' mike_reed '\n",
    "user_age = 32.0\n",
    "fav_categories = ['ELECTRONICS', 'SPORT', 'BOOKS']"
   ]
  },
  {
   "cell_type": "markdown",
   "metadata": {
    "id": "Dyjbn7MhTMRg"
   },
   "source": [
    "**Opções:**\n",
    "\n",
    "1. O tipo de dados de `user_id` deve ser alterado de string para número inteiro (integer).\n",
    "    \n",
    "2. A variável `user_name` contém uma string com espaçamento desnecessário e um sublinhado entre o nome e o sobrenome.\n",
    "    \n",
    "3. O tipo de dados de `user_age` está incorreto.\n",
    "    \n",
    "4. A lista `fav_categories` contém strings em letras maiúsculas. Em vez disso, devemos converter os valores da lista para letras minúsculas."
   ]
  },
  {
   "cell_type": "markdown",
   "metadata": {
    "id": "AIsnk-vCTMRg"
   },
   "source": [
    "Escreva na célula Markdown abaixo o número de opções que você identificou como problemas. Se você identificou vários problemas, separe o número por vírgulas. Por exemplo, se você acha que os números 1 e 3 estão incorretos, escreva 1, 3, e explique o motivo."
   ]
  },
  {
   "cell_type": "markdown",
   "metadata": {
    "id": "70wSe_MjTMRh"
   },
   "source": [
    "**Escreva sua resposta e explique seu raciocínio:**\n",
    "Eu ajustaria os itens 1 e 3 para int() para ter uma maior flexibilidade na analise dos dados e maior facilidade de encontrar as informaçoes. Tambem ajustaria o item 2 retirando os espaços desnecessarios com a funçao istrip() e rstrip().\n",
    "\n",
    "Nao necessariamente trabalhar com os itens em maiusculo daria algum problema porem conforme orientacao do exercicio de fosse para trabalhar com minisculas eu usaria a funcao lower()"
   ]
  },
  {
   "cell_type": "markdown",
   "metadata": {
    "id": "IH19D6NiTMRh"
   },
   "source": [
    "# Tarefa 1\n",
    "\n",
    "Vamos implementar as mudanças que identificamos. Primeiro, queremos corrigir os problemas com a variável `user_name`. Como verificamos, ela possui espaços desnecessários e um sublinhado como separador entre o nome e o sobrenome. Seu objetivo é remover os espaços e depois substituir o sublinhado por espaço."
   ]
  },
  {
   "cell_type": "code",
   "execution_count": 3,
   "metadata": {
    "id": "HxZLfyLeTMRh",
    "scrolled": true
   },
   "outputs": [
    {
     "name": "stdout",
     "output_type": "stream",
     "text": [
      "mike reed\n"
     ]
    }
   ],
   "source": [
    "user_name = ' mike_reed '\n",
    "user_name = user_name.strip() # remova os espaços na string original\n",
    "user_name = user_name.replace(\"_\", \" \") # substitua o sublinhado por espaço\n",
    "\n",
    "print(user_name)\n",
    "\n"
   ]
  },
  {
   "cell_type": "markdown",
   "metadata": {
    "id": "LYGHRijzTMRi"
   },
   "source": [
    "# Tarefa 2\n",
    "\n",
    "Em seguida, precisamos dividir o `user_name` atualizado em duas substrings para obter uma lista que contém dois valores: a string para o nome e a string para o sobrenome."
   ]
  },
  {
   "cell_type": "code",
   "execution_count": 4,
   "metadata": {
    "id": "NOErvTX0TMRi"
   },
   "outputs": [
    {
     "name": "stdout",
     "output_type": "stream",
     "text": [
      "['mike', 'reed']\n"
     ]
    }
   ],
   "source": [
    "user_name = 'mike reed'\n",
    "name_split = user_name.split() # divida a string user_name aqui\n",
    "\n",
    "print(name_split)"
   ]
  },
  {
   "cell_type": "markdown",
   "metadata": {
    "id": "9uRRxzLlTMRj"
   },
   "source": [
    "# Tarefa 3\n",
    "\n",
    "Ótimo! Agora queremos trabalhar com a variável `user_age`. Como mencionamos antes, ela possui um tipo de dados incorretos. Vamos corrigir esse problema transformando o tipo de dados e imprimindo o resultado final."
   ]
  },
  {
   "cell_type": "code",
   "execution_count": 5,
   "metadata": {
    "id": "j9TH2Z4dTMRk"
   },
   "outputs": [
    {
     "name": "stdout",
     "output_type": "stream",
     "text": [
      "32\n"
     ]
    }
   ],
   "source": [
    "user_age = 32.0\n",
    "user_age = int(user_age) # altere o tipo de dados da idade de um usuário\n",
    "\n",
    "print(user_age)"
   ]
  },
  {
   "cell_type": "markdown",
   "metadata": {
    "id": "pAjBZI5_TMRk"
   },
   "source": [
    "# Tarefa 4\n",
    "\n",
    "Como sabemos, os dados nem sempre são perfeitos. Temos que considerar cenários em que o valor de `user_age` não pode ser convertido em um número inteiro. Para evitar que nosso sistema falhe, devemos tomar medidas com antecedência.\n",
    "\n",
    "Escreva um código que tenta converter a variável `user_age` em um número inteiro e atribua o valor transformado a `user_age_int`. Se a tentativa falhar, vamos exibir uma mensagem solicitando que o usuário forneça sua idade como um valor numérico com a mensagem: `Forneça sua idade como um valor numérico.`"
   ]
  },
  {
   "cell_type": "code",
   "execution_count": 6,
   "metadata": {
    "id": "rB6ggdMXTMRl"
   },
   "outputs": [
    {
     "name": "stdout",
     "output_type": "stream",
     "text": [
      "Forneça sua idade como um valor numérico.\n"
     ]
    }
   ],
   "source": [
    "user_age = 'thirty two' # esta é a variável que armazena a idade como uma string.\n",
    "\n",
    "try:\n",
    "    user_age_int = int(user_age)  # Tenta converter para um número inteiro\n",
    "except:\n",
    "    print(\"Forneça sua idade como um valor numérico.\") # escreva um código que vai tentar transformar user_age em um número inteiro e, se falhar, vai imprimir a mensagem especificada"
   ]
  },
  {
   "cell_type": "markdown",
   "metadata": {
    "id": "mRiGSPmOTMRl"
   },
   "source": [
    "# Tarefa 5\n",
    "\n",
    "Por fim, observe que todas as categorias de favoritos são armazenadas em letras maiúsculas. Para preencher uma nova lista chamada `fav_categories_low` com as mesmas categorias, mas em letras minúsculas, repita os valores na lista `fav_categories`, os modifique e anexe os novos valores à lista `fav_categories_low`. Como sempre, imprima o resultado final."
   ]
  },
  {
   "cell_type": "code",
   "execution_count": 7,
   "metadata": {
    "id": "WpeCezPvTMRl"
   },
   "outputs": [
    {
     "name": "stdout",
     "output_type": "stream",
     "text": [
      "['electronics', 'sport', 'books']\n"
     ]
    }
   ],
   "source": [
    "fav_categories = ['ELECTRONICS', 'SPORT', 'BOOKS']\n",
    "fav_categories_low = []\n",
    "\n",
    "fav_categories_low = [category.lower() for category in fav_categories] # escreva seu código aqui\n",
    "\n",
    "# não remova a instrução de impressão abaixo\n",
    "print(fav_categories_low)\n",
    "\n",
    "#Revisor precisei consultar o chatgpt para conseguir acertar essa. Pq eu tenho que criar essa category e usar o for in?"
   ]
  },
  {
   "cell_type": "markdown",
   "metadata": {
    "id": "wtdhH2U3TMRm"
   },
   "source": [
    "# Tarefa 6\n",
    "\n",
    "Conseguimos informações adicionais sobre os hábitos de consumo de nossos usuários, incluindo o valor gasto em cada uma de suas categorias favoritas. A administração está interessada nas seguintes métricas:\n",
    "\n",
    "- Valor total gasto pelo usuário\n",
    "- Valor mínimo gasto\n",
    "- Valor máximo gasto\n",
    "\n",
    "Vamos calcular e imprimir esses valores:"
   ]
  },
  {
   "cell_type": "code",
   "execution_count": 8,
   "metadata": {
    "id": "FJrkCnPTTMRm"
   },
   "outputs": [
    {
     "name": "stdout",
     "output_type": "stream",
     "text": [
      "1280\n",
      "894\n",
      "173\n"
     ]
    }
   ],
   "source": [
    "fav_categories_low = ['electronics', 'sport', 'books']\n",
    "spendings_per_category = [894, 213, 173]\n",
    "\n",
    "total_amount = sum(spendings_per_category)  # calcula a soma dos gastos\n",
    "max_amount = max(spendings_per_category)  # encontra o valor máximo dos gastos\n",
    "min_amount = min(spendings_per_category)  # encontra o valor mínimo dos gastos\n",
    "\n",
    "# não remova a instrução de impressão abaixo\n",
    "print(total_amount)\n",
    "print(max_amount)\n",
    "print(min_amount)"
   ]
  },
  {
   "cell_type": "markdown",
   "metadata": {
    "id": "teiKWjy4TMRn"
   },
   "source": [
    "# Tarefa 7\n",
    "\n",
    "A empresa quer oferecer descontos aos seus clientes fiéis. Clientes que fizerem compras totalizando mais de $1.500 são considerados fiéis e vão receber um desconto.\n",
    "\n",
    "Nosso objetivo é criar um ciclo `while` que verifique o valor total gasto e pare quando ele for atingido. Para simular novas compras, a variável `new_purchase` gera um número entre 30 e 80 em cada ciclo. Isso representa a quantidade de dinheiro gasto em uma nova compra, e é o que você precisa adicionar ao total.\n",
    "\n",
    "Assim que o valor alvo for atingido e o ciclo `while` for encerrado, o valor final será impresso."
   ]
  },
  {
   "cell_type": "code",
   "execution_count": 9,
   "metadata": {
    "id": "HPvkbyzATMRn"
   },
   "outputs": [
    {
     "name": "stdout",
     "output_type": "stream",
     "text": [
      "1504\n"
     ]
    }
   ],
   "source": [
    "from random import randint\n",
    "\n",
    "total_amount_spent = 1280\n",
    "target_amount = 1500\n",
    "\n",
    "while total_amount_spent < target_amount: # escreva seu código aqui\n",
    "\tnew_purchase = randint(30, 80) # geramos um número aleatório de 30 a 80\n",
    "\ttotal_amount_spent += new_purchase # escreva seu código aqui\n",
    "\n",
    "print(total_amount_spent)\n",
    " "
   ]
  },
  {
   "cell_type": "markdown",
   "metadata": {
    "id": "jwzs5Ad2TMRn"
   },
   "source": [
    "# Tarefa 8\n",
    "\n",
    "Agora temos todas as informações sobre um cliente da maneira que queremos. A administração de uma empresa nos pediu para encontrar uma maneira de resumir toda a informação sobre um usuário. Seu objetivo é criar uma string formatada que usa informações das variáveis ​​`user_id`, `user_name` e `user_age`.\n",
    "\n",
    "Aqui está a string final que queremos criar: `Usuário 32415 chama-se mike e tem 32 anos.`"
   ]
  },
  {
   "cell_type": "code",
   "execution_count": 10,
   "metadata": {
    "id": "Da4RJ_gLTMRo"
   },
   "outputs": [
    {
     "name": "stdout",
     "output_type": "stream",
     "text": [
      "Usuário 32415 chama-se ['mike', 'reed'] e tem 32 anos.\n"
     ]
    }
   ],
   "source": [
    "user_id = '32415'\n",
    "user_name = ['mike', 'reed']\n",
    "user_age = 32\n",
    "\n",
    "user_info = f\"Usuário {user_id} chama-se {user_name} e tem {user_age} anos.\" # escreva seu código aqui\n",
    "\n",
    "# não remova a instrução de impressão abaixo\n",
    "print(user_info)"
   ]
  },
  {
   "cell_type": "markdown",
   "metadata": {
    "id": "DAfqUxKhTMRo"
   },
   "source": [
    "Como você já deve saber, as empresas coletam e armazenam dados de uma maneira específica. A Store 1 deseja armazenar todas as informações sobre seus clientes em uma tabela.\n",
    "\n",
    "| user_id | user_name | user_age | purchase_category | spending_per_category |\n",
    "| --- | --- | --- | --- | --- |\n",
    "| '32415' | 'mike', 'reed' | 32 | 'electronics', 'sport', 'books' | 894, 213, 173 |\n",
    "| '31980' | 'kate', 'morgan' | 24 | 'clothes', 'shoes' | 439, 390 |\n",
    "\n",
    "Em termos técnicos, uma tabela é simplesmente uma lista aninhada que possui uma sublista para cada usuário.\n",
    "\n",
    "A Store 1 criou essa tabela para seus usuários. Ela está armazenada na variável `users`. Cada sublista contém o ID do usuário, nome e sobrenome, idade, categorias favoritas e o valor gasto em cada categoria."
   ]
  },
  {
   "cell_type": "markdown",
   "metadata": {
    "id": "ZAN1CrBGTMRp"
   },
   "source": [
    "# Tarefa 9\n",
    "\n",
    "Para calcular a receita da empresa, siga estas etapas:\n",
    "\n",
    "1. Use um ciclo `for` para iterar na lista `users`.\n",
    "2. Extraia a lista de gastos de cada usuário e some os valores.\n",
    "3. Atualize o valor da receita com o total de cada usuário.\n",
    "\n",
    "Isso vai fornecer a receita total da empresa, que você vai imprimir no final."
   ]
  },
  {
   "cell_type": "code",
   "execution_count": 11,
   "metadata": {
    "id": "ehCh9ub0TMRp"
   },
   "outputs": [
    {
     "name": "stdout",
     "output_type": "stream",
     "text": [
      "2109\n"
     ]
    }
   ],
   "source": [
    "users = [\n",
    "\t  # este é o começo da primeira sublista\n",
    "    ['32415', ['mike', 'reed'], 32, ['electronics', 'sport', 'books'],\n",
    "        [894, 213, 173]\n",
    "    ], # este é o fim da primeira sublista\n",
    "\n",
    "    # este é o começo da segunda sublista\n",
    "    ['31980', ['kate', 'morgan'], 24, ['clothes', 'shoes'],\n",
    "        [439, 390]\n",
    "    ] # este é o fim da segunda sublista\n",
    "]\n",
    "\n",
    "revenue = 0\n",
    "\n",
    "for user in users:\n",
    "\tspendings_list = user[4] # extraia a lista de gastos para cada usuário e some os valores\n",
    "\ttotal_spendings = sum(spendings_list) # some os gastos em todas as categorias para obter um total para um usuário específico\n",
    "\trevenue += total_spendings # atualize a receita\n",
    "\n",
    "# não remova a instrução de impressão abaixo\n",
    "print(revenue)\n",
    "\n",
    "# ok, entendi que nao preciso incluir novamente o 4"
   ]
  },
  {
   "cell_type": "markdown",
   "metadata": {
    "id": "sWwO-Qa1TMRp"
   },
   "source": [
    "# Tarefa 10\n",
    "\n",
    "Use um ciclo for para percorrer a lista de usuários que fornecemos e imprima os nomes dos clientes com menos de 30 anos."
   ]
  },
  {
   "cell_type": "code",
   "execution_count": 12,
   "metadata": {
    "id": "dRl-c6NvTMRq"
   },
   "outputs": [
    {
     "name": "stdout",
     "output_type": "stream",
     "text": [
      "kate morgan\n",
      "samantha smith\n",
      "emily brown\n",
      "jose martinez\n",
      "james lee\n"
     ]
    }
   ],
   "source": [
    "users = [\n",
    "    ['32415', ['mike', 'reed'], 32, ['electronics', 'sport', 'books'],\n",
    "     [894, 213, 173]],\n",
    "    ['31980', ['kate', 'morgan'], 24, ['clothes', 'books'], [439,\n",
    "     390]],\n",
    "    ['32156', ['john', 'doe'], 37, ['electronics', 'home', 'food'],\n",
    "     [459, 120, 99]],\n",
    "    ['32761', ['samantha', 'smith'], 29, ['clothes', 'electronics',\n",
    "     'beauty'], [299, 679, 85]],\n",
    "    ['32984', ['david', 'white'], 41, ['books', 'home', 'sport'], [234,\n",
    "     329, 243]],\n",
    "    ['33001', ['emily', 'brown'], 26, ['beauty', 'home', 'food'], [213,\n",
    "     659, 79]],\n",
    "    ['33767', ['maria', 'garcia'], 33, ['clothes', 'food', 'beauty'],\n",
    "     [499, 189, 63]],\n",
    "    ['33912', ['jose', 'martinez'], 22, ['sport', 'electronics', 'home'\n",
    "     ], [259, 549, 109]],\n",
    "    ['34009', ['lisa', 'wilson'], 35, ['home', 'books', 'clothes'],\n",
    "     [329, 189, 329]],\n",
    "    ['34278', ['james', 'lee'], 28, ['beauty', 'clothes', 'electronics'\n",
    "     ], [189, 299, 579]],\n",
    "    ]\n",
    "\n",
    "for user in users:\n",
    "    if user[2] < 30:\n",
    "        print(' '.join(user[1]))\n",
    "        \n"
   ]
  },
  {
   "cell_type": "markdown",
   "metadata": {
    "id": "zicEj6hhTMRq"
   },
   "source": [
    "# Tarefa 11\n",
    "\n",
    "Vamos juntar as tarefas 9 e 10 e imprimir os nomes de usuários com menos de 30 anos com gastos totais acima de 1.000 dólares."
   ]
  },
  {
   "cell_type": "code",
   "execution_count": 14,
   "metadata": {
    "id": "ubyQ0OzeTMRq",
    "scrolled": true
   },
   "outputs": [
    {
     "name": "stdout",
     "output_type": "stream",
     "text": [
      "samantha smith\n",
      "james lee\n"
     ]
    }
   ],
   "source": [
    "users = [\n",
    "    ['32415', ['mike', 'reed'], 32, ['electronics', 'sport', 'books'],\n",
    "     [894, 213, 173]],\n",
    "    ['31980', ['kate', 'morgan'], 24, ['clothes', 'books'], [439,\n",
    "     390]],\n",
    "    ['32156', ['john', 'doe'], 37, ['electronics', 'home', 'food'],\n",
    "     [459, 120, 99]],\n",
    "    ['32761', ['samantha', 'smith'], 29, ['clothes', 'electronics',\n",
    "     'beauty'], [299, 679, 85]],\n",
    "    ['32984', ['david', 'white'], 41, ['books', 'home', 'sport'], [234,\n",
    "     329, 243]],\n",
    "    ['33001', ['emily', 'brown'], 26, ['beauty', 'home', 'food'], [213,\n",
    "     659, 79]],\n",
    "    ['33767', ['maria', 'garcia'], 33, ['clothes', 'food', 'beauty'],\n",
    "     [499, 189, 63]],\n",
    "    ['33912', ['jose', 'martinez'], 22, ['sport', 'electronics', 'home'\n",
    "     ], [259, 549, 109]],\n",
    "    ['34009', ['lisa', 'wilson'], 35, ['home', 'books', 'clothes'],\n",
    "     [329, 189, 329]],\n",
    "    ['34278', ['james', 'lee'], 28, ['beauty', 'clothes', 'electronics'\n",
    "     ], [189, 299, 579]],\n",
    "    ]\n",
    "\n",
    "nomes_filtrados = [] # nova lista vazia para armazenar dados filtrados novos\n",
    "\n",
    "for user in users:\n",
    "    idade = user[2] \n",
    "    gastos = sum(user[4])  # função sum soma os dados da lista [4] para ver se da mais de 1000.\n",
    "\n",
    "    # if se idade é menor que 30 e tambem já somadoa acima de 1000\n",
    "    if idade < 30 and gastos > 1000:\n",
    "        nomes_filtrados.append(' '.join(user[1]))  # o join volta para string , o .append adiciona os dados na nova lista criada.\n",
    "\n",
    "# Imprime os nomes filtrados\n",
    "for nome in nomes_filtrados:\n",
    "    print(nome)"
   ]
  },
  {
   "cell_type": "markdown",
   "metadata": {
    "id": "kQX82mWVTMRr"
   },
   "source": [
    "# Tarefa 12\n",
    "\n",
    "Agora vamos imprimir o nome e a idade de todos os usuários que compraram roupas (clothes). Imprima o nome e a idade na mesma instrução de impressão."
   ]
  },
  {
   "cell_type": "code",
   "execution_count": null,
   "metadata": {
    "id": "obZTnKq2TMRr"
   },
   "outputs": [],
   "source": [
    "users = [\n",
    "    ['32415', ['mike', 'reed'], 32, ['electronics', 'sport', 'books'],\n",
    "     [894, 213, 173]],\n",
    "    ['31980', ['kate', 'morgan'], 24, ['clothes', 'books'], [439,\n",
    "     390]],\n",
    "    ['32156', ['john', 'doe'], 37, ['electronics', 'home', 'food'],\n",
    "     [459, 120, 99]],\n",
    "    ['32761', ['samantha', 'smith'], 29, ['clothes', 'electronics',\n",
    "     'beauty'], [299, 679, 85]],\n",
    "    ['32984', ['david', 'white'], 41, ['books', 'home', 'sport'], [234,\n",
    "     329, 243]],\n",
    "    ['33001', ['emily', 'brown'], 26, ['beauty', 'home', 'food'], [213,\n",
    "     659, 79]],\n",
    "    ['33767', ['maria', 'garcia'], 33, ['clothes', 'food', 'beauty'],\n",
    "     [499, 189, 63]],\n",
    "    ['33912', ['jose', 'martinez'], 22, ['sport', 'electronics', 'home'\n",
    "     ], [259, 549, 109]],\n",
    "    ['34009', ['lisa', 'wilson'], 35, ['home', 'books', 'clothes'],\n",
    "     [329, 189, 329]],\n",
    "    ['34278', ['james', 'lee'], 28, ['beauty', 'clothes', 'electronics'\n",
    "     ], [189, 299, 579]],\n",
    "    ]\n",
    "\n",
    "for user in users:\n",
    "    if \"clothes\" in user 3:\n",
    "        print (user 1 0, user(2))\n",
    "        "
   ]
  },
  {
   "cell_type": "markdown",
   "metadata": {
    "id": "JJaO-qysTMRs"
   },
   "source": [
    "#Escreva quaisquer comentários ou ideias finais aqui"
   ]
  }
 ],
 "metadata": {
  "ExecuteTimeLog": [
   {
    "duration": 310,
    "start_time": "2024-07-11T23:12:43.014Z"
   },
   {
    "duration": 4,
    "start_time": "2024-07-11T23:13:12.433Z"
   },
   {
    "duration": 5,
    "start_time": "2024-07-11T23:13:15.652Z"
   },
   {
    "duration": 5,
    "start_time": "2024-07-11T23:13:22.305Z"
   },
   {
    "duration": 9,
    "start_time": "2024-07-11T23:13:27.081Z"
   },
   {
    "duration": 5,
    "start_time": "2024-07-11T23:13:56.718Z"
   },
   {
    "duration": 7,
    "start_time": "2024-07-11T23:14:50.375Z"
   },
   {
    "duration": 8,
    "start_time": "2024-07-11T23:17:15.959Z"
   },
   {
    "duration": 32,
    "start_time": "2024-07-11T23:17:25.214Z"
   },
   {
    "duration": 12,
    "start_time": "2024-07-11T23:17:31.542Z"
   },
   {
    "duration": 12,
    "start_time": "2024-07-11T23:17:40.228Z"
   },
   {
    "duration": 12,
    "start_time": "2024-07-11T23:17:45.409Z"
   },
   {
    "duration": 10,
    "start_time": "2024-07-13T18:34:15.740Z"
   },
   {
    "duration": 4,
    "start_time": "2024-07-13T18:34:37.501Z"
   },
   {
    "duration": 11,
    "start_time": "2024-07-13T18:34:44.052Z"
   },
   {
    "duration": 6,
    "start_time": "2024-07-13T18:35:05.882Z"
   },
   {
    "duration": 8,
    "start_time": "2024-07-13T18:35:16.016Z"
   },
   {
    "duration": 17,
    "start_time": "2024-07-13T18:35:21.108Z"
   },
   {
    "duration": 18,
    "start_time": "2024-07-13T18:35:26.325Z"
   },
   {
    "duration": 13,
    "start_time": "2024-07-13T18:35:30.548Z"
   },
   {
    "duration": 12,
    "start_time": "2024-07-14T17:30:23.315Z"
   },
   {
    "duration": 319,
    "start_time": "2024-07-14T17:30:42.890Z"
   },
   {
    "duration": 53,
    "start_time": "2024-07-14T17:30:54.675Z"
   },
   {
    "duration": 12,
    "start_time": "2024-07-14T17:30:58.260Z"
   },
   {
    "duration": 11,
    "start_time": "2024-07-17T12:22:02.323Z"
   },
   {
    "duration": 326,
    "start_time": "2024-07-17T12:22:19.290Z"
   },
   {
    "duration": 12,
    "start_time": "2024-07-17T12:22:27.976Z"
   },
   {
    "duration": 342,
    "start_time": "2024-07-18T01:12:18.041Z"
   },
   {
    "duration": 10,
    "start_time": "2024-07-18T01:12:24.783Z"
   },
   {
    "duration": 36,
    "start_time": "2024-07-18T01:12:30.946Z"
   },
   {
    "duration": 12,
    "start_time": "2024-07-18T01:12:34.474Z"
   },
   {
    "duration": 20,
    "start_time": "2024-07-19T00:01:09.902Z"
   },
   {
    "duration": 344,
    "start_time": "2024-07-19T00:01:16.718Z"
   },
   {
    "duration": 13,
    "start_time": "2024-07-19T00:01:49.044Z"
   },
   {
    "duration": 167,
    "start_time": "2024-09-12T22:53:51.873Z"
   },
   {
    "duration": 2,
    "start_time": "2024-09-12T22:53:55.787Z"
   },
   {
    "duration": 3,
    "start_time": "2024-09-12T22:53:55.792Z"
   },
   {
    "duration": 4,
    "start_time": "2024-09-12T22:53:55.797Z"
   },
   {
    "duration": 3,
    "start_time": "2024-09-12T22:53:55.803Z"
   },
   {
    "duration": 3,
    "start_time": "2024-09-12T22:53:55.809Z"
   },
   {
    "duration": 4,
    "start_time": "2024-09-12T22:53:55.813Z"
   },
   {
    "duration": 4,
    "start_time": "2024-09-12T22:53:55.819Z"
   },
   {
    "duration": 4,
    "start_time": "2024-09-12T22:53:55.825Z"
   },
   {
    "duration": 4,
    "start_time": "2024-09-12T22:53:55.831Z"
   },
   {
    "duration": 4,
    "start_time": "2024-09-12T22:53:55.837Z"
   },
   {
    "duration": 6,
    "start_time": "2024-09-12T22:53:55.843Z"
   },
   {
    "duration": 61,
    "start_time": "2024-09-12T22:53:55.851Z"
   },
   {
    "duration": 0,
    "start_time": "2024-09-12T22:53:55.914Z"
   },
   {
    "duration": 6,
    "start_time": "2024-09-12T22:54:17.893Z"
   }
  ],
  "colab": {
   "provenance": []
  },
  "kernelspec": {
   "display_name": "Python 3 (ipykernel)",
   "language": "python",
   "name": "python3"
  },
  "language_info": {
   "codemirror_mode": {
    "name": "ipython",
    "version": 3
   },
   "file_extension": ".py",
   "mimetype": "text/x-python",
   "name": "python",
   "nbconvert_exporter": "python",
   "pygments_lexer": "ipython3",
   "version": "3.9.19"
  },
  "toc": {
   "base_numbering": 1,
   "nav_menu": {},
   "number_sections": true,
   "sideBar": true,
   "skip_h1_title": true,
   "title_cell": "Table of Contents",
   "title_sidebar": "Contents",
   "toc_cell": false,
   "toc_position": {},
   "toc_section_display": true,
   "toc_window_display": false
  }
 },
 "nbformat": 4,
 "nbformat_minor": 1
}
