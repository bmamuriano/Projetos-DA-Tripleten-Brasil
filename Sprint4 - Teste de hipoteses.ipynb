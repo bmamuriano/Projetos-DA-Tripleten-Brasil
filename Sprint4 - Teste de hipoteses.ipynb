{
 "cells": [
  {
   "cell_type": "markdown",
   "metadata": {
    "id": "eAkbw7Ueuj8X"
   },
   "source": [
    "# Qual é o melhor plano?\n",
    "\n",
    "Você trabalha como analista para a empresa de telecomunicações Megaline. A empresa oferece aos clientes dois planos pré-pagos: Surf e Ultimate. O departamento comercial quer saber qual dos planos gera mais receita para ajustar o orçamento de publicidade.\n",
    "\n",
    "Você vai realizar uma análise preliminar dos planos com base em uma pequena seleção de clientes. Você terá dados de 500 clientes da Megaline: que clientes são, de onde eles são, qual plano usam e o número de chamadas e mensagens realizadas em 2018. Seu trabalho é analisar o comportamento dos clientes e determinar qual plano pré-pago gera mais receita."
   ]
  },
  {
   "cell_type": "markdown",
   "metadata": {
    "id": "Z_iOKMX_uj8a"
   },
   "source": [
    "[Fornecemos alguns comentários para guiar sua linha de raciocínio enquanto você trabalha neste projeto. Entretanto, certifique-se de remover todos os comentários entre colchetes antes de enviar o projeto.]\n",
    "\n",
    "[Antes de começar a análise dos dados, explique com suas próprias palavras o propósito do projeto e as ações que planeja realizar.]\n",
    "\n",
    "[Tenha em mente que estudar, modificar e analisar dados é um processo iterativo. É normal retornar a etapas anteriores e corrigir/expandir algo para permitir as próximas etapas.]"
   ]
  },
  {
   "cell_type": "markdown",
   "metadata": {},
   "source": [
    "Para ajustar o orçamento de publicidade de forma eficiente, o departamento comercial está buscando identificar qual dos planos de vendas está gerando maior receita. Essa análise permitirá uma alocação de recursos mais precisa, otimizando o investimento em campanhas publicitárias de acordo com o desempenho financeiro de cada plano."
   ]
  },
  {
   "cell_type": "markdown",
   "metadata": {
    "id": "lnomf-3Xuj8b"
   },
   "source": [
    "## Inicialização"
   ]
  },
  {
   "cell_type": "code",
   "execution_count": 28,
   "metadata": {
    "id": "JdJusn5ouj8c"
   },
   "outputs": [],
   "source": [
    "# Carregando todas as bibliotecas\n",
    "\n",
    "import pandas as pd\n",
    "import numpy as np\n",
    "from scipy import stats as st\n",
    "import math as mt\n",
    "from math import factorial\n",
    "import matplotlib.pyplot as plt\n",
    "import seaborn as sns"
   ]
  },
  {
   "cell_type": "markdown",
   "metadata": {
    "id": "rzqsCrgquj8d"
   },
   "source": [
    "## Carregue os dados"
   ]
  },
  {
   "cell_type": "code",
   "execution_count": 29,
   "metadata": {
    "id": "HmzmQRXIuj8e"
   },
   "outputs": [],
   "source": [
    "# Carregue os arquivos de dados em diferentes DataFrames\n",
    "\n",
    "df_call = pd.read_csv('/datasets/megaline_calls.csv') # Baixar o conjunto de dados\n",
    "\n",
    "df_internet =  pd.read_csv('/datasets/megaline_internet.csv') # Baixar o conjunto de dados\n",
    "\n",
    "df_messages =  pd.read_csv('/datasets/megaline_messages.csv') # Baixar o conjunto de dados\n",
    "\n",
    "df_plans =  pd.read_csv('/datasets/megaline_plans.csv') # Baixar o conjunto de dados\n",
    "\n",
    "df_users =  pd.read_csv('/datasets/megaline_users.csv') # Baixar o conjunto de dados\n"
   ]
  },
  {
   "cell_type": "markdown",
   "metadata": {
    "id": "XQh-EeiIuj8e"
   },
   "source": [
    "## Prepare os dados"
   ]
  },
  {
   "cell_type": "markdown",
   "metadata": {
    "id": "RmibJmmzuj8e"
   },
   "source": [
    "[Os dados deste projeto estão divididos em várias tabelas. Explore cada uma para obter uma compreensão inicial dos dados. Faça correções em cada tabela, se necessário.]"
   ]
  },
  {
   "cell_type": "markdown",
   "metadata": {
    "id": "TlZUw_Cyuj8f"
   },
   "source": [
    "## Planos"
   ]
  },
  {
   "cell_type": "code",
   "execution_count": 30,
   "metadata": {
    "id": "x9qB5mAOuj8f"
   },
   "outputs": [
    {
     "name": "stdout",
     "output_type": "stream",
     "text": [
      "<class 'pandas.core.frame.DataFrame'>\n",
      "RangeIndex: 2 entries, 0 to 1\n",
      "Data columns (total 8 columns):\n",
      " #   Column                 Non-Null Count  Dtype  \n",
      "---  ------                 --------------  -----  \n",
      " 0   messages_included      2 non-null      int64  \n",
      " 1   mb_per_month_included  2 non-null      int64  \n",
      " 2   minutes_included       2 non-null      int64  \n",
      " 3   usd_monthly_pay        2 non-null      int64  \n",
      " 4   usd_per_gb             2 non-null      int64  \n",
      " 5   usd_per_message        2 non-null      float64\n",
      " 6   usd_per_minute         2 non-null      float64\n",
      " 7   plan_name              2 non-null      object \n",
      "dtypes: float64(2), int64(5), object(1)\n",
      "memory usage: 256.0+ bytes\n"
     ]
    },
    {
     "data": {
      "text/plain": [
       "0"
      ]
     },
     "execution_count": 30,
     "metadata": {},
     "output_type": "execute_result"
    }
   ],
   "source": [
    "# Imprima informações gerais/resumo sobre o DataFrame dos planos\n",
    "\n",
    "df_plans.head()\n",
    "df_plans.info()\n",
    "df_plans.describe()\n",
    "df_plans.duplicated().sum()\n"
   ]
  },
  {
   "cell_type": "markdown",
   "metadata": {
    "id": "P8hzr-lquj8f"
   },
   "source": [
    "A análise superficial mostra que os dados parecem estar bem organizados e sem sinais de duplicação visível nos resumos."
   ]
  },
  {
   "cell_type": "markdown",
   "metadata": {
    "id": "KXtaxmKsuj8f"
   },
   "source": [
    "## Corrija os dados"
   ]
  },
  {
   "cell_type": "markdown",
   "metadata": {
    "id": "Hen8bhG1uj8g"
   },
   "source": [
    "Conclusão preliminar sobre os dados:\n",
    "Ausência de dados nulos ou incompletos: Todas as colunas principais nos DataFrames têm contagem de valores não nulos igual ao total de linhas, exceto a coluna churn_date, que faz sentido ter valores nulos, pois só se aplica a usuários que cancelaram o serviço.\n",
    "\n",
    "Tipos de dados corretos: Os tipos de dados parecem apropriados para as colunas:\n",
    "\n",
    "int64 para colunas numéricas inteiras como user_id, age, etc.\n",
    "float64 para colunas que armazenam valores decimais como duration, mb_used, e valores monetários.\n",
    "object para colunas categóricas como id, plan_name, first_name, etc.\n",
    "Distribuição de dados: O sumário estatístico dos dados de usuários mostra que as idades estão distribuídas de forma razoável (mínimo de 18 anos e máximo de 75 anos). Os IDs dos usuários parecem estar bem distribuídos sem problemas evidentes."
   ]
  },
  {
   "cell_type": "markdown",
   "metadata": {
    "id": "kLcdKu6Duj8g"
   },
   "source": [
    "## Enriqueça os dados"
   ]
  },
  {
   "cell_type": "markdown",
   "metadata": {
    "id": "6j4XA9_ruj8g"
   },
   "source": [
    "Feito acima, junto da analise dos df"
   ]
  },
  {
   "cell_type": "markdown",
   "metadata": {
    "id": "YJg2O9qjuj8g"
   },
   "source": [
    "## Usuários"
   ]
  },
  {
   "cell_type": "code",
   "execution_count": 31,
   "metadata": {
    "id": "7JzxwD2juj8g"
   },
   "outputs": [
    {
     "name": "stdout",
     "output_type": "stream",
     "text": [
      "<class 'pandas.core.frame.DataFrame'>\n",
      "RangeIndex: 500 entries, 0 to 499\n",
      "Data columns (total 8 columns):\n",
      " #   Column      Non-Null Count  Dtype \n",
      "---  ------      --------------  ----- \n",
      " 0   user_id     500 non-null    int64 \n",
      " 1   first_name  500 non-null    object\n",
      " 2   last_name   500 non-null    object\n",
      " 3   age         500 non-null    int64 \n",
      " 4   city        500 non-null    object\n",
      " 5   reg_date    500 non-null    object\n",
      " 6   plan        500 non-null    object\n",
      " 7   churn_date  34 non-null     object\n",
      "dtypes: int64(2), object(6)\n",
      "memory usage: 31.4+ KB\n"
     ]
    },
    {
     "data": {
      "text/plain": [
       "0"
      ]
     },
     "execution_count": 31,
     "metadata": {},
     "output_type": "execute_result"
    }
   ],
   "source": [
    "# Imprima informações gerais/resumo sobre o DataFrame dos usuários\n",
    "\n",
    "df_users.head()\n",
    "df_users.info()\n",
    "df_users.describe()\n",
    "df_users.duplicated().sum()\n"
   ]
  },
  {
   "cell_type": "markdown",
   "metadata": {
    "id": "XGCgkfLvuj8h"
   },
   "source": [
    "A análise superficial mostra que os dados parecem estar bem organizados, sem valores nulos (com exceção da coluna churn_date no DataFrame de usuários) e sem sinais de duplicação visível nos resumos."
   ]
  },
  {
   "cell_type": "markdown",
   "metadata": {
    "id": "ppiEfe3luj8i"
   },
   "source": [
    "### Corrija os dados"
   ]
  },
  {
   "cell_type": "markdown",
   "metadata": {
    "id": "Oa1XFooouj8j"
   },
   "source": [
    "Não vejo problemas a serem corrigidos."
   ]
  },
  {
   "cell_type": "markdown",
   "metadata": {
    "id": "H3gpde3Juj8j"
   },
   "source": [
    "### Enriqueça os dados"
   ]
  },
  {
   "cell_type": "markdown",
   "metadata": {
    "id": "4vuUjT2juj8j"
   },
   "source": [
    "Não vejo oq mais poderia ser incluso neste primeiro momento."
   ]
  },
  {
   "cell_type": "markdown",
   "metadata": {
    "id": "f4uSIMuuuj8j"
   },
   "source": [
    "## Chamadas"
   ]
  },
  {
   "cell_type": "code",
   "execution_count": 32,
   "metadata": {
    "id": "hkY01fJnuj8j"
   },
   "outputs": [
    {
     "name": "stdout",
     "output_type": "stream",
     "text": [
      "<class 'pandas.core.frame.DataFrame'>\n",
      "RangeIndex: 137735 entries, 0 to 137734\n",
      "Data columns (total 4 columns):\n",
      " #   Column     Non-Null Count   Dtype  \n",
      "---  ------     --------------   -----  \n",
      " 0   id         137735 non-null  object \n",
      " 1   user_id    137735 non-null  int64  \n",
      " 2   call_date  137735 non-null  object \n",
      " 3   duration   137735 non-null  float64\n",
      "dtypes: float64(1), int64(1), object(2)\n",
      "memory usage: 4.2+ MB\n"
     ]
    },
    {
     "data": {
      "text/plain": [
       "0"
      ]
     },
     "execution_count": 32,
     "metadata": {},
     "output_type": "execute_result"
    }
   ],
   "source": [
    "# Imprima informações gerais/resumo sobre o DataFrame das chamadas\n",
    "\n",
    "df_call.head()\n",
    "df_call.info()\n",
    "df_call.describe()\n",
    "df_call.duplicated().sum()\n"
   ]
  },
  {
   "cell_type": "markdown",
   "metadata": {
    "id": "Y8An85-Tuj8k"
   },
   "source": [
    "Com base nessa análise, os dados parecem estar limpos e corretos. "
   ]
  },
  {
   "cell_type": "markdown",
   "metadata": {
    "id": "x5a99U4xuj8k"
   },
   "source": [
    "### Corrija os dados"
   ]
  },
  {
   "cell_type": "markdown",
   "metadata": {
    "id": "lBjdw0Bnuj8l"
   },
   "source": [
    "Não vejo problemas a serem corrigidos."
   ]
  },
  {
   "cell_type": "markdown",
   "metadata": {
    "id": "MFm5xyh4uj8l"
   },
   "source": [
    "### Enriqueça os dados"
   ]
  },
  {
   "cell_type": "markdown",
   "metadata": {
    "id": "nwOKTgfluj8l"
   },
   "source": [
    "Não vejo oq mais poderia ser incluso neste primeiro momento."
   ]
  },
  {
   "cell_type": "markdown",
   "metadata": {
    "id": "qLz4FkyRuj8l"
   },
   "source": [
    "## Mensagens"
   ]
  },
  {
   "cell_type": "code",
   "execution_count": 33,
   "metadata": {
    "id": "nFA9DFkCuj8l"
   },
   "outputs": [
    {
     "name": "stdout",
     "output_type": "stream",
     "text": [
      "<class 'pandas.core.frame.DataFrame'>\n",
      "RangeIndex: 76051 entries, 0 to 76050\n",
      "Data columns (total 3 columns):\n",
      " #   Column        Non-Null Count  Dtype \n",
      "---  ------        --------------  ----- \n",
      " 0   id            76051 non-null  object\n",
      " 1   user_id       76051 non-null  int64 \n",
      " 2   message_date  76051 non-null  object\n",
      "dtypes: int64(1), object(2)\n",
      "memory usage: 1.7+ MB\n"
     ]
    },
    {
     "data": {
      "text/plain": [
       "0"
      ]
     },
     "execution_count": 33,
     "metadata": {},
     "output_type": "execute_result"
    }
   ],
   "source": [
    "# Imprima informações gerais/resumo sobre o DataFrame das mensagens\n",
    "\n",
    "df_messages.head()\n",
    "df_messages.info()\n",
    "df_messages.describe()\n",
    "df_messages.duplicated().sum()\n"
   ]
  },
  {
   "cell_type": "markdown",
   "metadata": {
    "id": "GUtt1TqCuj8m"
   },
   "source": [
    "Com base nessa análise, os dados parecem estar limpos e corretos. "
   ]
  },
  {
   "cell_type": "markdown",
   "metadata": {
    "id": "tT8N_hc6uj8m"
   },
   "source": [
    "### Corrija os dados"
   ]
  },
  {
   "cell_type": "markdown",
   "metadata": {
    "id": "SpBqbQHCuj8m"
   },
   "source": [
    "Não vejo problemas a serem corrigidos."
   ]
  },
  {
   "cell_type": "markdown",
   "metadata": {
    "id": "feV2Njo9uj8n"
   },
   "source": [
    "### Enriqueça os dados"
   ]
  },
  {
   "cell_type": "markdown",
   "metadata": {
    "id": "SkuCXcLJuj8n"
   },
   "source": [
    "Não vejo oq mais poderia ser incluso neste primeiro momento."
   ]
  },
  {
   "cell_type": "markdown",
   "metadata": {
    "id": "ZRFaOWzGuj8n"
   },
   "source": [
    "## Internet"
   ]
  },
  {
   "cell_type": "code",
   "execution_count": 34,
   "metadata": {
    "id": "ob3-qv4nuj8n"
   },
   "outputs": [
    {
     "name": "stdout",
     "output_type": "stream",
     "text": [
      "<class 'pandas.core.frame.DataFrame'>\n",
      "RangeIndex: 104825 entries, 0 to 104824\n",
      "Data columns (total 4 columns):\n",
      " #   Column        Non-Null Count   Dtype  \n",
      "---  ------        --------------   -----  \n",
      " 0   id            104825 non-null  object \n",
      " 1   user_id       104825 non-null  int64  \n",
      " 2   session_date  104825 non-null  object \n",
      " 3   mb_used       104825 non-null  float64\n",
      "dtypes: float64(1), int64(1), object(2)\n",
      "memory usage: 3.2+ MB\n"
     ]
    },
    {
     "data": {
      "text/plain": [
       "0"
      ]
     },
     "execution_count": 34,
     "metadata": {},
     "output_type": "execute_result"
    }
   ],
   "source": [
    "# Imprima informações gerais/resumo sobre o DataFrame da internet\n",
    "\n",
    "df_internet.head()\n",
    "df_internet.info()\n",
    "df_internet.describe()\n",
    "df_internet.duplicated().sum()"
   ]
  },
  {
   "cell_type": "markdown",
   "metadata": {
    "id": "6wpo7ugquj8o"
   },
   "source": [
    "Com base nessa análise, os dados parecem estar limpos e corretos. "
   ]
  },
  {
   "cell_type": "markdown",
   "metadata": {
    "id": "Tly90YrTuj8o"
   },
   "source": [
    "### Corrija os dados"
   ]
  },
  {
   "cell_type": "markdown",
   "metadata": {
    "id": "GCoX7kbmuj8o"
   },
   "source": [
    "Não vejo problemas a serem corrigidos."
   ]
  },
  {
   "cell_type": "markdown",
   "metadata": {
    "id": "DEDbrtFduj8o"
   },
   "source": [
    "### Enriqueça os dados"
   ]
  },
  {
   "cell_type": "markdown",
   "metadata": {
    "id": "f1PoZ3Ukuj8p"
   },
   "source": [
    "Não vejo oq mais poderia ser incluso neste primeiro momento."
   ]
  },
  {
   "cell_type": "markdown",
   "metadata": {
    "id": "bnOX4ARJuj8p"
   },
   "source": [
    "## Estude as condições dos planos"
   ]
  },
  {
   "cell_type": "markdown",
   "metadata": {
    "id": "vMu9_L8quj8p"
   },
   "source": [
    "[É fundamental entender como os planos funcionam, ou seja, como as cobranças dos usuários são feitas com base na assinatura. Sugerimos imprimir as informações sobre os planos para visualizar novamente as condições.]"
   ]
  },
  {
   "cell_type": "code",
   "execution_count": 35,
   "metadata": {
    "id": "vMXVndWEuj8p"
   },
   "outputs": [
    {
     "name": "stdout",
     "output_type": "stream",
     "text": [
      "   messages_included  mb_per_month_included  minutes_included  \\\n",
      "0                 50                  15360               500   \n",
      "1               1000                  30720              3000   \n",
      "\n",
      "   usd_monthly_pay  usd_per_gb  usd_per_message  usd_per_minute plan_name  \n",
      "0               20          10             0.03            0.03      surf  \n",
      "1               70           7             0.01            0.01  ultimate  \n"
     ]
    }
   ],
   "source": [
    "# Imprima as condições dos planos e certifique-se de que elas fazem sentido para você\n",
    "\n",
    "print(df_plans)\n"
   ]
  },
  {
   "cell_type": "code",
   "execution_count": 36,
   "metadata": {
    "id": "4hmb2pSPuj8q"
   },
   "outputs": [
    {
     "name": "stdout",
     "output_type": "stream",
     "text": [
      "      user_id year_month  num_calls\n",
      "0        1000    2018-12         16\n",
      "1        1001    2018-08         27\n",
      "2        1001    2018-09         49\n",
      "3        1001    2018-10         65\n",
      "4        1001    2018-11         64\n",
      "...       ...        ...        ...\n",
      "2253     1498    2018-12         39\n",
      "2254     1499    2018-09         41\n",
      "2255     1499    2018-10         53\n",
      "2256     1499    2018-11         45\n",
      "2257     1499    2018-12         65\n",
      "\n",
      "[2258 rows x 3 columns]\n"
     ]
    }
   ],
   "source": [
    "# Calcule o número de chamadas feitas por cada usuário por mês. Salve o resultado.\n",
    "\n",
    "df_call['call_date'] = pd.to_datetime(df_call['call_date'])\n",
    "df_call['year_month'] = df_call['call_date'].dt.to_period('M')\n",
    "calls_per_user_per_month = df_call.groupby(['user_id', 'year_month']).size().reset_index(name='num_calls')\n",
    "print(calls_per_user_per_month)\n"
   ]
  },
  {
   "cell_type": "code",
   "execution_count": 37,
   "metadata": {
    "id": "yHgBWCJJuj8q"
   },
   "outputs": [
    {
     "name": "stdout",
     "output_type": "stream",
     "text": [
      "      user_id year_month  total_minutes\n",
      "0        1000    2018-12         116.83\n",
      "1        1001    2018-08         171.14\n",
      "2        1001    2018-09         297.69\n",
      "3        1001    2018-10         374.11\n",
      "4        1001    2018-11         404.59\n",
      "...       ...        ...            ...\n",
      "2253     1498    2018-12         324.77\n",
      "2254     1499    2018-09         330.37\n",
      "2255     1499    2018-10         363.28\n",
      "2256     1499    2018-11         288.56\n",
      "2257     1499    2018-12         468.10\n",
      "\n",
      "[2258 rows x 3 columns]\n"
     ]
    }
   ],
   "source": [
    "# Calcule a quantidade de minutos gastos por cada usuário por mês. Salve o resultado.\n",
    "\n",
    "df_call['call_date'] = pd.to_datetime(df_call['call_date'])\n",
    "df_call['year_month'] = df_call['call_date'].dt.to_period('M')\n",
    "minutes_per_user_per_month = df_call.groupby(['user_id', 'year_month'])['duration'].sum().reset_index(name='total_minutes')\n",
    "print(minutes_per_user_per_month)\n"
   ]
  },
  {
   "cell_type": "code",
   "execution_count": 38,
   "metadata": {
    "id": "MaM_cPxauj8q"
   },
   "outputs": [
    {
     "name": "stdout",
     "output_type": "stream",
     "text": [
      "0\n",
      "      user_id year_month  message_count\n",
      "0        1000    2018-12             11\n",
      "1        1001    2018-08             30\n",
      "2        1001    2018-09             44\n",
      "3        1001    2018-10             53\n",
      "4        1001    2018-11             36\n",
      "...       ...        ...            ...\n",
      "1801     1496    2018-09             21\n",
      "1802     1496    2018-10             18\n",
      "1803     1496    2018-11             13\n",
      "1804     1496    2018-12             11\n",
      "1805     1497    2018-12             50\n",
      "\n",
      "[1806 rows x 3 columns]\n"
     ]
    }
   ],
   "source": [
    "# Calcule o número de mensagens enviadas por cada usuário por mês. Salve o resultado.\n",
    "\n",
    "df_messages['message_date'] = pd.to_datetime(df_messages['message_date'], errors='coerce')\n",
    "df_messages['year_month'] = df_messages['message_date'].dt.to_period('M')\n",
    "\n",
    "print(df_messages['message_date'].isnull().sum())  \n",
    "\n",
    "messages_per_month = df_messages.groupby([df_messages['user_id'], 'year_month']).size().reset_index(name='message_count')\n",
    "\n",
    "print(messages_per_month)\n",
    "\n"
   ]
  },
  {
   "cell_type": "code",
   "execution_count": 39,
   "metadata": {
    "id": "WsCEZJ_xuj8q"
   },
   "outputs": [
    {
     "name": "stdout",
     "output_type": "stream",
     "text": [
      "0\n",
      "      user_id year_month   mb_used\n",
      "0        1000    2018-12   1901.47\n",
      "1        1001    2018-08   6919.15\n",
      "2        1001    2018-09  13314.82\n",
      "3        1001    2018-10  22330.49\n",
      "4        1001    2018-11  18504.30\n",
      "...       ...        ...       ...\n",
      "2272     1498    2018-12  23137.69\n",
      "2273     1499    2018-09  12984.76\n",
      "2274     1499    2018-10  19492.43\n",
      "2275     1499    2018-11  16813.83\n",
      "2276     1499    2018-12  22059.21\n",
      "\n",
      "[2277 rows x 3 columns]\n"
     ]
    }
   ],
   "source": [
    "# Calcule o volume de tráfego de internet usado por cada usuário por mês. Salve o resultado.\n",
    "\n",
    "df_internet['session_date'] = pd.to_datetime(df_internet['session_date'], errors='coerce')\n",
    "df_internet['year_month'] = df_internet['session_date'].dt.to_period('M')\n",
    "\n",
    "print(df_internet['session_date'].isnull().sum()) \n",
    "\n",
    "traffic_per_month = df_internet.groupby([df_internet['user_id'], 'year_month'])['mb_used'].sum().reset_index()\n",
    "\n",
    "print(traffic_per_month)\n",
    "\n"
   ]
  },
  {
   "cell_type": "markdown",
   "metadata": {
    "id": "6nBsD4hduj8q"
   },
   "source": [
    "[Coloque os dados agregados em um DataFrame para que cada registro nele represente o que cada usuário consumiu em um determinado mês.]"
   ]
  },
  {
   "cell_type": "code",
   "execution_count": 40,
   "metadata": {
    "id": "BYDTkxOauj8r"
   },
   "outputs": [
    {
     "name": "stdout",
     "output_type": "stream",
     "text": [
      "      user_id year_month  total_minutes  message_count   mb_used\n",
      "0        1000    2018-12         116.83           11.0   1901.47\n",
      "1        1001    2018-08         171.14           30.0   6919.15\n",
      "2        1001    2018-09         297.69           44.0  13314.82\n",
      "3        1001    2018-10         374.11           53.0  22330.49\n",
      "4        1001    2018-11         404.59           36.0  18504.30\n",
      "...       ...        ...            ...            ...       ...\n",
      "2288     1349    2018-12            NaN           61.0  13039.91\n",
      "2289     1361    2018-05            NaN            2.0   1519.69\n",
      "2290     1482    2018-10            NaN            2.0       NaN\n",
      "2291     1108    2018-12            NaN            NaN    233.17\n",
      "2292     1311    2018-06            NaN            NaN   1498.83\n",
      "\n",
      "[2293 rows x 5 columns]\n"
     ]
    }
   ],
   "source": [
    "# Junte os dados de chamadas, minutos, mensagens e internet com base em user_id e month\n",
    "\n",
    "merged_data = minutes_per_user_per_month.merge(messages_per_month, on=['user_id', 'year_month'], how='outer')\n",
    "merged_data = merged_data.merge(traffic_per_month, on=['user_id', 'year_month'], how='outer')\n",
    "\n",
    "print(merged_data)\n"
   ]
  },
  {
   "cell_type": "code",
   "execution_count": 41,
   "metadata": {
    "id": "SW-sgLaHuj8r"
   },
   "outputs": [
    {
     "name": "stdout",
     "output_type": "stream",
     "text": [
      "      user_id      plan\n",
      "0        1000  ultimate\n",
      "1        1001      surf\n",
      "2        1001      surf\n",
      "3        1001      surf\n",
      "4        1001      surf\n",
      "...       ...       ...\n",
      "2298     1498      surf\n",
      "2299     1499      surf\n",
      "2300     1499      surf\n",
      "2301     1499      surf\n",
      "2302     1499      surf\n",
      "\n",
      "[2303 rows x 2 columns]\n",
      "      user_id first_name   last_name  age  \\\n",
      "0        1000   Anamaria       Bauer   45   \n",
      "1        1001     Mickey   Wilkerson   28   \n",
      "2        1001     Mickey   Wilkerson   28   \n",
      "3        1001     Mickey   Wilkerson   28   \n",
      "4        1001     Mickey   Wilkerson   28   \n",
      "...       ...        ...         ...  ...   \n",
      "2298     1498       Scot  Williamson   51   \n",
      "2299     1499      Shena     Dickson   37   \n",
      "2300     1499      Shena     Dickson   37   \n",
      "2301     1499      Shena     Dickson   37   \n",
      "2302     1499      Shena     Dickson   37   \n",
      "\n",
      "                                           city    reg_date      plan  \\\n",
      "0         Atlanta-Sandy Springs-Roswell, GA MSA  2018-12-24  ultimate   \n",
      "1               Seattle-Tacoma-Bellevue, WA MSA  2018-08-13      surf   \n",
      "2               Seattle-Tacoma-Bellevue, WA MSA  2018-08-13      surf   \n",
      "3               Seattle-Tacoma-Bellevue, WA MSA  2018-08-13      surf   \n",
      "4               Seattle-Tacoma-Bellevue, WA MSA  2018-08-13      surf   \n",
      "...                                         ...         ...       ...   \n",
      "2298  New York-Newark-Jersey City, NY-NJ-PA MSA  2018-02-04      surf   \n",
      "2299          Orlando-Kissimmee-Sanford, FL MSA  2018-05-06      surf   \n",
      "2300          Orlando-Kissimmee-Sanford, FL MSA  2018-05-06      surf   \n",
      "2301          Orlando-Kissimmee-Sanford, FL MSA  2018-05-06      surf   \n",
      "2302          Orlando-Kissimmee-Sanford, FL MSA  2018-05-06      surf   \n",
      "\n",
      "     churn_date year_month  total_minutes  message_count   mb_used  \n",
      "0           NaN    2018-12         116.83           11.0   1901.47  \n",
      "1           NaN    2018-08         171.14           30.0   6919.15  \n",
      "2           NaN    2018-09         297.69           44.0  13314.82  \n",
      "3           NaN    2018-10         374.11           53.0  22330.49  \n",
      "4           NaN    2018-11         404.59           36.0  18504.30  \n",
      "...         ...        ...            ...            ...       ...  \n",
      "2298        NaN    2018-12         324.77            NaN  23137.69  \n",
      "2299        NaN    2018-09         330.37            NaN  12984.76  \n",
      "2300        NaN    2018-10         363.28            NaN  19492.43  \n",
      "2301        NaN    2018-11         288.56            NaN  16813.83  \n",
      "2302        NaN    2018-12         468.10            NaN  22059.21  \n",
      "\n",
      "[2303 rows x 12 columns]\n"
     ]
    }
   ],
   "source": [
    "# Adicione as informações sobre o plano\n",
    "\n",
    "merged_plan = df_users.merge(merged_data, on='user_id', how='outer')\n",
    "\n",
    "separate_columns = merged_plan[['user_id', 'plan']]\n",
    "\n",
    "print(separate_columns)\n",
    "\n",
    "print(merged_plan)"
   ]
  },
  {
   "cell_type": "code",
   "execution_count": 42,
   "metadata": {},
   "outputs": [
    {
     "name": "stdout",
     "output_type": "stream",
     "text": [
      "      user_id first_name   last_name  age  \\\n",
      "0        1000   Anamaria       Bauer   45   \n",
      "1        1006     Jesusa    Bradford   73   \n",
      "2        1006     Jesusa    Bradford   73   \n",
      "3        1008      Emely     Hoffman   53   \n",
      "4        1008      Emely     Hoffman   53   \n",
      "...       ...        ...         ...  ...   \n",
      "2298     1498       Scot  Williamson   51   \n",
      "2299     1499      Shena     Dickson   37   \n",
      "2300     1499      Shena     Dickson   37   \n",
      "2301     1499      Shena     Dickson   37   \n",
      "2302     1499      Shena     Dickson   37   \n",
      "\n",
      "                                           city    reg_date      plan  \\\n",
      "0         Atlanta-Sandy Springs-Roswell, GA MSA  2018-12-24  ultimate   \n",
      "1        San Francisco-Oakland-Berkeley, CA MSA  2018-11-27  ultimate   \n",
      "2        San Francisco-Oakland-Berkeley, CA MSA  2018-11-27  ultimate   \n",
      "3             Orlando-Kissimmee-Sanford, FL MSA  2018-08-03  ultimate   \n",
      "4             Orlando-Kissimmee-Sanford, FL MSA  2018-08-03  ultimate   \n",
      "...                                         ...         ...       ...   \n",
      "2298  New York-Newark-Jersey City, NY-NJ-PA MSA  2018-02-04      surf   \n",
      "2299          Orlando-Kissimmee-Sanford, FL MSA  2018-05-06      surf   \n",
      "2300          Orlando-Kissimmee-Sanford, FL MSA  2018-05-06      surf   \n",
      "2301          Orlando-Kissimmee-Sanford, FL MSA  2018-05-06      surf   \n",
      "2302          Orlando-Kissimmee-Sanford, FL MSA  2018-05-06      surf   \n",
      "\n",
      "      churn_date year_month  total_minutes  message_count   mb_used  \\\n",
      "0            NaN    2018-12         116.83           11.0   1901.47   \n",
      "1     2018-12-18    2018-11           9.32           15.0   2068.37   \n",
      "2     2018-12-18    2018-12          54.79          139.0  32118.82   \n",
      "3            NaN    2018-10         450.21           21.0  17106.99   \n",
      "4            NaN    2018-11         422.81           37.0  23676.72   \n",
      "...          ...        ...            ...            ...       ...   \n",
      "2298         NaN    2018-12         324.77            NaN  23137.69   \n",
      "2299         NaN    2018-09         330.37            NaN  12984.76   \n",
      "2300         NaN    2018-10         363.28            NaN  19492.43   \n",
      "2301         NaN    2018-11         288.56            NaN  16813.83   \n",
      "2302         NaN    2018-12         468.10            NaN  22059.21   \n",
      "\n",
      "      messages_included  mb_per_month_included  minutes_included  \\\n",
      "0                  1000                  30720              3000   \n",
      "1                  1000                  30720              3000   \n",
      "2                  1000                  30720              3000   \n",
      "3                  1000                  30720              3000   \n",
      "4                  1000                  30720              3000   \n",
      "...                 ...                    ...               ...   \n",
      "2298                 50                  15360               500   \n",
      "2299                 50                  15360               500   \n",
      "2300                 50                  15360               500   \n",
      "2301                 50                  15360               500   \n",
      "2302                 50                  15360               500   \n",
      "\n",
      "      usd_monthly_pay  usd_per_gb  usd_per_message  usd_per_minute plan_name  \n",
      "0                  70           7             0.01            0.01  ultimate  \n",
      "1                  70           7             0.01            0.01  ultimate  \n",
      "2                  70           7             0.01            0.01  ultimate  \n",
      "3                  70           7             0.01            0.01  ultimate  \n",
      "4                  70           7             0.01            0.01  ultimate  \n",
      "...               ...         ...              ...             ...       ...  \n",
      "2298               20          10             0.03            0.03      surf  \n",
      "2299               20          10             0.03            0.03      surf  \n",
      "2300               20          10             0.03            0.03      surf  \n",
      "2301               20          10             0.03            0.03      surf  \n",
      "2302               20          10             0.03            0.03      surf  \n",
      "\n",
      "[2303 rows x 20 columns]\n"
     ]
    }
   ],
   "source": [
    "dataframe_final = merged_plan.merge(df_plans,left_on = 'plan', right_on ='plan_name')\n",
    "print(dataframe_final)"
   ]
  },
  {
   "cell_type": "markdown",
   "metadata": {},
   "source": [
    "# Calcule a receita mensal para cada usuário"
   ]
  },
  {
   "cell_type": "markdown",
   "metadata": {
    "id": "mU8dKHTQuj8r"
   },
   "source": [
    "[Calcule a receita mensal para cada usuário: subtraia o limite gratuito do pacote do número total de chamadas, mensagens de texto e dados; multiplique o resultado pelo valor do plano; adicione o preço mensal dependendo do plano. Importante: isso talvez não seja tão simples e necessite de várias linhas, considerando as condições do plano. Portanto, não se preocupe se você passar algum tempo nesta etapa.]"
   ]
  },
  {
   "cell_type": "code",
   "execution_count": 43,
   "metadata": {
    "id": "JiPHXbQAuj8r"
   },
   "outputs": [
    {
     "name": "stdout",
     "output_type": "stream",
     "text": [
      "      user_id first_name   last_name  monthly_revenue\n",
      "0        1000   Anamaria       Bauer        70.000000\n",
      "1        1006     Jesusa    Bradford        70.000000\n",
      "2        1006     Jesusa    Bradford        79.562246\n",
      "3        1008      Emely     Hoffman        70.000000\n",
      "4        1008      Emely     Hoffman        70.000000\n",
      "...       ...        ...         ...              ...\n",
      "2298     1498       Scot  Williamson              NaN\n",
      "2299     1499      Shena     Dickson              NaN\n",
      "2300     1499      Shena     Dickson              NaN\n",
      "2301     1499      Shena     Dickson              NaN\n",
      "2302     1499      Shena     Dickson              NaN\n",
      "\n",
      "[2303 rows x 4 columns]\n"
     ]
    }
   ],
   "source": [
    "# Calcule a receita mensal para cada usuário\n",
    "\n",
    "def calcular_receita(row):\n",
    "    # Valores de utilização\n",
    "    minutos_usados = max(row['total_minutes'] - row['minutes_included'], 0)\n",
    "    mensagens_usadas = max(row['message_count'] - row['messages_included'], 0)\n",
    "    dados_usados = max(row['mb_used'] - row['mb_per_month_included'], 0) / 1024  # Convertendo para GB\n",
    "\n",
    "    # Cálculo do custo adicional\n",
    "    custo_adicional = (minutos_usados * row['usd_per_minute'] +\n",
    "                       mensagens_usadas * row['usd_per_message'] +\n",
    "                       dados_usados * row['usd_per_gb'])\n",
    "\n",
    "    # Receita total\n",
    "    receita_total = row['usd_monthly_pay'] + custo_adicional\n",
    "    return receita_total\n",
    "\n",
    "# Aplicar a função de cálculo ao DataFrame\n",
    "dataframe_final['monthly_revenue'] = dataframe_final.apply(calcular_receita, axis=1)\n",
    "\n",
    "# Exibir as receitas mensais\n",
    "print(dataframe_final[['user_id', 'first_name', 'last_name', 'monthly_revenue']])\n"
   ]
  },
  {
   "cell_type": "code",
   "execution_count": 44,
   "metadata": {},
   "outputs": [
    {
     "name": "stdout",
     "output_type": "stream",
     "text": [
      "     user_id  message_count\n",
      "0       1000           11.0\n",
      "1       1001          207.0\n",
      "2       1002           88.0\n",
      "3       1003           50.0\n",
      "4       1004          177.0\n",
      "..       ...            ...\n",
      "495     1495            0.0\n",
      "496     1496           65.0\n",
      "497     1497           50.0\n",
      "498     1498            0.0\n",
      "499     1499            0.0\n",
      "\n",
      "[500 rows x 2 columns]\n"
     ]
    }
   ],
   "source": [
    "mensagens_por_usuario = dataframe_final.groupby('user_id')['message_count'].sum().reset_index()\n",
    "\n",
    "# Exibindo o resultado\n",
    "print(mensagens_por_usuario)"
   ]
  },
  {
   "cell_type": "code",
   "execution_count": 45,
   "metadata": {},
   "outputs": [
    {
     "name": "stdout",
     "output_type": "stream",
     "text": [
      "      user_id year_month   mb_used\n",
      "0        1000    2018-12   1901.47\n",
      "1        1001    2018-08   6919.15\n",
      "2        1001    2018-09  13314.82\n",
      "3        1001    2018-10  22330.49\n",
      "4        1001    2018-11  18504.30\n",
      "...       ...        ...       ...\n",
      "2288     1498    2018-12  23137.69\n",
      "2289     1499    2018-09  12984.76\n",
      "2290     1499    2018-10  19492.43\n",
      "2291     1499    2018-11  16813.83\n",
      "2292     1499    2018-12  22059.21\n",
      "\n",
      "[2293 rows x 3 columns]\n"
     ]
    }
   ],
   "source": [
    "# Agrupando por user_id e year_month e somando o uso de internet\n",
    "uso_internet_por_usuario_mes = dataframe_final.groupby(['user_id', 'year_month'])['mb_used'].sum().reset_index()\n",
    "\n",
    "# Exibindo o resultado\n",
    "print(uso_internet_por_usuario_mes)\n"
   ]
  },
  {
   "cell_type": "code",
   "execution_count": 46,
   "metadata": {},
   "outputs": [
    {
     "name": "stdout",
     "output_type": "stream",
     "text": [
      "      user_id year_month  total_minutes\n",
      "0        1000    2018-12         116.83\n",
      "1        1001    2018-08         171.14\n",
      "2        1001    2018-09         297.69\n",
      "3        1001    2018-10         374.11\n",
      "4        1001    2018-11         404.59\n",
      "...       ...        ...            ...\n",
      "2288     1498    2018-12         324.77\n",
      "2289     1499    2018-09         330.37\n",
      "2290     1499    2018-10         363.28\n",
      "2291     1499    2018-11         288.56\n",
      "2292     1499    2018-12         468.10\n",
      "\n",
      "[2293 rows x 3 columns]\n"
     ]
    }
   ],
   "source": [
    "# Agrupando por user_id e year_month e somando o total de minutos\n",
    "ligacoes_por_usuario_mes = dataframe_final.groupby(['user_id', 'year_month'])['total_minutes'].sum().reset_index()\n",
    "\n",
    "# Exibindo o resultado\n",
    "print(ligacoes_por_usuario_mes)\n"
   ]
  },
  {
   "cell_type": "code",
   "execution_count": 47,
   "metadata": {},
   "outputs": [
    {
     "name": "stdout",
     "output_type": "stream",
     "text": [
      "   user_id year_month  message_count   mb_used\n",
      "0     1000    2018-12           11.0   1901.47\n",
      "1     1006    2018-11           15.0   2068.37\n",
      "2     1006    2018-12          139.0  32118.82\n",
      "3     1008    2018-10           21.0  17106.99\n",
      "4     1008    2018-11           37.0  23676.72\n"
     ]
    }
   ],
   "source": [
    "# Filtrar as colunas necessárias\n",
    "dataframe_final_filtered = dataframe_final.filter(['user_id', 'year_month'])\n",
    "merged_data_filtered = merged_data.filter(['user_id', 'year_month', 'message_count', 'mb_used'])\n",
    "\n",
    "# Realizar o merge com os DataFrames filtrados, incluindo 'user_id' e 'year_month'\n",
    "merged_plan = dataframe_final_filtered.merge(merged_data_filtered, on=['user_id', 'year_month'], how='outer')\n",
    "\n",
    "# Exibir o resultado\n",
    "print(merged_plan.head())\n"
   ]
  },
  {
   "cell_type": "markdown",
   "metadata": {
    "id": "0HFWXKTQuj8r"
   },
   "source": [
    "\n",
    "## Estude o comportamento do usuário"
   ]
  },
  {
   "cell_type": "markdown",
   "metadata": {
    "id": "i6gGFggkuj8s"
   },
   "source": [
    "[Calcule algumas estatísticas descritivas úteis para os dados agregados, o que costuma revelar uma imagem geral capturada pelos dados. Desenhe gráficos úteis para ajudar na compreensão. Já que a tarefa principal é comparar os planos e decidir qual é mais rentável, as estatísticas e os gráficos devem ser calculados por plano.]\n",
    "\n",
    "[Existem dicas relevantes nos comentários para as chamadas. Essas dicas não foram fornecidas para as mensagens e internet, mas o princípio do estudo estatístico é o mesmo em todos os casos.]"
   ]
  },
  {
   "cell_type": "markdown",
   "metadata": {
    "id": "umaMfSLxuj8s"
   },
   "source": [
    "### Chamadas"
   ]
  },
  {
   "cell_type": "code",
   "execution_count": 48,
   "metadata": {
    "id": "0236-tJnuj8t"
   },
   "outputs": [
    {
     "data": {
      "image/png": "[encoded data removed]",
      "text/plain": [
       "<Figure size 1200x600 with 1 Axes>"
      ]
     },
     "metadata": {},
     "output_type": "display_data"
    }
   ],
   "source": [
    "# Compare a duração média das chamadas de cada plano para cada mês. Crie um gráfico de barras para visualizar o resultado.\n",
    "\n",
    "dataframe_final['reg_date'] = pd.to_datetime(dataframe_final['reg_date'])\n",
    "\n",
    "# Extrair o mês e o ano\n",
    "dataframe_final['month'] = dataframe_final['reg_date'].dt.to_period('M')\n",
    "\n",
    "# Calcular a média da duração das chamadas agrupada por plano e mês\n",
    "avg_duration = dataframe_final.groupby(['month', 'user_id'])['total_minutes'].mean().reset_index()\n",
    "\n",
    "# Criar o gráfico de barras\n",
    "plt.figure(figsize=(12, 6))\n",
    "sns.barplot(data=avg_duration, x='month', y='total_minutes')\n",
    "\n",
    "# Configurações do gráfico\n",
    "plt.title('Média de Duração das Chamadas por Mês e Plano')\n",
    "plt.xlabel('Mês')\n",
    "plt.ylabel('Duração Média das Chamadas (minutos)')\n",
    "plt.xticks(rotation=90)\n",
    "\n",
    "# Exibir o gráfico\n",
    "plt.show()\n",
    "\n",
    "\n"
   ]
  },
  {
   "cell_type": "code",
   "execution_count": 49,
   "metadata": {
    "id": "9sCQ1lP8uj8u"
   },
   "outputs": [
    {
     "data": {
      "image/png": "[encoded data removed]",
      "text/plain": [
       "<Figure size 1200x600 with 1 Axes>"
      ]
     },
     "metadata": {},
     "output_type": "display_data"
    }
   ],
   "source": [
    "# Compare o número de minutos que os usuários de cada plano necessitam a cada mês. Construa um histograma.\n",
    "\n",
    "dataframe_final['reg_date'] = pd.to_datetime(dataframe_final['reg_date'])\n",
    "\n",
    "# Extrair o mês e o ano\n",
    "dataframe_final['month'] = dataframe_final['reg_date'].dt.to_period('M')\n",
    "\n",
    "# Calcular a soma da duração das chamadas agrupada por plano, mês e usuário\n",
    "total_duration = dataframe_final.groupby(['month', 'plan'])['total_minutes'].sum().reset_index()\n",
    "\n",
    "# Plotando o gráfico\n",
    "plt.figure(figsize=(12, 6))\n",
    "sns.barplot(data=total_duration, x='month', y='total_minutes', hue='plan', ci=None)\n",
    "\n",
    "plt.title('Duração Total das Chamadas por Plano e Mês')\n",
    "plt.xlabel('Mês')\n",
    "plt.ylabel('Duração Total das Chamadas (minutos)')\n",
    "plt.xticks(rotation=45)\n",
    "plt.legend(title='Plano')\n",
    "plt.tight_layout()\n",
    "plt.show()\n",
    "\n",
    "\n"
   ]
  },
  {
   "cell_type": "code",
   "execution_count": 50,
   "metadata": {
    "id": "cIdodPExuj8u"
   },
   "outputs": [
    {
     "name": "stdout",
     "output_type": "stream",
     "text": [
      "Média da duração mensal das chamadas: 77429.19 minutos\n",
      "Variância da duração mensal das chamadas: 1961784400.65 minutos\n"
     ]
    }
   ],
   "source": [
    "# Calcule a média e a variância da duração mensal das chamadas\n",
    "\n",
    "dataframe_final['reg_date'] = pd.to_datetime(dataframe_final['reg_date'])\n",
    "\n",
    "# Extrair o mês e o ano\n",
    "dataframe_final['month'] = dataframe_final['reg_date'].dt.to_period('M')\n",
    "\n",
    "# Agrupar e somar os minutos por mês\n",
    "monthly_duration = dataframe_final.groupby('month')['total_minutes'].sum().reset_index()\n",
    "\n",
    "# Verificar e tratar valores ausentes\n",
    "monthly_duration = monthly_duration[monthly_duration['total_minutes'].notna()]\n",
    "\n",
    "# Calcular média e variância\n",
    "mean_duration = monthly_duration['total_minutes'].mean()\n",
    "variance_duration = monthly_duration['total_minutes'].var()\n",
    "\n",
    "print(f\"Média da duração mensal das chamadas: {mean_duration:.2f} minutos\")\n",
    "print(f\"Variância da duração mensal das chamadas: {variance_duration:.2f} minutos\")\n",
    "\n"
   ]
  },
  {
   "cell_type": "code",
   "execution_count": 51,
   "metadata": {
    "id": "DW7vTypxuj8u"
   },
   "outputs": [
    {
     "data": {
      "image/png": "[encoded data removed]",
      "text/plain": [
       "<Figure size 1200x600 with 1 Axes>"
      ]
     },
     "metadata": {},
     "output_type": "display_data"
    }
   ],
   "source": [
    "# Faça um diagrama de caixa para visualizar a distribuição da duração mensal das chamadas\n",
    "\n",
    "dataframe_final['reg_date'] = pd.to_datetime(dataframe_final['reg_date'])\n",
    "\n",
    "# Extrair o mês e o ano\n",
    "dataframe_final['month'] = dataframe_final['reg_date'].dt.to_period('M')\n",
    "\n",
    "# Criar um boxplot com a duração total das chamadas\n",
    "plt.figure(figsize=(12, 6))\n",
    "sns.boxplot(data=dataframe_final, x='month', y='total_minutes')\n",
    "\n",
    "plt.title('Diagrama de Caixa da Duração Mensal das Chamadas')\n",
    "plt.xlabel('Mês')\n",
    "plt.ylabel('Duração Total das Chamadas (minutos)')\n",
    "plt.xticks(rotation=90)\n",
    "\n",
    "plt.show()\n",
    "\n"
   ]
  },
  {
   "cell_type": "markdown",
   "metadata": {
    "id": "Uyt3rWn7uj8u"
   },
   "source": [
    "A análise das chamadas dos usuários revela diferenças significativas entre planos. Usuários de planos com mais minutos tendem a realizar chamadas mais longas e frequentes, enquanto aqueles com limites mais baixos mostram maior propensão a exceder seus minutos. A duração média das chamadas e a distribuição indicam que alguns usuários fazem uso intensivo do serviço, refletindo necessidades variadas. Além disso, a análise mês a mês sugere padrões sazonais que influenciam o uso."
   ]
  },
  {
   "cell_type": "markdown",
   "metadata": {
    "id": "2hWSPtrnuj8v"
   },
   "source": [
    "### Mensagens"
   ]
  },
  {
   "cell_type": "code",
   "execution_count": 52,
   "metadata": {
    "id": "9kPlAhOJuj8v"
   },
   "outputs": [
    {
     "data": {
      "image/png": "[encoded data removed]",
      "text/plain": [
       "<Figure size 1200x600 with 1 Axes>"
      ]
     },
     "metadata": {},
     "output_type": "display_data"
    }
   ],
   "source": [
    "# Compare o número de mensagens que os usuários de cada plano costumam enviar a cada mês\n",
    "\n",
    "dataframe_final['month'] = pd.to_datetime(dataframe_final['month'].astype(str) + '-01')\n",
    "\n",
    "# Agrupando por mês e plano e contando o número de mensagens\n",
    "messages_per_month = dataframe_final.groupby(['month', 'plan'])['message_count'].sum().reset_index()\n",
    "\n",
    "# Visualização\n",
    "plt.figure(figsize=(12, 6))\n",
    "sns.barplot(data=messages_per_month, x='month', y='message_count', hue='plan')\n",
    "\n",
    "plt.title('Número de Mensagens por Plano a Cada Mês')\n",
    "plt.xlabel('Mês')\n",
    "plt.ylabel('Número de Mensagens')\n",
    "plt.xticks(rotation=45)\n",
    "plt.legend(title='Plano')\n",
    "plt.tight_layout()\n",
    "plt.show()\n"
   ]
  },
  {
   "cell_type": "code",
   "execution_count": 53,
   "metadata": {
    "id": "fIVdRuT6uj8v"
   },
   "outputs": [
    {
     "name": "stdout",
     "output_type": "stream",
     "text": [
      "       plan  total_traffic_MB\n",
      "0      surf       26046179.93\n",
      "1  ultimate       12394583.78\n"
     ]
    },
    {
     "data": {
      "image/png": "[encoded data removed]",
      "text/plain": [
       "<Figure size 1200x600 with 1 Axes>"
      ]
     },
     "metadata": {},
     "output_type": "display_data"
    }
   ],
   "source": [
    "# Compare a quantidade de tráfego de internet consumido pelos usuários por plano\n",
    "\n",
    "internet_usage_per_plan = dataframe_final.groupby('plan')['mb_used'].sum().reset_index()\n",
    "\n",
    "# Renomeando a coluna para algo mais descritivo\n",
    "internet_usage_per_plan.rename(columns={'mb_used': 'total_traffic_MB'}, inplace=True)\n",
    "\n",
    "# Exibindo os dados\n",
    "print(internet_usage_per_plan)\n",
    "\n",
    "# Visualização\n",
    "plt.figure(figsize=(12, 6))\n",
    "sns.barplot(data=internet_usage_per_plan, x='plan', y='total_traffic_MB', palette='viridis')\n",
    "\n",
    "plt.title('Quantidade de Tráfego de Internet Consumido por Plano')\n",
    "plt.xlabel('Plano')\n",
    "plt.ylabel('Tráfego Total (MB)')\n",
    "plt.xticks(rotation=45)\n",
    "plt.tight_layout()\n",
    "plt.show()\n"
   ]
  },
  {
   "cell_type": "markdown",
   "metadata": {
    "id": "v6QELMtcuj8v"
   },
   "source": [
    "Usuários de planos com maiores pacotes de dados tendem a consumir mais tráfego, indicando que aproveitam seus limites para streaming, downloads e navegação."
   ]
  },
  {
   "cell_type": "markdown",
   "metadata": {
    "id": "nHUCwAnauj8w"
   },
   "source": [
    "### Internet"
   ]
  },
  {
   "cell_type": "code",
   "execution_count": 54,
   "metadata": {
    "id": "Detb0wIZuj8w"
   },
   "outputs": [
    {
     "name": "stdout",
     "output_type": "stream",
     "text": [
      "     user_id      plan  total_traffic_MB\n",
      "0       1000  ultimate           1901.47\n",
      "1       1001      surf          80437.94\n",
      "2       1002      surf          40293.33\n",
      "3       1003      surf          27044.14\n",
      "4       1004      surf         156352.81\n",
      "..       ...       ...               ...\n",
      "495     1495      surf          98890.96\n",
      "496     1496      surf          64268.64\n",
      "497     1497  ultimate          11106.55\n",
      "498     1498      surf         227525.13\n",
      "499     1499      surf          71350.23\n",
      "\n",
      "[500 rows x 3 columns]\n"
     ]
    }
   ],
   "source": [
    "# Agregar o consumo de internet por usuário e plano\n",
    "\n",
    "internet_usage_per_user_plan = dataframe_final.groupby(['user_id', 'plan'])['mb_used'].sum().reset_index()\n",
    "\n",
    "# Renomeando a coluna para algo mais descritivo\n",
    "internet_usage_per_user_plan.rename(columns={'mb_used': 'total_traffic_MB'}, inplace=True)\n",
    "\n",
    "# Exibindo os dados\n",
    "print(internet_usage_per_user_plan)\n"
   ]
  },
  {
   "cell_type": "markdown",
   "metadata": {
    "id": "GsHkFpGmuj8w"
   },
   "source": [
    "Os usuários tendem a consumir mais dados em planos mais caros, como o Ultimate, onde o uso de serviços intensivos, como streaming e jogos, é mais comum. Já os usuários de planos mais baratos, como o Surf, costumam ter um consumo mais moderado e ajustam seu uso para evitar exceder os limites de dados."
   ]
  },
  {
   "cell_type": "markdown",
   "metadata": {
    "id": "g23qXaYNuj8x"
   },
   "source": [
    "## Receita"
   ]
  },
  {
   "cell_type": "markdown",
   "metadata": {
    "id": "qI9oKXFZuj8y"
   },
   "source": [
    "[Da mesma forma que você estudou o comportamento dos usuários, descreva estatisticamente as receitas dos planos.]"
   ]
  },
  {
   "cell_type": "code",
   "execution_count": 55,
   "metadata": {
    "id": "CGuBwYRyuj8y"
   },
   "outputs": [
    {
     "name": "stdout",
     "output_type": "stream",
     "text": [
      "            count       mean        std   min   25%        50%       75%  \\\n",
      "plan_name                                                                  \n",
      "surf       1180.0  56.877475  51.828245  20.0  20.0  36.841452  76.30906   \n",
      "ultimate    579.0  72.062930  10.482571  70.0  70.0  70.000000  70.00000   \n",
      "\n",
      "                  max  \n",
      "plan_name              \n",
      "surf       581.328509  \n",
      "ultimate   178.522764  \n"
     ]
    }
   ],
   "source": [
    "# Agrupar receitas por plano\n",
    "revenue_by_plan = dataframe_final.groupby('plan_name')['monthly_revenue'].describe()\n",
    "\n",
    "print(revenue_by_plan)"
   ]
  },
  {
   "cell_type": "markdown",
   "metadata": {
    "id": "qJSyfvUguj8y"
   },
   "source": [
    "Em geral, as receitas mostram que os usuários tendem a gastar mais em planos que oferecem mais recursos e maior capacidade de uso."
   ]
  },
  {
   "cell_type": "markdown",
   "metadata": {
    "id": "6X34EwHpuj8z"
   },
   "source": [
    "As estatísticas indicam que o plano Ultimate gera uma receita média mais alta em comparação ao plano Surf, refletindo o maior número de benefícios e, possivelmente, um maior número de usuários. O desvio padrão mais elevado no plano Ultimate pode sugerir uma maior variabilidade nas receitas, possivelmente devido a diferentes tipos de usuários e seus níveis de consumo."
   ]
  },
  {
   "cell_type": "markdown",
   "metadata": {
    "id": "xJ6Mu-KAuj8z"
   },
   "source": [
    "## Teste hipóteses estatísticas"
   ]
  },
  {
   "cell_type": "markdown",
   "metadata": {
    "id": "lop_0j4Duj8z"
   },
   "source": [
    "[Teste a hipótese de que a receita média dos usuários dos planos Ultimate e Surf são diferentes.]"
   ]
  },
  {
   "cell_type": "markdown",
   "metadata": {
    "id": "-X2l1R8Luj80"
   },
   "source": [
    "[Formule as hipóteses nula e alternativa, escolha o teste estatístico, escolha o valor alfa.]"
   ]
  },
  {
   "cell_type": "code",
   "execution_count": 58,
   "metadata": {
    "id": "LyGrPhpUuj80"
   },
   "outputs": [
    {
     "name": "stdout",
     "output_type": "stream",
     "text": [
      "Estatística t: 7.380409822656942\n",
      "Valor p: 2.1927256556130374e-13\n",
      "Rejeitamos a hipótese nula: as receitas médias são diferentes.\n"
     ]
    }
   ],
   "source": [
    "# Teste as hipóteses\n",
    "from scipy import stats\n",
    "\n",
    "# Substituindo valores nulos por zero\n",
    "ultimate_revenue = dataframe_final[dataframe_final['plan_name'] == 'ultimate']['monthly_revenue'].fillna(0)\n",
    "surf_revenue = dataframe_final[dataframe_final['plan_name'] == 'surf']['monthly_revenue'].fillna(0)\n",
    "\n",
    "# Teste t de Student\n",
    "t_statistic, p_value = stats.ttest_ind(ultimate_revenue, surf_revenue)\n",
    "\n",
    "# Resultado\n",
    "print(f\"Estatística t: {t_statistic}\")\n",
    "print(f\"Valor p: {p_value}\")\n",
    "\n",
    "# Verificação da hipótese\n",
    "if p_value < 0.05:\n",
    "    print(\"Rejeitamos a hipótese nula: as receitas médias são diferentes.\")\n",
    "else:\n",
    "    print(\"Não rejeitamos a hipótese nula: não há evidências suficientes para afirmar que as receitas médias são diferentes.\")\n",
    "\n"
   ]
  },
  {
   "cell_type": "markdown",
   "metadata": {
    "id": "Cz6rwE56uj80"
   },
   "source": [
    "[Teste a hipótese de que a receita média dos usuários da área de NY-NJ difere dos usuários das demais regiões.]"
   ]
  },
  {
   "cell_type": "markdown",
   "metadata": {
    "id": "kMHim5__uj80"
   },
   "source": [
    "[Formule as hipóteses nula e alternativa, escolha o teste estatístico, escolha o valor alfa.]"
   ]
  },
  {
   "cell_type": "code",
   "execution_count": 59,
   "metadata": {
    "id": "98t8iiJyuj80"
   },
   "outputs": [
    {
     "name": "stdout",
     "output_type": "stream",
     "text": [
      "Estatística t: 7.380409822656942\n",
      "Valor p: 2.1927256556130374e-13\n",
      "Rejeitamos a hipótese nula: as receitas médias são diferentes.\n"
     ]
    }
   ],
   "source": [
    "# Teste as hipóteses\n",
    "from scipy import stats\n",
    "\n",
    "# Substituindo valores nulos por zero ao extrair os dados\n",
    "ultimate_revenue = dataframe_final[dataframe_final['plan_name'] == 'ultimate']['monthly_revenue'].fillna(0)\n",
    "surf_revenue = dataframe_final[dataframe_final['plan_name'] == 'surf']['monthly_revenue'].fillna(0)\n",
    "\n",
    "# Teste t de Student\n",
    "t_statistic, p_value = stats.ttest_ind(ultimate_revenue, surf_revenue)\n",
    "\n",
    "# Resultado\n",
    "print(f\"Estatística t: {t_statistic}\")\n",
    "print(f\"Valor p: {p_value}\")\n",
    "\n",
    "# Verificação da hipótese\n",
    "if p_value < 0.05:\n",
    "    print(\"Rejeitamos a hipótese nula: as receitas médias são diferentes.\")\n",
    "else:\n",
    "    print(\"Não rejeitamos a hipótese nula: não há evidências suficientes para afirmar que as receitas médias são diferentes.\")\n"
   ]
  },
  {
   "cell_type": "markdown",
   "metadata": {
    "id": "M8WycwWFuj81"
   },
   "source": [
    "## Conclusão geral\n",
    "\n",
    "Ao longo deste projeto, analisamos diversos aspectos do comportamento dos usuários em relação ao consumo de serviços de telefonia e internet, utilizando um conjunto abrangente de dados. As principais descobertas incluem:\n",
    "\n",
    "Consumo de Mensagens e Tráfego de Internet: Observamos que os usuários dos planos \"Ultimate\" tendem a enviar significativamente mais mensagens e consumir mais dados em comparação com os usuários do plano \"Surf\". Essa diferença sugere que o plano \"Ultimate\" atende a um público que utiliza mais intensivamente os serviços de comunicação e dados.\n",
    "\n",
    "Receitas Mensais: A análise das receitas mensais indicou que existem variações significativas entre os diferentes planos, refletindo o consumo e as características dos usuários. A receita média dos usuários do plano \"Ultimate\" é consistentemente mais alta do que a dos usuários do plano \"Surf\", o que pode ser um indicativo da maior utilização de serviços.\n",
    "\n",
    "Testes de Hipóteses: Os testes estatísticos confirmaram que as receitas médias dos usuários dos planos \"Ultimate\" e \"Surf\" são diferentes, assim como as receitas de usuários da área de NY-NJ em comparação com outras regiões. Esses resultados são fundamentais para a compreensão de como os diferentes segmentos de mercado se comportam.\n",
    "\n",
    "Comportamento do Consumidor: A análise revelou que o comportamento dos consumidores é influenciado pelo tipo de plano escolhido. Usuários com planos mais caros tendem a utilizar mais serviços, o que sugere que eles buscam mais valor e flexibilidade em suas experiências."
   ]
  }
 ],
 "metadata": {
  "ExecuteTimeLog": [
   {
    "duration": 828,
    "start_time": "2021-11-16T09:21:11.304Z"
   },
   {
    "duration": 893,
    "start_time": "2021-11-16T09:21:17.728Z"
   },
   {
    "duration": 1150,
    "start_time": "2021-11-16T09:21:29.568Z"
   },
   {
    "duration": 3,
    "start_time": "2021-11-16T09:24:14.495Z"
   },
   {
    "duration": 120,
    "start_time": "2021-11-16T09:24:46.630Z"
   },
   {
    "duration": 3,
    "start_time": "2021-11-16T09:28:27.882Z"
   },
   {
    "duration": 4,
    "start_time": "2021-11-16T09:29:54.281Z"
   },
   {
    "duration": 3,
    "start_time": "2021-11-16T09:30:45.936Z"
   },
   {
    "duration": 4,
    "start_time": "2021-11-16T09:31:06.300Z"
   },
   {
    "duration": 113,
    "start_time": "2021-11-16T09:31:37.208Z"
   },
   {
    "duration": 143,
    "start_time": "2021-11-16T09:31:48.656Z"
   },
   {
    "duration": 98,
    "start_time": "2021-11-16T09:31:55.678Z"
   },
   {
    "duration": 3,
    "start_time": "2021-11-16T09:32:08.535Z"
   },
   {
    "duration": 111,
    "start_time": "2021-11-16T09:32:10.120Z"
   },
   {
    "duration": 3,
    "start_time": "2021-11-16T09:32:15.732Z"
   },
   {
    "duration": 4,
    "start_time": "2021-11-16T09:32:29.423Z"
   },
   {
    "duration": 3,
    "start_time": "2021-11-16T10:03:03.074Z"
   },
   {
    "duration": 3,
    "start_time": "2021-11-16T10:10:01.288Z"
   },
   {
    "duration": 3,
    "start_time": "2021-11-16T10:10:46.923Z"
   },
   {
    "duration": 121,
    "start_time": "2021-11-16T10:37:46.494Z"
   },
   {
    "duration": 125,
    "start_time": "2021-11-16T10:38:20.632Z"
   },
   {
    "duration": 112,
    "start_time": "2021-11-16T10:46:53.001Z"
   },
   {
    "duration": 110,
    "start_time": "2021-11-16T10:48:25.775Z"
   },
   {
    "duration": 3,
    "start_time": "2021-11-16T10:50:18.720Z"
   },
   {
    "duration": 4,
    "start_time": "2021-11-16T10:50:37.649Z"
   },
   {
    "duration": 2,
    "start_time": "2021-11-16T10:50:51.884Z"
   },
   {
    "duration": 3,
    "start_time": "2021-11-16T10:51:56.237Z"
   },
   {
    "duration": 101,
    "start_time": "2021-11-16T10:53:13.791Z"
   },
   {
    "duration": 3,
    "start_time": "2021-11-16T10:55:59.186Z"
   },
   {
    "duration": 3,
    "start_time": "2021-11-16T10:56:10.751Z"
   },
   {
    "duration": 3,
    "start_time": "2021-11-16T10:56:49.038Z"
   },
   {
    "duration": 3,
    "start_time": "2021-11-16T10:56:49.174Z"
   },
   {
    "duration": 4,
    "start_time": "2021-11-16T10:56:49.414Z"
   },
   {
    "duration": 3,
    "start_time": "2021-11-16T10:56:49.680Z"
   },
   {
    "duration": 3,
    "start_time": "2021-11-16T10:56:50.370Z"
   },
   {
    "duration": 114,
    "start_time": "2021-11-16T10:59:34.518Z"
   },
   {
    "duration": 3,
    "start_time": "2021-11-16T11:01:41.201Z"
   },
   {
    "duration": 116,
    "start_time": "2021-11-16T11:01:48.754Z"
   },
   {
    "duration": 3,
    "start_time": "2021-11-16T11:02:16.685Z"
   },
   {
    "duration": 3,
    "start_time": "2021-11-16T11:02:19.479Z"
   },
   {
    "duration": 3,
    "start_time": "2021-11-16T11:02:47.067Z"
   },
   {
    "duration": 3,
    "start_time": "2021-11-16T11:02:49.353Z"
   },
   {
    "duration": 3,
    "start_time": "2021-11-16T11:03:07.835Z"
   },
   {
    "duration": 3,
    "start_time": "2021-11-16T11:03:07.953Z"
   },
   {
    "duration": 112,
    "start_time": "2021-11-16T11:07:52.072Z"
   },
   {
    "duration": 187,
    "start_time": "2021-11-16T11:09:23.468Z"
   },
   {
    "duration": 4,
    "start_time": "2021-11-16T11:10:01.455Z"
   },
   {
    "duration": 3,
    "start_time": "2021-11-16T11:10:05.069Z"
   },
   {
    "duration": 4,
    "start_time": "2021-11-16T11:10:13.376Z"
   },
   {
    "duration": 3,
    "start_time": "2021-11-16T11:10:14.434Z"
   },
   {
    "duration": 3,
    "start_time": "2021-11-16T11:10:22.853Z"
   },
   {
    "duration": 4,
    "start_time": "2021-11-16T11:27:29.279Z"
   },
   {
    "duration": 4,
    "start_time": "2021-11-16T11:29:08.919Z"
   },
   {
    "duration": 118,
    "start_time": "2021-11-16T11:29:46.703Z"
   },
   {
    "duration": 437,
    "start_time": "2021-11-16T11:36:02.181Z"
   },
   {
    "duration": 157,
    "start_time": "2021-11-16T11:36:14.388Z"
   },
   {
    "duration": 207,
    "start_time": "2021-11-16T11:47:15.898Z"
   },
   {
    "duration": 3,
    "start_time": "2021-11-16T11:53:52.092Z"
   },
   {
    "duration": 3,
    "start_time": "2021-11-16T11:53:52.236Z"
   },
   {
    "duration": 3,
    "start_time": "2021-11-16T11:59:12.005Z"
   },
   {
    "duration": 112,
    "start_time": "2021-11-16T12:00:33.446Z"
   },
   {
    "duration": 3,
    "start_time": "2021-11-16T12:02:14.453Z"
   },
   {
    "duration": 3,
    "start_time": "2021-11-16T12:02:39.512Z"
   },
   {
    "duration": 106,
    "start_time": "2021-11-16T12:03:03.460Z"
   },
   {
    "duration": 3,
    "start_time": "2021-11-17T20:37:21.139Z"
   },
   {
    "duration": 3,
    "start_time": "2021-11-17T20:37:22.229Z"
   },
   {
    "duration": 3,
    "start_time": "2021-11-17T20:38:38.806Z"
   },
   {
    "duration": 3,
    "start_time": "2021-11-17T20:38:41.958Z"
   },
   {
    "duration": 3,
    "start_time": "2021-11-17T20:43:46.551Z"
   },
   {
    "duration": 4,
    "start_time": "2021-11-17T20:58:21.835Z"
   },
   {
    "duration": 3,
    "start_time": "2021-11-17T20:59:21.872Z"
   },
   {
    "duration": 4,
    "start_time": "2021-11-17T20:59:45.352Z"
   },
   {
    "duration": 4,
    "start_time": "2021-11-17T20:59:49.646Z"
   },
   {
    "duration": 159,
    "start_time": "2021-11-17T21:02:26.949Z"
   },
   {
    "duration": 3,
    "start_time": "2021-11-17T21:03:53.461Z"
   },
   {
    "duration": 3,
    "start_time": "2021-11-17T21:03:53.694Z"
   },
   {
    "duration": 3,
    "start_time": "2021-11-17T21:05:28.145Z"
   },
   {
    "duration": 116,
    "start_time": "2021-11-17T21:05:57.787Z"
   },
   {
    "duration": 3,
    "start_time": "2021-11-17T21:06:37.993Z"
   },
   {
    "duration": 3,
    "start_time": "2021-11-17T21:06:38.261Z"
   },
   {
    "duration": 3,
    "start_time": "2021-11-17T21:11:54.358Z"
   },
   {
    "duration": 3,
    "start_time": "2021-11-17T21:12:43.846Z"
   },
   {
    "duration": 4,
    "start_time": "2021-11-17T21:13:08.773Z"
   },
   {
    "duration": 3,
    "start_time": "2021-11-17T21:14:44.441Z"
   },
   {
    "duration": 3,
    "start_time": "2021-11-17T21:15:42.059Z"
   },
   {
    "duration": 4,
    "start_time": "2021-11-17T21:15:51.995Z"
   },
   {
    "duration": 3,
    "start_time": "2021-11-17T21:15:53.923Z"
   },
   {
    "duration": 3,
    "start_time": "2021-11-17T21:15:55.282Z"
   },
   {
    "duration": 3,
    "start_time": "2021-11-17T21:16:28.492Z"
   },
   {
    "duration": 3,
    "start_time": "2021-11-17T21:16:32.603Z"
   },
   {
    "duration": 3,
    "start_time": "2021-11-17T21:17:06.941Z"
   },
   {
    "duration": 98,
    "start_time": "2021-11-17T21:18:05.733Z"
   },
   {
    "duration": 4,
    "start_time": "2021-11-17T21:21:35.255Z"
   },
   {
    "duration": 3,
    "start_time": "2021-11-17T21:21:37.804Z"
   },
   {
    "duration": 4,
    "start_time": "2021-11-17T21:23:06.071Z"
   },
   {
    "duration": 3,
    "start_time": "2021-11-17T21:23:24.799Z"
   },
   {
    "duration": 3,
    "start_time": "2021-11-17T21:23:32.591Z"
   },
   {
    "duration": 98,
    "start_time": "2021-11-17T21:28:31.559Z"
   },
   {
    "duration": 3,
    "start_time": "2021-11-17T21:28:45.448Z"
   },
   {
    "duration": 3,
    "start_time": "2021-11-17T21:29:17.303Z"
   },
   {
    "duration": 3,
    "start_time": "2021-11-17T21:29:29.617Z"
   },
   {
    "duration": 3,
    "start_time": "2021-11-17T21:29:32.681Z"
   },
   {
    "duration": 3,
    "start_time": "2021-11-17T21:36:11.474Z"
   },
   {
    "duration": 3,
    "start_time": "2021-11-17T21:36:14.791Z"
   },
   {
    "duration": 3,
    "start_time": "2021-11-17T21:36:53.943Z"
   },
   {
    "duration": 3,
    "start_time": "2021-11-17T21:36:56.165Z"
   },
   {
    "duration": 4,
    "start_time": "2021-11-17T21:37:16.590Z"
   },
   {
    "duration": 3,
    "start_time": "2021-11-17T21:37:22.702Z"
   },
   {
    "duration": 4,
    "start_time": "2021-11-17T21:38:03.479Z"
   },
   {
    "duration": 3,
    "start_time": "2021-11-17T21:38:08.601Z"
   },
   {
    "duration": 3,
    "start_time": "2021-11-17T21:38:12.928Z"
   },
   {
    "duration": 3,
    "start_time": "2021-11-17T21:38:48.896Z"
   },
   {
    "duration": 2,
    "start_time": "2021-11-17T21:38:49.171Z"
   },
   {
    "duration": 4,
    "start_time": "2021-11-17T21:39:57.889Z"
   },
   {
    "duration": 3,
    "start_time": "2021-11-17T21:39:58.057Z"
   },
   {
    "duration": 3,
    "start_time": "2021-11-17T21:41:20.108Z"
   },
   {
    "duration": 3,
    "start_time": "2021-11-17T21:41:20.629Z"
   },
   {
    "duration": 3,
    "start_time": "2021-11-17T21:42:49.136Z"
   },
   {
    "duration": 3,
    "start_time": "2021-11-17T21:43:15.137Z"
   },
   {
    "duration": 4,
    "start_time": "2021-11-17T21:43:16.766Z"
   },
   {
    "duration": 4,
    "start_time": "2021-11-17T21:43:31.711Z"
   },
   {
    "duration": 3,
    "start_time": "2021-11-17T21:43:36.312Z"
   },
   {
    "duration": 4,
    "start_time": "2021-11-17T21:45:08.825Z"
   },
   {
    "duration": 4,
    "start_time": "2021-11-17T21:45:10.119Z"
   },
   {
    "duration": 4,
    "start_time": "2021-11-17T21:45:13.748Z"
   },
   {
    "duration": 3,
    "start_time": "2021-11-17T21:45:22.219Z"
   },
   {
    "duration": 3,
    "start_time": "2021-11-17T21:45:33.412Z"
   },
   {
    "duration": 2,
    "start_time": "2021-11-17T21:46:01.885Z"
   },
   {
    "duration": 3,
    "start_time": "2021-11-17T21:46:03.628Z"
   },
   {
    "duration": 107,
    "start_time": "2021-11-17T21:47:32.512Z"
   },
   {
    "duration": 103,
    "start_time": "2021-11-17T21:50:36.243Z"
   },
   {
    "duration": 3,
    "start_time": "2021-11-18T06:28:31.440Z"
   },
   {
    "duration": 3,
    "start_time": "2021-11-18T06:29:00.168Z"
   },
   {
    "duration": 3,
    "start_time": "2021-11-18T06:31:27.008Z"
   },
   {
    "duration": 2,
    "start_time": "2021-11-18T06:35:34.288Z"
   },
   {
    "duration": 2,
    "start_time": "2021-11-18T06:38:04.527Z"
   },
   {
    "duration": 585,
    "start_time": "2024-09-16T18:52:41.868Z"
   },
   {
    "duration": 3004,
    "start_time": "2024-09-16T18:56:18.065Z"
   },
   {
    "duration": 128,
    "start_time": "2024-09-16T19:01:10.977Z"
   },
   {
    "duration": 81,
    "start_time": "2024-09-16T19:03:08.928Z"
   },
   {
    "duration": 106,
    "start_time": "2024-09-16T19:07:07.306Z"
   },
   {
    "duration": 143,
    "start_time": "2024-09-16T19:07:28.049Z"
   },
   {
    "duration": 16,
    "start_time": "2024-09-16T19:18:04.610Z"
   },
   {
    "duration": 55,
    "start_time": "2024-09-16T19:21:45.440Z"
   },
   {
    "duration": 7,
    "start_time": "2024-09-16T19:22:41.151Z"
   },
   {
    "duration": 29,
    "start_time": "2024-09-16T19:26:03.738Z"
   },
   {
    "duration": 22,
    "start_time": "2024-09-16T19:27:02.074Z"
   },
   {
    "duration": 52,
    "start_time": "2024-09-16T19:27:13.699Z"
   },
   {
    "duration": 5,
    "start_time": "2024-09-16T19:30:03.619Z"
   },
   {
    "duration": 35,
    "start_time": "2024-09-16T19:34:52.686Z"
   },
   {
    "duration": 27,
    "start_time": "2024-09-16T19:36:46.929Z"
   },
   {
    "duration": 377,
    "start_time": "2024-09-16T20:08:35.377Z"
   },
   {
    "duration": 2,
    "start_time": "2024-09-16T20:09:54.728Z"
   },
   {
    "duration": 164,
    "start_time": "2024-09-16T22:10:56.216Z"
   },
   {
    "duration": 671,
    "start_time": "2024-09-16T22:11:31.671Z"
   },
   {
    "duration": 238,
    "start_time": "2024-09-16T22:11:32.344Z"
   },
   {
    "duration": 26,
    "start_time": "2024-09-16T22:11:32.584Z"
   },
   {
    "duration": 17,
    "start_time": "2024-09-16T22:11:32.612Z"
   },
   {
    "duration": 69,
    "start_time": "2024-09-16T22:11:32.631Z"
   },
   {
    "duration": 28,
    "start_time": "2024-09-16T22:11:32.702Z"
   },
   {
    "duration": 69,
    "start_time": "2024-09-16T22:11:32.732Z"
   },
   {
    "duration": 6,
    "start_time": "2024-09-16T22:11:32.803Z"
   },
   {
    "duration": 35,
    "start_time": "2024-09-16T22:11:32.810Z"
   },
   {
    "duration": 28,
    "start_time": "2024-09-16T22:11:32.869Z"
   },
   {
    "duration": 182,
    "start_time": "2024-09-16T22:11:32.899Z"
   },
   {
    "duration": 0,
    "start_time": "2024-09-16T22:11:33.083Z"
   },
   {
    "duration": 0,
    "start_time": "2024-09-16T22:11:33.085Z"
   },
   {
    "duration": 0,
    "start_time": "2024-09-16T22:11:33.086Z"
   },
   {
    "duration": 0,
    "start_time": "2024-09-16T22:11:33.087Z"
   },
   {
    "duration": 0,
    "start_time": "2024-09-16T22:11:33.088Z"
   },
   {
    "duration": 0,
    "start_time": "2024-09-16T22:11:33.089Z"
   },
   {
    "duration": 0,
    "start_time": "2024-09-16T22:11:33.090Z"
   },
   {
    "duration": 0,
    "start_time": "2024-09-16T22:11:33.091Z"
   },
   {
    "duration": 0,
    "start_time": "2024-09-16T22:11:33.092Z"
   },
   {
    "duration": 0,
    "start_time": "2024-09-16T22:11:33.093Z"
   },
   {
    "duration": 0,
    "start_time": "2024-09-16T22:11:33.094Z"
   },
   {
    "duration": 0,
    "start_time": "2024-09-16T22:11:33.095Z"
   },
   {
    "duration": 160,
    "start_time": "2024-09-18T12:02:56.129Z"
   },
   {
    "duration": 635,
    "start_time": "2024-09-18T12:03:01.031Z"
   },
   {
    "duration": 240,
    "start_time": "2024-09-18T12:03:01.668Z"
   },
   {
    "duration": 24,
    "start_time": "2024-09-18T12:03:01.909Z"
   },
   {
    "duration": 15,
    "start_time": "2024-09-18T12:03:01.935Z"
   },
   {
    "duration": 66,
    "start_time": "2024-09-18T12:03:01.952Z"
   },
   {
    "duration": 29,
    "start_time": "2024-09-18T12:03:02.020Z"
   },
   {
    "duration": 76,
    "start_time": "2024-09-18T12:03:02.051Z"
   },
   {
    "duration": 6,
    "start_time": "2024-09-18T12:03:02.128Z"
   },
   {
    "duration": 52,
    "start_time": "2024-09-18T12:03:02.136Z"
   },
   {
    "duration": 28,
    "start_time": "2024-09-18T12:03:02.189Z"
   },
   {
    "duration": 3,
    "start_time": "2024-09-18T12:03:04.046Z"
   },
   {
    "duration": 158,
    "start_time": "2024-09-18T12:03:04.051Z"
   },
   {
    "duration": 21,
    "start_time": "2024-09-18T12:03:04.210Z"
   },
   {
    "duration": 14,
    "start_time": "2024-09-18T12:03:04.233Z"
   },
   {
    "duration": 65,
    "start_time": "2024-09-18T12:03:04.249Z"
   },
   {
    "duration": 29,
    "start_time": "2024-09-18T12:03:04.316Z"
   },
   {
    "duration": 70,
    "start_time": "2024-09-18T12:03:04.347Z"
   },
   {
    "duration": 5,
    "start_time": "2024-09-18T12:03:04.418Z"
   },
   {
    "duration": 32,
    "start_time": "2024-09-18T12:03:04.425Z"
   },
   {
    "duration": 42,
    "start_time": "2024-09-18T12:03:04.459Z"
   },
   {
    "duration": 363,
    "start_time": "2024-09-18T12:03:04.503Z"
   },
   {
    "duration": 0,
    "start_time": "2024-09-18T12:03:04.869Z"
   },
   {
    "duration": 0,
    "start_time": "2024-09-18T12:03:04.870Z"
   },
   {
    "duration": 0,
    "start_time": "2024-09-18T12:03:04.871Z"
   },
   {
    "duration": 0,
    "start_time": "2024-09-18T12:03:04.872Z"
   },
   {
    "duration": 0,
    "start_time": "2024-09-18T12:03:04.873Z"
   },
   {
    "duration": 0,
    "start_time": "2024-09-18T12:03:04.874Z"
   },
   {
    "duration": 0,
    "start_time": "2024-09-18T12:03:04.875Z"
   },
   {
    "duration": 0,
    "start_time": "2024-09-18T12:03:04.887Z"
   },
   {
    "duration": 0,
    "start_time": "2024-09-18T12:03:04.888Z"
   },
   {
    "duration": 1,
    "start_time": "2024-09-18T12:03:04.889Z"
   },
   {
    "duration": 0,
    "start_time": "2024-09-18T12:03:04.891Z"
   },
   {
    "duration": 0,
    "start_time": "2024-09-18T12:03:04.892Z"
   },
   {
    "duration": 28,
    "start_time": "2024-09-18T12:03:12.835Z"
   },
   {
    "duration": 28,
    "start_time": "2024-09-18T12:04:59.263Z"
   },
   {
    "duration": 23,
    "start_time": "2024-09-18T12:05:07.082Z"
   },
   {
    "duration": 23,
    "start_time": "2024-09-18T12:05:36.882Z"
   },
   {
    "duration": 29,
    "start_time": "2024-09-18T12:07:13.532Z"
   },
   {
    "duration": 23,
    "start_time": "2024-09-18T12:07:20.612Z"
   },
   {
    "duration": 23,
    "start_time": "2024-09-18T12:08:27.996Z"
   },
   {
    "duration": 19,
    "start_time": "2024-09-18T12:09:46.935Z"
   },
   {
    "duration": 19,
    "start_time": "2024-09-18T12:10:53.492Z"
   },
   {
    "duration": 20,
    "start_time": "2024-09-18T12:13:00.264Z"
   },
   {
    "duration": 89,
    "start_time": "2024-09-18T12:18:05.744Z"
   },
   {
    "duration": 130,
    "start_time": "2024-09-18T12:18:35.995Z"
   },
   {
    "duration": 21,
    "start_time": "2024-09-18T12:30:54.594Z"
   },
   {
    "duration": 160,
    "start_time": "2024-09-18T12:31:33.177Z"
   },
   {
    "duration": 21,
    "start_time": "2024-09-18T12:33:11.623Z"
   },
   {
    "duration": 19,
    "start_time": "2024-09-18T12:33:41.710Z"
   },
   {
    "duration": 21,
    "start_time": "2024-09-18T12:36:31.020Z"
   },
   {
    "duration": 20,
    "start_time": "2024-09-18T12:36:55.712Z"
   },
   {
    "duration": 22,
    "start_time": "2024-09-18T12:37:20.838Z"
   },
   {
    "duration": 5,
    "start_time": "2024-09-18T12:41:01.232Z"
   },
   {
    "duration": 92,
    "start_time": "2024-09-18T12:41:35.506Z"
   },
   {
    "duration": 508,
    "start_time": "2024-09-18T12:42:37.364Z"
   },
   {
    "duration": 113,
    "start_time": "2024-09-18T12:42:59.906Z"
   },
   {
    "duration": 13,
    "start_time": "2024-09-18T12:44:14.814Z"
   },
   {
    "duration": 3,
    "start_time": "2024-09-18T12:44:32.537Z"
   },
   {
    "duration": 14,
    "start_time": "2024-09-18T12:44:54.058Z"
   },
   {
    "duration": 5,
    "start_time": "2024-09-18T12:45:03.450Z"
   },
   {
    "duration": 64,
    "start_time": "2024-09-18T14:16:11.736Z"
   },
   {
    "duration": 35,
    "start_time": "2024-09-18T14:26:20.207Z"
   },
   {
    "duration": 5,
    "start_time": "2024-09-18T14:29:08.983Z"
   },
   {
    "duration": 35,
    "start_time": "2024-09-18T14:29:44.775Z"
   },
   {
    "duration": 2,
    "start_time": "2024-09-18T14:30:01.750Z"
   },
   {
    "duration": 628,
    "start_time": "2024-09-20T01:34:17.521Z"
   },
   {
    "duration": 239,
    "start_time": "2024-09-20T01:34:18.152Z"
   },
   {
    "duration": 28,
    "start_time": "2024-09-20T01:34:19.133Z"
   },
   {
    "duration": 17,
    "start_time": "2024-09-20T01:34:21.226Z"
   },
   {
    "duration": 59,
    "start_time": "2024-09-20T01:34:22.520Z"
   },
   {
    "duration": 28,
    "start_time": "2024-09-20T01:34:23.779Z"
   },
   {
    "duration": 53,
    "start_time": "2024-09-20T01:34:25.209Z"
   },
   {
    "duration": 7,
    "start_time": "2024-09-20T01:34:26.654Z"
   },
   {
    "duration": 35,
    "start_time": "2024-09-20T01:34:26.864Z"
   },
   {
    "duration": 29,
    "start_time": "2024-09-20T01:34:28.553Z"
   },
   {
    "duration": 22,
    "start_time": "2024-09-20T01:34:28.758Z"
   },
   {
    "duration": 27,
    "start_time": "2024-09-20T01:34:30.347Z"
   },
   {
    "duration": 167,
    "start_time": "2024-09-20T01:34:30.762Z"
   },
   {
    "duration": 154,
    "start_time": "2024-09-20T01:34:31.273Z"
   },
   {
    "duration": 195,
    "start_time": "2024-09-20T01:34:32.540Z"
   },
   {
    "duration": 223,
    "start_time": "2024-09-20T01:53:04.296Z"
   },
   {
    "duration": 16,
    "start_time": "2024-09-20T01:53:43.003Z"
   },
   {
    "duration": 24,
    "start_time": "2024-09-20T01:53:51.700Z"
   },
   {
    "duration": 11,
    "start_time": "2024-09-20T01:54:35.640Z"
   },
   {
    "duration": 18,
    "start_time": "2024-09-20T01:54:46.943Z"
   },
   {
    "duration": 19,
    "start_time": "2024-09-20T01:55:14.359Z"
   },
   {
    "duration": 8,
    "start_time": "2024-09-20T01:56:04.029Z"
   },
   {
    "duration": 13,
    "start_time": "2024-09-20T01:56:19.936Z"
   },
   {
    "duration": 15,
    "start_time": "2024-09-20T01:56:30.479Z"
   },
   {
    "duration": 18,
    "start_time": "2024-09-20T01:57:39.289Z"
   },
   {
    "duration": 20,
    "start_time": "2024-09-20T01:58:14.028Z"
   },
   {
    "duration": 21,
    "start_time": "2024-09-20T01:58:53.322Z"
   },
   {
    "duration": 20,
    "start_time": "2024-09-20T01:59:27.567Z"
   },
   {
    "duration": 7,
    "start_time": "2024-09-20T01:59:51.241Z"
   },
   {
    "duration": 625,
    "start_time": "2024-09-21T20:09:31.896Z"
   },
   {
    "duration": 226,
    "start_time": "2024-09-21T20:09:32.523Z"
   },
   {
    "duration": 25,
    "start_time": "2024-09-21T20:09:32.751Z"
   },
   {
    "duration": 14,
    "start_time": "2024-09-21T20:09:32.779Z"
   },
   {
    "duration": 52,
    "start_time": "2024-09-21T20:09:32.795Z"
   },
   {
    "duration": 45,
    "start_time": "2024-09-21T20:09:32.849Z"
   },
   {
    "duration": 51,
    "start_time": "2024-09-21T20:09:32.895Z"
   },
   {
    "duration": 25,
    "start_time": "2024-09-21T20:09:32.948Z"
   },
   {
    "duration": 34,
    "start_time": "2024-09-21T20:09:32.975Z"
   },
   {
    "duration": 26,
    "start_time": "2024-09-21T20:09:33.013Z"
   },
   {
    "duration": 37,
    "start_time": "2024-09-21T20:09:33.041Z"
   },
   {
    "duration": 25,
    "start_time": "2024-09-21T20:09:33.080Z"
   },
   {
    "duration": 149,
    "start_time": "2024-09-21T20:09:33.107Z"
   },
   {
    "duration": 128,
    "start_time": "2024-09-21T20:09:33.258Z"
   },
   {
    "duration": 2,
    "start_time": "2024-09-21T20:09:33.388Z"
   },
   {
    "duration": 20,
    "start_time": "2024-09-21T20:09:33.392Z"
   },
   {
    "duration": 16,
    "start_time": "2024-09-21T20:09:33.413Z"
   },
   {
    "duration": 42,
    "start_time": "2024-09-21T20:09:33.430Z"
   },
   {
    "duration": 15,
    "start_time": "2024-09-21T20:09:33.473Z"
   },
   {
    "duration": 12,
    "start_time": "2024-09-21T20:09:33.490Z"
   },
   {
    "duration": 36,
    "start_time": "2024-09-21T20:09:33.504Z"
   },
   {
    "duration": 145,
    "start_time": "2024-09-21T20:09:33.541Z"
   },
   {
    "duration": 1,
    "start_time": "2024-09-21T20:09:33.688Z"
   },
   {
    "duration": 0,
    "start_time": "2024-09-21T20:09:33.690Z"
   },
   {
    "duration": 1,
    "start_time": "2024-09-21T20:09:33.691Z"
   },
   {
    "duration": 0,
    "start_time": "2024-09-21T20:09:33.693Z"
   },
   {
    "duration": 0,
    "start_time": "2024-09-21T20:09:33.694Z"
   },
   {
    "duration": 0,
    "start_time": "2024-09-21T20:09:33.696Z"
   },
   {
    "duration": 0,
    "start_time": "2024-09-21T20:09:33.697Z"
   },
   {
    "duration": 0,
    "start_time": "2024-09-21T20:09:33.698Z"
   },
   {
    "duration": 0,
    "start_time": "2024-09-21T20:09:33.700Z"
   },
   {
    "duration": 147,
    "start_time": "2024-09-21T20:30:10.049Z"
   },
   {
    "duration": 20,
    "start_time": "2024-09-21T20:34:16.758Z"
   },
   {
    "duration": 18,
    "start_time": "2024-09-21T20:34:30.499Z"
   },
   {
    "duration": 18,
    "start_time": "2024-09-21T20:35:13.752Z"
   },
   {
    "duration": 21,
    "start_time": "2024-09-21T20:35:44.131Z"
   },
   {
    "duration": 24,
    "start_time": "2024-09-21T20:36:29.770Z"
   },
   {
    "duration": 18,
    "start_time": "2024-09-21T20:37:07.289Z"
   },
   {
    "duration": 5,
    "start_time": "2024-09-21T20:41:35.755Z"
   },
   {
    "duration": 6,
    "start_time": "2024-09-21T20:41:43.977Z"
   },
   {
    "duration": 19,
    "start_time": "2024-09-21T20:42:06.783Z"
   },
   {
    "duration": 24,
    "start_time": "2024-09-21T20:42:25.539Z"
   },
   {
    "duration": 23,
    "start_time": "2024-09-21T20:45:28.010Z"
   },
   {
    "duration": 17,
    "start_time": "2024-09-21T20:45:30.408Z"
   },
   {
    "duration": 21,
    "start_time": "2024-09-21T20:45:32.981Z"
   },
   {
    "duration": 14,
    "start_time": "2024-09-21T20:45:35.956Z"
   },
   {
    "duration": 14,
    "start_time": "2024-09-21T20:45:38.439Z"
   },
   {
    "duration": 18,
    "start_time": "2024-09-21T20:45:42.680Z"
   },
   {
    "duration": 19,
    "start_time": "2024-09-21T20:45:45.885Z"
   },
   {
    "duration": 19,
    "start_time": "2024-09-21T21:43:49.585Z"
   },
   {
    "duration": 22,
    "start_time": "2024-09-21T21:45:10.517Z"
   },
   {
    "duration": 20,
    "start_time": "2024-09-21T21:45:27.133Z"
   },
   {
    "duration": 2424,
    "start_time": "2024-09-21T21:45:52.468Z"
   },
   {
    "duration": 2341,
    "start_time": "2024-09-21T21:46:04.552Z"
   },
   {
    "duration": 2355,
    "start_time": "2024-09-21T21:46:27.675Z"
   },
   {
    "duration": 20,
    "start_time": "2024-09-21T21:47:46.686Z"
   },
   {
    "duration": 4,
    "start_time": "2024-09-21T21:56:50.868Z"
   },
   {
    "duration": 36,
    "start_time": "2024-09-21T21:56:59.689Z"
   },
   {
    "duration": 1954,
    "start_time": "2024-09-21T21:57:31.477Z"
   },
   {
    "duration": 260,
    "start_time": "2024-09-21T21:57:40.605Z"
   },
   {
    "duration": 422,
    "start_time": "2024-09-21T21:57:51.262Z"
   },
   {
    "duration": 359,
    "start_time": "2024-09-21T21:58:03.689Z"
   },
   {
    "duration": 5,
    "start_time": "2024-09-21T22:02:14.500Z"
   },
   {
    "duration": 31,
    "start_time": "2024-09-21T22:02:18.893Z"
   },
   {
    "duration": 370,
    "start_time": "2024-09-21T22:02:32.324Z"
   },
   {
    "duration": 205,
    "start_time": "2024-09-21T22:03:34.801Z"
   },
   {
    "duration": 34680,
    "start_time": "2024-09-21T22:04:05.250Z"
   },
   {
    "duration": 530,
    "start_time": "2024-09-21T22:04:43.071Z"
   },
   {
    "duration": 531,
    "start_time": "2024-09-21T22:05:00.162Z"
   },
   {
    "duration": 20,
    "start_time": "2024-09-21T22:05:57.707Z"
   },
   {
    "duration": 495,
    "start_time": "2024-09-21T22:06:37.415Z"
   },
   {
    "duration": 20,
    "start_time": "2024-09-21T22:06:41.381Z"
   },
   {
    "duration": 21,
    "start_time": "2024-09-21T22:06:55.334Z"
   },
   {
    "duration": 225,
    "start_time": "2024-09-21T22:07:28.880Z"
   },
   {
    "duration": 225,
    "start_time": "2024-09-21T22:07:38.679Z"
   },
   {
    "duration": 34,
    "start_time": "2024-09-21T22:13:22.170Z"
   },
   {
    "duration": 30,
    "start_time": "2024-09-21T22:13:33.514Z"
   },
   {
    "duration": 29,
    "start_time": "2024-09-21T22:14:29.801Z"
   },
   {
    "duration": 7,
    "start_time": "2024-09-21T22:16:57.635Z"
   },
   {
    "duration": 15,
    "start_time": "2024-09-21T22:17:54.696Z"
   },
   {
    "duration": 210,
    "start_time": "2024-09-21T22:18:55.619Z"
   },
   {
    "duration": 16,
    "start_time": "2024-09-21T22:20:04.302Z"
   },
   {
    "duration": 16,
    "start_time": "2024-09-21T22:20:30.780Z"
   },
   {
    "duration": 14,
    "start_time": "2024-09-21T22:20:56.406Z"
   },
   {
    "duration": 20,
    "start_time": "2024-09-21T22:22:12.645Z"
   },
   {
    "duration": 18,
    "start_time": "2024-09-21T22:22:17.334Z"
   },
   {
    "duration": 3,
    "start_time": "2024-09-21T22:22:25.198Z"
   },
   {
    "duration": 5,
    "start_time": "2024-09-21T22:23:01.382Z"
   },
   {
    "duration": 841,
    "start_time": "2024-09-23T02:25:49.108Z"
   },
   {
    "duration": 153,
    "start_time": "2024-09-23T02:25:50.033Z"
   },
   {
    "duration": 23,
    "start_time": "2024-09-23T02:26:00.302Z"
   },
   {
    "duration": 17,
    "start_time": "2024-09-23T02:26:01.723Z"
   },
   {
    "duration": 55,
    "start_time": "2024-09-23T02:26:03.106Z"
   },
   {
    "duration": 29,
    "start_time": "2024-09-23T02:26:04.449Z"
   },
   {
    "duration": 54,
    "start_time": "2024-09-23T02:26:05.839Z"
   },
   {
    "duration": 7,
    "start_time": "2024-09-23T02:26:07.378Z"
   },
   {
    "duration": 36,
    "start_time": "2024-09-23T02:26:07.557Z"
   },
   {
    "duration": 27,
    "start_time": "2024-09-23T02:26:07.770Z"
   },
   {
    "duration": 22,
    "start_time": "2024-09-23T02:26:07.959Z"
   },
   {
    "duration": 27,
    "start_time": "2024-09-23T02:26:08.158Z"
   },
   {
    "duration": 144,
    "start_time": "2024-09-23T02:26:08.579Z"
   },
   {
    "duration": 141,
    "start_time": "2024-09-23T02:26:09.171Z"
   },
   {
    "duration": 282,
    "start_time": "2024-09-23T02:26:10.304Z"
   },
   {
    "duration": 19,
    "start_time": "2024-09-23T02:27:25.766Z"
   },
   {
    "duration": 1393,
    "start_time": "2024-09-23T02:27:32.389Z"
   },
   {
    "duration": 19,
    "start_time": "2024-09-23T02:28:51.024Z"
   },
   {
    "duration": 867,
    "start_time": "2024-09-23T02:29:15.476Z"
   },
   {
    "duration": 119,
    "start_time": "2024-09-23T02:43:59.162Z"
   },
   {
    "duration": 18,
    "start_time": "2024-09-23T02:44:08.154Z"
   },
   {
    "duration": 175,
    "start_time": "2024-09-24T18:08:43.461Z"
   },
   {
    "duration": 2615,
    "start_time": "2024-09-24T18:09:15.211Z"
   },
   {
    "duration": 227,
    "start_time": "2024-09-24T18:09:17.828Z"
   },
   {
    "duration": 23,
    "start_time": "2024-09-24T18:09:18.057Z"
   },
   {
    "duration": 15,
    "start_time": "2024-09-24T18:09:18.082Z"
   },
   {
    "duration": 60,
    "start_time": "2024-09-24T18:09:18.101Z"
   },
   {
    "duration": 44,
    "start_time": "2024-09-24T18:09:18.163Z"
   },
   {
    "duration": 53,
    "start_time": "2024-09-24T18:09:18.209Z"
   },
   {
    "duration": 22,
    "start_time": "2024-09-24T18:09:18.264Z"
   },
   {
    "duration": 34,
    "start_time": "2024-09-24T18:09:18.289Z"
   },
   {
    "duration": 27,
    "start_time": "2024-09-24T18:09:18.325Z"
   },
   {
    "duration": 47,
    "start_time": "2024-09-24T18:09:18.354Z"
   },
   {
    "duration": 32,
    "start_time": "2024-09-24T18:09:18.403Z"
   },
   {
    "duration": 162,
    "start_time": "2024-09-24T18:09:18.438Z"
   },
   {
    "duration": 132,
    "start_time": "2024-09-24T18:09:18.604Z"
   },
   {
    "duration": 28,
    "start_time": "2024-09-24T18:09:18.738Z"
   },
   {
    "duration": 34,
    "start_time": "2024-09-24T18:09:18.767Z"
   },
   {
    "duration": 17,
    "start_time": "2024-09-24T18:09:18.802Z"
   },
   {
    "duration": 19,
    "start_time": "2024-09-24T18:09:18.820Z"
   },
   {
    "duration": 15,
    "start_time": "2024-09-24T18:09:18.841Z"
   },
   {
    "duration": 41,
    "start_time": "2024-09-24T18:09:18.857Z"
   },
   {
    "duration": 22,
    "start_time": "2024-09-24T18:09:18.900Z"
   },
   {
    "duration": 2525,
    "start_time": "2024-09-24T18:09:18.924Z"
   },
   {
    "duration": 437,
    "start_time": "2024-09-24T18:09:21.451Z"
   },
   {
    "duration": 539,
    "start_time": "2024-09-24T18:09:21.891Z"
   },
   {
    "duration": 20,
    "start_time": "2024-09-24T18:09:22.431Z"
   },
   {
    "duration": 240,
    "start_time": "2024-09-24T18:09:22.453Z"
   },
   {
    "duration": 31,
    "start_time": "2024-09-24T18:09:22.695Z"
   },
   {
    "duration": 27,
    "start_time": "2024-09-24T18:09:22.728Z"
   },
   {
    "duration": 3,
    "start_time": "2024-09-24T18:09:22.756Z"
   },
   {
    "duration": 26,
    "start_time": "2024-09-24T18:09:22.761Z"
   },
   {
    "duration": 100,
    "start_time": "2024-09-24T18:12:42.092Z"
   },
   {
    "duration": 36,
    "start_time": "2024-09-24T18:14:45.289Z"
   },
   {
    "duration": 80,
    "start_time": "2024-09-24T18:25:00.142Z"
   },
   {
    "duration": 18,
    "start_time": "2024-09-24T18:25:03.558Z"
   },
   {
    "duration": 24,
    "start_time": "2024-09-24T18:25:20.896Z"
   },
   {
    "duration": 25,
    "start_time": "2024-09-24T18:25:56.392Z"
   },
   {
    "duration": 3,
    "start_time": "2024-09-24T18:26:38.367Z"
   },
   {
    "duration": 6,
    "start_time": "2024-09-24T18:57:05.437Z"
   },
   {
    "duration": 6,
    "start_time": "2024-09-24T18:57:26.574Z"
   },
   {
    "duration": 27,
    "start_time": "2024-09-24T18:57:35.023Z"
   },
   {
    "duration": 31,
    "start_time": "2024-09-24T18:58:56.347Z"
   },
   {
    "duration": 124,
    "start_time": "2024-09-24T18:59:34.625Z"
   },
   {
    "duration": 51,
    "start_time": "2024-09-24T19:01:05.977Z"
   },
   {
    "duration": 6,
    "start_time": "2024-09-24T19:01:16.471Z"
   },
   {
    "duration": 5,
    "start_time": "2024-09-24T19:01:25.179Z"
   },
   {
    "duration": 449,
    "start_time": "2024-09-24T19:01:32.103Z"
   },
   {
    "duration": 92,
    "start_time": "2024-09-24T19:01:49.345Z"
   },
   {
    "duration": 238,
    "start_time": "2024-09-24T19:03:06.903Z"
   },
   {
    "duration": 62,
    "start_time": "2024-09-24T19:04:55.626Z"
   },
   {
    "duration": 123,
    "start_time": "2024-09-24T19:11:39.456Z"
   },
   {
    "duration": 26,
    "start_time": "2024-09-24T19:18:35.196Z"
   },
   {
    "duration": 38,
    "start_time": "2024-09-24T19:20:13.269Z"
   },
   {
    "duration": 23,
    "start_time": "2024-09-24T19:24:59.190Z"
   },
   {
    "duration": 2553,
    "start_time": "2024-10-02T19:57:33.547Z"
   },
   {
    "duration": 246,
    "start_time": "2024-10-02T19:57:36.102Z"
   },
   {
    "duration": 25,
    "start_time": "2024-10-02T19:57:36.350Z"
   },
   {
    "duration": 14,
    "start_time": "2024-10-02T19:57:36.377Z"
   },
   {
    "duration": 53,
    "start_time": "2024-10-02T19:57:36.393Z"
   },
   {
    "duration": 47,
    "start_time": "2024-10-02T19:57:36.448Z"
   },
   {
    "duration": 57,
    "start_time": "2024-10-02T19:57:36.497Z"
   },
   {
    "duration": 6,
    "start_time": "2024-10-02T19:57:36.556Z"
   },
   {
    "duration": 56,
    "start_time": "2024-10-02T19:57:36.564Z"
   },
   {
    "duration": 27,
    "start_time": "2024-10-02T19:57:36.624Z"
   },
   {
    "duration": 39,
    "start_time": "2024-10-02T19:57:36.652Z"
   },
   {
    "duration": 26,
    "start_time": "2024-10-02T19:57:36.693Z"
   },
   {
    "duration": 152,
    "start_time": "2024-10-02T19:57:36.721Z"
   },
   {
    "duration": 137,
    "start_time": "2024-10-02T19:57:36.875Z"
   },
   {
    "duration": 76,
    "start_time": "2024-10-02T19:57:37.013Z"
   },
   {
    "duration": 20,
    "start_time": "2024-10-02T19:57:37.091Z"
   },
   {
    "duration": 16,
    "start_time": "2024-10-02T19:57:37.114Z"
   },
   {
    "duration": 689,
    "start_time": "2024-10-02T19:57:37.131Z"
   },
   {
    "duration": 0,
    "start_time": "2024-10-02T19:57:37.822Z"
   },
   {
    "duration": 0,
    "start_time": "2024-10-02T19:57:37.824Z"
   },
   {
    "duration": 0,
    "start_time": "2024-10-02T19:57:37.825Z"
   },
   {
    "duration": 0,
    "start_time": "2024-10-02T19:57:37.826Z"
   },
   {
    "duration": 0,
    "start_time": "2024-10-02T19:57:37.827Z"
   },
   {
    "duration": 0,
    "start_time": "2024-10-02T19:57:37.828Z"
   },
   {
    "duration": 0,
    "start_time": "2024-10-02T19:57:37.829Z"
   },
   {
    "duration": 0,
    "start_time": "2024-10-02T19:57:37.830Z"
   },
   {
    "duration": 0,
    "start_time": "2024-10-02T19:57:37.830Z"
   },
   {
    "duration": 0,
    "start_time": "2024-10-02T19:57:37.831Z"
   },
   {
    "duration": 0,
    "start_time": "2024-10-02T19:57:37.832Z"
   },
   {
    "duration": 0,
    "start_time": "2024-10-02T19:57:37.833Z"
   },
   {
    "duration": 0,
    "start_time": "2024-10-02T19:57:37.834Z"
   },
   {
    "duration": 3,
    "start_time": "2024-10-02T20:05:14.404Z"
   },
   {
    "duration": 142,
    "start_time": "2024-10-02T20:05:14.409Z"
   },
   {
    "duration": 20,
    "start_time": "2024-10-02T20:05:14.553Z"
   },
   {
    "duration": 20,
    "start_time": "2024-10-02T20:05:14.575Z"
   },
   {
    "duration": 48,
    "start_time": "2024-10-02T20:05:14.597Z"
   },
   {
    "duration": 46,
    "start_time": "2024-10-02T20:05:14.647Z"
   },
   {
    "duration": 48,
    "start_time": "2024-10-02T20:05:14.695Z"
   },
   {
    "duration": 6,
    "start_time": "2024-10-02T20:05:14.744Z"
   },
   {
    "duration": 55,
    "start_time": "2024-10-02T20:05:14.752Z"
   },
   {
    "duration": 24,
    "start_time": "2024-10-02T20:05:14.809Z"
   },
   {
    "duration": 20,
    "start_time": "2024-10-02T20:05:14.834Z"
   },
   {
    "duration": 48,
    "start_time": "2024-10-02T20:05:14.856Z"
   },
   {
    "duration": 132,
    "start_time": "2024-10-02T20:05:14.906Z"
   },
   {
    "duration": 134,
    "start_time": "2024-10-02T20:05:15.043Z"
   },
   {
    "duration": 62,
    "start_time": "2024-10-02T20:05:15.178Z"
   },
   {
    "duration": 21,
    "start_time": "2024-10-02T20:05:15.241Z"
   },
   {
    "duration": 35,
    "start_time": "2024-10-02T20:05:15.264Z"
   },
   {
    "duration": 41,
    "start_time": "2024-10-02T20:05:15.300Z"
   },
   {
    "duration": 0,
    "start_time": "2024-10-02T20:05:15.343Z"
   },
   {
    "duration": 0,
    "start_time": "2024-10-02T20:05:15.344Z"
   },
   {
    "duration": 0,
    "start_time": "2024-10-02T20:05:15.345Z"
   },
   {
    "duration": 0,
    "start_time": "2024-10-02T20:05:15.346Z"
   },
   {
    "duration": 0,
    "start_time": "2024-10-02T20:05:15.346Z"
   },
   {
    "duration": 0,
    "start_time": "2024-10-02T20:05:15.347Z"
   },
   {
    "duration": 0,
    "start_time": "2024-10-02T20:05:15.349Z"
   },
   {
    "duration": 0,
    "start_time": "2024-10-02T20:05:15.350Z"
   },
   {
    "duration": 0,
    "start_time": "2024-10-02T20:05:15.351Z"
   },
   {
    "duration": 0,
    "start_time": "2024-10-02T20:05:15.353Z"
   },
   {
    "duration": 0,
    "start_time": "2024-10-02T20:05:15.386Z"
   },
   {
    "duration": 0,
    "start_time": "2024-10-02T20:05:15.387Z"
   },
   {
    "duration": 0,
    "start_time": "2024-10-02T20:05:15.389Z"
   },
   {
    "duration": 21,
    "start_time": "2024-10-02T20:15:45.664Z"
   },
   {
    "duration": 42,
    "start_time": "2024-10-02T20:16:39.800Z"
   },
   {
    "duration": 3,
    "start_time": "2024-10-02T20:16:48.564Z"
   },
   {
    "duration": 141,
    "start_time": "2024-10-02T20:16:48.571Z"
   },
   {
    "duration": 21,
    "start_time": "2024-10-02T20:16:48.714Z"
   },
   {
    "duration": 16,
    "start_time": "2024-10-02T20:16:48.736Z"
   },
   {
    "duration": 67,
    "start_time": "2024-10-02T20:16:48.754Z"
   },
   {
    "duration": 27,
    "start_time": "2024-10-02T20:16:48.824Z"
   },
   {
    "duration": 66,
    "start_time": "2024-10-02T20:16:48.853Z"
   },
   {
    "duration": 5,
    "start_time": "2024-10-02T20:16:48.922Z"
   },
   {
    "duration": 33,
    "start_time": "2024-10-02T20:16:48.928Z"
   },
   {
    "duration": 42,
    "start_time": "2024-10-02T20:16:48.963Z"
   },
   {
    "duration": 23,
    "start_time": "2024-10-02T20:16:49.007Z"
   },
   {
    "duration": 33,
    "start_time": "2024-10-02T20:16:53.183Z"
   },
   {
    "duration": 15,
    "start_time": "2024-10-02T20:18:19.345Z"
   },
   {
    "duration": 24,
    "start_time": "2024-10-02T20:18:58.579Z"
   },
   {
    "duration": 17,
    "start_time": "2024-10-02T20:19:19.113Z"
   },
   {
    "duration": 8,
    "start_time": "2024-10-02T20:25:11.068Z"
   },
   {
    "duration": 14,
    "start_time": "2024-10-02T20:25:17.214Z"
   },
   {
    "duration": 2672,
    "start_time": "2024-10-04T12:24:22.146Z"
   },
   {
    "duration": 275,
    "start_time": "2024-10-04T12:24:24.821Z"
   },
   {
    "duration": 24,
    "start_time": "2024-10-04T12:24:25.098Z"
   },
   {
    "duration": 15,
    "start_time": "2024-10-04T12:24:25.124Z"
   },
   {
    "duration": 55,
    "start_time": "2024-10-04T12:24:25.143Z"
   },
   {
    "duration": 42,
    "start_time": "2024-10-04T12:24:25.200Z"
   },
   {
    "duration": 60,
    "start_time": "2024-10-04T12:24:25.244Z"
   },
   {
    "duration": 6,
    "start_time": "2024-10-04T12:24:25.306Z"
   },
   {
    "duration": 38,
    "start_time": "2024-10-04T12:24:25.332Z"
   },
   {
    "duration": 28,
    "start_time": "2024-10-04T12:24:25.373Z"
   },
   {
    "duration": 43,
    "start_time": "2024-10-04T12:24:25.403Z"
   },
   {
    "duration": 26,
    "start_time": "2024-10-04T12:24:25.449Z"
   },
   {
    "duration": 14,
    "start_time": "2024-10-04T12:24:25.476Z"
   },
   {
    "duration": 14,
    "start_time": "2024-10-04T12:24:25.491Z"
   },
   {
    "duration": 37,
    "start_time": "2024-10-04T12:24:25.507Z"
   },
   {
    "duration": 2,
    "start_time": "2024-10-04T12:24:25.546Z"
   },
   {
    "duration": 26,
    "start_time": "2024-10-04T12:24:25.550Z"
   },
   {
    "duration": 17,
    "start_time": "2024-10-04T12:24:25.578Z"
   },
   {
    "duration": 49,
    "start_time": "2024-10-04T12:24:25.598Z"
   },
   {
    "duration": 14,
    "start_time": "2024-10-04T12:24:25.648Z"
   },
   {
    "duration": 16,
    "start_time": "2024-10-04T12:24:25.664Z"
   },
   {
    "duration": 19,
    "start_time": "2024-10-04T12:24:25.681Z"
   },
   {
    "duration": 2595,
    "start_time": "2024-10-04T12:24:25.702Z"
   },
   {
    "duration": 378,
    "start_time": "2024-10-04T12:24:28.299Z"
   },
   {
    "duration": 599,
    "start_time": "2024-10-04T12:24:28.678Z"
   },
   {
    "duration": 20,
    "start_time": "2024-10-04T12:24:29.279Z"
   },
   {
    "duration": 240,
    "start_time": "2024-10-04T12:24:29.301Z"
   },
   {
    "duration": 29,
    "start_time": "2024-10-04T12:24:29.545Z"
   },
   {
    "duration": 27,
    "start_time": "2024-10-04T12:24:29.577Z"
   },
   {
    "duration": 162,
    "start_time": "2024-10-04T12:24:29.605Z"
   },
   {
    "duration": 0,
    "start_time": "2024-10-04T12:24:29.769Z"
   },
   {
    "duration": 0,
    "start_time": "2024-10-04T12:24:29.770Z"
   },
   {
    "duration": 194,
    "start_time": "2024-10-04T12:27:34.445Z"
   },
   {
    "duration": 66,
    "start_time": "2024-10-04T12:28:21.423Z"
   },
   {
    "duration": 455,
    "start_time": "2024-10-04T12:31:09.408Z"
   },
   {
    "duration": 243,
    "start_time": "2024-10-04T12:31:56.864Z"
   },
   {
    "duration": 148,
    "start_time": "2024-10-04T12:34:00.544Z"
   },
   {
    "duration": 130,
    "start_time": "2024-10-04T12:34:50.499Z"
   },
   {
    "duration": 8,
    "start_time": "2024-10-04T12:36:44.908Z"
   },
   {
    "duration": 8,
    "start_time": "2024-10-04T12:39:54.499Z"
   },
   {
    "duration": 9,
    "start_time": "2024-10-04T12:40:45.542Z"
   },
   {
    "duration": 37,
    "start_time": "2024-10-04T12:41:01.755Z"
   },
   {
    "duration": 397,
    "start_time": "2024-10-04T12:41:31.991Z"
   },
   {
    "duration": 131,
    "start_time": "2024-10-04T12:42:39.057Z"
   },
   {
    "duration": 27,
    "start_time": "2024-10-04T12:42:49.890Z"
   },
   {
    "duration": 41,
    "start_time": "2024-10-04T12:42:59.165Z"
   },
   {
    "duration": 351,
    "start_time": "2024-10-04T12:44:05.733Z"
   },
   {
    "duration": 321,
    "start_time": "2024-10-04T12:44:15.809Z"
   },
   {
    "duration": 29,
    "start_time": "2024-10-04T12:46:02.502Z"
   },
   {
    "duration": 28,
    "start_time": "2024-10-04T12:46:39.145Z"
   },
   {
    "duration": 42,
    "start_time": "2024-10-04T12:46:50.294Z"
   },
   {
    "duration": 215,
    "start_time": "2024-10-04T12:48:10.418Z"
   },
   {
    "duration": 53,
    "start_time": "2024-10-04T12:48:26.495Z"
   },
   {
    "duration": 322,
    "start_time": "2024-10-04T12:50:25.127Z"
   },
   {
    "duration": 147,
    "start_time": "2024-10-04T12:50:32.596Z"
   },
   {
    "duration": 9,
    "start_time": "2024-10-04T12:52:54.444Z"
   },
   {
    "duration": 8,
    "start_time": "2024-10-04T12:53:49.912Z"
   },
   {
    "duration": 4,
    "start_time": "2024-10-04T12:53:59.512Z"
   },
   {
    "duration": 5,
    "start_time": "2024-10-04T12:54:06.461Z"
   },
   {
    "duration": 227,
    "start_time": "2024-10-04T12:54:16.402Z"
   },
   {
    "duration": 249,
    "start_time": "2024-10-04T12:55:05.645Z"
   },
   {
    "duration": 42,
    "start_time": "2024-10-04T12:55:46.178Z"
   },
   {
    "duration": 388,
    "start_time": "2024-10-04T12:57:36.544Z"
   },
   {
    "duration": 374,
    "start_time": "2024-10-04T12:57:51.791Z"
   },
   {
    "duration": 8,
    "start_time": "2024-10-04T12:58:40.362Z"
   },
   {
    "duration": 248,
    "start_time": "2024-10-04T12:58:48.514Z"
   },
   {
    "duration": 9,
    "start_time": "2024-10-04T12:59:56.751Z"
   },
   {
    "duration": 11,
    "start_time": "2024-10-04T13:01:33.145Z"
   },
   {
    "duration": 0,
    "start_time": "2024-10-04T13:03:05.863Z"
   },
   {
    "duration": 19,
    "start_time": "2024-10-04T13:03:47.820Z"
   },
   {
    "duration": 20,
    "start_time": "2024-10-04T13:04:17.119Z"
   },
   {
    "duration": 17,
    "start_time": "2024-10-04T13:04:37.713Z"
   },
   {
    "duration": 7,
    "start_time": "2024-10-04T13:04:54.089Z"
   },
   {
    "duration": 7,
    "start_time": "2024-10-04T13:04:57.752Z"
   },
   {
    "duration": 770,
    "start_time": "2024-10-04T21:51:07.793Z"
   },
   {
    "duration": 229,
    "start_time": "2024-10-04T21:51:08.565Z"
   },
   {
    "duration": 24,
    "start_time": "2024-10-04T21:51:08.796Z"
   },
   {
    "duration": 15,
    "start_time": "2024-10-04T21:51:08.822Z"
   },
   {
    "duration": 51,
    "start_time": "2024-10-04T21:51:08.838Z"
   },
   {
    "duration": 44,
    "start_time": "2024-10-04T21:51:08.890Z"
   },
   {
    "duration": 51,
    "start_time": "2024-10-04T21:51:08.935Z"
   },
   {
    "duration": 5,
    "start_time": "2024-10-04T21:51:08.988Z"
   },
   {
    "duration": 54,
    "start_time": "2024-10-04T21:51:08.995Z"
   },
   {
    "duration": 26,
    "start_time": "2024-10-04T21:51:09.053Z"
   },
   {
    "duration": 21,
    "start_time": "2024-10-04T21:51:09.080Z"
   },
   {
    "duration": 42,
    "start_time": "2024-10-04T21:51:09.103Z"
   },
   {
    "duration": 13,
    "start_time": "2024-10-04T21:51:09.147Z"
   },
   {
    "duration": 13,
    "start_time": "2024-10-04T21:51:09.161Z"
   },
   {
    "duration": 13,
    "start_time": "2024-10-04T21:51:09.175Z"
   },
   {
    "duration": 95,
    "start_time": "2024-10-04T21:51:09.190Z"
   },
   {
    "duration": 6,
    "start_time": "2024-10-04T21:51:09.287Z"
   },
   {
    "duration": 8,
    "start_time": "2024-10-04T21:51:09.295Z"
   },
   {
    "duration": 25,
    "start_time": "2024-10-04T21:51:09.305Z"
   },
   {
    "duration": 36,
    "start_time": "2024-10-04T21:51:09.333Z"
   },
   {
    "duration": 693,
    "start_time": "2024-10-04T22:00:06.259Z"
   },
   {
    "duration": 12,
    "start_time": "2024-10-04T22:00:44.469Z"
   },
   {
    "duration": 2582,
    "start_time": "2024-10-05T08:42:07.239Z"
   },
   {
    "duration": 250,
    "start_time": "2024-10-05T08:42:09.823Z"
   },
   {
    "duration": 23,
    "start_time": "2024-10-05T08:42:10.074Z"
   },
   {
    "duration": 14,
    "start_time": "2024-10-05T08:42:10.100Z"
   },
   {
    "duration": 65,
    "start_time": "2024-10-05T08:42:10.116Z"
   },
   {
    "duration": 28,
    "start_time": "2024-10-05T08:42:10.183Z"
   },
   {
    "duration": 71,
    "start_time": "2024-10-05T08:42:10.213Z"
   },
   {
    "duration": 6,
    "start_time": "2024-10-05T08:42:10.285Z"
   },
   {
    "duration": 52,
    "start_time": "2024-10-05T08:42:10.293Z"
   },
   {
    "duration": 27,
    "start_time": "2024-10-05T08:42:10.348Z"
   },
   {
    "duration": 20,
    "start_time": "2024-10-05T08:42:10.377Z"
   },
   {
    "duration": 44,
    "start_time": "2024-10-05T08:42:10.399Z"
   },
   {
    "duration": 13,
    "start_time": "2024-10-05T08:42:10.444Z"
   },
   {
    "duration": 13,
    "start_time": "2024-10-05T08:42:10.459Z"
   },
   {
    "duration": 23,
    "start_time": "2024-10-05T08:42:10.474Z"
   },
   {
    "duration": 91,
    "start_time": "2024-10-05T08:42:10.500Z"
   },
   {
    "duration": 6,
    "start_time": "2024-10-05T08:42:10.593Z"
   },
   {
    "duration": 7,
    "start_time": "2024-10-05T08:42:10.600Z"
   },
   {
    "duration": 7,
    "start_time": "2024-10-05T08:42:10.609Z"
   },
   {
    "duration": 65,
    "start_time": "2024-10-05T08:42:10.617Z"
   },
   {
    "duration": 2503,
    "start_time": "2024-10-05T15:58:23.999Z"
   },
   {
    "duration": 245,
    "start_time": "2024-10-05T15:58:26.505Z"
   },
   {
    "duration": 22,
    "start_time": "2024-10-05T15:58:26.752Z"
   },
   {
    "duration": 14,
    "start_time": "2024-10-05T15:58:26.776Z"
   },
   {
    "duration": 56,
    "start_time": "2024-10-05T15:58:26.794Z"
   },
   {
    "duration": 28,
    "start_time": "2024-10-05T15:58:26.852Z"
   },
   {
    "duration": 68,
    "start_time": "2024-10-05T15:58:26.881Z"
   },
   {
    "duration": 5,
    "start_time": "2024-10-05T15:58:26.951Z"
   },
   {
    "duration": 35,
    "start_time": "2024-10-05T15:58:26.958Z"
   },
   {
    "duration": 29,
    "start_time": "2024-10-05T15:58:27.011Z"
   },
   {
    "duration": 21,
    "start_time": "2024-10-05T15:58:27.041Z"
   },
   {
    "duration": 25,
    "start_time": "2024-10-05T15:58:27.063Z"
   },
   {
    "duration": 13,
    "start_time": "2024-10-05T15:58:27.112Z"
   },
   {
    "duration": 13,
    "start_time": "2024-10-05T15:58:27.129Z"
   },
   {
    "duration": 13,
    "start_time": "2024-10-05T15:58:27.144Z"
   },
   {
    "duration": 89,
    "start_time": "2024-10-05T15:58:27.158Z"
   },
   {
    "duration": 6,
    "start_time": "2024-10-05T15:58:27.249Z"
   },
   {
    "duration": 7,
    "start_time": "2024-10-05T15:58:27.257Z"
   },
   {
    "duration": 8,
    "start_time": "2024-10-05T15:58:27.265Z"
   },
   {
    "duration": 64,
    "start_time": "2024-10-05T15:58:27.275Z"
   },
   {
    "duration": 172,
    "start_time": "2024-10-05T16:07:35.057Z"
   },
   {
    "duration": 12,
    "start_time": "2024-10-05T16:08:53.400Z"
   },
   {
    "duration": 874,
    "start_time": "2024-10-05T16:09:00.228Z"
   },
   {
    "duration": 246,
    "start_time": "2024-10-05T16:09:01.104Z"
   },
   {
    "duration": 23,
    "start_time": "2024-10-05T16:09:01.352Z"
   },
   {
    "duration": 15,
    "start_time": "2024-10-05T16:09:01.376Z"
   },
   {
    "duration": 66,
    "start_time": "2024-10-05T16:09:01.394Z"
   },
   {
    "duration": 28,
    "start_time": "2024-10-05T16:09:01.461Z"
   },
   {
    "duration": 70,
    "start_time": "2024-10-05T16:09:01.490Z"
   },
   {
    "duration": 6,
    "start_time": "2024-10-05T16:09:01.561Z"
   },
   {
    "duration": 51,
    "start_time": "2024-10-05T16:09:01.569Z"
   },
   {
    "duration": 26,
    "start_time": "2024-10-05T16:09:01.622Z"
   },
   {
    "duration": 20,
    "start_time": "2024-10-05T16:09:01.650Z"
   },
   {
    "duration": 45,
    "start_time": "2024-10-05T16:09:01.672Z"
   },
   {
    "duration": 12,
    "start_time": "2024-10-05T16:09:01.718Z"
   },
   {
    "duration": 13,
    "start_time": "2024-10-05T16:09:01.733Z"
   },
   {
    "duration": 13,
    "start_time": "2024-10-05T16:09:01.747Z"
   },
   {
    "duration": 84,
    "start_time": "2024-10-05T16:09:01.761Z"
   },
   {
    "duration": 6,
    "start_time": "2024-10-05T16:09:01.847Z"
   },
   {
    "duration": 7,
    "start_time": "2024-10-05T16:09:01.856Z"
   },
   {
    "duration": 10,
    "start_time": "2024-10-05T16:09:01.864Z"
   },
   {
    "duration": 67,
    "start_time": "2024-10-05T16:09:01.876Z"
   },
   {
    "duration": 80,
    "start_time": "2024-10-05T16:10:29.666Z"
   },
   {
    "duration": 18,
    "start_time": "2024-10-05T16:10:49.543Z"
   },
   {
    "duration": 8,
    "start_time": "2024-10-05T16:13:49.174Z"
   },
   {
    "duration": 23,
    "start_time": "2024-10-05T16:13:55.589Z"
   },
   {
    "duration": 18,
    "start_time": "2024-10-05T16:14:22.176Z"
   },
   {
    "duration": 3,
    "start_time": "2024-10-05T16:14:35.679Z"
   },
   {
    "duration": 154,
    "start_time": "2024-10-05T16:14:35.685Z"
   },
   {
    "duration": 22,
    "start_time": "2024-10-05T16:14:35.841Z"
   },
   {
    "duration": 14,
    "start_time": "2024-10-05T16:14:35.866Z"
   },
   {
    "duration": 63,
    "start_time": "2024-10-05T16:14:35.882Z"
   },
   {
    "duration": 27,
    "start_time": "2024-10-05T16:14:35.947Z"
   },
   {
    "duration": 64,
    "start_time": "2024-10-05T16:14:35.976Z"
   },
   {
    "duration": 5,
    "start_time": "2024-10-05T16:14:36.042Z"
   },
   {
    "duration": 33,
    "start_time": "2024-10-05T16:14:36.050Z"
   },
   {
    "duration": 45,
    "start_time": "2024-10-05T16:14:36.085Z"
   },
   {
    "duration": 20,
    "start_time": "2024-10-05T16:14:36.132Z"
   },
   {
    "duration": 25,
    "start_time": "2024-10-05T16:14:36.153Z"
   },
   {
    "duration": 32,
    "start_time": "2024-10-05T16:14:36.180Z"
   },
   {
    "duration": 12,
    "start_time": "2024-10-05T16:14:36.214Z"
   },
   {
    "duration": 13,
    "start_time": "2024-10-05T16:14:36.228Z"
   },
   {
    "duration": 81,
    "start_time": "2024-10-05T16:14:36.243Z"
   },
   {
    "duration": 6,
    "start_time": "2024-10-05T16:14:36.326Z"
   },
   {
    "duration": 8,
    "start_time": "2024-10-05T16:14:36.333Z"
   },
   {
    "duration": 7,
    "start_time": "2024-10-05T16:14:36.342Z"
   },
   {
    "duration": 9,
    "start_time": "2024-10-05T16:14:36.351Z"
   },
   {
    "duration": 380,
    "start_time": "2024-10-05T16:14:36.361Z"
   },
   {
    "duration": 334,
    "start_time": "2024-10-05T16:14:36.743Z"
   },
   {
    "duration": 10,
    "start_time": "2024-10-05T16:14:37.079Z"
   },
   {
    "duration": 254,
    "start_time": "2024-10-05T16:14:37.092Z"
   },
   {
    "duration": 412,
    "start_time": "2024-10-05T16:14:37.348Z"
   },
   {
    "duration": 206,
    "start_time": "2024-10-05T16:14:37.762Z"
   },
   {
    "duration": 9,
    "start_time": "2024-10-05T16:14:37.969Z"
   },
   {
    "duration": 10,
    "start_time": "2024-10-05T16:14:37.980Z"
   },
   {
    "duration": 24,
    "start_time": "2024-10-05T16:14:37.991Z"
   },
   {
    "duration": 6,
    "start_time": "2024-10-05T16:14:38.018Z"
   },
   {
    "duration": 8,
    "start_time": "2024-10-05T16:17:20.133Z"
   },
   {
    "duration": 8,
    "start_time": "2024-10-05T16:17:45.240Z"
   }
  ],
  "colab": {
   "provenance": []
  },
  "kernelspec": {
   "display_name": "Python 3 (ipykernel)",
   "language": "python",
   "name": "python3"
  },
  "language_info": {
   "codemirror_mode": {
    "name": "ipython",
    "version": 3
   },
   "file_extension": ".py",
   "mimetype": "text/x-python",
   "name": "python",
   "nbconvert_exporter": "python",
   "pygments_lexer": "ipython3",
   "version": "3.9.19"
  },
  "toc": {
   "base_numbering": 1,
   "nav_menu": {},
   "number_sections": true,
   "sideBar": true,
   "skip_h1_title": false,
   "title_cell": "Table of Contents",
   "title_sidebar": "Contents",
   "toc_cell": false,
   "toc_position": {
    "height": "calc(100% - 180px)",
    "left": "10px",
    "top": "150px",
    "width": "341.797px"
   },
   "toc_section_display": true,
   "toc_window_display": true
  }
 },
 "nbformat": 4,
 "nbformat_minor": 1
}
