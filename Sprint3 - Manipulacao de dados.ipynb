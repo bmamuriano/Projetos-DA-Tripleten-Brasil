{
 "cells": [
  {
   "cell_type": "markdown",
   "id": "3Xg_RQfnafXz",
   "metadata": {
    "id": "3Xg_RQfnafXz"
   },
   "source": [
    "\n",
    "\n",
    "\n",
    "# Vamos encher o carrinho!"
   ]
  },
  {
   "cell_type": "markdown",
   "id": "mhIvmmkW414q",
   "metadata": {
    "id": "mhIvmmkW414q"
   },
   "source": [
    "# Introdução\n",
    "\n",
    "O Instacart é uma plataforma de entrega de supermercado onde os clientes podem fazer um pedido no supermercado e depois receber sua compra, semelhante ao funcionamento do Uber Eats e do iFood. O conjunto de dados que fornecemos foi modificado a partir do original. Reduzimos o tamanho dele para que seus cálculos sejam executados mais rapidamente e incluímos valores ausentes e duplicados. Também tivemos o cuidado de preservar as distribuições dos dados originais quando fizemos as alterações.\n",
    "\n",
    "Você precisa completar três etapas. Para cada uma delas, escreva uma breve introdução descrevendo como você pretende concluir a etapa e justifique suas decisões em parágrafos explicativos a medida que você avança na solução. Escreva também uma conclusão para resumir suas conclusões e escolhas.\n",
    "\n"
   ]
  },
  {
   "cell_type": "markdown",
   "id": "3MbyzpOQZ5Or",
   "metadata": {
    "id": "3MbyzpOQZ5Or"
   },
   "source": [
    "## Dicionário de dados\n",
    "\n",
    "Há cinco tabelas no conjunto de dados, e você vai precisar usar todas elas para pré-processar seus dados e fazer AED. Abaixo está um dicionário que lista as colunas de cada tabela e descreve os dados contidos nelas.\n",
    "\n",
    "- `instacart_orders.csv`: cada linha corresponde a um pedido no aplicativo da Instacart\n",
    "    - `'order_id'`: é o número que identifica cada pedido de forma exclusiva\n",
    "    - `'user_id'`: é o número de identificação exclusivo da conta de cada cliente\n",
    "    - `'order_number'`: é o número de vezes que o cliente fez um pedido\n",
    "    - `'order_dow'`: é o dia da semana em que o pedido foi feito (0 é domingo)\n",
    "    - `'order_hour_of_day'`: é a hora do dia em que o pedido foi feito\n",
    "    - `'days_since_prior_order'`: é o número de dias desde que o cliente fez seu pedido anterior\n",
    "\n",
    "\n",
    "\n",
    "\n",
    "- `products.csv`: cada linha corresponde a um produto exclusivo que os clientes podem comprar\n",
    "    - `'product_id'`: é o número de identificação unívoco de cada produto\n",
    "    - `'product_name'`: é o nome do produto\n",
    "    - `'aisle_id'`: é o número de identificação exclusivo de cada categoria de corredor do supermercado\n",
    "    - `'department_id'`: é o número de identificação exclusivo de cada categoria de departamento do supermercado\n",
    "\n",
    "\n",
    "\n",
    "\n",
    "-\t`order_products.csv`: cada linha corresponde a um item incluído em um pedido\n",
    "    -\t`'order_id'`: é o número que identifica cada pedido de forma exclusiva\n",
    "    -\t`'product_id'`: é o número de identificação exclusivo de cada produto\n",
    "    -\t`'add_to_cart_order'`: é a ordem sequencial em que cada item foi colocado no carrinho\n",
    "    -\t`'reordered'`: 0 se o cliente nunca comprou o produto antes, 1 se já o comprou\n",
    "\n",
    "\n",
    "\n",
    "\n",
    "-\t`aisles.csv`\n",
    "    -\t`'aisle_id'`: é o número de identificação exclusivo de cada categoria de corredor do supermercado\n",
    "    -\t`'aisle'`: é o nome do corredor\n",
    "\n",
    "\n",
    "\n",
    "-\t`departments.csv`\n",
    "    -\t`'department_id'`: é o número de identificação exclusivo de cada categoria de departamento do supermercado\n",
    "    -\t`'department'`: é o nome do departamento\n"
   ]
  },
  {
   "cell_type": "markdown",
   "id": "n3Ha_cNSZ8lK",
   "metadata": {
    "id": "n3Ha_cNSZ8lK"
   },
   "source": [
    "# Etapa 1. Visão geral dos dados\n",
    "\n",
    "Leia os arquivos de dados (/datasets/instacart_orders.csv, /datasets/products.csv, /datasets/aisles.csv, /datasets/departments.csv e /datasets/order_products.csv) com `pd.read_csv()` usando os parâmetros apropriados para fazer isso corretamente. Verifique as informações para cada DataFrame criado.\n"
   ]
  },
  {
   "cell_type": "markdown",
   "id": "OmlQPLlyaAfR",
   "metadata": {
    "id": "OmlQPLlyaAfR"
   },
   "source": [
    "## Plano de solução\n",
    "\n",
    "Escreva aqui seu plano para a Etapa 2. Visão geral dos dados"
   ]
  },
  {
   "cell_type": "code",
   "execution_count": 1,
   "id": "fbf1adab",
   "metadata": {
    "id": "fbf1adab"
   },
   "outputs": [],
   "source": [
    "import pandas as pd\n",
    "import matplotlib.pyplot as plt\n"
   ]
  },
  {
   "cell_type": "code",
   "execution_count": 2,
   "id": "ad36396d",
   "metadata": {
    "id": "ad36396d"
   },
   "outputs": [],
   "source": [
    "orders_df = pd.read_csv('/datasets/instacart_orders.csv',delimiter=\";\")"
   ]
  },
  {
   "cell_type": "code",
   "execution_count": 3,
   "id": "ad6a1efa",
   "metadata": {
    "id": "ad6a1efa"
   },
   "outputs": [],
   "source": [
    "products_df = pd.read_csv('/datasets/products.csv',delimiter=\";\")"
   ]
  },
  {
   "cell_type": "code",
   "execution_count": 4,
   "id": "5130e05e",
   "metadata": {
    "id": "5130e05e"
   },
   "outputs": [],
   "source": [
    "aisles_df = pd.read_csv('/datasets/aisles.csv',delimiter=\";\")"
   ]
  },
  {
   "cell_type": "code",
   "execution_count": 5,
   "id": "d8370c05",
   "metadata": {
    "id": "d8370c05"
   },
   "outputs": [],
   "source": [
    "depart_df = pd.read_csv('/datasets/departments.csv',delimiter=\";\")"
   ]
  },
  {
   "cell_type": "code",
   "execution_count": 6,
   "id": "59e2090f",
   "metadata": {
    "id": "59e2090f"
   },
   "outputs": [],
   "source": [
    "orderprod_df = pd.read_csv('/datasets/order_products.csv',delimiter=\";\")"
   ]
  },
  {
   "cell_type": "code",
   "execution_count": 7,
   "id": "6fc81694",
   "metadata": {
    "id": "6fc81694"
   },
   "outputs": [
    {
     "name": "stdout",
     "output_type": "stream",
     "text": [
      "<class 'pandas.core.frame.DataFrame'>\n",
      "RangeIndex: 478967 entries, 0 to 478966\n",
      "Data columns (total 6 columns):\n",
      " #   Column                  Non-Null Count   Dtype  \n",
      "---  ------                  --------------   -----  \n",
      " 0   order_id                478967 non-null  int64  \n",
      " 1   user_id                 478967 non-null  int64  \n",
      " 2   order_number            478967 non-null  int64  \n",
      " 3   order_dow               478967 non-null  int64  \n",
      " 4   order_hour_of_day       478967 non-null  int64  \n",
      " 5   days_since_prior_order  450148 non-null  float64\n",
      "dtypes: float64(1), int64(5)\n",
      "memory usage: 21.9 MB\n",
      "None\n",
      "\n",
      "<class 'pandas.core.frame.DataFrame'>\n",
      "RangeIndex: 49694 entries, 0 to 49693\n",
      "Data columns (total 4 columns):\n",
      " #   Column         Non-Null Count  Dtype \n",
      "---  ------         --------------  ----- \n",
      " 0   product_id     49694 non-null  int64 \n",
      " 1   product_name   48436 non-null  object\n",
      " 2   aisle_id       49694 non-null  int64 \n",
      " 3   department_id  49694 non-null  int64 \n",
      "dtypes: int64(3), object(1)\n",
      "memory usage: 1.5+ MB\n",
      "None\n",
      "\n",
      "<class 'pandas.core.frame.DataFrame'>\n",
      "RangeIndex: 134 entries, 0 to 133\n",
      "Data columns (total 2 columns):\n",
      " #   Column    Non-Null Count  Dtype \n",
      "---  ------    --------------  ----- \n",
      " 0   aisle_id  134 non-null    int64 \n",
      " 1   aisle     134 non-null    object\n",
      "dtypes: int64(1), object(1)\n",
      "memory usage: 2.2+ KB\n",
      "None\n",
      "\n",
      "<class 'pandas.core.frame.DataFrame'>\n",
      "RangeIndex: 21 entries, 0 to 20\n",
      "Data columns (total 2 columns):\n",
      " #   Column         Non-Null Count  Dtype \n",
      "---  ------         --------------  ----- \n",
      " 0   department_id  21 non-null     int64 \n",
      " 1   department     21 non-null     object\n",
      "dtypes: int64(1), object(1)\n",
      "memory usage: 464.0+ bytes\n",
      "None\n",
      "\n",
      "<class 'pandas.core.frame.DataFrame'>\n",
      "RangeIndex: 4545007 entries, 0 to 4545006\n",
      "Data columns (total 4 columns):\n",
      " #   Column             Dtype  \n",
      "---  ------             -----  \n",
      " 0   order_id           int64  \n",
      " 1   product_id         int64  \n",
      " 2   add_to_cart_order  float64\n",
      " 3   reordered          int64  \n",
      "dtypes: float64(1), int64(3)\n",
      "memory usage: 138.7 MB\n",
      "None\n"
     ]
    }
   ],
   "source": [
    "print(orders_df.info())\n",
    "print()\n",
    "print(products_df.info())\n",
    "print()\n",
    "print(aisles_df.info())\n",
    "print()\n",
    "print(depart_df.info())\n",
    "print()\n",
    "print(orderprod_df.info())"
   ]
  },
  {
   "cell_type": "markdown",
   "id": "t75BD19oaR5f",
   "metadata": {
    "id": "t75BD19oaR5f"
   },
   "source": [
    "## Conclusões\n",
    "\n",
    "Parece que os dados carregados estão formatados como uma única coluna isso pode ter acontecido porque o arquivo CSV usa um delimitador diferente (como ; em vez de ,)."
   ]
  },
  {
   "cell_type": "markdown",
   "id": "8RJHqxVmaVsF",
   "metadata": {
    "id": "8RJHqxVmaVsF"
   },
   "source": [
    "# Etapa 2. Preparação de dados\n",
    "\n",
    "Faça o pré-processamento dos dados da seguinte maneira:\n",
    "\n",
    "-\tVerifique e corrija os tipos de dados (por exemplo, certifique-se de que as colunas de ID sejam números inteiros)\n",
    "-\tIdentifique e preencha valores ausentes\n",
    "-\tIdentifique e remova valores duplicados\n",
    "\n",
    "Certifique-se de explicar que tipos de valores ausentes e duplicados você encontrou, como você os preencheu ou removeu, por que escolheu esses métodos e por que você acha que esses valores ausentes e duplicados estavam presentes no conjunto de dados."
   ]
  },
  {
   "cell_type": "markdown",
   "id": "p6poABZQaZYb",
   "metadata": {
    "id": "p6poABZQaZYb"
   },
   "source": [
    "## Plano de solução\n",
    "Para solucionar os problemas acima irei utilizar os metodos: delimiter para separar as colunas corretamente, metodo fillna para preencher os valores ausentes e o metodo drop_duplicated para substituir os valores em branco.\n",
    "\n",
    "Acredito que dessa forma consigo iniciar o tratamento dos dados."
   ]
  },
  {
   "cell_type": "markdown",
   "id": "07357848-dc64-4156-9cc3-01ff4365226d",
   "metadata": {
    "id": "07357848-dc64-4156-9cc3-01ff4365226d"
   },
   "source": [
    "## Encontre e remova valores duplicados (e descreva por que você está fazendo suas escolhas)"
   ]
  },
  {
   "cell_type": "markdown",
   "id": "f179f0a9",
   "metadata": {
    "id": "f179f0a9"
   },
   "source": [
    "### DataFrame `instacart_orders`"
   ]
  },
  {
   "cell_type": "code",
   "execution_count": 8,
   "id": "b99297a5-405a-463d-8535-9adc3da4ad74",
   "metadata": {
    "id": "b99297a5-405a-463d-8535-9adc3da4ad74"
   },
   "outputs": [
    {
     "name": "stdout",
     "output_type": "stream",
     "text": [
      "Numero de duplicados = 15\n"
     ]
    }
   ],
   "source": [
    "print(\"Numero de duplicados =\",orders_df.duplicated().sum())\n"
   ]
  },
  {
   "cell_type": "code",
   "execution_count": 9,
   "id": "0d44de5d",
   "metadata": {
    "id": "0d44de5d"
   },
   "outputs": [
    {
     "name": "stdout",
     "output_type": "stream",
     "text": [
      "Numero de pedidos feitos = 121\n"
     ]
    }
   ],
   "source": [
    "# verifique todos os pedidos feitos às 2h da manhã nas quartas-feiras.\n",
    "\n",
    "wednesday_orders = orders_df[(orders_df['order_hour_of_day'] == 2) & (orders_df['order_dow'] == 3)]\n",
    "\n",
    "print(\"Numero de pedidos feitos =\", len(wednesday_orders))\n"
   ]
  },
  {
   "cell_type": "code",
   "execution_count": 10,
   "id": "480563c7",
   "metadata": {
    "id": "480563c7"
   },
   "outputs": [],
   "source": [
    "# Remova pedidos duplicados\n",
    "\n",
    "orders_df.drop_duplicates(subset='order_id', inplace=True)"
   ]
  },
  {
   "cell_type": "code",
   "execution_count": 11,
   "id": "0b2396a2",
   "metadata": {
    "id": "0b2396a2"
   },
   "outputs": [
    {
     "name": "stdout",
     "output_type": "stream",
     "text": [
      "Numero de duplicados = 0\n"
     ]
    }
   ],
   "source": [
    "# Verifique as linhas duplicadas mais uma vez\n",
    "\n",
    "print(\"Numero de duplicados =\",orders_df.duplicated().sum())"
   ]
  },
  {
   "cell_type": "code",
   "execution_count": 12,
   "id": "f6113ef1",
   "metadata": {
    "id": "f6113ef1"
   },
   "outputs": [
    {
     "name": "stdout",
     "output_type": "stream",
     "text": [
      "Numero de id duplicado = 423595\n"
     ]
    }
   ],
   "source": [
    "# Verifique novamente apenas os IDs de pedidos duplicados\n",
    "\n",
    "id_duplicated_order = orders_df[orders_df['user_id'].duplicated(keep=False)]\n",
    "\n",
    "print(\"Numero de id duplicado =\", len(id_duplicated_order))\n"
   ]
  },
  {
   "cell_type": "markdown",
   "id": "5e8905ae",
   "metadata": {
    "id": "5e8905ae"
   },
   "source": [
    "\n",
    "\n",
    "Fiz a identificaçao das linhas duplicadas e remocao das mesmas.\n",
    "Validei a limpeza atraves das ultimas duas verificacoes puxando tanto a coluna id dos usuarios como os pedidos."
   ]
  },
  {
   "cell_type": "markdown",
   "id": "45e6bc46",
   "metadata": {
    "id": "45e6bc46"
   },
   "source": [
    "### DataFrame `products`"
   ]
  },
  {
   "cell_type": "code",
   "execution_count": 13,
   "id": "5f526b5b-8175-46fa-a0fd-441767d50e64",
   "metadata": {
    "id": "5f526b5b-8175-46fa-a0fd-441767d50e64"
   },
   "outputs": [
    {
     "name": "stdout",
     "output_type": "stream",
     "text": [
      "Numero de duplicados = 0\n"
     ]
    }
   ],
   "source": [
    "# Verifique se há linhas completamente duplicadas\n",
    "\n",
    "print(\"Numero de duplicados =\",products_df.duplicated().sum())"
   ]
  },
  {
   "cell_type": "code",
   "execution_count": 14,
   "id": "88daa4f4",
   "metadata": {
    "id": "88daa4f4",
    "scrolled": true
   },
   "outputs": [
    {
     "name": "stdout",
     "output_type": "stream",
     "text": [
      "Numero de id duplicado = 0\n"
     ]
    }
   ],
   "source": [
    "# Verifique apenas IDs dos produtos duplicados\n",
    "\n",
    "id_duplicated_prod = products_df[products_df['product_id'].duplicated(keep=False)]\n",
    "\n",
    "print(\"Numero de id duplicado =\", len(id_duplicated_prod))"
   ]
  },
  {
   "cell_type": "code",
   "execution_count": 15,
   "id": "c773f0bf",
   "metadata": {
    "id": "c773f0bf"
   },
   "outputs": [
    {
     "name": "stdout",
     "output_type": "stream",
     "text": [
      "Produtos duplicados = 1361\n"
     ]
    }
   ],
   "source": [
    "# Verifique apenas nomes de produtos duplicados (converta os nomes para minúsculas para uma comparação melhor)\n",
    "\n",
    "products_df['product_name'] = products_df['product_name'].str.lower()\n",
    "\n",
    "duplicated_prod = products_df[products_df['product_name'].duplicated()]\n",
    "\n",
    "print(\"Produtos duplicados =\", len(duplicated_prod))"
   ]
  },
  {
   "cell_type": "code",
   "execution_count": 16,
   "id": "01efd02e",
   "metadata": {
    "id": "01efd02e"
   },
   "outputs": [
    {
     "name": "stdout",
     "output_type": "stream",
     "text": [
      "Produtos nao duplicados = 0\n"
     ]
    }
   ],
   "source": [
    "# Verifique os nomes de produtos duplicados que não estão faltando\n",
    "\n",
    "non_na_products_df = products_df[products_df['product_name'].notna()]\n",
    "\n",
    "print(\"Produtos nao duplicados =\", len(id_duplicated_prod))\n"
   ]
  },
  {
   "cell_type": "markdown",
   "id": "60f30db1",
   "metadata": {
    "id": "60f30db1"
   },
   "source": [
    "### DataFrame `departments`"
   ]
  },
  {
   "cell_type": "code",
   "execution_count": 17,
   "id": "fb410ad4-0fbf-4b80-bb09-23fdea79afe3",
   "metadata": {
    "id": "fb410ad4-0fbf-4b80-bb09-23fdea79afe3"
   },
   "outputs": [
    {
     "name": "stdout",
     "output_type": "stream",
     "text": [
      "Numero de duplicados = 0\n"
     ]
    }
   ],
   "source": [
    "print(\"Numero de duplicados =\",depart_df.duplicated().sum())\n"
   ]
  },
  {
   "cell_type": "code",
   "execution_count": 18,
   "id": "332b12bb",
   "metadata": {
    "id": "332b12bb"
   },
   "outputs": [
    {
     "name": "stdout",
     "output_type": "stream",
     "text": [
      "Numero de id duplicado = 0\n"
     ]
    }
   ],
   "source": [
    "# Verifique apenas se há IDs dos produtos duplicados\n",
    "\n",
    "id_duplicated_depart = depart_df[depart_df['department_id'].duplicated(keep=False)]\n",
    "\n",
    "print(\"Numero de id duplicado =\", len(id_duplicated_depart))"
   ]
  },
  {
   "cell_type": "markdown",
   "id": "889349c1",
   "metadata": {
    "id": "889349c1"
   },
   "source": [
    "### DataFrame `aisles`"
   ]
  },
  {
   "cell_type": "code",
   "execution_count": 19,
   "id": "9da89fb9-4679-40f5-ad0d-c34df753a3f8",
   "metadata": {
    "id": "9da89fb9-4679-40f5-ad0d-c34df753a3f8"
   },
   "outputs": [
    {
     "name": "stdout",
     "output_type": "stream",
     "text": [
      "Numero de duplicados = 0\n"
     ]
    }
   ],
   "source": [
    "# Verifique se há linhas completamente duplicadas\n",
    "\n",
    "print(\"Numero de duplicados =\",aisles_df.duplicated().sum())"
   ]
  },
  {
   "cell_type": "code",
   "execution_count": 20,
   "id": "da7c2822",
   "metadata": {
    "id": "da7c2822"
   },
   "outputs": [
    {
     "name": "stdout",
     "output_type": "stream",
     "text": [
      "Numero de id duplicado = 0\n"
     ]
    }
   ],
   "source": [
    "# Verifique apenas se há IDs dos produtos duplicados\n",
    "\n",
    "id_duplicated_aisles = aisles_df[aisles_df['aisle_id'].duplicated(keep=False)]\n",
    "\n",
    "print(\"Numero de id duplicado =\", len(id_duplicated_aisles))"
   ]
  },
  {
   "cell_type": "markdown",
   "id": "274cd06a",
   "metadata": {
    "id": "274cd06a"
   },
   "source": [
    "### DataFrame `order_products`"
   ]
  },
  {
   "cell_type": "code",
   "execution_count": 21,
   "id": "52326689-84a8-4b8f-a881-7c68780f62c9",
   "metadata": {
    "id": "52326689-84a8-4b8f-a881-7c68780f62c9"
   },
   "outputs": [
    {
     "name": "stdout",
     "output_type": "stream",
     "text": [
      "Numero de duplicados = 0\n"
     ]
    }
   ],
   "source": [
    "# Verifique se há linhas completamente duplicadas\n",
    "\n",
    "print(\"Numero de duplicados =\",orderprod_df.duplicated().sum())"
   ]
  },
  {
   "cell_type": "markdown",
   "id": "1e46de76",
   "metadata": {
    "id": "1e46de76"
   },
   "source": [
    "## Encontre e remova valores ausentes\n",
    "\n",
    "\n",
    "Ao processarmos valores duplicados, observamos que também temos valores ausentes que precisamos investigar nas seguintes colunas:\n",
    "\n",
    "*\tA coluna `'product_name'` da tabela products.\n",
    "*\tA coluna `'days_since_prior_order'` da tabela orders.\n",
    "*\tA coluna `'add_to_cart_order'` da tabela order_products.\n"
   ]
  },
  {
   "cell_type": "markdown",
   "id": "c0aebd78",
   "metadata": {
    "id": "c0aebd78"
   },
   "source": [
    "### DataFrame `products`"
   ]
  },
  {
   "cell_type": "code",
   "execution_count": 22,
   "id": "fe4a8b0f",
   "metadata": {
    "id": "fe4a8b0f"
   },
   "outputs": [
    {
     "name": "stdout",
     "output_type": "stream",
     "text": [
      "1258\n"
     ]
    }
   ],
   "source": [
    "# Encontre valores ausentes na coluna 'product_name'\n",
    "missing_values_in_column = products_df['product_name'].isna()\n",
    "\n",
    "print(missing_values_in_column.sum())"
   ]
  },
  {
   "cell_type": "code",
   "execution_count": 23,
   "id": "e96167bc",
   "metadata": {
    "id": "e96167bc"
   },
   "outputs": [
    {
     "name": "stdout",
     "output_type": "stream",
     "text": [
      "       product_id product_name  aisle_id  department_id\n",
      "37             38          NaN       100             21\n",
      "71             72          NaN       100             21\n",
      "109           110          NaN       100             21\n",
      "296           297          NaN       100             21\n",
      "416           417          NaN       100             21\n",
      "...           ...          ...       ...            ...\n",
      "49552       49553          NaN       100             21\n",
      "49574       49575          NaN       100             21\n",
      "49640       49641          NaN       100             21\n",
      "49663       49664          NaN       100             21\n",
      "49668       49669          NaN       100             21\n",
      "\n",
      "[1258 rows x 4 columns]\n"
     ]
    }
   ],
   "source": [
    "# Todos os nomes de produtos ausentes estão associados com o corredor de ID 100?\n",
    "\n",
    "products_corridor_100 = products_df[products_df['aisle_id'] == 100]\n",
    "\n",
    "print(products_corridor_100)"
   ]
  },
  {
   "cell_type": "code",
   "execution_count": 24,
   "id": "8fd0a541",
   "metadata": {
    "id": "8fd0a541"
   },
   "outputs": [
    {
     "name": "stdout",
     "output_type": "stream",
     "text": [
      "       product_id                                       product_name  \\\n",
      "120           121                                      sharp cheddar   \n",
      "168           169                         extra sharp cheddar cheese   \n",
      "225           226                             shaved parmesan cheese   \n",
      "306           307                         precious mozzarella cheese   \n",
      "351           352               colby jack & mild cheddar combo pack   \n",
      "...           ...                                                ...   \n",
      "49318       49319  mozzarella string cheese made with 2% reduced ...   \n",
      "49351       49352                 natural extra sharp cheddar cheese   \n",
      "49353       49354                 big slice colby jack cheese slices   \n",
      "49501       49502                        sweet cream unsalted butter   \n",
      "49585       49586             chèvre oh-la-la spreadable goat cheese   \n",
      "\n",
      "       aisle_id  department_id  \n",
      "120          21             16  \n",
      "168          21             16  \n",
      "225          21             16  \n",
      "306          21             16  \n",
      "351          21             16  \n",
      "...         ...            ...  \n",
      "49318        21             16  \n",
      "49351        21             16  \n",
      "49353        21             16  \n",
      "49501        21             16  \n",
      "49585        21             16  \n",
      "\n",
      "[891 rows x 4 columns]\n"
     ]
    }
   ],
   "source": [
    "# Todos os nomes de produtos ausentes estão associados com o departamento de ID 21?\n",
    "\n",
    "products_corridor_21 = products_df[products_df['aisle_id'] == 21]\n",
    "\n",
    "print(products_corridor_21)"
   ]
  },
  {
   "cell_type": "code",
   "execution_count": 25,
   "id": "325c3464",
   "metadata": {
    "id": "325c3464"
   },
   "outputs": [
    {
     "name": "stdout",
     "output_type": "stream",
     "text": [
      "       product_id product_name  aisle_id  department_id\n",
      "37             38          NaN       100             21\n",
      "71             72          NaN       100             21\n",
      "109           110          NaN       100             21\n",
      "296           297          NaN       100             21\n",
      "416           417          NaN       100             21\n",
      "...           ...          ...       ...            ...\n",
      "49552       49553          NaN       100             21\n",
      "49574       49575          NaN       100             21\n",
      "49640       49641          NaN       100             21\n",
      "49663       49664          NaN       100             21\n",
      "49668       49669          NaN       100             21\n",
      "\n",
      "[1258 rows x 4 columns]\n"
     ]
    }
   ],
   "source": [
    "# Use as tabelas department e aisle para verificar os dados do corredor com ID 100 e do departamento com ID 21.\n",
    "\n",
    "filtered_products = products_df[\n",
    "    (products_df['aisle_id'] == 100) & \n",
    "    (products_df['department_id'] == 21)\n",
    "]\n",
    "\n",
    "print(filtered_products)"
   ]
  },
  {
   "cell_type": "code",
   "execution_count": 26,
   "id": "6b295120",
   "metadata": {
    "id": "6b295120"
   },
   "outputs": [
    {
     "name": "stdout",
     "output_type": "stream",
     "text": [
      "   product_id                                       product_name  aisle_id  \\\n",
      "0           1                         chocolate sandwich cookies        61   \n",
      "1           2                                   all-seasons salt       104   \n",
      "2           3               robust golden unsweetened oolong tea        94   \n",
      "3           4  smart ones classic favorites mini rigatoni wit...        38   \n",
      "4           5                          green chile anytime sauce         5   \n",
      "\n",
      "   department_id  \n",
      "0             19  \n",
      "1             13  \n",
      "2              7  \n",
      "3              1  \n",
      "4             13  \n"
     ]
    }
   ],
   "source": [
    "# Preencha nomes de produtos ausentes com 'Unknown'\n",
    "\n",
    "products_df['product_name'] = products_df['product_name'].fillna('Unknown')\n",
    "print(products_df.head())"
   ]
  },
  {
   "cell_type": "markdown",
   "id": "7eb45c86",
   "metadata": {
    "id": "7eb45c86"
   },
   "source": [
    "### DataFrame `orders`"
   ]
  },
  {
   "cell_type": "code",
   "execution_count": 27,
   "id": "93e41d96",
   "metadata": {
    "id": "93e41d96"
   },
   "outputs": [
    {
     "name": "stdout",
     "output_type": "stream",
     "text": [
      "order_id                      0\n",
      "user_id                       0\n",
      "order_number                  0\n",
      "order_dow                     0\n",
      "order_hour_of_day             0\n",
      "days_since_prior_order    28817\n",
      "dtype: int64\n"
     ]
    }
   ],
   "source": [
    "# Encontre os valores ausentes\n",
    "\n",
    "missing_values_orders = orders_df.isna()\n",
    "\n",
    "print(missing_values_orders.sum())"
   ]
  },
  {
   "cell_type": "code",
   "execution_count": 28,
   "id": "166e5a86",
   "metadata": {
    "id": "166e5a86"
   },
   "outputs": [
    {
     "name": "stdout",
     "output_type": "stream",
     "text": [
      "Index(['order_id', 'user_id', 'order_number', 'order_dow', 'order_hour_of_day',\n",
      "       'days_since_prior_order'],\n",
      "      dtype='object')\n",
      "order_id                     0\n",
      "user_id                      0\n",
      "order_number              7840\n",
      "order_dow                    0\n",
      "order_hour_of_day            0\n",
      "days_since_prior_order    7840\n",
      "dtype: int64\n"
     ]
    }
   ],
   "source": [
    "# Há valores ausentes para os clientes que não estão fazendo o primeiro pedido?\n",
    "\n",
    "print(orders_df.columns)\n",
    "\n",
    "orders_df['order_number'] = pd.to_datetime(orders_df['days_since_prior_order'])\n",
    "\n",
    "first_orders = orders_df.groupby('user_id')['order_number'].min().reset_index()\n",
    "\n",
    "first_orders_df = pd.merge(orders_df, first_orders, on=['user_id', 'order_number'], how='inner')\n",
    "\n",
    "missing_values_first_orders = first_orders_df.isna()\n",
    "\n",
    "missing_values_counts = missing_values_first_orders.sum()\n",
    "\n",
    "print(missing_values_counts)\n",
    "\n"
   ]
  },
  {
   "cell_type": "markdown",
   "id": "4e23d089",
   "metadata": {
    "id": "4e23d089"
   },
   "source": [
    "Dos 28.819 NaNs 7.842 foram referentes aos primeiros pedidos. Isso indica que ha alguma razao para que o cliente nao feche a compra aquele item logo na primeira vez que compra."
   ]
  },
  {
   "cell_type": "markdown",
   "id": "69dc9ca4",
   "metadata": {
    "id": "69dc9ca4"
   },
   "source": [
    "### DataFrame `order_products`"
   ]
  },
  {
   "cell_type": "code",
   "execution_count": 29,
   "id": "b8240253",
   "metadata": {
    "id": "b8240253"
   },
   "outputs": [
    {
     "name": "stdout",
     "output_type": "stream",
     "text": [
      "order_id               0\n",
      "product_id             0\n",
      "add_to_cart_order    836\n",
      "reordered              0\n",
      "dtype: int64\n"
     ]
    }
   ],
   "source": [
    "# Encontre os valores ausentes\n",
    "\n",
    "missing_values_ordersprod = orderprod_df.isna()\n",
    "\n",
    "print(missing_values_ordersprod.sum())"
   ]
  },
  {
   "cell_type": "code",
   "execution_count": 30,
   "id": "9a78e5ee",
   "metadata": {
    "id": "9a78e5ee"
   },
   "outputs": [
    {
     "name": "stdout",
     "output_type": "stream",
     "text": [
      "Os valores mínimos e máximos são: 1.0 e 64.0\n"
     ]
    }
   ],
   "source": [
    "# Quais são os valores mínimo e máximo dessa coluna?\n",
    "\n",
    "min_value = orderprod_df['add_to_cart_order'].min()\n",
    "max_value = orderprod_df['add_to_cart_order'].max()\n",
    "\n",
    "print(\"Os valores mínimos e máximos são:\", min_value, \"e\", max_value)"
   ]
  },
  {
   "cell_type": "markdown",
   "id": "-Z2Ja215jW78",
   "metadata": {
    "id": "-Z2Ja215jW78"
   },
   "source": [
    "Os dados acima indicam que o menor valor é 1 e o maior valor é 64 ref aos itens colocados no carrinho."
   ]
  },
  {
   "cell_type": "code",
   "execution_count": 31,
   "id": "ab9d0c2b",
   "metadata": {
    "id": "ab9d0c2b"
   },
   "outputs": [
    {
     "name": "stdout",
     "output_type": "stream",
     "text": [
      "IDs dos pedidos com pelo menos um valor ausente: [2449164 1968313 2926893 1717990 1959075  844733   61355  936852  264710\n",
      " 1564093  129627  293169 2849370 1386261 3308010  903110 2136777 3347453\n",
      " 1888628  165801 2094761 1038146 2997021  813364 2256933  171934 2409109\n",
      " 1730767 1169835  733526  404157 3125735  747668 1800005 1961723  871281\n",
      "  388234 1648217 1477139  102236 1021563 1832957 2721963  678116 1220886\n",
      " 1673227 2999801 1633337 2470674 2625444 1677118 2479011 3383594 1183255\n",
      " 1713430 2652650 1598369 1916118  854647 1302315  888470  180546 2621907\n",
      " 1308785 2729254    9310 2170451 2979697 1625713 1529171]\n"
     ]
    }
   ],
   "source": [
    "# Salve todos os IDs dos pedidos com pelo menos um valor ausente em 'add_to_cart_order'\n",
    "\n",
    "missing_values = orderprod_df[orderprod_df['add_to_cart_order'].isna()]\n",
    "\n",
    "if 'order_id' in orderprod_df.columns:\n",
    "    missing_values_in_ids = missing_values['order_id'].unique()\n",
    "else:\n",
    "     raise ValueError(\"Unknown\")\n",
    "\n",
    "print(\"IDs dos pedidos com pelo menos um valor ausente:\", missing_values_in_ids)\n"
   ]
  },
  {
   "cell_type": "code",
   "execution_count": 32,
   "id": "54c31695",
   "metadata": {
    "id": "54c31695"
   },
   "outputs": [
    {
     "name": "stdout",
     "output_type": "stream",
     "text": [
      "Valor mínimo da contagem de produtos para pedidos com valores ausentes: 1\n"
     ]
    }
   ],
   "source": [
    "missing_values = orderprod_df.isna().any(axis=1)\n",
    "\n",
    "orders_with_missing_values = orderprod_df[missing_values]\n",
    "\n",
    "product_count_per_order = orders_with_missing_values.groupby('order_id').size()\n",
    "\n",
    "min_product_count = product_count_per_order.min()\n",
    "\n",
    "print(f\"Valor mínimo da contagem de produtos para pedidos com valores ausentes: {min_product_count}\")\n",
    "\n"
   ]
  },
  {
   "cell_type": "code",
   "execution_count": 33,
   "id": "7a987d08",
   "metadata": {
    "id": "7a987d08"
   },
   "outputs": [
    {
     "name": "stdout",
     "output_type": "stream",
     "text": [
      "         order_id  product_id  add_to_cart_order  reordered\n",
      "0         2141543       11440                 17          0\n",
      "1          567889        1560                  1          1\n",
      "2         2261212       26683                  1          1\n",
      "3          491251        8670                 35          1\n",
      "4         2571142        1940                  5          1\n",
      "...           ...         ...                ...        ...\n",
      "4545002    577211       15290                 12          1\n",
      "4545003   1219554       21914                  9          0\n",
      "4545004    692640       47766                  4          1\n",
      "4545005    319435         691                  8          1\n",
      "4545006   1398151       28733                  9          0\n",
      "\n",
      "[4545007 rows x 4 columns]\n"
     ]
    }
   ],
   "source": [
    "# Substitua valores ausentes na coluna 'add_to_cart_order' por 999 e converta a coluna para o tipo integer\n",
    "\n",
    "orderprod_df['add_to_cart_order'] = orderprod_df['add_to_cart_order'].fillna(999)\n",
    "\n",
    "orderprod_df['add_to_cart_order'] = orderprod_df['add_to_cart_order'].astype(int)\n",
    "\n",
    "print(orderprod_df)"
   ]
  },
  {
   "cell_type": "markdown",
   "id": "RnplPFY1gSrb",
   "metadata": {
    "id": "RnplPFY1gSrb"
   },
   "source": [
    "## Conclusões\n",
    "\n",
    "Escreva aqui suas conclusões intermediárias da Etapa 2. Preparação de dados:\n",
    "\n",
    "A preparaçao dos dados é um etapa muito importante pois ela iguala os dados para que possamos fazer uma analise mais aprofundada da situacao dos pedidos. Sem tratar os dados de maneira adequada a analise ficaria completamente comprometida porem trata-los nao foi a situacao mais simples para mim visto ser a primeira vez que faço."
   ]
  },
  {
   "cell_type": "markdown",
   "id": "UjrOIwTcz3ri",
   "metadata": {
    "id": "UjrOIwTcz3ri"
   },
   "source": [
    "# Etapa 3. Análise de dados\n",
    "\n",
    "Quando os dados estiverem processados ​​e prontos, execute a seguinte análise:"
   ]
  },
  {
   "cell_type": "markdown",
   "id": "turkish-kidney",
   "metadata": {
    "id": "turkish-kidney"
   },
   "source": [
    "# [A] Fácil (é necessário concluir tudo para passar)\n",
    "\n",
    "1.\tVerifique se os valores nas colunas `'order_hour_of_day'` e `'order_dow'` na tabela `orders` fazem sentido (ou seja, os valores da coluna  `'order_hour_of_day'` variam de 0 a 23 e os da `'order_dow'` variam de 0 a 6).\n",
    "2.\tCrie um gráfico que mostre quantas pessoas fazem pedidos a cada hora do dia.\n",
    "3.\tCrie um gráfico que mostre em que dia da semana as pessoas fazem compras.\n",
    "4.\tCrie um gráfico que mostre quanto tempo as pessoas esperam até fazer seu próximo pedido e comente sobre os valores mínimo e máximo.\n"
   ]
  },
  {
   "cell_type": "markdown",
   "id": "short-capability",
   "metadata": {
    "id": "short-capability"
   },
   "source": [
    "### [A1] Verifique se os valores fazem sentido"
   ]
  },
  {
   "cell_type": "code",
   "execution_count": 34,
   "id": "growing-fruit",
   "metadata": {
    "id": "growing-fruit"
   },
   "outputs": [
    {
     "data": {
      "text/plain": [
       "True"
      ]
     },
     "execution_count": 34,
     "metadata": {},
     "output_type": "execute_result"
    }
   ],
   "source": [
    "valid_order_hour_of_day = ((orders_df['order_hour_of_day'] >= 0) & (orders_df['order_hour_of_day'] <= 23)).all()\n",
    "valid_order_hour_of_day\n",
    "\n",
    "valid_order_dow = ((orders_df['order_dow'] >= 0) & (orders_df['order_dow'] <= 6)).all()\n",
    "valid_order_dow\n",
    "\n"
   ]
  },
  {
   "cell_type": "markdown",
   "id": "a6743a70",
   "metadata": {
    "id": "a6743a70"
   },
   "source": [
    "### [A2] Quantas pessoas fazem pedidos a cada hora do dia?"
   ]
  },
  {
   "cell_type": "code",
   "execution_count": 35,
   "id": "a36cca27",
   "metadata": {
    "id": "a36cca27"
   },
   "outputs": [
    {
     "data": {
      "image/png": "[encoded data removed]",
      "text/plain": [
       "<Figure size 640x480 with 1 Axes>"
      ]
     },
     "metadata": {},
     "output_type": "display_data"
    }
   ],
   "source": [
    "pedido_hora = orders_df['order_hour_of_day'].value_counts().sort_index()\n",
    "\n",
    "pedido_hora.plot(kind='bar')\n",
    "plt.title('Distribuição de Pedidos por Hora do Dia')\n",
    "plt.xlabel('Hora do Dia')\n",
    "plt.ylabel('Número de Pedidos')\n",
    "plt.show()\n",
    "\n"
   ]
  },
  {
   "cell_type": "markdown",
   "id": "11270eed",
   "metadata": {
    "id": "11270eed"
   },
   "source": [
    "O gráfico mostra que os pedidos se concentram principalmente entre 8h e 16h, com picos às 9h e 15h, indicando maior atividade durante o horário comercial."
   ]
  },
  {
   "cell_type": "markdown",
   "id": "documented-command",
   "metadata": {
    "id": "documented-command"
   },
   "source": [
    "### [A3] Em que dia da semana as pessoas compram produtos alimentícios?"
   ]
  },
  {
   "cell_type": "code",
   "execution_count": 36,
   "id": "chief-digit",
   "metadata": {
    "id": "chief-digit"
   },
   "outputs": [
    {
     "data": {
      "image/png": "[encoded data removed]",
      "text/plain": [
       "<Figure size 640x480 with 1 Axes>"
      ]
     },
     "metadata": {},
     "output_type": "display_data"
    }
   ],
   "source": [
    "dia_semana = orders_df['order_dow'].value_counts().sort_index()\n",
    "\n",
    "dia_semana.plot(kind='bar')\n",
    "plt.title('Distribuição de Pedidos por Dia da Semana')\n",
    "plt.xlabel('Dia da Semana')\n",
    "plt.ylabel('Qtde de Pedidos')\n",
    "plt.show()"
   ]
  },
  {
   "cell_type": "markdown",
   "id": "dominant-lightning",
   "metadata": {
    "id": "dominant-lightning"
   },
   "source": [
    "O gráfico mostra que a sexta-feira (dia 5) é o dia com o maior número de pedidos, enquanto o domingo (dia 6) tem a menor quantidade, indicando um aumento de atividade ao final da semana.\n",
    "É basicamente a conclusao que coloquei no primeiro exercicio."
   ]
  },
  {
   "cell_type": "markdown",
   "id": "cutting-concert",
   "metadata": {
    "id": "cutting-concert"
   },
   "source": [
    "### [A4] Quanto tempo as pessoas esperam até fazer outro pedido?"
   ]
  },
  {
   "cell_type": "markdown",
   "id": "discrete-vertex",
   "metadata": {
    "id": "discrete-vertex"
   },
   "source": [
    "Escreva suas conclusões aqui"
   ]
  },
  {
   "cell_type": "code",
   "execution_count": 37,
   "id": "gMOIimGd5VNb",
   "metadata": {
    "id": "gMOIimGd5VNb"
   },
   "outputs": [
    {
     "data": {
      "image/png": "[encoded data removed]",
      "text/plain": [
       "<Figure size 640x480 with 1 Axes>"
      ]
     },
     "metadata": {},
     "output_type": "display_data"
    }
   ],
   "source": [
    "tempo_pedido = orders_df['days_since_prior_order'].value_counts().sort_index()\n",
    "\n",
    "tempo_pedido.plot(kind='bar')\n",
    "plt.title('Tempo de Pedido')\n",
    "plt.xlabel('Tempo de espera')\n",
    "plt.rot=45\n",
    "plt.show()\n",
    "\n"
   ]
  },
  {
   "cell_type": "markdown",
   "id": "c0b0da29",
   "metadata": {},
   "source": [
    "O gráfico revela que a maioria dos pedidos é processada em um tempo muito curto com poucos pedidos levando mais tempo para serem concluídos."
   ]
  },
  {
   "cell_type": "markdown",
   "id": "tight-staff",
   "metadata": {
    "id": "tight-staff"
   },
   "source": [
    "# [B] Médio (é necessário concluir tudo para passar)\n",
    "\n",
    "1.\tHá alguma diferença nas distribuições de `'order_hour_of_day'` nas quartas e sábados? Construa gráficos de barras para ambos os dias no mesmo gráfico e descreva as diferenças que você notou.\n",
    "2.\tConstrua um gráfico de distribuição para o número de pedidos que os clientes fazem (ou seja, quantos clientes fizeram apenas 1 pedido, quantos fizeram apenas 2, quantos apenas 3, etc.)\n",
    "3.\tQuais são os 20 produtos comprados com mais frequência? Exiba os IDs e nomes.\n"
   ]
  },
  {
   "cell_type": "markdown",
   "id": "packed-classic",
   "metadata": {
    "id": "packed-classic"
   },
   "source": [
    "### [B1] Diferenças nas quartas e sábados em `'order_hour_of_day'`. Crie gráficos de barras para ambos os dias e descreva as diferenças."
   ]
  },
  {
   "cell_type": "code",
   "execution_count": 38,
   "id": "d89b8403",
   "metadata": {
    "id": "d89b8403"
   },
   "outputs": [
    {
     "data": {
      "image/png": "[encoded data removed]",
      "text/plain": [
       "<Figure size 1400x700 with 1 Axes>"
      ]
     },
     "metadata": {},
     "output_type": "display_data"
    }
   ],
   "source": [
    "orders_wednesday = orders_df[orders_df['order_dow'] == 3]\n",
    "orders_saturday = orders_df[orders_df['order_dow'] == 6]\n",
    "\n",
    "hourly_distribution_wednesday = orders_wednesday['order_hour_of_day'].value_counts().sort_index()\n",
    "hourly_distribution_saturday = orders_saturday['order_hour_of_day'].value_counts().sort_index()\n",
    "\n",
    "plt.figure(figsize=(14, 7))\n",
    "plt.bar(hourly_distribution_wednesday.index - 0.2, hourly_distribution_wednesday.values, width=0.4, label='Quarta-feira', color='blue', align='center')\n",
    "plt.bar(hourly_distribution_saturday.index + 0.2, hourly_distribution_saturday.values, width=0.4, label='Sábado', color='orange', align='center')\n",
    "plt.xlabel('Hora do Dia')\n",
    "plt.ylabel('Número de Pedidos')\n",
    "plt.title('Distribuição de Pedidos por Hora do Dia: Quartas vs Sábados')\n",
    "plt.xticks(range(24))\n",
    "plt.legend()\n",
    "plt.show()\n",
    "\n"
   ]
  },
  {
   "cell_type": "markdown",
   "id": "e3891143",
   "metadata": {
    "id": "e3891143"
   },
   "source": [
    "### [B2] Qual é a distribuição do número de pedidos por cliente?"
   ]
  },
  {
   "cell_type": "code",
   "execution_count": 39,
   "id": "d8c26c23",
   "metadata": {
    "id": "d8c26c23"
   },
   "outputs": [
    {
     "data": {
      "image/png": "[encoded data removed]",
      "text/plain": [
       "<Figure size 640x480 with 1 Axes>"
      ]
     },
     "metadata": {},
     "output_type": "display_data"
    }
   ],
   "source": [
    "import matplotlib.pyplot as plt\n",
    "\n",
    "pedidos_por_cliente = orders_df['order_number'].groupby(orders_df['user_id']).count()\n",
    "\n",
    "plt.hist(pedidos_por_cliente, bins=4)\n",
    "plt.title('Distribuição do Número de Pedidos por Cliente')\n",
    "plt.xlabel('Número de Pedidos')\n",
    "plt.ylabel('Número de Clientes')\n",
    "plt.grid(True)\n",
    "plt.show()\n",
    "\n",
    "\n",
    "\n"
   ]
  },
  {
   "cell_type": "markdown",
   "id": "c15ef8ff",
   "metadata": {},
   "source": [
    "A análise revela que a maioria dos clientes realiza um número relativamente baixo de pedidos, enquanto um pequeno grupo de clientes faz pedidos com frequência significativamente maior."
   ]
  },
  {
   "cell_type": "markdown",
   "id": "54a0319c",
   "metadata": {
    "id": "54a0319c"
   },
   "source": [
    "### [B3] Quais são os 20 produtos mais populares? Exiba os IDs e nomes."
   ]
  },
  {
   "cell_type": "code",
   "execution_count": 40,
   "id": "exterior-arizona",
   "metadata": {
    "id": "exterior-arizona",
    "scrolled": true
   },
   "outputs": [
    {
     "data": {
      "image/png": "[encoded data removed]",
      "text/plain": [
       "<Figure size 640x480 with 1 Axes>"
      ]
     },
     "metadata": {},
     "output_type": "display_data"
    }
   ],
   "source": [
    "contagem_produtos = orderprod_df['product_id'].value_counts().reset_index()\n",
    "contagem_produtos.columns = ['product_id', 'order_count']\n",
    "\n",
    "merged_df = contagem_produtos.merge(\n",
    "                                    products_df,\n",
    "                                    left_on = 'product_id',\n",
    "                                    right_on = 'product_id'\n",
    "                                    )\n",
    "top_20_products = merged_df.sort_values(by='order_count', ascending=False).head(20)\n",
    "\n",
    "top_20_products[['product_id', 'product_name', 'order_count']]\n",
    "\n",
    "top_20_products.plot(\n",
    "    kind = 'bar',\n",
    "    title = 'Top 20 Most Popular Products',\n",
    "    x = 'product_name',\n",
    "    y = 'order_count',\n",
    "    xlabel = 'Product Name',\n",
    "    ylabel = 'Number of Orders',\n",
    "    rot = 90\n",
    ")\n",
    "\n",
    "plt.show()\n"
   ]
  },
  {
   "cell_type": "markdown",
   "id": "gross-theme",
   "metadata": {
    "id": "gross-theme"
   },
   "source": [
    "# [C] Difícil (é necessário concluir pelo menos duas perguntas para passar)\n",
    "\n",
    "1.\tQuantos itens as pessoas normalmente compram em um pedido? Como fica a distribuição?\n",
    "2.\tQuais são os 20 principais itens incluídos mais frequentemente em pedidos repetidos? Exiba os IDs e nomes.\n",
    "3.\tPara cada produto, qual parcela de seus pedidos são repetidos? Crie uma tabela com colunas de ID e nome do produto e a proporção de pedidos repetidos.\n",
    "4.\tPara cada cliente, qual proporção de todos os seus pedidos são repetidos?\n",
    "5.\tQuais são os 20 principais itens que as pessoas colocam nos carrinhos antes de todos os outros? Exiba o ID do produto, nome e o número de vezes que ele foi o primeiro a ser adicionado a um carrinho.\n"
   ]
  },
  {
   "cell_type": "markdown",
   "id": "romantic-deposit",
   "metadata": {
    "id": "romantic-deposit"
   },
   "source": [
    "### [C1] Quantos itens as pessoas normalmente compram em um pedido? Como fica a distribuição?"
   ]
  },
  {
   "cell_type": "code",
   "execution_count": 41,
   "id": "virtual-punch",
   "metadata": {
    "id": "virtual-punch"
   },
   "outputs": [
    {
     "data": {
      "image/png": "[encoded data removed]",
      "text/plain": [
       "<Figure size 1000x600 with 1 Axes>"
      ]
     },
     "metadata": {},
     "output_type": "display_data"
    }
   ],
   "source": [
    "item_por_pedido = orderprod_df['product_id'].groupby(orderprod_df['order_id']).count()\n",
    "\n",
    "qtde_comprada_item = item_por_pedido.value_counts().sort_index()\n",
    "\n",
    "plt.figure(figsize=(10, 6))\n",
    "plt.bar(qtde_comprada_item.index, qtde_comprada_item.values, alpha=0.7)\n",
    "plt.title('Distribuição do Número de Itens por Pedido')\n",
    "plt.xlabel('Número de Itens por Pedido')\n",
    "plt.ylabel('Número de Pedidos')\n",
    "plt.grid(True)\n",
    "plt.show()\n"
   ]
  },
  {
   "cell_type": "markdown",
   "id": "5e6b5537",
   "metadata": {
    "id": "5e6b5537"
   },
   "source": [
    "### [C2] Quais são os 20 principais itens incluídos com mais frequência em pedidos repetidos? Exiba os IDs e nomes."
   ]
  },
  {
   "cell_type": "code",
   "execution_count": 42,
   "id": "9374e55a",
   "metadata": {
    "id": "9374e55a"
   },
   "outputs": [
    {
     "data": {
      "image/png": "[encoded data removed]",
      "text/plain": [
       "<Figure size 640x480 with 1 Axes>"
      ]
     },
     "metadata": {},
     "output_type": "display_data"
    }
   ],
   "source": [
    "top_20_produtos = orderprod_df.groupby('order_id')['reordered'].count()\n",
    "\n",
    "top_20_product_counts = top_20_produtos.reset_index()\n",
    "top_20_product_counts.columns = ['product_id', 'reordered'] \n",
    "merged_df_20_products = top_20_product_counts.merge(    products_df,\n",
    "                                                        left_on = 'product_id',\n",
    "                                                        right_on = 'product_id'\n",
    "                                                        )\n",
    "top_20_products_repeated = merged_df_20_products.sort_values(by='reordered', ascending=False).head(20) \n",
    "\n",
    "top_20_products_repeated[['product_id', 'product_name', 'reordered']] \n",
    "\n",
    "top_20_products_repeated.plot(\n",
    "    kind = 'barh',\n",
    "    title = 'Top 20 Produtos',\n",
    "    x = 'product_name',\n",
    "    y = 'reordered',\n",
    "    xlabel = 'Product Name',\n",
    "    ylabel = 'Number of Orders',\n",
    "    edgecolor='grey', \n",
    "    color='pink',\n",
    "    legend = False\n",
    ")\n",
    "\n",
    "plt.show()\n",
    "\n"
   ]
  },
  {
   "cell_type": "markdown",
   "id": "9d312b14",
   "metadata": {
    "id": "9d312b14"
   },
   "source": [
    "### [C3] Para cada produto, qual parcela de todos os pedidos dele são repetidos?"
   ]
  },
  {
   "cell_type": "code",
   "execution_count": 43,
   "id": "8ae9f4b1",
   "metadata": {
    "id": "8ae9f4b1",
    "scrolled": true
   },
   "outputs": [
    {
     "data": {
      "image/png": "[encoded data removed]",
      "text/plain": [
       "<Figure size 1000x600 with 1 Axes>"
      ]
     },
     "metadata": {},
     "output_type": "display_data"
    }
   ],
   "source": [
    "repeticao_item_pedido = orderprod_df['product_id'].groupby(orderprod_df['order_id']).count()\n",
    "\n",
    "qtde_comprada_item =repeticao_item_pedido.value_counts().sort_index()\n",
    "\n",
    "plt.figure(figsize=(10, 6))\n",
    "qtde_comprada_item.plot(kind='bar')\n",
    "plt.title('Distribuição do Número de Itens por Pedido')\n",
    "plt.xlabel('Número de Itens por Pedido')\n",
    "plt.ylabel('Número de Pedidos')\n",
    "plt.grid(True)\n",
    "plt.show()"
   ]
  },
  {
   "cell_type": "markdown",
   "id": "815d10a0",
   "metadata": {},
   "source": [
    "A análise do gráfico de barras que representa a distribuição do número de itens por pedido revela que a maioria dos pedidos contém um pequeno número de itens, com um pico significativo em torno de um ou dois itens por pedido.\n",
    "\n",
    "<div class=\"alert alert-info\">\n",
    "<strong>Comentário do estudante</strong>\n",
    "\n",
    "Feito.\n",
    "</div>"
   ]
  },
  {
   "cell_type": "markdown",
   "id": "subject-boxing",
   "metadata": {
    "id": "subject-boxing"
   },
   "source": [
    "### [C4] Para cada cliente, qual proporção de todos os seus pedidos são repetidos?"
   ]
  },
  {
   "cell_type": "code",
   "execution_count": null,
   "id": "medical-couple",
   "metadata": {
    "id": "medical-couple",
    "scrolled": true
   },
   "outputs": [],
   "source": [
    "merge_df = orders_df.merge(orderprod_df, on = 'order_id', how = 'inner')\n",
    "reorder_proportion_per_client = merge_df.groupby('user_id').agg(total_orders = ('order_id', 'count'), total_reorders = ('reordered', 'sum'))\n",
    "\n",
    "reorder_proportion_per_client['reorder_proportion'] = reorder_proportion_per_client['total_reorders'] / reorder_proportion_per_client['total_orders']\n",
    "reorder_proportion_per_client.head(20)"
   ]
  },
  {
   "cell_type": "markdown",
   "id": "92d35137",
   "metadata": {
    "id": "92d35137"
   },
   "source": [
    "### [C5] Quais são os 20 principais itens que as pessoas colocam nos carrinhos antes de todos os outros?"
   ]
  },
  {
   "cell_type": "code",
   "execution_count": null,
   "id": "0ae57274",
   "metadata": {
    "id": "0ae57274",
    "scrolled": true
   },
   "outputs": [],
   "source": [
    "top_20_order_item = orderprod_df.sort_values(by='add_to_cart_order').head(20)\n",
    "\n",
    "top_20_order_item_unique = top_20_order_item[['product_id', 'add_to_cart_order']].drop_duplicates()\n",
    "\n",
    "ordem_20_itens_inclusos = top_20_order_item_unique.merge(\n",
    "    products_df[['product_id', 'product_name']], on='product_id'\n",
    ")\n",
    "\n",
    "print(ordem_20_itens_inclusos)\n",
    "\n",
    "df_merge = orderprod_df.merge(products_df)\n",
    "\n",
    "primeiro_incluido = df_merge[df_merge['add_to_cart_order'] == 1]\n",
    "primeiro_incluido = primeiro_incluido.groupby(['product_id', 'product_name'])['product_id'].count().sort_values(ascending=False)\n",
    "primeiro_incluido_df = primeiro_incluido.reset_index(name='count')\n",
    "\n",
    "primeiro_incluido_df.head(20)\n",
    "\n"
   ]
  },
  {
   "cell_type": "markdown",
   "id": "TisH_5Cp3wAi",
   "metadata": {
    "id": "TisH_5Cp3wAi"
   },
   "source": [
    "# Conclusão geral do projeto:"
   ]
  },
  {
   "cell_type": "markdown",
   "id": "44cf753c",
   "metadata": {
    "id": "Nk-4GS7mDwqY"
   },
   "source": [
    "A análise revelou que as compras são mais frequentes aos domingos e segundas-feiras, com picos entre 10h e 16h e menor movimento entre 03h e 04h. A distribuição das compras varia entre quartas-feiras e sábados, especialmente entre 10h e 15h. A maioria dos clientes faz poucos pedidos, com um intervalo médio de 30 dias entre compras. Em média, cada compra inclui 10 produtos, predominando verduras e frutas. Além disso, muitos dos produtos mais comprados são adquiridos regularmente."
   ]
  }
 ],
 "metadata": {
  "ExecuteTimeLog": [
   {
    "duration": 452,
    "start_time": "2024-08-21T12:06:30.325Z"
   },
   {
    "duration": 464,
    "start_time": "2024-08-21T12:07:09.241Z"
   },
   {
    "duration": 425,
    "start_time": "2024-08-21T12:07:14.535Z"
   },
   {
    "duration": 89,
    "start_time": "2024-08-21T12:07:56.919Z"
   },
   {
    "duration": 10,
    "start_time": "2024-08-21T12:08:16.866Z"
   },
   {
    "duration": 8,
    "start_time": "2024-08-21T12:08:44.091Z"
   },
   {
    "duration": 3601,
    "start_time": "2024-08-21T12:09:10.139Z"
   },
   {
    "duration": 397,
    "start_time": "2024-08-21T12:10:56.898Z"
   },
   {
    "duration": 46,
    "start_time": "2024-08-21T12:11:06.366Z"
   },
   {
    "duration": 8,
    "start_time": "2024-08-21T12:11:15.710Z"
   },
   {
    "duration": 7,
    "start_time": "2024-08-21T12:11:23.438Z"
   },
   {
    "duration": 3360,
    "start_time": "2024-08-21T12:11:32.785Z"
   },
   {
    "duration": 49,
    "start_time": "2024-08-21T12:13:21.323Z"
   },
   {
    "duration": 73,
    "start_time": "2024-08-21T12:13:55.908Z"
   },
   {
    "duration": 527,
    "start_time": "2024-08-21T12:34:34.145Z"
   },
   {
    "duration": 327,
    "start_time": "2024-08-21T12:35:17.155Z"
   },
   {
    "duration": 461,
    "start_time": "2024-08-21T12:36:23.624Z"
   },
   {
    "duration": 7,
    "start_time": "2024-08-21T12:42:56.947Z"
   },
   {
    "duration": 1176,
    "start_time": "2024-08-21T12:43:10.518Z"
   },
   {
    "duration": 355,
    "start_time": "2024-08-21T12:44:55.492Z"
   },
   {
    "duration": 81,
    "start_time": "2024-08-21T12:49:06.197Z"
   },
   {
    "duration": 76,
    "start_time": "2024-08-21T12:49:48.355Z"
   },
   {
    "duration": 81,
    "start_time": "2024-08-21T12:50:13.983Z"
   },
   {
    "duration": 17,
    "start_time": "2024-08-21T12:52:50.613Z"
   },
   {
    "duration": 16,
    "start_time": "2024-08-21T12:53:41.198Z"
   },
   {
    "duration": 8,
    "start_time": "2024-08-21T12:54:14.237Z"
   },
   {
    "duration": 161,
    "start_time": "2024-08-21T12:55:24.996Z"
   },
   {
    "duration": 348,
    "start_time": "2024-08-21T12:56:25.139Z"
   },
   {
    "duration": 320,
    "start_time": "2024-08-21T12:58:41.028Z"
   },
   {
    "duration": 314,
    "start_time": "2024-08-21T12:58:49.351Z"
   },
   {
    "duration": 327,
    "start_time": "2024-08-21T12:59:13.102Z"
   },
   {
    "duration": 308,
    "start_time": "2024-08-21T12:59:16.563Z"
   },
   {
    "duration": 9,
    "start_time": "2024-08-21T12:59:33.401Z"
   },
   {
    "duration": 15,
    "start_time": "2024-08-21T13:03:12.886Z"
   },
   {
    "duration": 12,
    "start_time": "2024-08-21T13:03:26.004Z"
   },
   {
    "duration": 12,
    "start_time": "2024-08-21T13:03:45.951Z"
   },
   {
    "duration": 8,
    "start_time": "2024-08-21T13:05:30.026Z"
   },
   {
    "duration": 346,
    "start_time": "2024-08-21T13:09:28.657Z"
   },
   {
    "duration": 6,
    "start_time": "2024-08-21T13:09:34.395Z"
   },
   {
    "duration": 6,
    "start_time": "2024-08-21T13:39:56.733Z"
   },
   {
    "duration": 69,
    "start_time": "2024-08-21T13:40:13.734Z"
   },
   {
    "duration": 6,
    "start_time": "2024-08-21T13:41:00.764Z"
   },
   {
    "duration": 80,
    "start_time": "2024-08-21T13:41:25.219Z"
   },
   {
    "duration": 75,
    "start_time": "2024-08-21T13:41:58.777Z"
   },
   {
    "duration": 7,
    "start_time": "2024-08-21T13:42:20.147Z"
   },
   {
    "duration": 7,
    "start_time": "2024-08-21T13:42:26.411Z"
   },
   {
    "duration": 5,
    "start_time": "2024-08-21T13:42:38.006Z"
   },
   {
    "duration": 39,
    "start_time": "2024-08-21T13:44:41.698Z"
   },
   {
    "duration": 38,
    "start_time": "2024-08-21T13:44:48.601Z"
   },
   {
    "duration": 440,
    "start_time": "2024-08-21T13:45:18.279Z"
   },
   {
    "duration": 50,
    "start_time": "2024-08-21T13:45:43.699Z"
   },
   {
    "duration": 44,
    "start_time": "2024-08-21T13:45:48.660Z"
   },
   {
    "duration": 22,
    "start_time": "2024-08-21T13:47:47.400Z"
   },
   {
    "duration": 13,
    "start_time": "2024-08-21T13:48:50.350Z"
   },
   {
    "duration": 12,
    "start_time": "2024-08-21T13:49:05.602Z"
   },
   {
    "duration": 31,
    "start_time": "2024-08-21T13:49:37.153Z"
   },
   {
    "duration": 21,
    "start_time": "2024-08-21T13:49:57.079Z"
   },
   {
    "duration": 11,
    "start_time": "2024-08-21T13:50:00.245Z"
   },
   {
    "duration": 31,
    "start_time": "2024-08-21T13:50:23.846Z"
   },
   {
    "duration": 12,
    "start_time": "2024-08-21T13:50:33.737Z"
   },
   {
    "duration": 13,
    "start_time": "2024-08-21T13:50:49.515Z"
   },
   {
    "duration": 32,
    "start_time": "2024-08-21T13:51:11.420Z"
   },
   {
    "duration": 43,
    "start_time": "2024-08-21T13:53:22.411Z"
   },
   {
    "duration": 43,
    "start_time": "2024-08-21T13:55:58.527Z"
   },
   {
    "duration": 49,
    "start_time": "2024-08-21T13:56:17.280Z"
   },
   {
    "duration": 50,
    "start_time": "2024-08-21T13:56:52.724Z"
   },
   {
    "duration": 57,
    "start_time": "2024-08-21T13:57:55.077Z"
   },
   {
    "duration": 53,
    "start_time": "2024-08-21T13:58:26.645Z"
   },
   {
    "duration": 14,
    "start_time": "2024-08-21T14:04:37.736Z"
   },
   {
    "duration": 10,
    "start_time": "2024-08-21T14:05:09.254Z"
   },
   {
    "duration": 24,
    "start_time": "2024-08-21T14:05:49.972Z"
   },
   {
    "duration": 33,
    "start_time": "2024-08-21T14:06:51.512Z"
   },
   {
    "duration": 48,
    "start_time": "2024-08-21T14:07:34.863Z"
   },
   {
    "duration": 55,
    "start_time": "2024-08-21T14:07:46.174Z"
   },
   {
    "duration": 37,
    "start_time": "2024-08-21T14:07:53.645Z"
   },
   {
    "duration": 8,
    "start_time": "2024-08-21T14:11:42.992Z"
   },
   {
    "duration": 6,
    "start_time": "2024-08-21T14:12:10.532Z"
   },
   {
    "duration": 34,
    "start_time": "2024-08-21T14:12:27.919Z"
   },
   {
    "duration": 12,
    "start_time": "2024-08-21T14:13:54.381Z"
   },
   {
    "duration": 10,
    "start_time": "2024-08-21T14:15:08.334Z"
   },
   {
    "duration": 6,
    "start_time": "2024-08-21T14:16:15.462Z"
   },
   {
    "duration": 10,
    "start_time": "2024-08-21T14:17:02.427Z"
   },
   {
    "duration": 5,
    "start_time": "2024-08-21T14:18:10.540Z"
   },
   {
    "duration": 11,
    "start_time": "2024-08-21T14:18:14.802Z"
   },
   {
    "duration": 6,
    "start_time": "2024-08-21T14:18:16.443Z"
   },
   {
    "duration": 2494,
    "start_time": "2024-08-21T14:19:17.385Z"
   },
   {
    "duration": 517,
    "start_time": "2024-08-21T15:39:59.424Z"
   },
   {
    "duration": 97,
    "start_time": "2024-08-21T15:40:03.965Z"
   },
   {
    "duration": 14,
    "start_time": "2024-08-21T15:40:18.826Z"
   },
   {
    "duration": 27,
    "start_time": "2024-08-21T15:44:09.859Z"
   },
   {
    "duration": 46,
    "start_time": "2024-08-21T15:44:23.492Z"
   },
   {
    "duration": 334,
    "start_time": "2024-08-23T19:10:50.268Z"
   },
   {
    "duration": 0,
    "start_time": "2024-08-23T19:10:50.606Z"
   },
   {
    "duration": 23,
    "start_time": "2024-08-23T19:10:50.701Z"
   },
   {
    "duration": 22,
    "start_time": "2024-08-23T19:11:29.638Z"
   },
   {
    "duration": 483,
    "start_time": "2024-08-23T19:11:35.124Z"
   },
   {
    "duration": 277,
    "start_time": "2024-08-23T19:11:42.762Z"
   },
   {
    "duration": 85,
    "start_time": "2024-08-23T19:12:28.693Z"
   },
   {
    "duration": 11,
    "start_time": "2024-08-23T19:12:32.715Z"
   },
   {
    "duration": 9,
    "start_time": "2024-08-23T19:12:36.279Z"
   },
   {
    "duration": 1392,
    "start_time": "2024-08-23T19:12:39.151Z"
   },
   {
    "duration": 52,
    "start_time": "2024-08-23T19:12:42.315Z"
   },
   {
    "duration": 9,
    "start_time": "2024-08-23T19:13:30.776Z"
   },
   {
    "duration": 36,
    "start_time": "2024-08-23T19:16:53.808Z"
   },
   {
    "duration": 8,
    "start_time": "2024-08-23T19:17:35.108Z"
   },
   {
    "duration": 24,
    "start_time": "2024-08-23T19:42:12.816Z"
   },
   {
    "duration": 90,
    "start_time": "2024-08-23T19:44:26.793Z"
   },
   {
    "duration": 67,
    "start_time": "2024-08-23T19:47:28.278Z"
   },
   {
    "duration": 66,
    "start_time": "2024-08-23T19:48:59.183Z"
   },
   {
    "duration": 75,
    "start_time": "2024-08-23T19:50:04.844Z"
   },
   {
    "duration": 104,
    "start_time": "2024-08-23T19:50:14.070Z"
   },
   {
    "duration": 69,
    "start_time": "2024-08-23T19:58:11.627Z"
   },
   {
    "duration": 9,
    "start_time": "2024-08-23T20:00:06.381Z"
   },
   {
    "duration": 11,
    "start_time": "2024-08-23T20:04:50.953Z"
   },
   {
    "duration": 371,
    "start_time": "2024-08-23T20:09:33.017Z"
   },
   {
    "duration": 52,
    "start_time": "2024-08-23T20:10:14.189Z"
   },
   {
    "duration": 56,
    "start_time": "2024-08-23T20:10:46.154Z"
   },
   {
    "duration": 57,
    "start_time": "2024-08-23T20:11:24.216Z"
   },
   {
    "duration": 62,
    "start_time": "2024-08-23T20:12:02.229Z"
   },
   {
    "duration": 3,
    "start_time": "2024-08-23T20:15:25.350Z"
   },
   {
    "duration": 3,
    "start_time": "2024-08-23T20:15:28.298Z"
   },
   {
    "duration": 11,
    "start_time": "2024-08-23T20:19:54.494Z"
   },
   {
    "duration": 29,
    "start_time": "2024-08-23T20:21:28.799Z"
   },
   {
    "duration": 64,
    "start_time": "2024-08-23T20:23:45.325Z"
   },
   {
    "duration": 49,
    "start_time": "2024-08-23T20:24:23.660Z"
   },
   {
    "duration": 5,
    "start_time": "2024-08-23T20:26:55.992Z"
   },
   {
    "duration": 24,
    "start_time": "2024-08-23T20:27:32.568Z"
   },
   {
    "duration": 25,
    "start_time": "2024-08-23T20:27:52.767Z"
   },
   {
    "duration": 23,
    "start_time": "2024-08-23T20:32:15.257Z"
   },
   {
    "duration": 13,
    "start_time": "2024-08-23T20:34:29.912Z"
   },
   {
    "duration": 12,
    "start_time": "2024-08-23T20:34:51.941Z"
   },
   {
    "duration": 315,
    "start_time": "2024-08-24T21:24:44.897Z"
   },
   {
    "duration": 24,
    "start_time": "2024-08-24T21:30:39.554Z"
   },
   {
    "duration": 22,
    "start_time": "2024-08-24T21:32:17.597Z"
   },
   {
    "duration": 21,
    "start_time": "2024-08-24T21:33:07.072Z"
   },
   {
    "duration": 21,
    "start_time": "2024-08-24T21:33:12.073Z"
   },
   {
    "duration": 21,
    "start_time": "2024-08-24T21:33:25.036Z"
   },
   {
    "duration": 457,
    "start_time": "2024-08-24T21:33:27.199Z"
   },
   {
    "duration": 242,
    "start_time": "2024-08-24T21:33:29.287Z"
   },
   {
    "duration": 93,
    "start_time": "2024-08-24T21:33:30.932Z"
   },
   {
    "duration": 9,
    "start_time": "2024-08-24T21:33:32.495Z"
   },
   {
    "duration": 9,
    "start_time": "2024-08-24T21:33:33.974Z"
   },
   {
    "duration": 1357,
    "start_time": "2024-08-24T21:33:35.396Z"
   },
   {
    "duration": 48,
    "start_time": "2024-08-24T21:33:37.381Z"
   },
   {
    "duration": 850,
    "start_time": "2024-08-24T21:33:44.280Z"
   },
   {
    "duration": 23,
    "start_time": "2024-08-24T21:35:32.172Z"
   },
   {
    "duration": 78,
    "start_time": "2024-08-24T21:35:49.357Z"
   },
   {
    "duration": 18,
    "start_time": "2024-08-24T21:36:12.257Z"
   },
   {
    "duration": 11,
    "start_time": "2024-08-24T21:37:24.173Z"
   },
   {
    "duration": 551,
    "start_time": "2024-08-24T21:39:07.454Z"
   },
   {
    "duration": 12,
    "start_time": "2024-08-24T21:39:54.138Z"
   },
   {
    "duration": 28,
    "start_time": "2024-08-24T21:40:32.647Z"
   },
   {
    "duration": 25,
    "start_time": "2024-08-24T21:40:47.634Z"
   },
   {
    "duration": 11,
    "start_time": "2024-08-24T21:40:57.231Z"
   },
   {
    "duration": 90,
    "start_time": "2024-08-24T21:43:55.407Z"
   },
   {
    "duration": 27,
    "start_time": "2024-08-24T21:44:29.153Z"
   },
   {
    "duration": 8,
    "start_time": "2024-08-24T21:44:33.597Z"
   },
   {
    "duration": 79,
    "start_time": "2024-08-24T21:44:41.641Z"
   },
   {
    "duration": 258,
    "start_time": "2024-08-24T21:46:16.084Z"
   },
   {
    "duration": 39,
    "start_time": "2024-08-24T21:49:30.045Z"
   },
   {
    "duration": 1052,
    "start_time": "2024-08-24T21:52:16.521Z"
   },
   {
    "duration": 3,
    "start_time": "2024-08-24T21:53:24.123Z"
   },
   {
    "duration": 306,
    "start_time": "2024-08-26T12:48:29.921Z"
   },
   {
    "duration": 478,
    "start_time": "2024-08-26T12:48:37.251Z"
   },
   {
    "duration": 289,
    "start_time": "2024-08-26T12:48:39.449Z"
   },
   {
    "duration": 84,
    "start_time": "2024-08-26T12:48:41.383Z"
   },
   {
    "duration": 10,
    "start_time": "2024-08-26T12:48:43.413Z"
   },
   {
    "duration": 10,
    "start_time": "2024-08-26T12:48:45.201Z"
   },
   {
    "duration": 1389,
    "start_time": "2024-08-26T12:48:46.957Z"
   },
   {
    "duration": 49,
    "start_time": "2024-08-26T12:48:48.788Z"
   },
   {
    "duration": 5,
    "start_time": "2024-08-26T12:48:57.439Z"
   },
   {
    "duration": 6,
    "start_time": "2024-08-26T12:49:11.983Z"
   },
   {
    "duration": 6,
    "start_time": "2024-08-26T12:49:15.437Z"
   },
   {
    "duration": 5,
    "start_time": "2024-08-26T12:49:20.613Z"
   },
   {
    "duration": 1342,
    "start_time": "2024-08-26T12:49:29.118Z"
   },
   {
    "duration": 8,
    "start_time": "2024-08-26T12:50:02.327Z"
   },
   {
    "duration": 1974,
    "start_time": "2024-08-26T12:55:15.845Z"
   },
   {
    "duration": 63,
    "start_time": "2024-08-26T12:56:47.217Z"
   },
   {
    "duration": 5,
    "start_time": "2024-08-26T12:57:18.832Z"
   },
   {
    "duration": 6,
    "start_time": "2024-08-26T12:57:29.793Z"
   },
   {
    "duration": 3756,
    "start_time": "2024-08-26T13:23:40.050Z"
   },
   {
    "duration": 7,
    "start_time": "2024-08-26T13:26:35.226Z"
   },
   {
    "duration": 200,
    "start_time": "2024-08-26T13:29:38.037Z"
   },
   {
    "duration": 3823,
    "start_time": "2024-08-26T13:29:57.747Z"
   },
   {
    "duration": 7,
    "start_time": "2024-08-26T13:31:35.789Z"
   },
   {
    "duration": 8,
    "start_time": "2024-08-26T13:32:33.117Z"
   },
   {
    "duration": 7,
    "start_time": "2024-08-26T13:34:39.908Z"
   },
   {
    "duration": 15,
    "start_time": "2024-08-26T13:42:09.295Z"
   },
   {
    "duration": 314,
    "start_time": "2024-08-26T13:43:24.946Z"
   },
   {
    "duration": 511,
    "start_time": "2024-08-26T13:43:44.403Z"
   },
   {
    "duration": 24,
    "start_time": "2024-08-26T13:44:05.524Z"
   },
   {
    "duration": 21,
    "start_time": "2024-08-26T13:44:40.609Z"
   },
   {
    "duration": 240,
    "start_time": "2024-08-26T13:44:42.818Z"
   },
   {
    "duration": 252,
    "start_time": "2024-08-26T13:44:44.750Z"
   },
   {
    "duration": 83,
    "start_time": "2024-08-26T13:44:46.405Z"
   },
   {
    "duration": 10,
    "start_time": "2024-08-26T13:44:48.609Z"
   },
   {
    "duration": 10,
    "start_time": "2024-08-26T13:44:49.669Z"
   },
   {
    "duration": 1354,
    "start_time": "2024-08-26T13:44:51.335Z"
   },
   {
    "duration": 49,
    "start_time": "2024-08-26T13:44:53.542Z"
   },
   {
    "duration": 1675,
    "start_time": "2024-08-26T13:45:04.313Z"
   },
   {
    "duration": 1646,
    "start_time": "2024-08-26T13:47:04.405Z"
   },
   {
    "duration": 115,
    "start_time": "2024-08-26T13:48:17.871Z"
   },
   {
    "duration": 1647,
    "start_time": "2024-08-26T13:48:30.543Z"
   },
   {
    "duration": 1633,
    "start_time": "2024-08-26T13:51:01.351Z"
   },
   {
    "duration": 2664,
    "start_time": "2024-08-26T13:52:14.687Z"
   },
   {
    "duration": 1168,
    "start_time": "2024-08-26T13:53:40.808Z"
   },
   {
    "duration": 1397,
    "start_time": "2024-08-26T14:00:02.261Z"
   },
   {
    "duration": 176,
    "start_time": "2024-08-26T14:00:12.734Z"
   },
   {
    "duration": 728,
    "start_time": "2024-08-26T14:00:14.828Z"
   },
   {
    "duration": 14,
    "start_time": "2024-08-26T14:39:35.372Z"
   },
   {
    "duration": 5,
    "start_time": "2024-08-26T14:40:07.606Z"
   },
   {
    "duration": 6,
    "start_time": "2024-08-26T14:40:22.529Z"
   },
   {
    "duration": 321,
    "start_time": "2024-08-26T14:40:27.644Z"
   },
   {
    "duration": 26,
    "start_time": "2024-08-26T14:41:00.693Z"
   },
   {
    "duration": 25,
    "start_time": "2024-08-26T14:42:14.221Z"
   },
   {
    "duration": 487,
    "start_time": "2024-08-26T14:42:27.223Z"
   },
   {
    "duration": 233,
    "start_time": "2024-08-26T14:42:29.012Z"
   },
   {
    "duration": 77,
    "start_time": "2024-08-26T14:42:30.631Z"
   },
   {
    "duration": 10,
    "start_time": "2024-08-26T14:42:32.173Z"
   },
   {
    "duration": 10,
    "start_time": "2024-08-26T14:42:33.991Z"
   },
   {
    "duration": 1322,
    "start_time": "2024-08-26T14:42:35.479Z"
   },
   {
    "duration": 75,
    "start_time": "2024-08-26T14:42:43.767Z"
   },
   {
    "duration": 4063,
    "start_time": "2024-08-26T15:16:59.641Z"
   },
   {
    "duration": 48,
    "start_time": "2024-08-26T15:18:20.848Z"
   },
   {
    "duration": 5,
    "start_time": "2024-08-26T15:21:46.227Z"
   },
   {
    "duration": 2684,
    "start_time": "2024-08-26T15:21:54.753Z"
   },
   {
    "duration": 213,
    "start_time": "2024-08-26T15:31:34.619Z"
   },
   {
    "duration": 202,
    "start_time": "2024-08-26T15:31:42.624Z"
   },
   {
    "duration": 218,
    "start_time": "2024-08-26T15:34:54.487Z"
   },
   {
    "duration": 217,
    "start_time": "2024-08-26T15:35:24.455Z"
   },
   {
    "duration": 223,
    "start_time": "2024-08-26T15:35:48.447Z"
   },
   {
    "duration": 219,
    "start_time": "2024-08-26T15:41:25.694Z"
   },
   {
    "duration": 727,
    "start_time": "2024-08-26T15:44:45.529Z"
   },
   {
    "duration": 220,
    "start_time": "2024-08-26T15:46:03.465Z"
   },
   {
    "duration": 23,
    "start_time": "2024-08-26T15:49:51.529Z"
   },
   {
    "duration": 26,
    "start_time": "2024-08-26T15:50:31.144Z"
   },
   {
    "duration": 535,
    "start_time": "2024-08-26T15:51:26.753Z"
   },
   {
    "duration": 1754,
    "start_time": "2024-08-26T15:53:14.349Z"
   },
   {
    "duration": 1654,
    "start_time": "2024-08-26T15:53:31.657Z"
   },
   {
    "duration": 1818,
    "start_time": "2024-08-26T15:54:26.756Z"
   },
   {
    "duration": 0,
    "start_time": "2024-08-30T13:16:17.698Z"
   },
   {
    "duration": 13,
    "start_time": "2024-08-30T13:16:45.445Z"
   },
   {
    "duration": 3,
    "start_time": "2024-08-30T13:20:40.827Z"
   },
   {
    "duration": 164,
    "start_time": "2024-08-30T13:20:40.832Z"
   },
   {
    "duration": 64,
    "start_time": "2024-08-30T13:20:40.998Z"
   },
   {
    "duration": 7,
    "start_time": "2024-08-30T13:20:41.065Z"
   },
   {
    "duration": 7,
    "start_time": "2024-08-30T13:20:41.074Z"
   },
   {
    "duration": 848,
    "start_time": "2024-08-30T13:20:41.083Z"
   },
   {
    "duration": 33,
    "start_time": "2024-08-30T13:20:41.932Z"
   },
   {
    "duration": 105,
    "start_time": "2024-08-30T13:20:41.967Z"
   },
   {
    "duration": 13,
    "start_time": "2024-08-30T13:20:42.074Z"
   },
   {
    "duration": 10,
    "start_time": "2024-08-30T13:20:42.090Z"
   },
   {
    "duration": 5,
    "start_time": "2024-08-30T13:20:42.101Z"
   },
   {
    "duration": 14,
    "start_time": "2024-08-30T13:20:42.107Z"
   },
   {
    "duration": 0,
    "start_time": "2024-08-30T13:20:42.143Z"
   },
   {
    "duration": 0,
    "start_time": "2024-08-30T13:20:42.144Z"
   },
   {
    "duration": 0,
    "start_time": "2024-08-30T13:20:42.146Z"
   },
   {
    "duration": 0,
    "start_time": "2024-08-30T13:20:42.147Z"
   },
   {
    "duration": 0,
    "start_time": "2024-08-30T13:20:42.148Z"
   },
   {
    "duration": 0,
    "start_time": "2024-08-30T13:20:42.149Z"
   },
   {
    "duration": 0,
    "start_time": "2024-08-30T13:20:42.150Z"
   },
   {
    "duration": 0,
    "start_time": "2024-08-30T13:20:42.151Z"
   },
   {
    "duration": 0,
    "start_time": "2024-08-30T13:20:42.152Z"
   },
   {
    "duration": 0,
    "start_time": "2024-08-30T13:20:42.154Z"
   },
   {
    "duration": 0,
    "start_time": "2024-08-30T13:20:42.155Z"
   },
   {
    "duration": 0,
    "start_time": "2024-08-30T13:20:42.155Z"
   },
   {
    "duration": 0,
    "start_time": "2024-08-30T13:20:42.156Z"
   },
   {
    "duration": 0,
    "start_time": "2024-08-30T13:20:42.158Z"
   },
   {
    "duration": 0,
    "start_time": "2024-08-30T13:20:42.159Z"
   },
   {
    "duration": 0,
    "start_time": "2024-08-30T13:20:42.161Z"
   },
   {
    "duration": 0,
    "start_time": "2024-08-30T13:20:42.162Z"
   },
   {
    "duration": 0,
    "start_time": "2024-08-30T13:20:42.164Z"
   },
   {
    "duration": 0,
    "start_time": "2024-08-30T13:20:42.165Z"
   },
   {
    "duration": 0,
    "start_time": "2024-08-30T13:20:42.167Z"
   },
   {
    "duration": 0,
    "start_time": "2024-08-30T13:20:42.168Z"
   },
   {
    "duration": 0,
    "start_time": "2024-08-30T13:20:42.170Z"
   },
   {
    "duration": 0,
    "start_time": "2024-08-30T13:20:42.171Z"
   },
   {
    "duration": 0,
    "start_time": "2024-08-30T13:20:42.174Z"
   },
   {
    "duration": 304,
    "start_time": "2024-08-30T17:17:26.526Z"
   },
   {
    "duration": 158,
    "start_time": "2024-08-30T17:17:26.832Z"
   },
   {
    "duration": 59,
    "start_time": "2024-08-30T17:17:26.992Z"
   },
   {
    "duration": 8,
    "start_time": "2024-08-30T17:17:27.053Z"
   },
   {
    "duration": 8,
    "start_time": "2024-08-30T17:17:27.062Z"
   },
   {
    "duration": 841,
    "start_time": "2024-08-30T17:17:27.071Z"
   },
   {
    "duration": 40,
    "start_time": "2024-08-30T17:17:27.914Z"
   },
   {
    "duration": 108,
    "start_time": "2024-08-30T17:17:27.955Z"
   },
   {
    "duration": 6,
    "start_time": "2024-08-30T17:17:28.065Z"
   },
   {
    "duration": 8,
    "start_time": "2024-08-30T17:17:28.076Z"
   },
   {
    "duration": 5,
    "start_time": "2024-08-30T17:17:28.086Z"
   },
   {
    "duration": 206,
    "start_time": "2024-08-30T17:17:28.094Z"
   },
   {
    "duration": 0,
    "start_time": "2024-08-30T17:17:28.302Z"
   },
   {
    "duration": 0,
    "start_time": "2024-08-30T17:17:28.304Z"
   },
   {
    "duration": 0,
    "start_time": "2024-08-30T17:17:28.305Z"
   },
   {
    "duration": 0,
    "start_time": "2024-08-30T17:17:28.306Z"
   },
   {
    "duration": 0,
    "start_time": "2024-08-30T17:17:28.307Z"
   },
   {
    "duration": 0,
    "start_time": "2024-08-30T17:17:28.308Z"
   },
   {
    "duration": 0,
    "start_time": "2024-08-30T17:17:28.309Z"
   },
   {
    "duration": 0,
    "start_time": "2024-08-30T17:17:28.310Z"
   },
   {
    "duration": 0,
    "start_time": "2024-08-30T17:17:28.311Z"
   },
   {
    "duration": 0,
    "start_time": "2024-08-30T17:17:28.312Z"
   },
   {
    "duration": 0,
    "start_time": "2024-08-30T17:17:28.331Z"
   },
   {
    "duration": 0,
    "start_time": "2024-08-30T17:17:28.332Z"
   },
   {
    "duration": 0,
    "start_time": "2024-08-30T17:17:28.334Z"
   },
   {
    "duration": 0,
    "start_time": "2024-08-30T17:17:28.335Z"
   },
   {
    "duration": 0,
    "start_time": "2024-08-30T17:17:28.336Z"
   },
   {
    "duration": 0,
    "start_time": "2024-08-30T17:17:28.338Z"
   },
   {
    "duration": 0,
    "start_time": "2024-08-30T17:17:28.339Z"
   },
   {
    "duration": 0,
    "start_time": "2024-08-30T17:17:28.341Z"
   },
   {
    "duration": 0,
    "start_time": "2024-08-30T17:17:28.342Z"
   },
   {
    "duration": 0,
    "start_time": "2024-08-30T17:17:28.344Z"
   },
   {
    "duration": 0,
    "start_time": "2024-08-30T17:17:28.346Z"
   },
   {
    "duration": 0,
    "start_time": "2024-08-30T17:17:28.347Z"
   },
   {
    "duration": 0,
    "start_time": "2024-08-30T17:17:28.348Z"
   },
   {
    "duration": 0,
    "start_time": "2024-08-30T17:17:28.350Z"
   },
   {
    "duration": 3,
    "start_time": "2024-08-30T17:19:57.059Z"
   },
   {
    "duration": 4,
    "start_time": "2024-08-30T17:20:01.368Z"
   },
   {
    "duration": 4,
    "start_time": "2024-08-30T17:20:03.597Z"
   },
   {
    "duration": 14,
    "start_time": "2024-08-30T17:20:07.522Z"
   },
   {
    "duration": 4,
    "start_time": "2024-08-30T17:20:18.650Z"
   },
   {
    "duration": 12,
    "start_time": "2024-08-30T17:20:37.583Z"
   },
   {
    "duration": 14,
    "start_time": "2024-08-30T17:20:40.339Z"
   },
   {
    "duration": 4,
    "start_time": "2024-08-30T17:20:49.082Z"
   },
   {
    "duration": 18,
    "start_time": "2024-08-30T17:20:52.922Z"
   },
   {
    "duration": 16,
    "start_time": "2024-08-30T17:21:00.288Z"
   },
   {
    "duration": 7,
    "start_time": "2024-08-30T17:21:22.670Z"
   },
   {
    "duration": 3,
    "start_time": "2024-08-30T17:21:34.486Z"
   },
   {
    "duration": 3,
    "start_time": "2024-08-30T17:21:38.951Z"
   },
   {
    "duration": 4,
    "start_time": "2024-08-30T17:21:41.918Z"
   },
   {
    "duration": 4,
    "start_time": "2024-08-30T17:21:44.898Z"
   },
   {
    "duration": 820,
    "start_time": "2024-08-30T17:21:47.967Z"
   },
   {
    "duration": 5,
    "start_time": "2024-08-30T17:22:12.300Z"
   },
   {
    "duration": 8,
    "start_time": "2024-08-30T17:22:35.692Z"
   },
   {
    "duration": 8,
    "start_time": "2024-08-30T17:22:50.773Z"
   },
   {
    "duration": 8,
    "start_time": "2024-08-30T17:22:58.240Z"
   },
   {
    "duration": 7,
    "start_time": "2024-08-30T17:23:06.292Z"
   },
   {
    "duration": 4,
    "start_time": "2024-08-30T17:23:13.722Z"
   },
   {
    "duration": 10,
    "start_time": "2024-08-30T17:23:23.986Z"
   },
   {
    "duration": 15,
    "start_time": "2024-08-30T17:23:35.241Z"
   },
   {
    "duration": 29,
    "start_time": "2024-08-30T17:23:39.139Z"
   },
   {
    "duration": 12,
    "start_time": "2024-08-30T17:23:45.666Z"
   },
   {
    "duration": 18,
    "start_time": "2024-08-30T17:23:49.885Z"
   },
   {
    "duration": 39,
    "start_time": "2024-08-30T17:23:55.932Z"
   },
   {
    "duration": 2469,
    "start_time": "2024-08-30T17:25:56.789Z"
   },
   {
    "duration": 56,
    "start_time": "2024-08-30T17:27:28.615Z"
   },
   {
    "duration": 14,
    "start_time": "2024-08-30T17:29:55.106Z"
   },
   {
    "duration": 342,
    "start_time": "2024-08-30T17:30:17.281Z"
   },
   {
    "duration": 151,
    "start_time": "2024-08-30T17:31:30.556Z"
   },
   {
    "duration": 188,
    "start_time": "2024-08-30T17:31:59.515Z"
   },
   {
    "duration": 158,
    "start_time": "2024-08-30T17:32:11.214Z"
   },
   {
    "duration": 149,
    "start_time": "2024-08-30T17:34:07.784Z"
   },
   {
    "duration": 174,
    "start_time": "2024-08-30T17:35:24.045Z"
   },
   {
    "duration": 285,
    "start_time": "2024-08-30T17:37:21.272Z"
   },
   {
    "duration": 201,
    "start_time": "2024-08-30T17:38:00.837Z"
   },
   {
    "duration": 221,
    "start_time": "2024-08-30T17:56:59.334Z"
   },
   {
    "duration": 3,
    "start_time": "2024-08-30T18:03:09.287Z"
   },
   {
    "duration": 139,
    "start_time": "2024-08-30T18:04:20.866Z"
   },
   {
    "duration": 15,
    "start_time": "2024-08-30T18:05:03.711Z"
   },
   {
    "duration": 15,
    "start_time": "2024-08-30T18:05:10.175Z"
   },
   {
    "duration": 24,
    "start_time": "2024-08-30T18:05:23.949Z"
   },
   {
    "duration": 131,
    "start_time": "2024-08-30T18:05:40.777Z"
   },
   {
    "duration": 132,
    "start_time": "2024-08-30T18:06:18.763Z"
   },
   {
    "duration": 136,
    "start_time": "2024-08-30T18:07:51.087Z"
   },
   {
    "duration": 315,
    "start_time": "2024-08-30T18:08:56.622Z"
   },
   {
    "duration": 132,
    "start_time": "2024-08-30T18:09:13.756Z"
   },
   {
    "duration": 7,
    "start_time": "2024-08-30T18:12:22.879Z"
   },
   {
    "duration": 47,
    "start_time": "2024-08-30T18:14:23.673Z"
   },
   {
    "duration": 44,
    "start_time": "2024-08-30T18:14:31.153Z"
   },
   {
    "duration": 113,
    "start_time": "2024-08-30T18:15:09.657Z"
   },
   {
    "duration": 46,
    "start_time": "2024-08-30T18:15:20.650Z"
   },
   {
    "duration": 111,
    "start_time": "2024-08-30T18:15:34.597Z"
   },
   {
    "duration": 108,
    "start_time": "2024-08-30T18:16:33.647Z"
   },
   {
    "duration": 4,
    "start_time": "2024-08-30T18:19:47.629Z"
   },
   {
    "duration": 7,
    "start_time": "2024-08-30T18:22:00.564Z"
   },
   {
    "duration": 6,
    "start_time": "2024-08-30T18:41:13.676Z"
   },
   {
    "duration": 135,
    "start_time": "2024-08-30T18:42:35.815Z"
   },
   {
    "duration": 132,
    "start_time": "2024-08-30T18:43:47.086Z"
   },
   {
    "duration": 571,
    "start_time": "2024-08-30T18:44:58.310Z"
   },
   {
    "duration": 130,
    "start_time": "2024-08-30T18:45:24.948Z"
   },
   {
    "duration": 8,
    "start_time": "2024-08-30T18:46:02.940Z"
   },
   {
    "duration": 109,
    "start_time": "2024-08-30T18:48:18.306Z"
   },
   {
    "duration": 16,
    "start_time": "2024-08-30T18:51:48.281Z"
   },
   {
    "duration": 400,
    "start_time": "2024-08-30T18:52:25.871Z"
   },
   {
    "duration": 213,
    "start_time": "2024-08-30T18:56:21.706Z"
   },
   {
    "duration": 284,
    "start_time": "2024-08-30T18:58:35.635Z"
   },
   {
    "duration": 1154,
    "start_time": "2024-08-30T18:59:24.351Z"
   },
   {
    "duration": 102,
    "start_time": "2024-08-30T19:02:22.753Z"
   },
   {
    "duration": 344,
    "start_time": "2024-08-30T19:05:25.929Z"
   },
   {
    "duration": 163,
    "start_time": "2024-09-03T13:09:03.797Z"
   },
   {
    "duration": 343,
    "start_time": "2024-09-03T13:09:44.842Z"
   },
   {
    "duration": 157,
    "start_time": "2024-09-03T13:09:45.187Z"
   },
   {
    "duration": 65,
    "start_time": "2024-09-03T13:09:45.345Z"
   },
   {
    "duration": 7,
    "start_time": "2024-09-03T13:09:45.412Z"
   },
   {
    "duration": 8,
    "start_time": "2024-09-03T13:09:45.421Z"
   },
   {
    "duration": 796,
    "start_time": "2024-09-03T13:09:45.430Z"
   },
   {
    "duration": 29,
    "start_time": "2024-09-03T13:09:46.228Z"
   },
   {
    "duration": 109,
    "start_time": "2024-09-03T13:09:46.260Z"
   },
   {
    "duration": 7,
    "start_time": "2024-09-03T13:09:46.371Z"
   },
   {
    "duration": 9,
    "start_time": "2024-09-03T13:09:46.380Z"
   },
   {
    "duration": 4,
    "start_time": "2024-09-03T13:09:46.390Z"
   },
   {
    "duration": 3,
    "start_time": "2024-09-03T13:09:46.396Z"
   },
   {
    "duration": 41,
    "start_time": "2024-09-03T13:09:46.400Z"
   },
   {
    "duration": 4,
    "start_time": "2024-09-03T13:09:46.445Z"
   },
   {
    "duration": 20,
    "start_time": "2024-09-03T13:09:46.451Z"
   },
   {
    "duration": 7,
    "start_time": "2024-09-03T13:09:46.472Z"
   },
   {
    "duration": 4,
    "start_time": "2024-09-03T13:09:46.480Z"
   },
   {
    "duration": 5,
    "start_time": "2024-09-03T13:09:46.485Z"
   },
   {
    "duration": 40,
    "start_time": "2024-09-03T13:09:46.492Z"
   },
   {
    "duration": 4,
    "start_time": "2024-09-03T13:09:46.534Z"
   },
   {
    "duration": 797,
    "start_time": "2024-09-03T13:09:46.539Z"
   },
   {
    "duration": 6,
    "start_time": "2024-09-03T13:09:47.338Z"
   },
   {
    "duration": 8,
    "start_time": "2024-09-03T13:09:47.345Z"
   },
   {
    "duration": 6,
    "start_time": "2024-09-03T13:09:47.354Z"
   },
   {
    "duration": 7,
    "start_time": "2024-09-03T13:09:47.363Z"
   },
   {
    "duration": 8,
    "start_time": "2024-09-03T13:09:47.371Z"
   },
   {
    "duration": 5,
    "start_time": "2024-09-03T13:09:47.380Z"
   },
   {
    "duration": 51,
    "start_time": "2024-09-03T13:09:47.387Z"
   },
   {
    "duration": 16,
    "start_time": "2024-09-03T13:09:47.440Z"
   },
   {
    "duration": 30,
    "start_time": "2024-09-03T13:09:47.458Z"
   },
   {
    "duration": 15,
    "start_time": "2024-09-03T13:09:47.490Z"
   },
   {
    "duration": 39,
    "start_time": "2024-09-03T13:09:47.506Z"
   },
   {
    "duration": 38,
    "start_time": "2024-09-03T13:09:47.547Z"
   },
   {
    "duration": 69,
    "start_time": "2024-09-03T13:09:47.586Z"
   },
   {
    "duration": 0,
    "start_time": "2024-09-03T13:09:47.657Z"
   },
   {
    "duration": 0,
    "start_time": "2024-09-03T13:09:47.663Z"
   },
   {
    "duration": 0,
    "start_time": "2024-09-03T13:09:47.664Z"
   },
   {
    "duration": 0,
    "start_time": "2024-09-03T13:09:47.666Z"
   },
   {
    "duration": 0,
    "start_time": "2024-09-03T13:09:47.667Z"
   },
   {
    "duration": 0,
    "start_time": "2024-09-03T13:09:47.668Z"
   },
   {
    "duration": 0,
    "start_time": "2024-09-03T13:09:47.669Z"
   },
   {
    "duration": 0,
    "start_time": "2024-09-03T13:09:47.670Z"
   },
   {
    "duration": 0,
    "start_time": "2024-09-03T13:09:47.671Z"
   },
   {
    "duration": 0,
    "start_time": "2024-09-03T13:09:47.672Z"
   },
   {
    "duration": 0,
    "start_time": "2024-09-03T13:09:47.673Z"
   },
   {
    "duration": 15,
    "start_time": "2024-09-03T13:09:56.176Z"
   },
   {
    "duration": 121,
    "start_time": "2024-09-03T13:10:09.581Z"
   },
   {
    "duration": 2,
    "start_time": "2024-09-03T13:10:16.018Z"
   },
   {
    "duration": 128,
    "start_time": "2024-09-03T13:10:16.024Z"
   },
   {
    "duration": 34,
    "start_time": "2024-09-03T13:10:16.154Z"
   },
   {
    "duration": 5,
    "start_time": "2024-09-03T13:10:16.190Z"
   },
   {
    "duration": 5,
    "start_time": "2024-09-03T13:10:16.197Z"
   },
   {
    "duration": 703,
    "start_time": "2024-09-03T13:10:16.205Z"
   },
   {
    "duration": 31,
    "start_time": "2024-09-03T13:10:16.909Z"
   },
   {
    "duration": 81,
    "start_time": "2024-09-03T13:10:16.942Z"
   },
   {
    "duration": 6,
    "start_time": "2024-09-03T13:10:17.032Z"
   },
   {
    "duration": 12,
    "start_time": "2024-09-03T13:10:17.040Z"
   },
   {
    "duration": 5,
    "start_time": "2024-09-03T13:10:17.053Z"
   },
   {
    "duration": 4,
    "start_time": "2024-09-03T13:10:17.059Z"
   },
   {
    "duration": 13,
    "start_time": "2024-09-03T13:10:17.065Z"
   },
   {
    "duration": 4,
    "start_time": "2024-09-03T13:10:17.080Z"
   },
   {
    "duration": 61,
    "start_time": "2024-09-03T13:10:17.087Z"
   },
   {
    "duration": 7,
    "start_time": "2024-09-03T13:10:17.150Z"
   },
   {
    "duration": 3,
    "start_time": "2024-09-03T13:10:17.159Z"
   },
   {
    "duration": 3,
    "start_time": "2024-09-03T13:10:17.164Z"
   },
   {
    "duration": 4,
    "start_time": "2024-09-03T13:10:17.169Z"
   },
   {
    "duration": 4,
    "start_time": "2024-09-03T13:10:17.175Z"
   },
   {
    "duration": 840,
    "start_time": "2024-09-03T13:10:17.180Z"
   },
   {
    "duration": 9,
    "start_time": "2024-09-03T13:10:18.022Z"
   },
   {
    "duration": 10,
    "start_time": "2024-09-03T13:10:18.033Z"
   },
   {
    "duration": 7,
    "start_time": "2024-09-03T13:10:18.045Z"
   },
   {
    "duration": 8,
    "start_time": "2024-09-03T13:10:18.054Z"
   },
   {
    "duration": 9,
    "start_time": "2024-09-03T13:10:18.064Z"
   },
   {
    "duration": 6,
    "start_time": "2024-09-03T13:10:18.074Z"
   },
   {
    "duration": 9,
    "start_time": "2024-09-03T13:10:18.082Z"
   },
   {
    "duration": 55,
    "start_time": "2024-09-03T13:10:18.093Z"
   },
   {
    "duration": 32,
    "start_time": "2024-09-03T13:10:18.150Z"
   },
   {
    "duration": 13,
    "start_time": "2024-09-03T13:10:18.184Z"
   },
   {
    "duration": 45,
    "start_time": "2024-09-03T13:10:18.199Z"
   },
   {
    "duration": 39,
    "start_time": "2024-09-03T13:10:18.246Z"
   },
   {
    "duration": 15,
    "start_time": "2024-09-03T13:10:18.287Z"
   },
   {
    "duration": 0,
    "start_time": "2024-09-03T13:10:18.303Z"
   },
   {
    "duration": 0,
    "start_time": "2024-09-03T13:10:18.305Z"
   },
   {
    "duration": 0,
    "start_time": "2024-09-03T13:10:18.306Z"
   },
   {
    "duration": 0,
    "start_time": "2024-09-03T13:10:18.331Z"
   },
   {
    "duration": 0,
    "start_time": "2024-09-03T13:10:18.332Z"
   },
   {
    "duration": 0,
    "start_time": "2024-09-03T13:10:18.334Z"
   },
   {
    "duration": 0,
    "start_time": "2024-09-03T13:10:18.335Z"
   },
   {
    "duration": 0,
    "start_time": "2024-09-03T13:10:18.335Z"
   },
   {
    "duration": 0,
    "start_time": "2024-09-03T13:10:18.338Z"
   },
   {
    "duration": 0,
    "start_time": "2024-09-03T13:10:18.339Z"
   },
   {
    "duration": 0,
    "start_time": "2024-09-03T13:10:18.340Z"
   },
   {
    "duration": 15,
    "start_time": "2024-09-03T13:10:27.131Z"
   },
   {
    "duration": 2396,
    "start_time": "2024-09-03T13:10:59.315Z"
   },
   {
    "duration": 150,
    "start_time": "2024-09-03T13:12:48.575Z"
   },
   {
    "duration": 6,
    "start_time": "2024-09-03T13:13:54.653Z"
   },
   {
    "duration": 115,
    "start_time": "2024-09-03T13:14:02.937Z"
   },
   {
    "duration": 207,
    "start_time": "2024-09-03T13:15:49.227Z"
   },
   {
    "duration": 448,
    "start_time": "2024-09-03T13:16:38.526Z"
   },
   {
    "duration": 5,
    "start_time": "2024-09-03T13:17:45.953Z"
   },
   {
    "duration": 287,
    "start_time": "2024-09-03T13:17:51.531Z"
   },
   {
    "duration": 4,
    "start_time": "2024-09-03T13:18:30.425Z"
   },
   {
    "duration": 140,
    "start_time": "2024-09-03T13:19:58.564Z"
   },
   {
    "duration": 16,
    "start_time": "2024-09-03T13:23:24.980Z"
   },
   {
    "duration": 143,
    "start_time": "2024-09-03T13:23:58.195Z"
   },
   {
    "duration": 142,
    "start_time": "2024-09-03T13:25:47.686Z"
   },
   {
    "duration": 144,
    "start_time": "2024-09-03T13:26:57.668Z"
   },
   {
    "duration": 104,
    "start_time": "2024-09-03T13:28:12.068Z"
   },
   {
    "duration": 110,
    "start_time": "2024-09-03T13:30:01.515Z"
   },
   {
    "duration": 41,
    "start_time": "2024-09-03T13:32:52.822Z"
   },
   {
    "duration": 8,
    "start_time": "2024-09-03T13:33:10.638Z"
   },
   {
    "duration": 521,
    "start_time": "2024-09-03T13:48:54.201Z"
   },
   {
    "duration": 206,
    "start_time": "2024-09-03T13:50:50.968Z"
   },
   {
    "duration": 5,
    "start_time": "2024-09-03T13:52:16.178Z"
   },
   {
    "duration": 1160,
    "start_time": "2024-09-03T13:52:42.428Z"
   },
   {
    "duration": 6,
    "start_time": "2024-09-03T13:55:08.040Z"
   },
   {
    "duration": 566,
    "start_time": "2024-09-03T13:58:24.033Z"
   },
   {
    "duration": 3,
    "start_time": "2024-09-03T13:58:38.716Z"
   },
   {
    "duration": 175,
    "start_time": "2024-09-04T13:11:00.255Z"
   },
   {
    "duration": 288,
    "start_time": "2024-09-04T13:11:20.733Z"
   },
   {
    "duration": 177,
    "start_time": "2024-09-04T13:11:21.023Z"
   },
   {
    "duration": 77,
    "start_time": "2024-09-04T13:11:21.201Z"
   },
   {
    "duration": 10,
    "start_time": "2024-09-04T13:11:21.280Z"
   },
   {
    "duration": 10,
    "start_time": "2024-09-04T13:11:21.291Z"
   },
   {
    "duration": 801,
    "start_time": "2024-09-04T13:11:21.302Z"
   },
   {
    "duration": 27,
    "start_time": "2024-09-04T13:11:22.105Z"
   },
   {
    "duration": 104,
    "start_time": "2024-09-04T13:11:22.142Z"
   },
   {
    "duration": 6,
    "start_time": "2024-09-04T13:11:22.248Z"
   },
   {
    "duration": 13,
    "start_time": "2024-09-04T13:11:22.258Z"
   },
   {
    "duration": 5,
    "start_time": "2024-09-04T13:11:22.272Z"
   },
   {
    "duration": 4,
    "start_time": "2024-09-04T13:11:22.279Z"
   },
   {
    "duration": 12,
    "start_time": "2024-09-04T13:11:22.285Z"
   },
   {
    "duration": 4,
    "start_time": "2024-09-04T13:11:22.299Z"
   },
   {
    "duration": 21,
    "start_time": "2024-09-04T13:11:22.343Z"
   },
   {
    "duration": 6,
    "start_time": "2024-09-04T13:11:22.365Z"
   },
   {
    "duration": 3,
    "start_time": "2024-09-04T13:11:22.373Z"
   },
   {
    "duration": 4,
    "start_time": "2024-09-04T13:11:22.378Z"
   },
   {
    "duration": 4,
    "start_time": "2024-09-04T13:11:22.383Z"
   },
   {
    "duration": 4,
    "start_time": "2024-09-04T13:11:22.389Z"
   },
   {
    "duration": 865,
    "start_time": "2024-09-04T13:11:22.394Z"
   },
   {
    "duration": 5,
    "start_time": "2024-09-04T13:11:23.261Z"
   },
   {
    "duration": 6,
    "start_time": "2024-09-04T13:11:23.268Z"
   },
   {
    "duration": 7,
    "start_time": "2024-09-04T13:11:23.276Z"
   },
   {
    "duration": 6,
    "start_time": "2024-09-04T13:11:23.284Z"
   },
   {
    "duration": 8,
    "start_time": "2024-09-04T13:11:23.292Z"
   },
   {
    "duration": 42,
    "start_time": "2024-09-04T13:11:23.301Z"
   },
   {
    "duration": 12,
    "start_time": "2024-09-04T13:11:23.348Z"
   },
   {
    "duration": 16,
    "start_time": "2024-09-04T13:11:23.362Z"
   },
   {
    "duration": 29,
    "start_time": "2024-09-04T13:11:23.380Z"
   },
   {
    "duration": 41,
    "start_time": "2024-09-04T13:11:23.411Z"
   },
   {
    "duration": 20,
    "start_time": "2024-09-04T13:11:23.454Z"
   },
   {
    "duration": 39,
    "start_time": "2024-09-04T13:11:23.475Z"
   },
   {
    "duration": 2438,
    "start_time": "2024-09-04T13:11:23.516Z"
   },
   {
    "duration": 221,
    "start_time": "2024-09-04T13:11:25.956Z"
   },
   {
    "duration": 120,
    "start_time": "2024-09-04T13:11:26.179Z"
   },
   {
    "duration": 219,
    "start_time": "2024-09-04T13:11:26.301Z"
   },
   {
    "duration": 234,
    "start_time": "2024-09-04T13:11:26.522Z"
   },
   {
    "duration": 120,
    "start_time": "2024-09-04T13:11:26.758Z"
   },
   {
    "duration": 9,
    "start_time": "2024-09-04T13:11:26.880Z"
   },
   {
    "duration": 502,
    "start_time": "2024-09-04T13:11:26.891Z"
   },
   {
    "duration": 227,
    "start_time": "2024-09-04T13:11:27.395Z"
   },
   {
    "duration": 1200,
    "start_time": "2024-09-04T13:11:27.623Z"
   },
   {
    "duration": 5,
    "start_time": "2024-09-04T13:11:28.826Z"
   },
   {
    "duration": 570,
    "start_time": "2024-09-04T13:11:28.843Z"
   },
   {
    "duration": 7,
    "start_time": "2024-09-04T13:14:05.154Z"
   },
   {
    "duration": 527,
    "start_time": "2024-09-04T13:19:07.346Z"
   },
   {
    "duration": 333,
    "start_time": "2024-09-04T13:20:50.613Z"
   },
   {
    "duration": 202,
    "start_time": "2024-09-04T13:22:37.099Z"
   },
   {
    "duration": 29,
    "start_time": "2024-09-04T13:23:31.579Z"
   },
   {
    "duration": 16,
    "start_time": "2024-09-04T13:23:43.395Z"
   },
   {
    "duration": 204,
    "start_time": "2024-09-04T13:23:59.614Z"
   },
   {
    "duration": 104,
    "start_time": "2024-09-04T13:28:35.333Z"
   },
   {
    "duration": 100,
    "start_time": "2024-09-04T13:30:20.198Z"
   },
   {
    "duration": 99,
    "start_time": "2024-09-04T13:30:40.276Z"
   },
   {
    "duration": 17,
    "start_time": "2024-09-04T13:31:11.330Z"
   },
   {
    "duration": 107,
    "start_time": "2024-09-04T13:31:35.326Z"
   },
   {
    "duration": 235,
    "start_time": "2024-09-04T13:35:58.819Z"
   },
   {
    "duration": 207,
    "start_time": "2024-09-04T13:37:35.854Z"
   },
   {
    "duration": 23,
    "start_time": "2024-09-04T13:45:11.676Z"
   },
   {
    "duration": 3525,
    "start_time": "2024-09-04T13:46:12.020Z"
   },
   {
    "duration": 3364,
    "start_time": "2024-09-04T13:46:52.627Z"
   },
   {
    "duration": 3568,
    "start_time": "2024-09-04T13:47:16.537Z"
   },
   {
    "duration": 3428,
    "start_time": "2024-09-04T13:48:24.434Z"
   },
   {
    "duration": 3660,
    "start_time": "2024-09-04T13:49:05.722Z"
   },
   {
    "duration": 68,
    "start_time": "2024-09-04T13:52:28.904Z"
   },
   {
    "duration": 19,
    "start_time": "2024-09-04T13:53:06.170Z"
   },
   {
    "duration": 5,
    "start_time": "2024-09-04T13:53:09.789Z"
   },
   {
    "duration": 5,
    "start_time": "2024-09-04T13:53:25.456Z"
   },
   {
    "duration": 284,
    "start_time": "2024-09-05T18:33:13.440Z"
   },
   {
    "duration": 175,
    "start_time": "2024-09-05T18:33:13.725Z"
   },
   {
    "duration": 74,
    "start_time": "2024-09-05T18:33:13.902Z"
   },
   {
    "duration": 6,
    "start_time": "2024-09-05T18:33:13.979Z"
   },
   {
    "duration": 8,
    "start_time": "2024-09-05T18:33:13.986Z"
   },
   {
    "duration": 836,
    "start_time": "2024-09-05T18:33:13.996Z"
   },
   {
    "duration": 44,
    "start_time": "2024-09-05T18:33:14.834Z"
   },
   {
    "duration": 131,
    "start_time": "2024-09-05T18:33:14.880Z"
   },
   {
    "duration": 6,
    "start_time": "2024-09-05T18:33:15.013Z"
   },
   {
    "duration": 12,
    "start_time": "2024-09-05T18:33:15.023Z"
   },
   {
    "duration": 5,
    "start_time": "2024-09-05T18:33:15.037Z"
   },
   {
    "duration": 26,
    "start_time": "2024-09-05T18:33:15.044Z"
   },
   {
    "duration": 16,
    "start_time": "2024-09-05T18:33:15.072Z"
   },
   {
    "duration": 5,
    "start_time": "2024-09-05T18:33:15.090Z"
   },
   {
    "duration": 23,
    "start_time": "2024-09-05T18:33:15.096Z"
   },
   {
    "duration": 7,
    "start_time": "2024-09-05T18:33:15.121Z"
   },
   {
    "duration": 6,
    "start_time": "2024-09-05T18:33:15.130Z"
   },
   {
    "duration": 33,
    "start_time": "2024-09-05T18:33:15.138Z"
   },
   {
    "duration": 4,
    "start_time": "2024-09-05T18:33:15.173Z"
   },
   {
    "duration": 3,
    "start_time": "2024-09-05T18:33:15.179Z"
   },
   {
    "duration": 782,
    "start_time": "2024-09-05T18:33:15.185Z"
   },
   {
    "duration": 5,
    "start_time": "2024-09-05T18:33:15.969Z"
   },
   {
    "duration": 7,
    "start_time": "2024-09-05T18:33:15.977Z"
   },
   {
    "duration": 6,
    "start_time": "2024-09-05T18:33:15.986Z"
   },
   {
    "duration": 7,
    "start_time": "2024-09-05T18:33:15.994Z"
   },
   {
    "duration": 6,
    "start_time": "2024-09-05T18:33:16.003Z"
   },
   {
    "duration": 4,
    "start_time": "2024-09-05T18:33:16.011Z"
   },
   {
    "duration": 52,
    "start_time": "2024-09-05T18:33:16.020Z"
   },
   {
    "duration": 16,
    "start_time": "2024-09-05T18:33:16.074Z"
   },
   {
    "duration": 30,
    "start_time": "2024-09-05T18:33:16.092Z"
   },
   {
    "duration": 12,
    "start_time": "2024-09-05T18:33:16.125Z"
   },
   {
    "duration": 46,
    "start_time": "2024-09-05T18:33:16.139Z"
   },
   {
    "duration": 46,
    "start_time": "2024-09-05T18:33:16.187Z"
   },
   {
    "duration": 2524,
    "start_time": "2024-09-05T18:33:16.235Z"
   },
   {
    "duration": 172,
    "start_time": "2024-09-05T18:33:18.763Z"
   },
   {
    "duration": 124,
    "start_time": "2024-09-05T18:33:18.937Z"
   },
   {
    "duration": 234,
    "start_time": "2024-09-05T18:33:19.063Z"
   },
   {
    "duration": 276,
    "start_time": "2024-09-05T18:33:19.299Z"
   },
   {
    "duration": 139,
    "start_time": "2024-09-05T18:33:19.577Z"
   },
   {
    "duration": 3460,
    "start_time": "2024-09-05T18:33:19.718Z"
   },
   {
    "duration": 526,
    "start_time": "2024-09-05T18:33:23.180Z"
   },
   {
    "duration": 682,
    "start_time": "2024-09-05T18:33:23.708Z"
   },
   {
    "duration": 0,
    "start_time": "2024-09-05T18:33:24.392Z"
   },
   {
    "duration": 0,
    "start_time": "2024-09-05T18:33:24.393Z"
   },
   {
    "duration": 0,
    "start_time": "2024-09-05T18:33:24.394Z"
   },
   {
    "duration": 167,
    "start_time": "2024-09-05T18:43:01.956Z"
   },
   {
    "duration": 15,
    "start_time": "2024-09-05T18:45:58.846Z"
   },
   {
    "duration": 42,
    "start_time": "2024-09-05T18:46:18.808Z"
   },
   {
    "duration": 21,
    "start_time": "2024-09-05T18:46:39.038Z"
   },
   {
    "duration": 16,
    "start_time": "2024-09-05T18:47:09.726Z"
   },
   {
    "duration": 90,
    "start_time": "2024-09-05T18:48:46.207Z"
   },
   {
    "duration": 19,
    "start_time": "2024-09-05T18:51:38.127Z"
   },
   {
    "duration": 6,
    "start_time": "2024-09-05T18:52:57.156Z"
   },
   {
    "duration": 126,
    "start_time": "2024-09-05T18:55:20.079Z"
   },
   {
    "duration": 379,
    "start_time": "2024-09-05T18:55:56.904Z"
   },
   {
    "duration": 101,
    "start_time": "2024-09-05T18:59:14.536Z"
   },
   {
    "duration": 547,
    "start_time": "2024-09-05T18:59:56.609Z"
   },
   {
    "duration": 558,
    "start_time": "2024-09-05T19:00:26.905Z"
   },
   {
    "duration": 532,
    "start_time": "2024-09-05T19:00:44.334Z"
   },
   {
    "duration": 414,
    "start_time": "2024-09-05T19:03:49.078Z"
   },
   {
    "duration": 1280,
    "start_time": "2024-09-05T19:05:50.220Z"
   },
   {
    "duration": 7,
    "start_time": "2024-09-05T19:06:57.386Z"
   },
   {
    "duration": 327,
    "start_time": "2024-09-06T03:06:41.702Z"
   },
   {
    "duration": 166,
    "start_time": "2024-09-06T03:06:42.228Z"
   },
   {
    "duration": 67,
    "start_time": "2024-09-06T03:06:47.887Z"
   },
   {
    "duration": 6,
    "start_time": "2024-09-06T03:06:48.087Z"
   },
   {
    "duration": 7,
    "start_time": "2024-09-06T03:06:48.320Z"
   },
   {
    "duration": 784,
    "start_time": "2024-09-06T03:06:48.495Z"
   },
   {
    "duration": 31,
    "start_time": "2024-09-06T03:06:49.281Z"
   },
   {
    "duration": 93,
    "start_time": "2024-09-06T03:06:56.494Z"
   },
   {
    "duration": 6,
    "start_time": "2024-09-06T03:06:56.638Z"
   },
   {
    "duration": 11,
    "start_time": "2024-09-06T03:06:57.238Z"
   },
   {
    "duration": 5,
    "start_time": "2024-09-06T03:06:57.680Z"
   },
   {
    "duration": 4,
    "start_time": "2024-09-06T03:06:58.118Z"
   },
   {
    "duration": 25,
    "start_time": "2024-09-06T03:07:26.339Z"
   },
   {
    "duration": 4,
    "start_time": "2024-09-06T03:07:28.893Z"
   },
   {
    "duration": 3,
    "start_time": "2024-09-06T03:07:29.240Z"
   },
   {
    "duration": 4,
    "start_time": "2024-09-06T03:07:29.812Z"
   },
   {
    "duration": 4,
    "start_time": "2024-09-06T03:07:29.972Z"
   },
   {
    "duration": 4,
    "start_time": "2024-09-06T03:07:30.161Z"
   },
   {
    "duration": 9,
    "start_time": "2024-09-06T03:07:36.718Z"
   },
   {
    "duration": 114,
    "start_time": "2024-09-06T03:08:31.586Z"
   },
   {
    "duration": 28,
    "start_time": "2024-09-06T03:08:33.189Z"
   },
   {
    "duration": 187,
    "start_time": "2024-09-06T03:08:58.436Z"
   },
   {
    "duration": 12,
    "start_time": "2024-09-06T03:09:07.565Z"
   },
   {
    "duration": 78,
    "start_time": "2024-09-06T03:09:25.453Z"
   },
   {
    "duration": 6,
    "start_time": "2024-09-06T03:09:26.167Z"
   },
   {
    "duration": 9,
    "start_time": "2024-09-06T03:09:34.356Z"
   },
   {
    "duration": 154,
    "start_time": "2024-09-06T17:54:49.645Z"
   },
   {
    "duration": 319,
    "start_time": "2024-09-06T17:54:55.390Z"
   },
   {
    "duration": 177,
    "start_time": "2024-09-06T17:54:55.712Z"
   },
   {
    "duration": 65,
    "start_time": "2024-09-06T17:54:55.891Z"
   },
   {
    "duration": 6,
    "start_time": "2024-09-06T17:54:55.959Z"
   },
   {
    "duration": 6,
    "start_time": "2024-09-06T17:54:55.967Z"
   },
   {
    "duration": 839,
    "start_time": "2024-09-06T17:54:55.974Z"
   },
   {
    "duration": 42,
    "start_time": "2024-09-06T17:54:56.815Z"
   },
   {
    "duration": 133,
    "start_time": "2024-09-06T17:54:56.859Z"
   },
   {
    "duration": 7,
    "start_time": "2024-09-06T17:54:56.994Z"
   },
   {
    "duration": 88,
    "start_time": "2024-09-06T17:54:57.002Z"
   },
   {
    "duration": 98,
    "start_time": "2024-09-06T17:54:57.092Z"
   },
   {
    "duration": 19,
    "start_time": "2024-09-06T17:54:57.192Z"
   },
   {
    "duration": 18,
    "start_time": "2024-09-06T17:54:57.213Z"
   },
   {
    "duration": 5,
    "start_time": "2024-09-06T17:54:57.235Z"
   },
   {
    "duration": 20,
    "start_time": "2024-09-06T17:54:57.241Z"
   },
   {
    "duration": 6,
    "start_time": "2024-09-06T17:54:57.263Z"
   },
   {
    "duration": 4,
    "start_time": "2024-09-06T17:54:57.271Z"
   },
   {
    "duration": 4,
    "start_time": "2024-09-06T17:54:57.277Z"
   },
   {
    "duration": 42,
    "start_time": "2024-09-06T17:54:57.282Z"
   },
   {
    "duration": 3,
    "start_time": "2024-09-06T17:54:57.326Z"
   },
   {
    "duration": 822,
    "start_time": "2024-09-06T17:54:57.331Z"
   },
   {
    "duration": 5,
    "start_time": "2024-09-06T17:54:58.155Z"
   },
   {
    "duration": 7,
    "start_time": "2024-09-06T17:54:58.162Z"
   },
   {
    "duration": 6,
    "start_time": "2024-09-06T17:54:58.172Z"
   },
   {
    "duration": 19,
    "start_time": "2024-09-06T17:54:58.180Z"
   },
   {
    "duration": 25,
    "start_time": "2024-09-06T17:54:58.201Z"
   },
   {
    "duration": 8,
    "start_time": "2024-09-06T17:54:58.227Z"
   },
   {
    "duration": 132,
    "start_time": "2024-09-06T17:54:58.237Z"
   },
   {
    "duration": 15,
    "start_time": "2024-09-06T17:54:58.372Z"
   },
   {
    "duration": 46,
    "start_time": "2024-09-06T17:54:58.389Z"
   },
   {
    "duration": 12,
    "start_time": "2024-09-06T17:54:58.437Z"
   },
   {
    "duration": 17,
    "start_time": "2024-09-06T17:54:58.451Z"
   },
   {
    "duration": 59,
    "start_time": "2024-09-06T17:54:58.470Z"
   },
   {
    "duration": 9,
    "start_time": "2024-09-06T17:54:58.530Z"
   },
   {
    "duration": 2147,
    "start_time": "2024-09-06T17:54:58.541Z"
   },
   {
    "duration": 0,
    "start_time": "2024-09-06T17:55:00.691Z"
   },
   {
    "duration": 0,
    "start_time": "2024-09-06T17:55:00.692Z"
   },
   {
    "duration": 0,
    "start_time": "2024-09-06T17:55:00.694Z"
   },
   {
    "duration": 0,
    "start_time": "2024-09-06T17:55:00.695Z"
   },
   {
    "duration": 0,
    "start_time": "2024-09-06T17:55:00.697Z"
   },
   {
    "duration": 0,
    "start_time": "2024-09-06T17:55:00.698Z"
   },
   {
    "duration": 0,
    "start_time": "2024-09-06T17:55:00.699Z"
   },
   {
    "duration": 0,
    "start_time": "2024-09-06T17:55:00.701Z"
   },
   {
    "duration": 0,
    "start_time": "2024-09-06T17:55:00.702Z"
   },
   {
    "duration": 0,
    "start_time": "2024-09-06T17:55:00.703Z"
   },
   {
    "duration": 55,
    "start_time": "2024-09-06T17:55:10.768Z"
   },
   {
    "duration": 76,
    "start_time": "2024-09-06T17:55:14.542Z"
   },
   {
    "duration": 339,
    "start_time": "2024-09-06T19:19:08.114Z"
   },
   {
    "duration": 141,
    "start_time": "2024-09-06T19:19:08.456Z"
   },
   {
    "duration": 44,
    "start_time": "2024-09-06T19:19:08.599Z"
   },
   {
    "duration": 6,
    "start_time": "2024-09-06T19:19:08.645Z"
   },
   {
    "duration": 7,
    "start_time": "2024-09-06T19:19:08.654Z"
   },
   {
    "duration": 760,
    "start_time": "2024-09-06T19:19:08.662Z"
   },
   {
    "duration": 40,
    "start_time": "2024-09-06T19:19:09.424Z"
   },
   {
    "duration": 139,
    "start_time": "2024-09-06T19:19:09.466Z"
   },
   {
    "duration": 6,
    "start_time": "2024-09-06T19:19:09.608Z"
   },
   {
    "duration": 89,
    "start_time": "2024-09-06T19:19:09.616Z"
   },
   {
    "duration": 114,
    "start_time": "2024-09-06T19:19:09.707Z"
   },
   {
    "duration": 32,
    "start_time": "2024-09-06T19:19:09.824Z"
   },
   {
    "duration": 16,
    "start_time": "2024-09-06T19:19:09.857Z"
   },
   {
    "duration": 4,
    "start_time": "2024-09-06T19:19:09.878Z"
   },
   {
    "duration": 22,
    "start_time": "2024-09-06T19:19:09.885Z"
   },
   {
    "duration": 33,
    "start_time": "2024-09-06T19:19:09.910Z"
   },
   {
    "duration": 5,
    "start_time": "2024-09-06T19:19:09.945Z"
   },
   {
    "duration": 5,
    "start_time": "2024-09-06T19:19:09.952Z"
   },
   {
    "duration": 5,
    "start_time": "2024-09-06T19:19:09.959Z"
   },
   {
    "duration": 4,
    "start_time": "2024-09-06T19:19:09.966Z"
   },
   {
    "duration": 1030,
    "start_time": "2024-09-06T19:19:09.972Z"
   },
   {
    "duration": 6,
    "start_time": "2024-09-06T19:19:11.004Z"
   },
   {
    "duration": 8,
    "start_time": "2024-09-06T19:19:11.012Z"
   },
   {
    "duration": 26,
    "start_time": "2024-09-06T19:19:11.022Z"
   },
   {
    "duration": 9,
    "start_time": "2024-09-06T19:19:11.050Z"
   },
   {
    "duration": 8,
    "start_time": "2024-09-06T19:19:11.061Z"
   },
   {
    "duration": 8,
    "start_time": "2024-09-06T19:19:11.071Z"
   },
   {
    "duration": 185,
    "start_time": "2024-09-06T19:19:11.080Z"
   },
   {
    "duration": 17,
    "start_time": "2024-09-06T19:19:11.268Z"
   },
   {
    "duration": 57,
    "start_time": "2024-09-06T19:19:11.287Z"
   },
   {
    "duration": 15,
    "start_time": "2024-09-06T19:19:11.346Z"
   },
   {
    "duration": 22,
    "start_time": "2024-09-06T19:19:11.363Z"
   },
   {
    "duration": 67,
    "start_time": "2024-09-06T19:19:11.387Z"
   },
   {
    "duration": 11,
    "start_time": "2024-09-06T19:19:11.455Z"
   },
   {
    "duration": 611,
    "start_time": "2024-09-06T19:19:11.468Z"
   },
   {
    "duration": 0,
    "start_time": "2024-09-06T19:19:12.082Z"
   },
   {
    "duration": 0,
    "start_time": "2024-09-06T19:19:12.084Z"
   },
   {
    "duration": 0,
    "start_time": "2024-09-06T19:19:12.085Z"
   },
   {
    "duration": 0,
    "start_time": "2024-09-06T19:19:12.087Z"
   },
   {
    "duration": 0,
    "start_time": "2024-09-06T19:19:12.089Z"
   },
   {
    "duration": 0,
    "start_time": "2024-09-06T19:19:12.090Z"
   },
   {
    "duration": 0,
    "start_time": "2024-09-06T19:19:12.092Z"
   },
   {
    "duration": 0,
    "start_time": "2024-09-06T19:19:12.094Z"
   },
   {
    "duration": 0,
    "start_time": "2024-09-06T19:19:12.096Z"
   },
   {
    "duration": 0,
    "start_time": "2024-09-06T19:19:12.097Z"
   },
   {
    "duration": 212,
    "start_time": "2024-09-06T19:24:31.039Z"
   },
   {
    "duration": 30,
    "start_time": "2024-09-06T19:24:39.840Z"
   },
   {
    "duration": 3,
    "start_time": "2024-09-06T19:25:24.478Z"
   },
   {
    "duration": 3,
    "start_time": "2024-09-06T19:25:27.323Z"
   },
   {
    "duration": 125,
    "start_time": "2024-09-06T19:25:27.328Z"
   },
   {
    "duration": 32,
    "start_time": "2024-09-06T19:25:27.455Z"
   },
   {
    "duration": 6,
    "start_time": "2024-09-06T19:25:27.489Z"
   },
   {
    "duration": 4,
    "start_time": "2024-09-06T19:25:27.498Z"
   },
   {
    "duration": 716,
    "start_time": "2024-09-06T19:25:27.504Z"
   },
   {
    "duration": 40,
    "start_time": "2024-09-06T19:25:28.221Z"
   },
   {
    "duration": 79,
    "start_time": "2024-09-06T19:25:28.264Z"
   },
   {
    "duration": 5,
    "start_time": "2024-09-06T19:25:28.344Z"
   },
   {
    "duration": 46,
    "start_time": "2024-09-06T19:25:28.351Z"
   },
   {
    "duration": 101,
    "start_time": "2024-09-06T19:25:28.399Z"
   },
   {
    "duration": 18,
    "start_time": "2024-09-06T19:25:28.502Z"
   },
   {
    "duration": 21,
    "start_time": "2024-09-06T19:25:28.524Z"
   },
   {
    "duration": 4,
    "start_time": "2024-09-06T19:25:28.547Z"
   },
   {
    "duration": 18,
    "start_time": "2024-09-06T19:25:28.553Z"
   },
   {
    "duration": 8,
    "start_time": "2024-09-06T19:25:28.573Z"
   },
   {
    "duration": 3,
    "start_time": "2024-09-06T19:25:28.583Z"
   },
   {
    "duration": 4,
    "start_time": "2024-09-06T19:25:28.587Z"
   },
   {
    "duration": 4,
    "start_time": "2024-09-06T19:25:28.593Z"
   },
   {
    "duration": 44,
    "start_time": "2024-09-06T19:25:28.599Z"
   },
   {
    "duration": 768,
    "start_time": "2024-09-06T19:25:28.645Z"
   },
   {
    "duration": 7,
    "start_time": "2024-09-06T19:25:29.415Z"
   },
   {
    "duration": 20,
    "start_time": "2024-09-06T19:25:29.424Z"
   },
   {
    "duration": 8,
    "start_time": "2024-09-06T19:25:29.447Z"
   },
   {
    "duration": 9,
    "start_time": "2024-09-06T19:25:29.457Z"
   },
   {
    "duration": 9,
    "start_time": "2024-09-06T19:25:29.468Z"
   },
   {
    "duration": 6,
    "start_time": "2024-09-06T19:25:29.479Z"
   },
   {
    "duration": 169,
    "start_time": "2024-09-06T19:25:29.487Z"
   },
   {
    "duration": 17,
    "start_time": "2024-09-06T19:25:29.659Z"
   },
   {
    "duration": 33,
    "start_time": "2024-09-06T19:25:29.678Z"
   },
   {
    "duration": 34,
    "start_time": "2024-09-06T19:25:29.712Z"
   },
   {
    "duration": 17,
    "start_time": "2024-09-06T19:25:29.748Z"
   },
   {
    "duration": 30,
    "start_time": "2024-09-06T19:25:29.767Z"
   },
   {
    "duration": 6,
    "start_time": "2024-09-06T19:25:29.799Z"
   },
   {
    "duration": 202,
    "start_time": "2024-09-06T19:25:29.807Z"
   },
   {
    "duration": 125,
    "start_time": "2024-09-06T19:25:30.010Z"
   },
   {
    "duration": 202,
    "start_time": "2024-09-06T19:25:30.144Z"
   },
   {
    "duration": 329,
    "start_time": "2024-09-06T19:25:30.350Z"
   },
   {
    "duration": 167,
    "start_time": "2024-09-06T19:25:30.681Z"
   },
   {
    "duration": 325,
    "start_time": "2024-09-06T19:25:30.850Z"
   },
   {
    "duration": 525,
    "start_time": "2024-09-06T19:25:31.177Z"
   },
   {
    "duration": 521,
    "start_time": "2024-09-06T19:25:31.704Z"
   },
   {
    "duration": 1161,
    "start_time": "2024-09-06T19:25:32.227Z"
   },
   {
    "duration": 1074,
    "start_time": "2024-09-06T19:25:33.390Z"
   },
   {
    "duration": 1349,
    "start_time": "2024-09-06T19:25:34.466Z"
   },
   {
    "duration": 2064,
    "start_time": "2024-09-08T21:14:02.370Z"
   },
   {
    "duration": 169,
    "start_time": "2024-09-08T21:14:04.436Z"
   },
   {
    "duration": 65,
    "start_time": "2024-09-08T21:14:04.607Z"
   },
   {
    "duration": 7,
    "start_time": "2024-09-08T21:14:04.674Z"
   },
   {
    "duration": 7,
    "start_time": "2024-09-08T21:14:04.682Z"
   },
   {
    "duration": 804,
    "start_time": "2024-09-08T21:14:04.690Z"
   },
   {
    "duration": 35,
    "start_time": "2024-09-08T21:14:05.496Z"
   },
   {
    "duration": 102,
    "start_time": "2024-09-08T21:14:05.533Z"
   },
   {
    "duration": 6,
    "start_time": "2024-09-08T21:14:05.636Z"
   },
   {
    "duration": 80,
    "start_time": "2024-09-08T21:14:05.646Z"
   },
   {
    "duration": 93,
    "start_time": "2024-09-08T21:14:05.728Z"
   },
   {
    "duration": 20,
    "start_time": "2024-09-08T21:14:05.823Z"
   },
   {
    "duration": 12,
    "start_time": "2024-09-08T21:14:05.845Z"
   },
   {
    "duration": 4,
    "start_time": "2024-09-08T21:14:05.859Z"
   },
   {
    "duration": 45,
    "start_time": "2024-09-08T21:14:05.864Z"
   },
   {
    "duration": 6,
    "start_time": "2024-09-08T21:14:05.911Z"
   },
   {
    "duration": 4,
    "start_time": "2024-09-08T21:14:05.919Z"
   },
   {
    "duration": 4,
    "start_time": "2024-09-08T21:14:05.925Z"
   },
   {
    "duration": 4,
    "start_time": "2024-09-08T21:14:05.930Z"
   },
   {
    "duration": 4,
    "start_time": "2024-09-08T21:14:05.935Z"
   },
   {
    "duration": 798,
    "start_time": "2024-09-08T21:14:05.941Z"
   },
   {
    "duration": 4,
    "start_time": "2024-09-08T21:14:06.741Z"
   },
   {
    "duration": 8,
    "start_time": "2024-09-08T21:14:06.747Z"
   },
   {
    "duration": 6,
    "start_time": "2024-09-08T21:14:06.756Z"
   },
   {
    "duration": 8,
    "start_time": "2024-09-08T21:14:06.763Z"
   },
   {
    "duration": 37,
    "start_time": "2024-09-08T21:14:06.772Z"
   },
   {
    "duration": 5,
    "start_time": "2024-09-08T21:14:06.811Z"
   },
   {
    "duration": 141,
    "start_time": "2024-09-08T21:14:06.820Z"
   },
   {
    "duration": 15,
    "start_time": "2024-09-08T21:14:06.963Z"
   },
   {
    "duration": 47,
    "start_time": "2024-09-08T21:14:06.979Z"
   },
   {
    "duration": 12,
    "start_time": "2024-09-08T21:14:07.027Z"
   },
   {
    "duration": 18,
    "start_time": "2024-09-08T21:14:07.041Z"
   },
   {
    "duration": 55,
    "start_time": "2024-09-08T21:14:07.061Z"
   },
   {
    "duration": 7,
    "start_time": "2024-09-08T21:14:07.118Z"
   },
   {
    "duration": 258,
    "start_time": "2024-09-08T21:14:07.127Z"
   },
   {
    "duration": 127,
    "start_time": "2024-09-08T21:14:07.386Z"
   },
   {
    "duration": 203,
    "start_time": "2024-09-08T21:14:07.514Z"
   },
   {
    "duration": 284,
    "start_time": "2024-09-08T21:14:07.718Z"
   },
   {
    "duration": 177,
    "start_time": "2024-09-08T21:14:08.004Z"
   },
   {
    "duration": 318,
    "start_time": "2024-09-08T21:14:08.183Z"
   },
   {
    "duration": 461,
    "start_time": "2024-09-08T21:14:08.504Z"
   },
   {
    "duration": 543,
    "start_time": "2024-09-08T21:14:08.968Z"
   },
   {
    "duration": 1208,
    "start_time": "2024-09-08T21:14:09.513Z"
   }
  ],
  "colab": {
   "provenance": []
  },
  "kernelspec": {
   "display_name": "Python 3 (ipykernel)",
   "language": "python",
   "name": "python3"
  },
  "language_info": {
   "codemirror_mode": {
    "name": "ipython",
    "version": 3
   },
   "file_extension": ".py",
   "mimetype": "text/x-python",
   "name": "python",
   "nbconvert_exporter": "python",
   "pygments_lexer": "ipython3",
   "version": "3.9.19"
  },
  "toc": {
   "base_numbering": 1,
   "nav_menu": {},
   "number_sections": true,
   "sideBar": true,
   "skip_h1_title": true,
   "title_cell": "Table of Contents",
   "title_sidebar": "Contents",
   "toc_cell": false,
   "toc_position": {},
   "toc_section_display": true,
   "toc_window_display": false
  },
  "vscode": {
   "interpreter": {
    "hash": "01a7be9ec63e704a62cefc5fe7a4756944464ee731be31632bdf42a4cb4688cf"
   }
  }
 },
 "nbformat": 4,
 "nbformat_minor": 5
}
