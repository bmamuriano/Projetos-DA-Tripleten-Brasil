{
 "cells": [
  {
   "cell_type": "markdown",
   "metadata": {},
   "source": [
    "## ** Introdução ao Projeto de Análise de Comportamento do Usuário no Aplicativo de Venda de Produtos Alimentícios **\n",
    "\n",
    "Neste projeto, o objetivo é analisar o comportamento do usuário no aplicativo de uma startup que vende produtos alimentícios, com foco em entender o funil de vendas e avaliar os resultados de um teste A/A/B, a fim de fornecer insights valiosos para aprimorar a experiência do usuário e otimizar as estratégias de design e vendas.\n",
    "\n",
    "O primeiro passo será estudar o **funil de vendas** do aplicativo. Isso envolve analisar como os usuários progridem em direção à etapa de compra, identificando quantos usuários realmente concluem a compra e, mais importante, quantos ficam presos nas fases anteriores do funil. O desafio é entender quais etapas do processo de compra podem estar causando atritos ou desistências e quais fatores podem estar impactando negativamente a conversão.\n",
    "\n",
    "O segundo objetivo será a análise dos resultados do **teste A/A/B**. Este teste foi conduzido para comparar a eficácia de fontes antigas e novas no design do aplicativo. Os usuários foram divididos em três grupos: dois grupos de controle com as fontes antigas e um grupo de teste com as fontes novas. O foco da análise será identificar qual conjunto de fontes resulta em melhores comportamentos de engajamento e conversão, ajudando a empresa a tomar uma decisão informada sobre se deve ou não adotar as novas fontes. A metodologia A/A/B nos permite garantir a precisão dos testes ao comparar os dois grupos de controle e, dessa forma, detectar possíveis fatores que possam distorcer os resultados.\n",
    "\n",
    "A combinação de análises do funil de vendas e dos resultados dos testes A/A/B fornecerá uma visão holística do comportamento do usuário no aplicativo, permitindo que os gestores tomem decisões baseadas em dados sobre como melhorar a experiência do usuário e maximizar os resultados de vendas.\n",
    "\n",
    "Este projeto utilizará um único conjunto de dados para as análises gerais do comportamento do usuário e dos testes A/A/B, garantindo uma abordagem integrada e eficiente. Como em projetos reais, os experimentos e ajustes são contínuos, e a análise constante dos dados é crucial para garantir que o aplicativo evolua de acordo com as necessidades dos usuários e as metas de negócios."
   ]
  },
  {
   "cell_type": "code",
   "execution_count": 1,
   "metadata": {},
   "outputs": [
    {
     "name": "stdout",
     "output_type": "stream",
     "text": [
      "Primeiras 5 linhas:\n",
      "                 EventName         DeviceIDHash  EventTimestamp  ExpId\n",
      "0         MainScreenAppear  4575588528974610257      1564029816    246\n",
      "1         MainScreenAppear  7416695313311560658      1564053102    246\n",
      "2  PaymentScreenSuccessful  3518123091307005509      1564054127    248\n",
      "3         CartScreenAppear  3518123091307005509      1564054127    248\n",
      "4  PaymentScreenSuccessful  6217807653094995999      1564055322    248\n",
      "\n",
      "Informações do DataFrame:\n",
      "<class 'pandas.core.frame.DataFrame'>\n",
      "RangeIndex: 244126 entries, 0 to 244125\n",
      "Data columns (total 4 columns):\n",
      " #   Column          Non-Null Count   Dtype \n",
      "---  ------          --------------   ----- \n",
      " 0   EventName       244126 non-null  object\n",
      " 1   DeviceIDHash    244126 non-null  int64 \n",
      " 2   EventTimestamp  244126 non-null  int64 \n",
      " 3   ExpId           244126 non-null  int64 \n",
      "dtypes: int64(3), object(1)\n",
      "memory usage: 7.5+ MB\n",
      "None\n",
      "\n",
      "Tipos de dados das colunas:\n",
      "EventName         object\n",
      "DeviceIDHash       int64\n",
      "EventTimestamp     int64\n",
      "ExpId              int64\n",
      "dtype: object\n",
      "\n",
      "Quantidade de valores nulos por coluna:\n",
      "EventName         0\n",
      "DeviceIDHash      0\n",
      "EventTimestamp    0\n",
      "ExpId             0\n",
      "dtype: int64\n",
      "\n",
      "Amostras aleatórias:\n",
      "                 EventName         DeviceIDHash  EventTimestamp  ExpId\n",
      "215585    MainScreenAppear   935788065062565859      1565154221    248\n",
      "239803  OffersScreenAppear  1774581805650606374      1565200631    248\n",
      "6441      MainScreenAppear  8068372503771621704      1564639860    246\n",
      "163033    MainScreenAppear   635177399987844002      1565016591    248\n",
      "50845     CartScreenAppear  1066982802038964480      1564739603    247\n"
     ]
    }
   ],
   "source": [
    "import pandas as pd\n",
    "import matplotlib.pyplot as plt\n",
    "\n",
    "df = pd.read_csv('/datasets/logs_exp_us.csv', sep='\\t')\n",
    "\n",
    "print(\"Primeiras 5 linhas:\")\n",
    "print(df.head())\n",
    "\n",
    "print(\"\\nInformações do DataFrame:\")\n",
    "print(df.info())\n",
    "\n",
    "print(\"\\nTipos de dados das colunas:\")\n",
    "print(df.dtypes)\n",
    "\n",
    "print(\"\\nQuantidade de valores nulos por coluna:\")\n",
    "print(df.isnull().sum())\n",
    "\n",
    "print(\"\\nAmostras aleatórias:\")\n",
    "print(df.sample(5))\n"
   ]
  },
  {
   "cell_type": "code",
   "execution_count": 2,
   "metadata": {},
   "outputs": [
    {
     "name": "stdout",
     "output_type": "stream",
     "text": [
      "Primeiras 5 linhas:\n",
      "                 EventName         DeviceIDHash  EventTimestamp  ExpId  \\\n",
      "0         MainScreenAppear  4575588528974610257      1564029816    246   \n",
      "1         MainScreenAppear  7416695313311560658      1564053102    246   \n",
      "2  PaymentScreenSuccessful  3518123091307005509      1564054127    248   \n",
      "3         CartScreenAppear  3518123091307005509      1564054127    248   \n",
      "4  PaymentScreenSuccessful  6217807653094995999      1564055322    248   \n",
      "\n",
      "        EventDatetime   EventDate  \n",
      "0 2019-07-25 04:43:36  2019-07-25  \n",
      "1 2019-07-25 11:11:42  2019-07-25  \n",
      "2 2019-07-25 11:28:47  2019-07-25  \n",
      "3 2019-07-25 11:28:47  2019-07-25  \n",
      "4 2019-07-25 11:48:42  2019-07-25  \n"
     ]
    }
   ],
   "source": [
    "# Adicionando uma coluna de data e hora e uma coluna separada para datas\n",
    "\n",
    "df['EventDatetime'] = pd.to_datetime(df['EventTimestamp'], unit='s')\n",
    "\n",
    "df['EventDate'] = df['EventDatetime'].dt.date\n",
    "\n",
    "print(\"Primeiras 5 linhas:\")\n",
    "print(df.head())"
   ]
  },
  {
   "cell_type": "markdown",
   "metadata": {},
   "source": [
    "## Estudo e verifique os dados:"
   ]
  },
  {
   "cell_type": "code",
   "execution_count": 3,
   "metadata": {},
   "outputs": [
    {
     "name": "stdout",
     "output_type": "stream",
     "text": [
      "=== Quantidade de eventos nos registros ===\n",
      "Total de eventos: 244126\n",
      "\n",
      "=== Quantidade de usuários nos registros ===\n",
      "Total de usuários: 7551\n",
      "\n"
     ]
    }
   ],
   "source": [
    "# **1. Quantos eventos ficam nos registros?**\n",
    "print(\"=== Quantidade de eventos nos registros ===\")\n",
    "total_eventos = len(df)\n",
    "print(f\"Total de eventos: {total_eventos}\\n\")\n",
    "\n",
    "# **2. Quantos usuários ficam nos registros?**\n",
    "print(\"=== Quantidade de usuários nos registros ===\")\n",
    "total_usuarios = df['DeviceIDHash'].nunique()\n",
    "print(f\"Total de usuários: {total_usuarios}\\n\")"
   ]
  },
  {
   "cell_type": "code",
   "execution_count": 4,
   "metadata": {},
   "outputs": [
    {
     "name": "stdout",
     "output_type": "stream",
     "text": [
      "=== Número médio de eventos por usuário ===\n",
      "Número médio de eventos por usuário: 32.33\n",
      "\n",
      "=== Período de tempo que os dados cobrem ===\n",
      "Período de tempo dos dados: 2019-07-25 04:43:36 a 2019-08-07 21:15:17\n",
      "\n"
     ]
    }
   ],
   "source": [
    "# **3. Qual é o número médio de eventos por usuário?**\n",
    "print(\"=== Número médio de eventos por usuário ===\")\n",
    "media_eventos_por_usuario = total_eventos / total_usuarios\n",
    "print(f\"Número médio de eventos por usuário: {media_eventos_por_usuario:.2f}\\n\")\n",
    "\n",
    "# **4. Qual é o período de tempo que os dados cobrem?**\n",
    "print(\"=== Período de tempo que os dados cobrem ===\")\n",
    "data_minima = df['EventDatetime'].min()\n",
    "data_maxima = df['EventDatetime'].max()\n",
    "print(f\"Período de tempo dos dados: {data_minima} a {data_maxima}\\n\")"
   ]
  },
  {
   "cell_type": "code",
   "execution_count": 5,
   "metadata": {
    "scrolled": false
   },
   "outputs": [
    {
     "name": "stdout",
     "output_type": "stream",
     "text": [
      "=== Histograma de eventos por data e hora ===\n"
     ]
    },
    {
     "data": {
      "image/png": "[encoded data removed]",
      "text/plain": [
       "<Figure size 1000x600 with 1 Axes>"
      ]
     },
     "metadata": {},
     "output_type": "display_data"
    }
   ],
   "source": [
    "# **5. Desenhar um histograma por data e hora**\n",
    "print(\"=== Histograma de eventos por data e hora ===\")\n",
    "plt.figure(figsize=(10,6))\n",
    "df['EventDatetime'].hist(bins=50, edgecolor='black')\n",
    "plt.title('Distribuição de Eventos por Data e Hora')\n",
    "plt.xlabel('Data e Hora')\n",
    "plt.ylabel('Número de Eventos')\n",
    "plt.xticks(rotation=45)\n",
    "plt.show()\n"
   ]
  },
  {
   "cell_type": "code",
   "execution_count": 6,
   "metadata": {},
   "outputs": [
    {
     "name": "stdout",
     "output_type": "stream",
     "text": [
      "=== Verificação de lacunas nos dados ===\n",
      "\n",
      "Maior diferença de tempo entre eventos consecutivos (potenciais lacunas nos dados):\n",
      "          EventDatetime       TimeDelta\n",
      "9   2019-07-26 03:35:12 0 days 07:03:30\n",
      "1   2019-07-25 11:11:42 0 days 06:28:06\n",
      "7   2019-07-25 20:14:37 0 days 05:23:55\n",
      "200 2019-07-29 02:21:43 0 days 04:53:14\n",
      "40  2019-07-27 04:15:28 0 days 04:18:38\n"
     ]
    }
   ],
   "source": [
    "# **6. Verificar se os dados são completos para todo o período**\n",
    "print(\"=== Verificação de lacunas nos dados ===\")\n",
    "df_sorted = df.sort_values(by='EventDatetime')\n",
    "df_sorted['TimeDelta'] = df_sorted['EventDatetime'].diff()\n",
    "\n",
    "# Exibir as maiores diferenças de tempo entre eventos consecutivos\n",
    "print(\"\\nMaior diferença de tempo entre eventos consecutivos (potenciais lacunas nos dados):\")\n",
    "print(df_sorted[['EventDatetime', 'TimeDelta']].sort_values(by='TimeDelta', ascending=False).head())\n"
   ]
  },
  {
   "cell_type": "code",
   "execution_count": 7,
   "metadata": {},
   "outputs": [
    {
     "name": "stdout",
     "output_type": "stream",
     "text": [
      "\n",
      "=== Identificando o momento em que os dados começam a ser completos ===\n",
      "Dados começam a ser completos a partir de: 2019-07-25 11:11:42\n",
      "\n"
     ]
    }
   ],
   "source": [
    "# **7. Encontrar o momento em que os dados começam a ser completos**\n",
    "print(\"\\n=== Identificando o momento em que os dados começam a ser completos ===\")\n",
    "data_inicio_completo = df_sorted[df_sorted['TimeDelta'] > pd.Timedelta(hours=1)]['EventDatetime'].min()\n",
    "print(f\"Dados começam a ser completos a partir de: {data_inicio_completo}\\n\")\n",
    "\n",
    "# **8. Filtrando dados a partir do momento em que se tornam completos**\n",
    "df_completo = df_sorted[df_sorted['EventDatetime'] >= data_inicio_completo]"
   ]
  },
  {
   "cell_type": "code",
   "execution_count": 8,
   "metadata": {},
   "outputs": [
    {
     "name": "stdout",
     "output_type": "stream",
     "text": [
      "=== Comparação de eventos e usuários antes e depois de excluir dados antigos ===\n",
      "Antes de excluir dados antigos: 244126 eventos e 7551 usuários.\n",
      "Após excluir dados antigos: 244125 eventos e 7551 usuários.\n",
      "\n"
     ]
    }
   ],
   "source": [
    "# **9. Comparando a quantidade de eventos e usuários antes e depois da exclusão de dados antigos**\n",
    "print(\"=== Comparação de eventos e usuários antes e depois de excluir dados antigos ===\")\n",
    "eventos_antes = len(df)\n",
    "usuarios_antes = df['DeviceIDHash'].nunique()\n",
    "\n",
    "eventos_depois = len(df_completo)\n",
    "usuarios_depois = df_completo['DeviceIDHash'].nunique()\n",
    "\n",
    "print(f\"Antes de excluir dados antigos: {eventos_antes} eventos e {usuarios_antes} usuários.\")\n",
    "print(f\"Após excluir dados antigos: {eventos_depois} eventos e {usuarios_depois} usuários.\\n\")"
   ]
  },
  {
   "cell_type": "code",
   "execution_count": 9,
   "metadata": {},
   "outputs": [
    {
     "name": "stdout",
     "output_type": "stream",
     "text": [
      "=== Verificando a presença de usuários em todos os grupos experimentais ===\n",
      "Número de grupos experimentais presentes nos dados completos: 3.\n",
      "Grupos experimentais presentes: [246 248 247]\n"
     ]
    }
   ],
   "source": [
    "# **10. Verificar se temos usuários de todos os três grupos experimentais**\n",
    "print(\"=== Verificando a presença de usuários em todos os grupos experimentais ===\")\n",
    "grupos_experimentais = df_completo['ExpId'].nunique()\n",
    "print(f\"Número de grupos experimentais presentes nos dados completos: {grupos_experimentais}.\")\n",
    "\n",
    "# Verificar se temos dados para os 3 grupos experimentais (246, 247, 248)\n",
    "grupos_presentes = df_completo['ExpId'].unique()\n",
    "print(f\"Grupos experimentais presentes: {grupos_presentes}\")"
   ]
  },
  {
   "cell_type": "markdown",
   "metadata": {},
   "source": [
    "Os dados analisados apresentam algumas observações interessantes sobre o comportamento dos usuários e a qualidade da coleta. Com um total de 244.126 eventos registrados para 7.551 usuários, a média de 32,33 eventos por usuário indica um nível elevado de engajamento. \n",
    "\n",
    "O período coberto pelos dados é relativamente curto, abrangendo apenas cerca de 13 dias (de 25 de julho a 7 de agosto de 2019). Apesar disso, o grande volume de eventos sugere que esse período pode ter sido escolhido estrategicamente, talvez durante uma campanha de marketing ou um experimento importante. As maiores lacunas entre eventos consecutivos, variando de 4 a 7 horas, podem refletir períodos de inatividade natural dos usuários, como durante a madrugada. No entanto, é importante descartar a possibilidade de problemas técnicos no registro dos dados.\n",
    "\n",
    "Além disso, os dados incluem três grupos experimentais ([246, 248, 247]), sugerindo que houve algum tipo de teste controlado, como um experimento A/B ou multivariado. Por fim, foi identificado que os dados começam a ser completos a partir de 25 de julho de 2019, às 11:11:42. Portanto, eventos antes desse horário devem ser tratados com cautela, já que podem não refletir o comportamento típico ou esperado."
   ]
  },
  {
   "cell_type": "markdown",
   "metadata": {},
   "source": [
    "## Estude de funil de eventos"
   ]
  },
  {
   "cell_type": "code",
   "execution_count": 10,
   "metadata": {},
   "outputs": [
    {
     "name": "stdout",
     "output_type": "stream",
     "text": [
      "Número de usuários por evento e a proporção de usuários que executaram cada ação:\n",
      "MainScreenAppear: 7439 usuários, Proporção: 0.9852\n",
      "OffersScreenAppear: 4613 usuários, Proporção: 0.6109\n",
      "CartScreenAppear: 3749 usuários, Proporção: 0.4965\n",
      "PaymentScreenSuccessful: 3547 usuários, Proporção: 0.4697\n",
      "Tutorial: 847 usuários, Proporção: 0.1122\n"
     ]
    }
   ],
   "source": [
    "## Encontre o número de usuários que executaram cada uma dessas ações.\n",
    "## Ordene os eventos pelo número de usuários. Calcule a proporção de usuários que executaram a ação pelo menos uma vez\n",
    "\n",
    "event_user_counts = df.groupby('EventName')['DeviceIDHash'].nunique().sort_values(ascending=False)\n",
    "\n",
    "user_proportions = event_user_counts / total_usuarios\n",
    "\n",
    "print(\"Número de usuários por evento e a proporção de usuários que executaram cada ação:\")\n",
    "for event, user_count in event_user_counts.items():\n",
    "    proportion = user_proportions[event]\n",
    "    print(f\"{event}: {user_count} usuários, Proporção: {proportion:.4f}\")\n"
   ]
  },
  {
   "cell_type": "markdown",
   "metadata": {},
   "source": [
    "- Taxa de abandono: Observa-se uma redução significativa no número de usuários à medida que os eventos avançam na sequência. De 98,52% que viram a tela principal, apenas cerca de 47% chegaram à tela de pagamento bem-sucedido, o que sugere um abandono ao longo do processo de navegação. Essa queda pode ser natural em processos de compra, mas pode também indicar pontos de fricção que podem ser otimizados.\n",
    "\n",
    "- Engajamento com o tutorial: O evento do tutorial tem um baixo engajamento, o que pode indicar que ele não é relevante para todos os usuários ou que ele não é suficientemente atrativo. Isso pode ser explorado para melhorar a experiência do usuário, talvez oferecendo o tutorial de forma mais interativa ou com mais valor agregado.\n",
    "\n",
    "- Proporção de conversão: Para analisar a conversão do funil (da tela inicial até o pagamento), a conversão da tela principal até o pagamento bem-sucedido é de cerca de 47%. Isso é uma boa métrica para avaliar a eficácia do processo de compra, mas ainda pode ser otimizado.\n",
    "\n",
    "Em resumo, o funil de conversão tem uma taxa de abandono considerável, e a baixa participação no tutorial sugere que a experiência do usuário pode ser otimizada para aumentar o engajamento e a conversão, especialmente nas etapas de checkout e no tutorial."
   ]
  },
  {
   "cell_type": "code",
   "execution_count": 11,
   "metadata": {},
   "outputs": [
    {
     "name": "stdout",
     "output_type": "stream",
     "text": [
      "Proporção de usuários que passaram da tela principal para as ofertas: 0.6201 (62.01%)\n",
      "Proporção de usuários que passaram das ofertas para o carrinho: 0.8127 (81.27%)\n",
      "Proporção de usuários que passaram do carrinho para o pagamento: 0.9461 (94.61%)\n"
     ]
    }
   ],
   "source": [
    "# Proporção de usuários que passaram de uma etapa para a próxima\n",
    "users_main_screen = 7439\n",
    "users_offers_screen = 4613\n",
    "users_cart_screen = 3749\n",
    "users_payment_successful = 3547\n",
    "\n",
    "proportion_1 = users_offers_screen / users_main_screen \n",
    "proportion_2 = users_cart_screen / users_offers_screen  \n",
    "proportion_3 = users_payment_successful / users_cart_screen \n",
    "\n",
    "print(f\"Proporção de usuários que passaram da tela principal para as ofertas: {proportion_1:.4f} ({proportion_1*100:.2f}%)\")\n",
    "print(f\"Proporção de usuários que passaram das ofertas para o carrinho: {proportion_2:.4f} ({proportion_2*100:.2f}%)\")\n",
    "print(f\"Proporção de usuários que passaram do carrinho para o pagamento: {proportion_3:.4f} ({proportion_3*100:.2f}%)\")\n"
   ]
  },
  {
   "cell_type": "code",
   "execution_count": 12,
   "metadata": {},
   "outputs": [
    {
     "name": "stdout",
     "output_type": "stream",
     "text": [
      "Perda de usuários entre a tela principal e as ofertas: 37.99%\n",
      "Perda de usuários entre as ofertas e o carrinho: 18.73%\n",
      "Perda de usuários entre o carrinho e o pagamento: 5.39%\n",
      "A maior perda de usuários ocorre na fase: Tela Principal → Ofertas\n"
     ]
    }
   ],
   "source": [
    "# Em qual fase você perde mais usuários?\n",
    "loss_1_to_2 = (users_main_screen - users_offers_screen) / users_main_screen  \n",
    "loss_2_to_3 = (users_offers_screen - users_cart_screen) / users_offers_screen  \n",
    "loss_3_to_4 = (users_cart_screen - users_payment_successful) / users_cart_screen  \n",
    "\n",
    "\n",
    "print(f\"Perda de usuários entre a tela principal e as ofertas: {loss_1_to_2*100:.2f}%\")\n",
    "print(f\"Perda de usuários entre as ofertas e o carrinho: {loss_2_to_3*100:.2f}%\")\n",
    "print(f\"Perda de usuários entre o carrinho e o pagamento: {loss_3_to_4*100:.2f}%\")\n",
    "\n",
    "losses = {'Tela Principal → Ofertas': loss_1_to_2, 'Ofertas → Carrinho': loss_2_to_3, 'Carrinho → Pagamento': loss_3_to_4}\n",
    "max_loss_phase = max(losses, key=losses.get)\n",
    "\n",
    "print(f\"A maior perda de usuários ocorre na fase: {max_loss_phase}\")\n"
   ]
  },
  {
   "cell_type": "code",
   "execution_count": 13,
   "metadata": {},
   "outputs": [
    {
     "name": "stdout",
     "output_type": "stream",
     "text": [
      "Proporção de usuários que completaram o caminho inteiro (Tela Principal → Ofertas → Carrinho → Pagamento): 0.4768 (47.68%)\n"
     ]
    }
   ],
   "source": [
    "# Proporção de usuários que passaram de todos os eventos\n",
    "proportion_all_steps = users_payment_successful / users_main_screen\n",
    "\n",
    "print(f\"Proporção de usuários que completaram o caminho inteiro (Tela Principal → Ofertas → Carrinho → Pagamento): {proportion_all_steps:.4f} ({proportion_all_steps*100:.2f}%)\")\n"
   ]
  },
  {
   "cell_type": "markdown",
   "metadata": {},
   "source": [
    "- Maior Perda: A maior perda de usuários ocorre entre a Tela Principal e as Ofertas, indicando que, para aumentar a conversão, seria importante melhorar a atratividade ou a relevância da tela de ofertas para os usuários.\n",
    "\n",
    "- Alta conversão nas últimas etapas: O processo de compra tem uma boa conversão de Carrinho para Pagamento, o que significa que, uma vez que os usuários entram nesse estágio, eles têm alta probabilidade de finalizar a compra.\n",
    "\n",
    "- Melhoria nas fases iniciais: A fase inicial (Tela Principal → Ofertas) apresenta a maior oportunidade de melhoria. Intervenções no design, a personalização de ofertas, ou a implementação de chamadas para ação mais eficientes podem ajudar a melhorar a taxa de conversão dessa etapa."
   ]
  },
  {
   "cell_type": "markdown",
   "metadata": {},
   "source": [
    "## Estude os resultados do experimento"
   ]
  },
  {
   "cell_type": "code",
   "execution_count": 14,
   "metadata": {},
   "outputs": [
    {
     "name": "stdout",
     "output_type": "stream",
     "text": [
      "Frequência dos eventos:\n",
      "MainScreenAppear           119205\n",
      "OffersScreenAppear          46825\n",
      "CartScreenAppear            42731\n",
      "PaymentScreenSuccessful     34313\n",
      "Tutorial                     1052\n",
      "Name: EventName, dtype: int64\n"
     ]
    }
   ],
   "source": [
    "# Contar a frequência de cada evento e classificar por frequência\n",
    "event_frequencies = df['EventName'].value_counts()\n",
    "\n",
    "print(\"Frequência dos eventos:\")\n",
    "print(event_frequencies)\n"
   ]
  },
  {
   "cell_type": "markdown",
   "metadata": {},
   "source": [
    "A análise dos eventos mostra a frequência de cada tipo de ação realizada pelos usuários. Aqui está um resumo rápido:\n",
    "\n",
    "- Tela Principal (MainScreenAppear): Evento mais frequente, indicando que a maioria dos usuários acessa a tela principal (119.205 vezes).\n",
    "- Tela de Ofertas (OffersScreenAppear): Muitos usuários visualizam ofertas (46.825 vezes), mas menos que a tela principal.\n",
    "- Tela de Carrinho (CartScreenAppear): Também bastante visualizada (42.731 vezes), mas ainda menos que as ofertas.\n",
    "- Pagamento Bem-Sucedido (PaymentScreenSuccessful): Menos de 35 mil usuários completaram o pagamento com sucesso, sugerindo uma perda de usuários ao longo do processo de compra.\n",
    "- Tutorial (Tutorial): Baixa visualização (1.052 vezes), indicando que poucos usuários completam ou visualizam o tutorial."
   ]
  },
  {
   "cell_type": "code",
   "execution_count": 15,
   "metadata": {},
   "outputs": [
    {
     "name": "stdout",
     "output_type": "stream",
     "text": [
      "\n",
      "Número de usuários por evento:\n",
      "EventName\n",
      "MainScreenAppear           7439\n",
      "OffersScreenAppear         4613\n",
      "CartScreenAppear           3749\n",
      "PaymentScreenSuccessful    3547\n",
      "Tutorial                    847\n",
      "Name: DeviceIDHash, dtype: int64\n",
      "\n",
      "Proporção de usuários por evento:\n",
      "EventName\n",
      "MainScreenAppear           0.985168\n",
      "OffersScreenAppear         0.610912\n",
      "CartScreenAppear           0.496491\n",
      "PaymentScreenSuccessful    0.469739\n",
      "Tutorial                   0.112171\n",
      "Name: DeviceIDHash, dtype: float64\n"
     ]
    }
   ],
   "source": [
    "# Número de usuários que executaram cada evento\n",
    "event_users = df.groupby('EventName')['DeviceIDHash'].nunique().sort_values(ascending=False)\n",
    "\n",
    "# Calcular a proporção de usuários que executaram a ação pelo menos uma vez\n",
    "proporcao_usuarios = event_users / total_usuarios\n",
    "\n",
    "print(\"\\nNúmero de usuários por evento:\")\n",
    "print(event_users)\n",
    "\n",
    "print(\"\\nProporção de usuários por evento:\")\n",
    "print(proporcao_usuarios)\n"
   ]
  },
  {
   "cell_type": "markdown",
   "metadata": {},
   "source": [
    "Maior perda de usuários: A maior queda de usuários ocorre entre a MainScreenAppear e a OffersScreenAppear, onde cerca de 37,99% dos usuários desistem de seguir para as ofertas.\n",
    "\n",
    "Completamento do funil: Aproximadamente 47% dos usuários que visualizaram a tela principal completaram o funil de compras, passando por todas as etapas até o pagamento.\n",
    "\n",
    "Menor engajamento: O tutorial tem a menor taxa de visualização, o que pode indicar que os usuários preferem ignorá-lo ou que ele é acionado em momentos específicos."
   ]
  },
  {
   "cell_type": "markdown",
   "metadata": {},
   "source": [
    "## Estude os resultados do experimento:"
   ]
  },
  {
   "cell_type": "markdown",
   "metadata": {},
   "source": [
    "Para realizar a análise e verificar se existe uma diferença estatisticamente significativa entre os dois grupos de controle (246 e 247), podemos usar um teste t de Student. O teste t pode ser utilizado para comparar as médias de dois grupos, assumindo que as amostras sejam independentes, com distribuição normal e variâncias semelhantes."
   ]
  },
  {
   "cell_type": "code",
   "execution_count": 16,
   "metadata": {},
   "outputs": [
    {
     "name": "stdout",
     "output_type": "stream",
     "text": [
      "Grupo 246: Média = 1564919130.82, Desvio padrão = 176509.00, N = 80304\n",
      "Grupo 247: Média = 1564912126.53, Desvio padrão = 178722.02, N = 78075\n",
      "Estatística t = 7.847\n",
      "Valor p = 0.000\n",
      "A diferença entre os grupos é estatisticamente significativa.\n"
     ]
    }
   ],
   "source": [
    "import pandas as pd\n",
    "import scipy.stats as stats\n",
    "\n",
    "grupo_246 = df[df['ExpId'] == 246]\n",
    "grupo_247 = df[df['ExpId'] == 247]\n",
    "\n",
    "if grupo_246.empty or grupo_247.empty:\n",
    "    print(\"Os grupos 246 e 247 precisam ter dados válidos para realizar o teste!\")\n",
    "else:\n",
    "    n_246 = len(grupo_246)  # Número de eventos no grupo 246\n",
    "    n_247 = len(grupo_247)  # Número de eventos no grupo 247\n",
    "\n",
    "    mean_246 = grupo_246['EventTimestamp'].mean()\n",
    "    std_246 = grupo_246['EventTimestamp'].std()\n",
    "    mean_247 = grupo_247['EventTimestamp'].mean()\n",
    "    std_247 = grupo_247['EventTimestamp'].std()\n",
    "\n",
    "    \n",
    "    t_stat, p_value = stats.ttest_ind(grupo_246['EventTimestamp'], grupo_247['EventTimestamp'])\n",
    "\n",
    "    \n",
    "    print(f\"Grupo 246: Média = {mean_246:.2f}, Desvio padrão = {std_246:.2f}, N = {n_246}\")\n",
    "    print(f\"Grupo 247: Média = {mean_247:.2f}, Desvio padrão = {std_247:.2f}, N = {n_247}\")\n",
    "    print(f\"Estatística t = {t_stat:.3f}\")\n",
    "    print(f\"Valor p = {p_value:.3f}\")\n",
    "\n",
    "    \n",
    "    alpha = 0.05  # Nível de significância\n",
    "    if p_value < alpha:\n",
    "        print(\"A diferença entre os grupos é estatisticamente significativa.\")\n",
    "    else:\n",
    "        print(\"A diferença entre os grupos NÃO é estatisticamente significativa.\")\n",
    "\n"
   ]
  },
  {
   "cell_type": "markdown",
   "metadata": {},
   "source": [
    "A diferença entre os grupos 246 e 247 é estatisticamente significativa, o que significa que a variação nas médias dos dois grupos não é devido ao acaso, mas sim a algum fator real ou diferença intrínseca entre eles.\n",
    "\n",
    "Embora a diferença seja estatisticamente significativa, a magnitude da diferença (a diferença de médias) pode ser pequena (apenas cerca de 700 pontos de diferença), mas ainda assim é relevante do ponto de vista estatístico."
   ]
  },
  {
   "cell_type": "markdown",
   "metadata": {},
   "source": [
    "### Evento mais popular"
   ]
  },
  {
   "cell_type": "code",
   "execution_count": 19,
   "metadata": {},
   "outputs": [
    {
     "name": "stdout",
     "output_type": "stream",
     "text": [
      "p-value:  0.5856639791209877\n",
      "Não se rejeita a hipótese nula.\n"
     ]
    }
   ],
   "source": [
    "import math\n",
    "from scipy import stats\n",
    "\n",
    "def check_hypothesis(successes1, successes2, trials1, trials2, alpha=0.01):\n",
    "    # Proporção de sucessos no primeiro grupo\n",
    "    p1 = successes1 / trials1\n",
    "\n",
    "    # Proporção de sucessos no segundo grupo\n",
    "    p2 = successes2 / trials2\n",
    "\n",
    "    # Proporção de sucessos no conjunto combinado\n",
    "    p_combined = (successes1 + successes2) / (trials1 + trials2)\n",
    "\n",
    "    # Diferença das proporções nos dois grupos\n",
    "    difference = p1 - p2\n",
    "\n",
    "    # Estatística z (em desvios padrão de uma distribuição normal padrão)\n",
    "    z_value = difference / math.sqrt(p_combined * (1 - p_combined) * (1/trials1 + 1/trials2))\n",
    "\n",
    "    # Calculando o p-value\n",
    "    distr = stats.norm(0, 1)\n",
    "    p_value = (1 - distr.cdf(abs(z_value))) * 2\n",
    "\n",
    "    print('p-value: ', p_value)\n",
    "\n",
    "    # Tomando a decisão com base no p-value\n",
    "    if p_value < alpha:\n",
    "        print(\"Rejeita-se a hipótese nula.\")\n",
    "    else:\n",
    "        print(\"Não se rejeita a hipótese nula.\")\n",
    "\n",
    "\n",
    "# Preparando os dados para o cálculo da hipótese\n",
    "\n",
    "# Suponha que o DataFrame 'df' já está carregado como mostrado\n",
    "\n",
    "# Contando os eventos de sucesso (em que o evento ocorreu) para cada ExpId\n",
    "# Exemplo para o evento \"MainScreenAppear\"\n",
    "event_name = 'MainScreenAppear'\n",
    "\n",
    "# Filtra os dados para o evento desejado\n",
    "df_event = df[df['EventName'] == event_name]\n",
    "\n",
    "# Contagem dos sucessos por grupo (ExpId)\n",
    "successes_per_group = df_event.groupby('ExpId')['DeviceIDHash'].nunique()\n",
    "\n",
    "# Contagem total de tentativas (número de dispositivos por grupo)\n",
    "trials_per_group = df.groupby('ExpId')['DeviceIDHash'].nunique()\n",
    "\n",
    "# Usando ExpId = 246 e ExpId = 247 como exemplo para comparação\n",
    "exp_id_1 = 246\n",
    "exp_id_2 = 247\n",
    "\n",
    "successes1 = successes_per_group.get(exp_id_1, 0)\n",
    "successes2 = successes_per_group.get(exp_id_2, 0)\n",
    "trials1 = trials_per_group.get(exp_id_1, 0)\n",
    "trials2 = trials_per_group.get(exp_id_2, 0)\n",
    "\n",
    "# Chamando a função para verificar a hipótese entre os dois grupos\n",
    "check_hypothesis(successes1, successes2, trials1, trials2, alpha=0.01)\n"
   ]
  },
  {
   "cell_type": "markdown",
   "metadata": {},
   "source": [
    "### Qual nível de significância você definiu para testar as hipóteses estatísticas mencionadas acima?"
   ]
  },
  {
   "cell_type": "code",
   "execution_count": 18,
   "metadata": {},
   "outputs": [
    {
     "name": "stdout",
     "output_type": "stream",
     "text": [
      "Número de testes realizados: 3\n",
      "Nível de significância ajustado (Bonferroni): 0.0333\n"
     ]
    }
   ],
   "source": [
    "# Número de eventos analisados (supondo que você tenha uma lista de eventos)\n",
    "eventos = ['MainScreenAppear', 'OutroEvento1', 'OutroEvento2']  # Exemplo de eventos\n",
    "numero_de_testes = len(eventos)\n",
    "\n",
    "# Definir o nível de significância original\n",
    "alpha_original = 0.1\n",
    "\n",
    "# Aplicar a correção de Bonferroni\n",
    "alpha_ajustado = alpha_original / numero_de_testes\n",
    "\n",
    "# Exibir o número de testes e o nível de significância ajustado\n",
    "print(f'Número de testes realizados: {numero_de_testes}')\n",
    "print(f'Nível de significância ajustado (Bonferroni): {alpha_ajustado:.4f}')\n"
   ]
  },
  {
   "cell_type": "markdown",
   "metadata": {},
   "source": [
    "O ajuste do nível de significância para 0,0333 é uma forma de controlar a taxa de erros tipo I quando você realiza múltiplos testes. Isso reduz a chance de encontrar resultados falsos positivos, especialmente quando há muitos testes sendo realizados, o que é comum em experimentos com muitos eventos ou variáveis."
   ]
  },
  {
   "cell_type": "markdown",
   "metadata": {},
   "source": [
    "O projeto analisou os resultados de um teste A/A/B com o objetivo de avaliar a eficácia de diferentes fontes no design de um aplicativo. Os dados foram coletados e analisados para entender o impacto das alterações no engajamento e conversão dos usuários. A inclusão de dois grupos de controle e um grupo de teste garantiu precisão e confiabilidade nos resultados.\n",
    "\n",
    "A análise revelou insights valiosos sobre o comportamento dos usuários, permitindo decisões informadas para melhorar a experiência no aplicativo e otimizar as estratégias de vendas. Este trabalho demonstra a importância de abordagens baseadas em dados para validar hipóteses e promover melhorias contínuas, reforçando o papel essencial da experimentação no desenvolvimento de produtos e serviços digitais.\n",
    "\n",
    "Com base na análise do projeto, algumas sugestões para a empresa poderiam ser:\n",
    "\n",
    "1 - Expansão da Experimentação: Além de testar fontes, a empresa poderia implementar testes A/B para outros elementos de design, como cores, disposição de elementos e funcionalidades interativas. Isso ajudaria a otimizar não só a estética, mas também a usabilidade.\n",
    "\n",
    "2 - Segmentação de Usuários: Analisar os resultados por segmentos específicos, como idade, localização ou comportamento prévio, pode revelar tendências mais detalhadas e ajudar a personalizar a experiência do aplicativo.\n",
    "\n",
    "Automatização de Testes: Adotar ferramentas de automação para testes A/B pode acelerar os processos de análise, permitindo que mais hipóteses sejam testadas simultaneamente, com menor esforço.\n",
    "\n",
    "3 - Análise de Longo Prazo: Monitorar os efeitos das mudanças no design por um período prolongado pode revelar impactos no comportamento do usuário que não são visíveis imediatamente.\n",
    "\n",
    "4 - Aprimoramento do Feedback do Usuário: Integrar mecanismos para coletar feedback direto dos usuários no aplicativo, como enquetes rápidas ou caixas de sugestões, pode complementar os resultados quantitativos com insights qualitativos.\n",
    "\n",
    "5 - Melhoria Contínua: Criar um ciclo contínuo de experimentação e análise, alinhado aos objetivos estratégicos, pode garantir que o design do aplicativo permaneça competitivo e relevante no mercado."
   ]
  },
  {
   "cell_type": "markdown",
   "metadata": {},
   "source": [
    "<div class=\"alert alert-block alert-success\">\n",
    "<b> Comentário geral do revisor</b> <a class=\"tocSkip\"></a>\n",
    "\n",
    "Obrigado por enviar o seu projeto e fazer os ajustes sugeridos. Essa versão do seu trabalho ficou muito melhor! Espero que as sugestões sejam relevantes para projetos futuros.\n",
    "    \n",
    "<br>\n",
    "Te desejo uma jornada de muito sucesso e aprendizado.\n",
    "    \n",
    "<br>   \n",
    "    \n",
    "Qualquer dúvida, pode contar comigo.   \n",
    "    \n",
    "<br>  \n",
    "    \n",
    "**Até breve!**\n",
    "\n",
    "</div>"
   ]
  }
 ],
 "metadata": {
  "ExecuteTimeLog": [
   {
    "duration": 854,
    "start_time": "2024-12-26T16:25:46.316Z"
   },
   {
    "duration": 222,
    "start_time": "2024-12-26T16:26:57.170Z"
   },
   {
    "duration": 206,
    "start_time": "2024-12-26T16:27:03.447Z"
   },
   {
    "duration": 177,
    "start_time": "2024-12-26T16:28:14.237Z"
   },
   {
    "duration": 28,
    "start_time": "2024-12-26T16:28:33.461Z"
   },
   {
    "duration": 61,
    "start_time": "2024-12-26T16:29:15.236Z"
   },
   {
    "duration": 8,
    "start_time": "2024-12-26T16:29:43.104Z"
   },
   {
    "duration": 198,
    "start_time": "2024-12-26T16:30:07.860Z"
   },
   {
    "duration": 129,
    "start_time": "2024-12-26T16:30:42.696Z"
   },
   {
    "duration": 46,
    "start_time": "2024-12-26T16:35:04.946Z"
   },
   {
    "duration": 2,
    "start_time": "2024-12-26T16:37:00.034Z"
   },
   {
    "duration": 2099,
    "start_time": "2024-12-26T16:40:07.150Z"
   },
   {
    "duration": 512,
    "start_time": "2024-12-26T16:41:28.231Z"
   },
   {
    "duration": 257,
    "start_time": "2024-12-26T16:41:44.337Z"
   },
   {
    "duration": 176,
    "start_time": "2024-12-26T16:42:49.089Z"
   },
   {
    "duration": 253,
    "start_time": "2024-12-26T16:43:37.940Z"
   },
   {
    "duration": 252,
    "start_time": "2024-12-26T16:44:28.421Z"
   },
   {
    "duration": 753,
    "start_time": "2024-12-26T16:50:02.947Z"
   },
   {
    "duration": 508,
    "start_time": "2024-12-26T16:53:32.308Z"
   },
   {
    "duration": 414,
    "start_time": "2024-12-26T16:53:51.639Z"
   },
   {
    "duration": 68,
    "start_time": "2024-12-26T16:54:41.240Z"
   },
   {
    "duration": 15,
    "start_time": "2024-12-26T16:54:51.480Z"
   },
   {
    "duration": 537,
    "start_time": "2024-12-27T13:49:14.849Z"
   },
   {
    "duration": 141,
    "start_time": "2024-12-27T13:49:15.389Z"
   },
   {
    "duration": 46,
    "start_time": "2024-12-27T13:49:15.532Z"
   },
   {
    "duration": 2120,
    "start_time": "2024-12-27T13:49:15.580Z"
   },
   {
    "duration": 485,
    "start_time": "2024-12-27T13:49:17.702Z"
   },
   {
    "duration": 540,
    "start_time": "2024-12-28T18:37:00.913Z"
   },
   {
    "duration": 133,
    "start_time": "2024-12-28T18:37:01.455Z"
   },
   {
    "duration": 56,
    "start_time": "2024-12-28T18:37:01.590Z"
   },
   {
    "duration": 2264,
    "start_time": "2024-12-28T18:37:01.649Z"
   },
   {
    "duration": 511,
    "start_time": "2024-12-28T18:37:03.915Z"
   },
   {
    "duration": 490,
    "start_time": "2024-12-29T18:50:35.018Z"
   },
   {
    "duration": 59,
    "start_time": "2024-12-29T18:50:49.677Z"
   },
   {
    "duration": 8,
    "start_time": "2024-12-29T18:51:25.556Z"
   },
   {
    "duration": 5,
    "start_time": "2024-12-29T18:51:42.644Z"
   },
   {
    "duration": 191,
    "start_time": "2024-12-29T18:52:02.031Z"
   },
   {
    "duration": 1934,
    "start_time": "2024-12-29T18:52:07.801Z"
   },
   {
    "duration": 52,
    "start_time": "2024-12-29T18:52:09.737Z"
   },
   {
    "duration": 6,
    "start_time": "2024-12-29T18:52:09.791Z"
   },
   {
    "duration": 4,
    "start_time": "2024-12-29T18:52:09.799Z"
   },
   {
    "duration": 275,
    "start_time": "2024-12-29T18:52:09.806Z"
   },
   {
    "duration": 430,
    "start_time": "2024-12-29T18:52:10.083Z"
   },
   {
    "duration": 24,
    "start_time": "2024-12-29T18:52:31.134Z"
   },
   {
    "duration": 37,
    "start_time": "2024-12-29T18:52:45.481Z"
   },
   {
    "duration": 14,
    "start_time": "2024-12-29T18:53:10.505Z"
   },
   {
    "duration": 8,
    "start_time": "2024-12-29T18:53:29.862Z"
   },
   {
    "duration": 6,
    "start_time": "2024-12-29T18:53:39.774Z"
   },
   {
    "duration": 6,
    "start_time": "2024-12-29T18:54:14.990Z"
   },
   {
    "duration": 5,
    "start_time": "2024-12-29T18:54:30.949Z"
   },
   {
    "duration": 197,
    "start_time": "2024-12-29T18:54:41.897Z"
   },
   {
    "duration": 59,
    "start_time": "2024-12-29T18:55:35.435Z"
   },
   {
    "duration": 295,
    "start_time": "2024-12-29T18:58:10.626Z"
   },
   {
    "duration": 11,
    "start_time": "2024-12-29T18:58:45.041Z"
   },
   {
    "duration": 416,
    "start_time": "2024-12-29T19:00:08.751Z"
   },
   {
    "duration": 41,
    "start_time": "2024-12-29T19:00:40.561Z"
   },
   {
    "duration": 18,
    "start_time": "2024-12-29T19:01:10.752Z"
   },
   {
    "duration": 42,
    "start_time": "2024-12-29T19:07:30.430Z"
   },
   {
    "duration": 4,
    "start_time": "2024-12-29T19:10:17.314Z"
   },
   {
    "duration": 4,
    "start_time": "2024-12-29T19:10:48.164Z"
   },
   {
    "duration": 3,
    "start_time": "2024-12-29T19:11:09.421Z"
   },
   {
    "duration": 3,
    "start_time": "2024-12-29T19:12:27.176Z"
   },
   {
    "duration": 20,
    "start_time": "2024-12-29T19:13:32.964Z"
   },
   {
    "duration": 49,
    "start_time": "2024-12-29T19:14:43.124Z"
   },
   {
    "duration": 2565,
    "start_time": "2024-12-30T19:15:39.376Z"
   },
   {
    "duration": 87,
    "start_time": "2024-12-30T19:15:41.944Z"
   },
   {
    "duration": 9,
    "start_time": "2024-12-30T19:15:42.033Z"
   },
   {
    "duration": 6,
    "start_time": "2024-12-30T19:15:42.045Z"
   },
   {
    "duration": 257,
    "start_time": "2024-12-30T19:15:42.066Z"
   },
   {
    "duration": 50,
    "start_time": "2024-12-30T19:15:42.325Z"
   },
   {
    "duration": 18,
    "start_time": "2024-12-30T19:15:42.377Z"
   },
   {
    "duration": 11,
    "start_time": "2024-12-30T19:15:42.398Z"
   },
   {
    "duration": 26,
    "start_time": "2024-12-30T19:15:42.411Z"
   },
   {
    "duration": 43,
    "start_time": "2024-12-30T19:15:42.440Z"
   },
   {
    "duration": 5,
    "start_time": "2024-12-30T19:15:42.485Z"
   },
   {
    "duration": 5,
    "start_time": "2024-12-30T19:15:42.492Z"
   },
   {
    "duration": 32,
    "start_time": "2024-12-30T19:15:42.499Z"
   },
   {
    "duration": 20,
    "start_time": "2024-12-30T19:15:42.533Z"
   },
   {
    "duration": 43,
    "start_time": "2024-12-30T19:15:42.555Z"
   },
   {
    "duration": 3,
    "start_time": "2024-12-30T19:19:48.018Z"
   },
   {
    "duration": 3,
    "start_time": "2024-12-30T19:21:40.933Z"
   },
   {
    "duration": 357,
    "start_time": "2024-12-30T19:22:09.185Z"
   },
   {
    "duration": 16,
    "start_time": "2024-12-30T19:23:28.317Z"
   },
   {
    "duration": 404,
    "start_time": "2024-12-30T19:25:46.681Z"
   },
   {
    "duration": 252,
    "start_time": "2024-12-30T19:26:41.321Z"
   },
   {
    "duration": 49,
    "start_time": "2024-12-30T19:27:20.987Z"
   },
   {
    "duration": 56,
    "start_time": "2024-12-30T19:28:06.046Z"
   },
   {
    "duration": 48,
    "start_time": "2024-12-30T19:28:42.357Z"
   },
   {
    "duration": 137,
    "start_time": "2024-12-30T19:29:33.479Z"
   },
   {
    "duration": 42,
    "start_time": "2024-12-30T19:30:02.360Z"
   },
   {
    "duration": 4,
    "start_time": "2024-12-30T19:31:11.039Z"
   },
   {
    "duration": 2284,
    "start_time": "2024-12-31T20:34:00.530Z"
   },
   {
    "duration": 48,
    "start_time": "2024-12-31T20:34:02.816Z"
   },
   {
    "duration": 6,
    "start_time": "2024-12-31T20:34:02.866Z"
   },
   {
    "duration": 5,
    "start_time": "2024-12-31T20:34:02.874Z"
   },
   {
    "duration": 242,
    "start_time": "2024-12-31T20:34:02.882Z"
   },
   {
    "duration": 46,
    "start_time": "2024-12-31T20:34:03.126Z"
   },
   {
    "duration": 18,
    "start_time": "2024-12-31T20:34:03.174Z"
   },
   {
    "duration": 11,
    "start_time": "2024-12-31T20:34:03.210Z"
   },
   {
    "duration": 6,
    "start_time": "2024-12-31T20:34:03.222Z"
   },
   {
    "duration": 39,
    "start_time": "2024-12-31T20:34:03.230Z"
   },
   {
    "duration": 61,
    "start_time": "2024-12-31T20:34:03.271Z"
   },
   {
    "duration": 5,
    "start_time": "2024-12-31T20:34:03.334Z"
   },
   {
    "duration": 4,
    "start_time": "2024-12-31T20:34:03.340Z"
   },
   {
    "duration": 18,
    "start_time": "2024-12-31T20:34:03.347Z"
   },
   {
    "duration": 64,
    "start_time": "2024-12-31T20:34:03.367Z"
   },
   {
    "duration": 320,
    "start_time": "2024-12-31T20:34:03.433Z"
   },
   {
    "duration": 52,
    "start_time": "2024-12-31T20:34:03.757Z"
   },
   {
    "duration": 4,
    "start_time": "2024-12-31T20:34:03.810Z"
   },
   {
    "duration": 55,
    "start_time": "2024-12-31T20:35:48.214Z"
   }
  ],
  "kernelspec": {
   "display_name": "Python 3 (ipykernel)",
   "language": "python",
   "name": "python3"
  },
  "language_info": {
   "codemirror_mode": {
    "name": "ipython",
    "version": 3
   },
   "file_extension": ".py",
   "mimetype": "text/x-python",
   "name": "python",
   "nbconvert_exporter": "python",
   "pygments_lexer": "ipython3",
   "version": "3.9.19"
  },
  "toc": {
   "base_numbering": 1,
   "nav_menu": {},
   "number_sections": true,
   "sideBar": true,
   "skip_h1_title": true,
   "title_cell": "Table of Contents",
   "title_sidebar": "Contents",
   "toc_cell": false,
   "toc_position": {},
   "toc_section_display": true,
   "toc_window_display": false
  }
 },
 "nbformat": 4,
 "nbformat_minor": 2
}
