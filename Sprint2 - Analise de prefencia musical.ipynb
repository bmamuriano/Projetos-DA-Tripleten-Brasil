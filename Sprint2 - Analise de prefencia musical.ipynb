{
 "cells": [
  {
   "cell_type": "markdown",
   "metadata": {
    "id": "E0vqbgi9ay0H"
   },
   "source": [
    "# Se liga na música"
   ]
  },
  {
   "cell_type": "markdown",
   "metadata": {
    "id": "fhq_eyov_Zcs"
   },
   "source": [
    "# Conteúdo <a id='back'></a>\n",
    "\n",
    "* [Introdução](#intro)\n",
    "* [Etapa 1. Visão geral dos dados](#data_review)\n",
    "    * [Conclusões](#data_review_conclusions)\n",
    "* [Etapa 2. Pré-processamento de dados](#data_preprocessing)\n",
    "    * [2.1 Estilo do cabeçalho](#header_style)\n",
    "    * [2.2 Valores ausentes](#missing_values)\n",
    "    * [2.3 Duplicados](#duplicates)\n",
    "    * [2.4 Conclusões](#data_preprocessing_conclusions)\n",
    "* [Etapa 3. Teste da hipótese](#hypothesis)\n",
    "    * [3.1 Hipótese 1: atividade dos usuários nas duas cidades](#activity)\n",
    "* [Conclusões](#end)"
   ]
  },
  {
   "cell_type": "markdown",
   "metadata": {
    "id": "VUC88oWjTJw2"
   },
   "source": [
    "## Introdução <a id='intro'></a>\n",
    "O trabalho de um analista é analisar dados para obter percepções valiosas dos dados e tomar decisões fundamentadas neles. Esse processo consiste em várias etapas, como visão geral dos dados, pré-processamento dos dados e testes de hipóteses.\n",
    "\n",
    "Sempre que fazemos uma pesquisa, precisamos formular uma hipótese que depois poderemos testar. Às vezes nós aceitamos essas hipóteses; outras vezes, nós as rejeitamos. Para fazer as escolhas certas, um negócio deve ser capaz de entender se está fazendo as suposições certas ou não.\n",
    "\n",
    "Neste projeto, você vai comparar as preferências musicais dos habitantes de Springfild e Shelbyville. Você vai estudar os dados de um serviço de streaming de música online para testar a hipótese apresentada abaixo e comparar o comportamento dos usuários dessas duas cidades.\n",
    "\n",
    "### Objetivo:\n",
    "Teste a hipótese:\n",
    "1. A atividade dos usuários é diferente dependendo do dia da semana e da cidade.\n",
    "\n",
    "\n",
    "### Etapas\n",
    "Os dados sobre o comportamento do usuário são armazenados no arquivo `/datasets/music_project_en.csv`. Não há informações sobre a qualidade dos dados, então será necessário examiná-los antes de testar a hipótese.\n",
    "\n",
    "Primeiro, você avaliará a qualidade dos dados e verá se seus problemas são significativos. Depois, durante o pré-processamento dos dados, você tentará tratar dos problemas mais críticos.\n",
    "\n",
    "O seu projeto consistirá em três etapas:\n",
    " 1. Visão geral dos dados\n",
    " 2. Pré-processamento de dados\n",
    " 3. Teste da hipótese\n",
    "\n",
    "\n",
    "\n",
    "\n",
    "\n",
    "\n"
   ]
  },
  {
   "cell_type": "markdown",
   "metadata": {
    "id": "hDt6pg-Rw-1U"
   },
   "source": [
    "[Voltar ao Índice](#back)"
   ]
  },
  {
   "cell_type": "markdown",
   "metadata": {
    "id": "Ml1hmfXC_Zcs"
   },
   "source": [
    "## Etapa 1. Visão geral dos dados <a id='data_review'></a>\n",
    "\n",
    "Abra os dados e examine-os."
   ]
  },
  {
   "cell_type": "markdown",
   "metadata": {
    "id": "57eAOGIz_Zcs"
   },
   "source": [
    "Você precisará da `pandas`, então, importe-a."
   ]
  },
  {
   "cell_type": "code",
   "execution_count": 1,
   "metadata": {
    "id": "AXN7PHPN_Zcs"
   },
   "outputs": [],
   "source": [
    "import pandas as pd"
   ]
  },
  {
   "cell_type": "markdown",
   "metadata": {
    "id": "SG23P8tt_Zcs"
   },
   "source": [
    "Leia o arquivo `music_project_en.csv` da pasta `/datasets/` e salve-o na variável `df`:"
   ]
  },
  {
   "cell_type": "code",
   "execution_count": 2,
   "metadata": {
    "id": "fFVu7vqh_Zct"
   },
   "outputs": [],
   "source": [
    "df = pd.read_csv('/datasets/music_project_en.csv')\n"
   ]
  },
  {
   "cell_type": "markdown",
   "metadata": {
    "id": "rDoOMd3uTqnZ"
   },
   "source": [
    "Imprima as primeiras 10 linhas da tabela:"
   ]
  },
  {
   "cell_type": "code",
   "execution_count": 3,
   "metadata": {
    "id": "oWTVX3gW_Zct"
   },
   "outputs": [
    {
     "name": "stdout",
     "output_type": "stream",
     "text": [
      "     userID                        Track            artist   genre  \\\n",
      "0  FFB692EC            Kamigata To Boots  The Mass Missile    rock   \n",
      "1  55204538  Delayed Because of Accident  Andreas Rönnberg    rock   \n",
      "2    20EC38            Funiculì funiculà       Mario Lanza     pop   \n",
      "3  A3DD03C9        Dragons in the Sunset        Fire + Ice    folk   \n",
      "4  E2DC1FAE                  Soul People        Space Echo   dance   \n",
      "5  842029A1                       Chains          Obladaet  rusrap   \n",
      "6  4CB90AA5                         True      Roman Messer   dance   \n",
      "7  F03E1C1F             Feeling This Way   Polina Griffith   dance   \n",
      "8  8FA1D3BE                     L’estate       Julia Dalia  ruspop   \n",
      "9  E772D5C0                    Pessimist               NaN   dance   \n",
      "\n",
      "        City        time        Day  \n",
      "0  Shelbyville  20:28:33  Wednesday  \n",
      "1  Springfield  14:07:09     Friday  \n",
      "2  Shelbyville  20:58:07  Wednesday  \n",
      "3  Shelbyville  08:37:09     Monday  \n",
      "4  Springfield  08:34:34     Monday  \n",
      "5  Shelbyville  13:09:41     Friday  \n",
      "6  Springfield  13:00:07  Wednesday  \n",
      "7  Springfield  20:47:49  Wednesday  \n",
      "8  Springfield  09:17:40     Friday  \n",
      "9  Shelbyville  21:20:49  Wednesday  \n"
     ]
    }
   ],
   "source": [
    "print(df.head(10))\n"
   ]
  },
  {
   "cell_type": "markdown",
   "metadata": {
    "id": "EO73Kwic_Zct"
   },
   "source": [
    "Obtenha informações gerais sobre a tabela usando um comando. Você conhece o método para exibir informações gerais que precisamos obter."
   ]
  },
  {
   "cell_type": "code",
   "execution_count": 4,
   "metadata": {
    "id": "DSf2kIb-_Zct"
   },
   "outputs": [
    {
     "name": "stdout",
     "output_type": "stream",
     "text": [
      "<class 'pandas.core.frame.DataFrame'>\n",
      "RangeIndex: 65079 entries, 0 to 65078\n",
      "Data columns (total 7 columns):\n",
      " #   Column    Non-Null Count  Dtype \n",
      "---  ------    --------------  ----- \n",
      " 0     userID  65079 non-null  object\n",
      " 1   Track     63736 non-null  object\n",
      " 2   artist    57512 non-null  object\n",
      " 3   genre     63881 non-null  object\n",
      " 4     City    65079 non-null  object\n",
      " 5   time      65079 non-null  object\n",
      " 6   Day       65079 non-null  object\n",
      "dtypes: object(7)\n",
      "memory usage: 3.5+ MB\n",
      "None\n"
     ]
    }
   ],
   "source": [
    "print(df.info())\n"
   ]
  },
  {
   "cell_type": "markdown",
   "metadata": {
    "id": "TaQ2Iwbr_Zct"
   },
   "source": [
    "Aqui estão as nossas observações sobre a tabela. Ela contém sete colunas. Elas armazenam o mesmo tipo de dado: `object`.\n",
    "\n",
    "De acordo com a documentação:\n",
    "- `' userID'` — identificação do usuário\n",
    "- `'Track'` — título da música\n",
    "- `'artist'` — nome do artista\n",
    "- `'genre'` — gênero da música\n",
    "- `'City'` — cidade do usuário\n",
    "- `'time'` — o tempo exato que a música foi reproduzida\n",
    "- `'Day'` — dia da semana\n",
    "\n",
    "Podemos ver três problemas de estilo nos cabeçalhos da tabela:\n",
    "1. Alguns cabeçalhos são escritos em letras maiúsculas, outros estão em minúsculas.\n",
    "2. Alguns cabeçalhos contêm espaços.\n",
    "3. Para corrigir o problema devemos utilizar os metodos strip() , lower() , replace (' ', '_') e append para ter uma nova lista com os dados tratados\n",
    "\n",
    "\n"
   ]
  },
  {
   "cell_type": "markdown",
   "metadata": {
    "id": "MCB6-dXG_Zct"
   },
   "source": [
    "### Escreva suas observações. Aqui estão algumas perguntas que podem ajudar: <a id='data_review_conclusions'></a>\n",
    "\n",
    "`1.   Que tipo de dados temos nas linhas? E como podemos entender as colunas?`\n",
    "Sao dados float. Nao entendi o que voces quiserem dizer com 'como podemos entender as colunas'.\n",
    "\n",
    "`2.   Esses dados são suficientes para responder à nossa hipótese ou precisamos de mais dados?`\n",
    "Sim, uma vez que o enunciado diz que precisamos entender qual cidade ouve mais musicas e em quais dias da semana os dados acima citados me parecem razoaveis para a analise.\n",
    "\n",
    "`3.   Você notou algum problema nos dados, como valores ausentes, duplicados ou tipos de dados errados`\n",
    "Tudo ok na minha visao."
   ]
  },
  {
   "cell_type": "markdown",
   "metadata": {
    "id": "3eL__vcwViOi"
   },
   "source": [
    "[Voltar ao Índice](#back)"
   ]
  },
  {
   "cell_type": "markdown",
   "metadata": {
    "id": "SjYF6Ub9_Zct"
   },
   "source": [
    "## Etapa 2. Pré-processamento de dados <a id='data_preprocessing'></a>\n",
    "\n",
    "O objetivo aqui é preparar os dados para a análise.\n",
    "O primeiro passo é resolver todos os problemas com o cabeçalho. E então podemos passar para os valores ausentes e duplicados. Vamos começar.\n",
    "\n",
    "Corrija a formatação nos cabeçalhos da tabela.\n"
   ]
  },
  {
   "cell_type": "markdown",
   "metadata": {
    "id": "dIaKXr29_Zct"
   },
   "source": [
    "### Estilo do cabeçalho <a id='header_style'></a>\n",
    "Imprima os cabeçalhos da tabela (os nomes das colunas):"
   ]
  },
  {
   "cell_type": "code",
   "execution_count": 5,
   "metadata": {
    "id": "oKOTdF_Q_Zct"
   },
   "outputs": [
    {
     "name": "stdout",
     "output_type": "stream",
     "text": [
      "     userID                        Track            artist  genre  \\\n",
      "0  FFB692EC            Kamigata To Boots  The Mass Missile   rock   \n",
      "1  55204538  Delayed Because of Accident  Andreas Rönnberg   rock   \n",
      "2    20EC38            Funiculì funiculà       Mario Lanza    pop   \n",
      "3  A3DD03C9        Dragons in the Sunset        Fire + Ice   folk   \n",
      "4  E2DC1FAE                  Soul People        Space Echo  dance   \n",
      "\n",
      "        City        time        Day  \n",
      "0  Shelbyville  20:28:33  Wednesday  \n",
      "1  Springfield  14:07:09     Friday  \n",
      "2  Shelbyville  20:58:07  Wednesday  \n",
      "3  Shelbyville  08:37:09     Monday  \n",
      "4  Springfield  08:34:34     Monday  \n"
     ]
    }
   ],
   "source": [
    "def process_data(dataframe):\n",
    "    print(dataframe.head())\n",
    "process_data(df)\n"
   ]
  },
  {
   "cell_type": "markdown",
   "metadata": {
    "id": "zj5534cv_Zct"
   },
   "source": [
    "Mude os cabeçalhos da tabela conforme as boas práticas de estilo:\n",
    "* Todos os caracteres precisam estar com letras minúsculas\n",
    "* Exclua espaços\n",
    "* Se o nome tiver várias palavras, use snake_case"
   ]
  },
  {
   "cell_type": "markdown",
   "metadata": {
    "id": "Xu0zkfe5zNJe"
   },
   "source": [
    "Anteriormente, você aprendeu sobre uma maneira automatizada de renomear colunas. Vamos usá-la agora. Use o ciclo for para percorrer os nomes das colunas e transformar todos os caracteres em letras minúsculas. Após fazer isso, imprima os cabeçalhos da tabela novamente:"
   ]
  },
  {
   "cell_type": "code",
   "execution_count": 6,
   "metadata": {
    "id": "6I_RwwMhzM4e"
   },
   "outputs": [
    {
     "name": "stdout",
     "output_type": "stream",
     "text": [
      "Index(['  userid', 'track', 'artist', 'genre', '  city  ', 'time', 'day'], dtype='object')\n"
     ]
    }
   ],
   "source": [
    "new_col_names = []\n",
    "\n",
    "for old_name in df.columns:\n",
    "    name_lowered = old_name.lower()\n",
    "    new_col_names.append(name_lowered)\n",
    "\n",
    "df.columns = new_col_names\n",
    "\n",
    "print(df.columns)\n",
    "\n"
   ]
  },
  {
   "cell_type": "markdown",
   "metadata": {
    "id": "pweIRxjSzPYW"
   },
   "source": [
    "Agora, usando a mesma abordagem, exclua os espaços no início e no final de cada nome de coluna e imprima os nomes das colunas novamente:"
   ]
  },
  {
   "cell_type": "code",
   "execution_count": 7,
   "metadata": {
    "id": "vVQXbFyJzSYl"
   },
   "outputs": [
    {
     "name": "stdout",
     "output_type": "stream",
     "text": [
      "Index(['userid', 'track', 'artist', 'genre', 'city', 'time', 'day'], dtype='object')\n"
     ]
    }
   ],
   "source": [
    "new_col_names = []\n",
    "\n",
    "for old_name in df.columns:\n",
    "    name_stripped = old_name.strip()\n",
    "#     name_lowered = name_stripped.lower()\n",
    "    new_col_names.append(name_stripped)\n",
    "\n",
    "df.columns = new_col_names\n",
    "\n",
    "print(df.columns)"
   ]
  },
  {
   "cell_type": "markdown",
   "metadata": {
    "id": "yCb8MW1JzURd"
   },
   "source": [
    "Precisamos aplicar a regra de sublinhado no lugar de espaço à coluna `userid`. Deveria ser `user_id`. Renomeie essa coluna e imprima os nomes de todas as colunas quando terminar."
   ]
  },
  {
   "cell_type": "code",
   "execution_count": 8,
   "metadata": {
    "id": "ISlFqs5y_Zct"
   },
   "outputs": [],
   "source": [
    "df=df.rename(columns={\"userid\":\"user_id\"})\n"
   ]
  },
  {
   "cell_type": "markdown",
   "metadata": {
    "id": "1dqbh00J_Zct"
   },
   "source": [
    "Verifique o resultado. Imprima os cabeçalhos novamente:"
   ]
  },
  {
   "cell_type": "code",
   "execution_count": 9,
   "metadata": {
    "id": "d4NOAmTW_Zct"
   },
   "outputs": [
    {
     "name": "stdout",
     "output_type": "stream",
     "text": [
      "Index(['user_id', 'track', 'artist', 'genre', 'city', 'time', 'day'], dtype='object')\n"
     ]
    }
   ],
   "source": [
    "print(df.columns)\n"
   ]
  },
  {
   "cell_type": "markdown",
   "metadata": {
    "id": "xYJk6ksJVpOl"
   },
   "source": [
    "[Voltar ao Índice](#back)"
   ]
  },
  {
   "cell_type": "markdown",
   "metadata": {
    "id": "5ISfbcfY_Zct"
   },
   "source": [
    "### Valores Ausentes <a id='missing_values'></a>\n",
    " Primeiro, encontre a quantidade de valores ausentes na tabela. Você precisa usar dois métodos em sequência para obter o número de valores ausentes."
   ]
  },
  {
   "cell_type": "code",
   "execution_count": 10,
   "metadata": {
    "id": "RskX29qr_Zct"
   },
   "outputs": [
    {
     "name": "stdout",
     "output_type": "stream",
     "text": [
      "user_id       0\n",
      "track      1343\n",
      "artist     7567\n",
      "genre      1198\n",
      "city          0\n",
      "time          0\n",
      "day           0\n",
      "dtype: int64\n"
     ]
    }
   ],
   "source": [
    "def process_data(dataframe):\n",
    "    mis_val = dataframe.isna().sum()\n",
    "    print(mis_val)\n",
    "\n",
    "process_data(df)\n",
    "\n"
   ]
  },
  {
   "cell_type": "markdown",
   "metadata": {
    "id": "qubhgnlO_Zct"
   },
   "source": [
    "Nem todos os valores ausentes afetam a pesquisa. Por exemplo, os valores ausentes em `track` e `artist` não são críticos. Você pode simplesmente substituí-los por valores padrão, como a string `'unknown'`.\n",
    "\n",
    "Mas valores ausentes em `'genre'` podem afetar a comparação de preferências musicais de Springfield e Shelbyville. Na vida real, seria útil descobrir as razões pelas quais os dados estão ausentes e tentar corrigi-los. Mas nós não temos essa possibilidade neste projeto. Então, você terá que:\n",
    "* Preencha esses valores ausentes com um valor padrão\n",
    "* Avalie em que medida os valores ausentes podem afetar sua análise"
   ]
  },
  {
   "cell_type": "markdown",
   "metadata": {
    "id": "fSv2laPA_Zct"
   },
   "source": [
    "Substitua os valores ausentes nas colunas `'track'`, `'artist'` e `'genre'` pela string `'unknown'`. Como mostramos nas lições anteriores, a melhor maneira de fazer isso é criar uma lista para armazenar os nomes das colunas nas quais precisamos fazer a substituição. Em seguida, use essa lista e percorra as colunas nas quais a substituição seja necessária e faça a substituição."
   ]
  },
  {
   "cell_type": "code",
   "execution_count": 11,
   "metadata": {
    "id": "KplB5qWs_Zct"
   },
   "outputs": [
    {
     "name": "stdout",
     "output_type": "stream",
     "text": [
      "        user_id                              track            artist  \\\n",
      "0      FFB692EC                  Kamigata To Boots  The Mass Missile   \n",
      "1      55204538        Delayed Because of Accident  Andreas Rönnberg   \n",
      "2        20EC38                  Funiculì funiculà       Mario Lanza   \n",
      "3      A3DD03C9              Dragons in the Sunset        Fire + Ice   \n",
      "4      E2DC1FAE                        Soul People        Space Echo   \n",
      "...         ...                                ...               ...   \n",
      "65074  729CBB09                            My Name            McLean   \n",
      "65075  D08D4A55  Maybe One Day (feat. Black Spade)       Blu & Exile   \n",
      "65076  C5E3A0D5                          Jalopiina           unknown   \n",
      "65077  321D0506                      Freight Train     Chas McDevitt   \n",
      "65078  3A64EF84          Tell Me Sweet Little Lies      Monica Lopez   \n",
      "\n",
      "            genre         city      time        day  \n",
      "0            rock  Shelbyville  20:28:33  Wednesday  \n",
      "1            rock  Springfield  14:07:09     Friday  \n",
      "2             pop  Shelbyville  20:58:07  Wednesday  \n",
      "3            folk  Shelbyville  08:37:09     Monday  \n",
      "4           dance  Springfield  08:34:34     Monday  \n",
      "...           ...          ...       ...        ...  \n",
      "65074         rnb  Springfield  13:32:28  Wednesday  \n",
      "65075         hip  Shelbyville  10:00:00     Monday  \n",
      "65076  industrial  Springfield  20:09:26     Friday  \n",
      "65077        rock  Springfield  21:43:59     Friday  \n",
      "65078     country  Springfield  21:59:46     Friday  \n",
      "\n",
      "[65079 rows x 7 columns]\n"
     ]
    }
   ],
   "source": [
    "columns_to_fill = ['track', 'artist', 'genre']\n",
    "\n",
    "for col in columns_to_fill:\n",
    "    df[col].fillna('unknown', inplace=True)\n",
    "\n",
    "print(df)"
   ]
  },
  {
   "cell_type": "markdown",
   "metadata": {
    "id": "Ilsm-MZo_Zct"
   },
   "source": [
    "Agora verifique o resultado para ter certeza de que o conjunto de dados não contenha valores ausentes após a substituição. Para fazer isso, conte os valores ausentes novamente."
   ]
  },
  {
   "cell_type": "code",
   "execution_count": 12,
   "metadata": {
    "id": "Tq4nYRX4_Zct"
   },
   "outputs": [
    {
     "name": "stdout",
     "output_type": "stream",
     "text": [
      "user_id    0\n",
      "track      0\n",
      "artist     0\n",
      "genre      0\n",
      "city       0\n",
      "time       0\n",
      "day        0\n",
      "dtype: int64\n"
     ]
    }
   ],
   "source": [
    "missing_values_count = df.isna().sum()\n",
    "\n",
    "print(missing_values_count)\n"
   ]
  },
  {
   "cell_type": "markdown",
   "metadata": {
    "id": "74ZIBmq9VrsK"
   },
   "source": [
    "[Voltar ao Índice](#back)"
   ]
  },
  {
   "cell_type": "markdown",
   "metadata": {
    "id": "BWKRtBJ3_Zct"
   },
   "source": [
    "### Duplicados <a id='duplicates'></a>\n",
    "Encontre o número de duplicados explícitos na tabela. Lembre-se de que você precisa aplicar dois métodos em sequência para obter o número de duplicados explícitos."
   ]
  },
  {
   "cell_type": "code",
   "execution_count": 13,
   "metadata": {
    "id": "36eES_S0_Zct"
   },
   "outputs": [
    {
     "name": "stdout",
     "output_type": "stream",
     "text": [
      "3826\n"
     ]
    }
   ],
   "source": [
    "print (df.duplicated().sum())\n"
   ]
  },
  {
   "cell_type": "markdown",
   "metadata": {
    "id": "Ot25h6XR_Zct"
   },
   "source": [
    "Agora descarte todos os duplicados. Para fazer isso, chame o método que faz exatamente isso."
   ]
  },
  {
   "cell_type": "code",
   "execution_count": 14,
   "metadata": {
    "id": "exFHq6tt_Zct"
   },
   "outputs": [],
   "source": [
    "df.drop_duplicates(inplace=True)\n"
   ]
  },
  {
   "cell_type": "markdown",
   "metadata": {
    "id": "Im2YwBEG_Zct"
   },
   "source": [
    "Agora vamos verificar se descartamos todos os duplicados. Conte duplicados explícitos mais uma vez para ter certeza de que você removeu todos eles:"
   ]
  },
  {
   "cell_type": "code",
   "execution_count": 15,
   "metadata": {
    "id": "-8PuNWQ0_Zct"
   },
   "outputs": [
    {
     "name": "stdout",
     "output_type": "stream",
     "text": [
      "    user_id                        track            artist  genre  \\\n",
      "0  FFB692EC            Kamigata To Boots  The Mass Missile   rock   \n",
      "1  55204538  Delayed Because of Accident  Andreas Rönnberg   rock   \n",
      "2    20EC38            Funiculì funiculà       Mario Lanza    pop   \n",
      "3  A3DD03C9        Dragons in the Sunset        Fire + Ice   folk   \n",
      "4  E2DC1FAE                  Soul People        Space Echo  dance   \n",
      "\n",
      "          city      time        day  \n",
      "0  Shelbyville  20:28:33  Wednesday  \n",
      "1  Springfield  14:07:09     Friday  \n",
      "2  Shelbyville  20:58:07  Wednesday  \n",
      "3  Shelbyville  08:37:09     Monday  \n",
      "4  Springfield  08:34:34     Monday  \n"
     ]
    }
   ],
   "source": [
    "df.drop_duplicates(inplace=True)\n",
    "\n",
    "print(df.head())\n",
    "\n"
   ]
  },
  {
   "cell_type": "markdown",
   "metadata": {
    "id": "QlFBsxAr_Zct"
   },
   "source": [
    "Agora queremos nos livrar dos duplicados implícitos na coluna `genre`. Por exemplo, o nome de um gênero pode ser escrito de maneiras diferentes. Alguns erros afetarão também o resultado."
   ]
  },
  {
   "cell_type": "markdown",
   "metadata": {
    "id": "eSjWwsOh_Zct"
   },
   "source": [
    "Para fazer isso, vamos começar imprimindo uma lista de nomes de gênero únicos, ordenados em ordem alfabética: Para fazer isso:\n",
    "* Extraia a coluna `genre` do DataFrame\n",
    "* Chame o método que retornará todos os valores únicos na coluna extraída\n"
   ]
  },
  {
   "cell_type": "code",
   "execution_count": 16,
   "metadata": {
    "id": "JIUcqzZN_Zct"
   },
   "outputs": [
    {
     "name": "stdout",
     "output_type": "stream",
     "text": [
      "0              rock\n",
      "1              rock\n",
      "2               pop\n",
      "3              folk\n",
      "4             dance\n",
      "            ...    \n",
      "65074           rnb\n",
      "65075           hip\n",
      "65076    industrial\n",
      "65077          rock\n",
      "65078       country\n",
      "Name: genre, Length: 61253, dtype: object\n"
     ]
    }
   ],
   "source": [
    "def process_data(dataframe):\n",
    "    mis_val = dataframe.loc[:,'genre']\n",
    "    print(mis_val)\n",
    "\n",
    "process_data(df)\n"
   ]
  },
  {
   "cell_type": "markdown",
   "metadata": {
    "id": "qej-Qmuo_Zct"
   },
   "source": [
    "Olhe a lista e encontre duplicados implícitos do gênero `hiphop`. Esses podem ser nomes escritos incorretamente, ou nomes alternativos para o mesmo gênero.\n",
    "\n",
    "Você verá os seguintes duplicados implícitos:\n",
    "* `hip`\n",
    "* `hop`\n",
    "* `hip-hop`\n",
    "\n",
    "Para se livrar deles, crie uma função `replace_wrong_genres()` com dois parâmetros:\n",
    "* `wrong_genres=` — essa é uma lista que contém todos os valores que você precisa substituir\n",
    "* `correct_genre=` — essa é uma string que você vai usar para a substituição\n",
    "\n",
    "Como resultado, a função deve corrigir os nomes na coluna `'genre'` da tabela `df`, isto é, substituindo cada valor da lista `wrong_genres` por valores de `correct_genre`.\n",
    "\n",
    "Dentro do corpo da função, use um ciclo `'for'` para percorrer a lista de gêneros errados, extrair a coluna `'genre'` e aplicar o método `replace` para fazer as correções."
   ]
  },
  {
   "cell_type": "markdown",
   "metadata": {
    "id": "aDoBJxbA_Zct"
   },
   "source": [
    "Agora, chame a função `replace_wrong_genres()` e passe argumentos apropriados para que ela limpe duplicados implícitos (`hip`, `hop` e `hip-hop`) substituindo-os por `hiphop`:"
   ]
  },
  {
   "cell_type": "code",
   "execution_count": 17,
   "metadata": {
    "id": "YN5i2hpmSo09"
   },
   "outputs": [],
   "source": [
    "def replace_wrong_genres(df,columns,wrong_genres,correct_genre):\n",
    "    for wrong_genre in wrong_genres:\n",
    "        df[columns] = df[columns].replace(wrong_genre,correct_genre)\n",
    "    return df\n",
    "\n",
    "wrong_genres = ['hip','hop','hip-hop']\n",
    "correct_genre = 'hiphop'\n",
    "df = replace_wrong_genres(df, 'genre', wrong_genres, correct_genre)\n",
    "\n"
   ]
  },
  {
   "cell_type": "code",
   "execution_count": 18,
   "metadata": {},
   "outputs": [
    {
     "data": {
      "text/plain": [
       "array(['rock', 'pop', 'folk', 'dance', 'rusrap', 'ruspop', 'world',\n",
       "       'electronic', 'unknown', 'alternative', 'children', 'rnb',\n",
       "       'hiphop', 'jazz', 'postrock', 'latin', 'classical', 'metal',\n",
       "       'reggae', 'triphop', 'blues', 'instrumental', 'rusrock', 'dnb',\n",
       "       'türk', 'post', 'country', 'psychedelic', 'conjazz', 'indie',\n",
       "       'posthardcore', 'local', 'avantgarde', 'punk', 'videogame',\n",
       "       'techno', 'house', 'christmas', 'melodic', 'caucasian',\n",
       "       'reggaeton', 'soundtrack', 'singer', 'ska', 'salsa', 'ambient',\n",
       "       'film', 'western', 'rap', 'beats', \"hard'n'heavy\", 'progmetal',\n",
       "       'minimal', 'tropical', 'contemporary', 'new', 'soul', 'holiday',\n",
       "       'german', 'jpop', 'spiritual', 'urban', 'gospel', 'nujazz',\n",
       "       'folkmetal', 'trance', 'miscellaneous', 'anime', 'hardcore',\n",
       "       'progressive', 'korean', 'numetal', 'vocal', 'estrada', 'tango',\n",
       "       'loungeelectronic', 'classicmetal', 'dubstep', 'club', 'deep',\n",
       "       'southern', 'black', 'folkrock', 'fitness', 'french', 'disco',\n",
       "       'religious', 'drum', 'extrememetal', 'türkçe', 'experimental',\n",
       "       'easy', 'metalcore', 'modern', 'argentinetango', 'old', 'swing',\n",
       "       'breaks', 'eurofolk', 'stonerrock', 'industrial', 'funk', 'middle',\n",
       "       'variété', 'other', 'adult', 'christian', 'thrash', 'gothic',\n",
       "       'international', 'muslim', 'relax', 'schlager', 'caribbean', 'nu',\n",
       "       'breakbeat', 'comedy', 'chill', 'newage', 'specialty', 'uzbek',\n",
       "       'k-pop', 'balkan', 'chinese', 'meditative', 'dub', 'power',\n",
       "       'death', 'grime', 'arabesk', 'romance', 'flamenco', 'leftfield',\n",
       "       'european', 'tech', 'newwave', 'dancehall', 'mpb', 'piano', 'top',\n",
       "       'bigroom', 'opera', 'celtic', 'tradjazz', 'acoustic', 'epicmetal',\n",
       "       'historisch', 'downbeat', 'downtempo', 'africa', 'audiobook',\n",
       "       'jewish', 'sängerportrait', 'deutschrock', 'eastern', 'action',\n",
       "       'future', 'electropop', 'folklore', 'bollywood', 'marschmusik',\n",
       "       'rnr', 'karaoke', 'indian', 'rancheras', 'afrikaans', 'rhythm',\n",
       "       'sound', 'deutschspr', 'trip', 'lovers', 'choral', 'dancepop',\n",
       "       'retro', 'smooth', 'mexican', 'brazilian', 'ïîï', 'mood', 'surf',\n",
       "       'gangsta', 'inspirational', 'idm', 'ethnic', 'bluegrass',\n",
       "       'broadway', 'animated', 'americana', 'karadeniz', 'rockabilly',\n",
       "       'colombian', 'self', 'sertanejo', 'japanese', 'canzone', 'lounge',\n",
       "       'sport', 'ragga', 'traditional', 'gitarre', 'frankreich', 'emo',\n",
       "       'laiko', 'cantopop', 'glitch', 'documentary', 'oceania',\n",
       "       'popeurodance', 'dark', 'vi', 'grunge', 'hardstyle', 'samba',\n",
       "       'garage', 'art', 'folktronica', 'entehno', 'mediterranean',\n",
       "       'chamber', 'cuban', 'taraftar', 'gypsy', 'hardtechno',\n",
       "       'shoegazing', 'bossa', 'latino', 'worldbeat', 'malaysian', 'baile',\n",
       "       'ghazal', 'arabic', 'popelectronic', 'acid', 'kayokyoku',\n",
       "       'neoklassik', 'tribal', 'tanzorchester', 'native', 'independent',\n",
       "       'cantautori', 'handsup', 'punjabi', 'synthpop', 'rave',\n",
       "       'französisch', 'quebecois', 'speech', 'soulful', 'jam', 'ram',\n",
       "       'horror', 'orchestral', 'neue', 'roots', 'slow', 'jungle',\n",
       "       'indipop', 'axé', 'fado', 'showtunes', 'arena', 'irish',\n",
       "       'mandopop', 'forró', 'dirty', 'regional'], dtype=object)"
      ]
     },
     "execution_count": 18,
     "metadata": {},
     "output_type": "execute_result"
    }
   ],
   "source": [
    "df[\"genre\"].unique()"
   ]
  },
  {
   "cell_type": "markdown",
   "metadata": {
    "id": "zQKF16_RG15m"
   },
   "source": [
    "Certifique-se que os nomes duplicados foram removidos. Imprima a lista de valores únicos da coluna `'genre'` mais uma vez:"
   ]
  },
  {
   "cell_type": "markdown",
   "metadata": {
    "id": "ALgNbvF3VtPA"
   },
   "source": [
    "[Voltar ao Índice](#back)"
   ]
  },
  {
   "cell_type": "markdown",
   "metadata": {
    "id": "jz6a9-7HQUDd"
   },
   "source": [
    "### Suas observações <a id='data_preprocessing_conclusions'></a>\n",
    "\n",
    "` Descreva brevemente o que você reparou ao analisar duplicados, bem como a abordagem que usou para eliminá-los e os resultados que alcançou.`\n",
    "\n",
    "Nao é um metodo dificil, mas exige habilidade em lembrar todos os passos.\n",
    "Tive um pouco de dificuldade mas entendi o conceito, depois de aplicado para simples e de facil reutilizacao."
   ]
  },
  {
   "cell_type": "markdown",
   "metadata": {
    "id": "eK1es74rVujj"
   },
   "source": [
    "[Voltar ao Índice](#back)"
   ]
  },
  {
   "cell_type": "markdown",
   "metadata": {
    "id": "WttZHXH0SqKk"
   },
   "source": [
    "## Etapa 3. Teste da hipótese <a id='hypothesis'></a>"
   ]
  },
  {
   "cell_type": "markdown",
   "metadata": {
    "id": "Im936VVi_Zcu"
   },
   "source": [
    "### Hipótese: comparação do comportamento dos usuários nas duas cidades <a id='activity'></a>"
   ]
  },
  {
   "cell_type": "markdown",
   "metadata": {
    "id": "nwt_MuaL_Zcu"
   },
   "source": [
    "A hipótese afirma que existem diferenças no consumo de música pelos usuários em Springfield e em Shelbyville. Para testar a hipótese, use os dados dos três dias da semana: segunda-feira (Monday), quarta-feira (Wednesday) e sexta-feira (Friday).\n",
    "\n",
    "* Agrupe os usuários por cidade.\n",
    "* Compare o número de músicas tocadas por cada grupo na segunda, quarta e sexta.\n"
   ]
  },
  {
   "cell_type": "markdown",
   "metadata": {
    "id": "8Dw_YMmT_Zcu"
   },
   "source": [
    "Execute cada cálculo separadamente.\n",
    "\n",
    "O primeiro passo é avaliar a atividade dos usuários em cada cidade. Não se esqueça das etapas \"divisão-aplicação-combinação\" sobre as quais falamos anteriormente na lição. Agora seu objetivo é agrupar os dados por cidade, aplicar o método de contagem apropriado durante a etapa de aplicação e então encontrar o número de músicas tocadas por cada grupo, especificando a coluna para a qual você quer obter a contagem.\n",
    "\n",
    "Veja um exemplo de como o resultado final deve ser:\n",
    "`df.groupby(by='....')['column'].method()` Execute cada cálculo separadamente.\n",
    "\n",
    "Para avaliar a atividade dos usuários em cada cidade, agrupe os dados por cidade e encontre o número de músicas reproduzidas em cada grupo.\n",
    "\n"
   ]
  },
  {
   "cell_type": "code",
   "execution_count": 19,
   "metadata": {
    "id": "0_Qs96oh_Zcu"
   },
   "outputs": [
    {
     "name": "stdout",
     "output_type": "stream",
     "text": [
      "city\n",
      "Shelbyville    18512\n",
      "Springfield    42741\n",
      "Name: track, dtype: int64\n"
     ]
    }
   ],
   "source": [
    "total_music = df.groupby('city')['track'].count()\n",
    "\n",
    "print(total_music)\n",
    "\n"
   ]
  },
  {
   "cell_type": "markdown",
   "metadata": {
    "id": "t_Qx-3NewAnK"
   },
   "source": [
    "`Comente sobre suas observações aqui`"
   ]
  },
  {
   "cell_type": "markdown",
   "metadata": {
    "id": "dzli3w8o_Zcu"
   },
   "source": [
    "Agora vamos agrupar os dados por dia da semana e encontrar a quantidade de músicas tocadas na segunda, quarta e sexta-feira. Use a mesma abordagem que antes, mas agora precisamos agrupar os dados de uma forma diferente.\n"
   ]
  },
  {
   "cell_type": "code",
   "execution_count": 20,
   "metadata": {
    "id": "uZMKjiJz_Zcu"
   },
   "outputs": [
    {
     "name": "stdout",
     "output_type": "stream",
     "text": [
      "day\n",
      "Friday       21840\n",
      "Monday       21354\n",
      "Wednesday    18059\n",
      "Name: track, dtype: int64\n"
     ]
    }
   ],
   "source": [
    "total_music_by_day = df.groupby('day')['track'].count()\n",
    "\n",
    "print(total_music_by_day)\n",
    "\n"
   ]
  },
  {
   "cell_type": "markdown",
   "metadata": {
    "id": "cC2tNrlL_Zcu"
   },
   "source": [
    "Tive que consultar o chatgpt pois no material de estudo nao menciona as forma '.isin' e 'count'. Se possivel revejam o material pq para quem nao tem nenhum conhecimento em Python nao consegue efetuar o exericio."
   ]
  },
  {
   "cell_type": "markdown",
   "metadata": {
    "id": "POzs8bGa_Zcu"
   },
   "source": [
    "Você acabou de aprender como contar entradas agrupando-as por cidade ou por dia. E agora você precisa escrever uma função que possa contar entradas simultaneamente com base em ambos os critérios.\n",
    "\n",
    "Crie a função `number_tracks()` para calcular o número de músicas tocadas em um determinado dia **e** em uma determinada cidade. A função deve aceitar dois parâmetros:\n",
    "\n",
    "- `day`: um dia da semana pelo qual precisamos filtrar os dados. Por exemplo, `'Monday'`.\n",
    "- `city`: uma cidade pela qual precisamos filtrar os dados. Por exemplo, `'Springfield'`.\n",
    "\n",
    "Dentro da função, você vai aplicar uma filtragem consecutiva com indexação lógica.\n",
    "\n",
    "Primeiro, filtre os dados por dia e então filtre a tabela resultante por cidade.\n",
    "\n",
    "Depois de filtrar os dados usando os dois critérios, conte o número de valores na coluna 'user_id' da tabela resultante. O resultado da contagem representará o número de entradas que você quer encontrar. Armazene o resultado em uma nova variável e imprima-o."
   ]
  },
  {
   "cell_type": "code",
   "execution_count": 21,
   "metadata": {
    "id": "Nz3GdQB1_Zcu"
   },
   "outputs": [],
   "source": [
    "def number_tracks(day, city):\n",
    "    filtered_df = df[df['day']== day]\n",
    "    filtered_df = filtered_df[filtered_df['city']== city]\n",
    "    return filtered_df[\"user_id\"].count()"
   ]
  },
  {
   "cell_type": "markdown",
   "metadata": {
    "id": "ytf7xFrFJQ2r"
   },
   "source": [
    "Chame a função `number_tracks()` seis vezes, mudando os valores dos parâmetros, para que você possa recuperar os dados de ambas as cidades para cada um dos três dias."
   ]
  },
  {
   "cell_type": "code",
   "execution_count": 22,
   "metadata": {
    "id": "rJcRATNQ_Zcu"
   },
   "outputs": [
    {
     "data": {
      "text/plain": [
       "15740"
      ]
     },
     "execution_count": 22,
     "metadata": {},
     "output_type": "execute_result"
    }
   ],
   "source": [
    "# a quantidade de músicas tocadas em Springfield na segunda-feira\n",
    "\n",
    "number_tracks(\"Monday\",\"Springfield\")\n"
   ]
  },
  {
   "cell_type": "code",
   "execution_count": 23,
   "metadata": {
    "id": "hq_ncZ5T_Zcu"
   },
   "outputs": [
    {
     "data": {
      "text/plain": [
       "5614"
      ]
     },
     "execution_count": 23,
     "metadata": {},
     "output_type": "execute_result"
    }
   ],
   "source": [
    "# a quantidade de músicas tocadas em Shelbyville na segunda-feira\n",
    "\n",
    "number_tracks(\"Monday\",\"Shelbyville\")"
   ]
  },
  {
   "cell_type": "code",
   "execution_count": 24,
   "metadata": {
    "id": "_NTy2VPU_Zcu"
   },
   "outputs": [
    {
     "data": {
      "text/plain": [
       "11056"
      ]
     },
     "execution_count": 24,
     "metadata": {},
     "output_type": "execute_result"
    }
   ],
   "source": [
    "# a quantidade de músicas tocadas em Springfield na quarta-feira\n",
    "\n",
    "number_tracks(\"Wednesday\",\"Springfield\")\n"
   ]
  },
  {
   "cell_type": "code",
   "execution_count": 25,
   "metadata": {
    "id": "j2y3TAwo_Zcu"
   },
   "outputs": [
    {
     "data": {
      "text/plain": [
       "7003"
      ]
     },
     "execution_count": 25,
     "metadata": {},
     "output_type": "execute_result"
    }
   ],
   "source": [
    "# a quantidade de músicas tocadas em Shelbyville na quarta-feira\n",
    "\n",
    "number_tracks(\"Wednesday\",\"Shelbyville\")\n"
   ]
  },
  {
   "cell_type": "code",
   "execution_count": 26,
   "metadata": {
    "id": "vYDw5u_K_Zcu"
   },
   "outputs": [
    {
     "data": {
      "text/plain": [
       "15945"
      ]
     },
     "execution_count": 26,
     "metadata": {},
     "output_type": "execute_result"
    }
   ],
   "source": [
    "# a quantidade de músicas tocadas em Springfield na sexta-feira\n",
    "\n",
    "number_tracks(\"Friday\",\"Springfield\")"
   ]
  },
  {
   "cell_type": "code",
   "execution_count": 27,
   "metadata": {
    "id": "8_yzFtW3_Zcu"
   },
   "outputs": [
    {
     "data": {
      "text/plain": [
       "5895"
      ]
     },
     "execution_count": 27,
     "metadata": {},
     "output_type": "execute_result"
    }
   ],
   "source": [
    "# a quantidade de músicas tocadas em Shelbyville na sexta-feira\n",
    "\n",
    "number_tracks(\"Friday\",\"Shelbyville\")"
   ]
  },
  {
   "cell_type": "markdown",
   "metadata": {
    "id": "-EgPIHYu_Zcu"
   },
   "source": [
    "**Conclusões**\n",
    "\n",
    "Em Springfield existem mais ouvintes de musica nas segundas e sextas-feiras."
   ]
  },
  {
   "cell_type": "markdown",
   "metadata": {
    "id": "p7nFQajCVw5B"
   },
   "source": [
    "[Voltar ao Índice](#back)"
   ]
  },
  {
   "cell_type": "markdown",
   "metadata": {
    "id": "ykKQ0N65_Zcv"
   },
   "source": [
    "# Conclusões <a id='end'></a>"
   ]
  },
  {
   "cell_type": "markdown",
   "metadata": {
    "id": "tjUwbHb3_Zcv"
   },
   "source": [
    "O projeto leva a crer que em Springfield existem mais pessoas que gostam de ouvir musica, e que ouvem mais no inicio e no final da semana porem nao foi possivel identificar o genero da musica mais ouvida ou o artista de preferencia podendo este ter sido um ponto importante para trazer na sprint pois pode abrir possibilidades de analise cultural."
   ]
  },
  {
   "cell_type": "markdown",
   "metadata": {
    "id": "azLHu64yOIp7"
   },
   "source": [
    "### Importante\n",
    "Em projetos de pesquisas reais, o teste estatístico de hipóteses é mais preciso e quantitativo. Observe também que conclusões sobre uma cidade inteira nem sempre podem ser tiradas a partir de dados de apenas uma fonte.\n",
    "\n",
    "Você aprenderá mais sobre testes de hipóteses no sprint sobre a análise estatística de dados."
   ]
  },
  {
   "cell_type": "markdown",
   "metadata": {
    "id": "Ju4AHDSgV1FE"
   },
   "source": [
    "[Voltar ao Índice](#back)"
   ]
  }
 ],
 "metadata": {
  "ExecuteTimeLog": [
   {
    "duration": 499,
    "start_time": "2024-07-25T19:22:57.299Z"
   },
   {
    "duration": 7,
    "start_time": "2024-07-25T19:55:46.794Z"
   },
   {
    "duration": 184,
    "start_time": "2024-07-25T19:55:54.447Z"
   },
   {
    "duration": 12,
    "start_time": "2024-07-25T19:55:57.785Z"
   },
   {
    "duration": 9,
    "start_time": "2024-07-25T19:56:17.230Z"
   },
   {
    "duration": 9,
    "start_time": "2024-07-25T19:56:18.688Z"
   },
   {
    "duration": 32,
    "start_time": "2024-07-25T19:56:21.743Z"
   },
   {
    "duration": 9,
    "start_time": "2024-07-25T19:57:11.372Z"
   },
   {
    "duration": 9,
    "start_time": "2024-07-25T19:57:17.358Z"
   },
   {
    "duration": 9,
    "start_time": "2024-07-25T19:57:29.287Z"
   },
   {
    "duration": 337,
    "start_time": "2024-07-25T19:57:36.722Z"
   },
   {
    "duration": 23,
    "start_time": "2024-07-25T19:58:01.132Z"
   },
   {
    "duration": 24,
    "start_time": "2024-07-25T20:00:03.545Z"
   },
   {
    "duration": 24,
    "start_time": "2024-07-25T20:01:33.221Z"
   },
   {
    "duration": 26,
    "start_time": "2024-07-25T20:04:24.661Z"
   },
   {
    "duration": 25,
    "start_time": "2024-07-25T20:04:32.824Z"
   },
   {
    "duration": 9,
    "start_time": "2024-07-25T20:04:46.602Z"
   },
   {
    "duration": 28,
    "start_time": "2024-07-25T20:11:45.387Z"
   },
   {
    "duration": 25,
    "start_time": "2024-07-25T20:12:01.823Z"
   },
   {
    "duration": 71,
    "start_time": "2024-07-25T20:14:51.936Z"
   },
   {
    "duration": 25,
    "start_time": "2024-07-25T20:20:00.132Z"
   },
   {
    "duration": 24,
    "start_time": "2024-07-25T20:20:19.803Z"
   },
   {
    "duration": 26,
    "start_time": "2024-07-25T20:21:27.837Z"
   },
   {
    "duration": 542,
    "start_time": "2024-07-25T20:22:45.460Z"
   },
   {
    "duration": 28,
    "start_time": "2024-07-25T20:23:17.376Z"
   },
   {
    "duration": 14,
    "start_time": "2024-07-25T20:23:53.919Z"
   },
   {
    "duration": 11,
    "start_time": "2024-07-25T20:24:15.077Z"
   },
   {
    "duration": 10,
    "start_time": "2024-07-25T20:24:23.169Z"
   },
   {
    "duration": 9,
    "start_time": "2024-07-25T20:24:31.928Z"
   },
   {
    "duration": 9,
    "start_time": "2024-07-25T20:24:48.371Z"
   },
   {
    "duration": 10,
    "start_time": "2024-07-25T20:26:21.488Z"
   },
   {
    "duration": 71,
    "start_time": "2024-07-25T20:26:57.290Z"
   },
   {
    "duration": 479,
    "start_time": "2024-07-26T12:51:14.814Z"
   },
   {
    "duration": 9,
    "start_time": "2024-07-26T12:51:23.718Z"
   },
   {
    "duration": 10,
    "start_time": "2024-07-26T12:51:38.151Z"
   },
   {
    "duration": 339,
    "start_time": "2024-07-26T12:52:38.954Z"
   },
   {
    "duration": 210,
    "start_time": "2024-07-26T12:55:19.653Z"
   },
   {
    "duration": 175,
    "start_time": "2024-07-26T12:55:31.855Z"
   },
   {
    "duration": 180,
    "start_time": "2024-07-26T12:56:51.122Z"
   },
   {
    "duration": 171,
    "start_time": "2024-07-26T12:56:56.573Z"
   },
   {
    "duration": 181,
    "start_time": "2024-07-26T12:57:47.990Z"
   },
   {
    "duration": 178,
    "start_time": "2024-07-26T12:58:01.856Z"
   },
   {
    "duration": 227,
    "start_time": "2024-07-26T12:58:22.565Z"
   },
   {
    "duration": 75,
    "start_time": "2024-07-26T12:59:08.420Z"
   },
   {
    "duration": 24,
    "start_time": "2024-07-26T12:59:58.303Z"
   },
   {
    "duration": 74,
    "start_time": "2024-07-26T13:00:30.474Z"
   },
   {
    "duration": 78,
    "start_time": "2024-07-26T13:00:32.770Z"
   },
   {
    "duration": 78,
    "start_time": "2024-07-26T13:01:12.159Z"
   },
   {
    "duration": 23,
    "start_time": "2024-07-26T13:04:14.832Z"
   },
   {
    "duration": 22,
    "start_time": "2024-07-26T13:04:28.327Z"
   },
   {
    "duration": 23,
    "start_time": "2024-07-26T13:06:38.822Z"
   },
   {
    "duration": 24,
    "start_time": "2024-07-26T13:06:45.347Z"
   },
   {
    "duration": 46,
    "start_time": "2024-07-26T13:07:53.158Z"
   },
   {
    "duration": 35,
    "start_time": "2024-07-26T13:10:09.154Z"
   },
   {
    "duration": 159,
    "start_time": "2024-07-26T13:13:34.711Z"
   },
   {
    "duration": 8,
    "start_time": "2024-07-26T13:18:23.033Z"
   },
   {
    "duration": 4,
    "start_time": "2024-07-26T13:18:44.744Z"
   },
   {
    "duration": 5,
    "start_time": "2024-07-26T13:18:49.135Z"
   },
   {
    "duration": 25,
    "start_time": "2024-07-26T13:22:27.904Z"
   },
   {
    "duration": 26,
    "start_time": "2024-07-26T13:24:01.737Z"
   },
   {
    "duration": 38,
    "start_time": "2024-07-26T13:24:20.438Z"
   },
   {
    "duration": 160,
    "start_time": "2024-07-26T13:24:41.916Z"
   },
   {
    "duration": 35,
    "start_time": "2024-07-26T13:25:33.117Z"
   },
   {
    "duration": 30,
    "start_time": "2024-07-26T13:25:41.495Z"
   },
   {
    "duration": 9,
    "start_time": "2024-07-26T13:30:03.414Z"
   },
   {
    "duration": 9,
    "start_time": "2024-07-26T13:30:38.578Z"
   },
   {
    "duration": 5,
    "start_time": "2024-07-26T13:31:16.362Z"
   },
   {
    "duration": 5,
    "start_time": "2024-07-26T13:31:23.915Z"
   },
   {
    "duration": 5,
    "start_time": "2024-07-26T13:31:51.958Z"
   },
   {
    "duration": 24,
    "start_time": "2024-07-26T13:32:00.397Z"
   },
   {
    "duration": 7,
    "start_time": "2024-07-26T13:32:36.131Z"
   },
   {
    "duration": 791,
    "start_time": "2024-07-26T13:33:15.248Z"
   },
   {
    "duration": 53,
    "start_time": "2024-07-26T13:33:28.666Z"
   },
   {
    "duration": 54,
    "start_time": "2024-07-26T13:33:30.833Z"
   },
   {
    "duration": 315,
    "start_time": "2024-07-26T13:33:39.604Z"
   },
   {
    "duration": 128,
    "start_time": "2024-07-26T13:34:12.971Z"
   },
   {
    "duration": 220,
    "start_time": "2024-07-26T13:35:07.622Z"
   },
   {
    "duration": 6,
    "start_time": "2024-07-26T13:35:33.713Z"
   },
   {
    "duration": 5,
    "start_time": "2024-07-26T13:35:44.756Z"
   },
   {
    "duration": 218,
    "start_time": "2024-07-26T13:36:47.503Z"
   },
   {
    "duration": 7,
    "start_time": "2024-07-26T13:38:01.983Z"
   },
   {
    "duration": 7,
    "start_time": "2024-07-26T13:38:20.268Z"
   },
   {
    "duration": 293,
    "start_time": "2024-07-26T13:38:30.719Z"
   },
   {
    "duration": 286,
    "start_time": "2024-07-26T13:39:01.413Z"
   },
   {
    "duration": 238,
    "start_time": "2024-07-26T13:39:16.068Z"
   },
   {
    "duration": 237,
    "start_time": "2024-07-26T13:39:20.638Z"
   },
   {
    "duration": 241,
    "start_time": "2024-07-26T13:39:21.639Z"
   },
   {
    "duration": 10,
    "start_time": "2024-07-26T13:40:58.880Z"
   },
   {
    "duration": 10,
    "start_time": "2024-07-26T13:41:32.084Z"
   },
   {
    "duration": 9,
    "start_time": "2024-07-26T13:43:17.809Z"
   },
   {
    "duration": 10,
    "start_time": "2024-07-26T13:43:26.484Z"
   },
   {
    "duration": 12,
    "start_time": "2024-07-26T13:44:07.220Z"
   },
   {
    "duration": 11,
    "start_time": "2024-07-26T13:44:39.577Z"
   },
   {
    "duration": 35,
    "start_time": "2024-07-26T13:45:38.681Z"
   },
   {
    "duration": 33,
    "start_time": "2024-07-26T13:45:46.053Z"
   },
   {
    "duration": 10,
    "start_time": "2024-07-26T13:46:06.219Z"
   },
   {
    "duration": 9,
    "start_time": "2024-07-26T13:46:52.147Z"
   },
   {
    "duration": 235,
    "start_time": "2024-07-26T13:47:44.174Z"
   },
   {
    "duration": 258,
    "start_time": "2024-07-26T13:48:29.792Z"
   },
   {
    "duration": 30,
    "start_time": "2024-07-26T13:50:32.396Z"
   },
   {
    "duration": 25,
    "start_time": "2024-07-26T13:51:26.183Z"
   },
   {
    "duration": 154,
    "start_time": "2024-07-26T13:53:36.786Z"
   },
   {
    "duration": 155,
    "start_time": "2024-07-26T13:53:57.250Z"
   },
   {
    "duration": 171,
    "start_time": "2024-07-26T13:54:10.728Z"
   },
   {
    "duration": 29,
    "start_time": "2024-07-26T13:54:33.063Z"
   },
   {
    "duration": 4,
    "start_time": "2024-07-26T13:56:17.414Z"
   },
   {
    "duration": 20,
    "start_time": "2024-07-26T13:56:34.257Z"
   },
   {
    "duration": 5,
    "start_time": "2024-07-26T13:56:50.206Z"
   },
   {
    "duration": 4,
    "start_time": "2024-07-26T13:57:13.765Z"
   },
   {
    "duration": 11,
    "start_time": "2024-07-26T13:57:29.590Z"
   },
   {
    "duration": 10,
    "start_time": "2024-07-26T13:59:35.501Z"
   },
   {
    "duration": 4,
    "start_time": "2024-07-26T13:59:49.901Z"
   },
   {
    "duration": 29,
    "start_time": "2024-07-26T14:04:43.170Z"
   },
   {
    "duration": 25,
    "start_time": "2024-07-26T14:04:55.639Z"
   },
   {
    "duration": 24,
    "start_time": "2024-07-26T14:05:45.001Z"
   },
   {
    "duration": 18,
    "start_time": "2024-07-26T14:05:57.432Z"
   },
   {
    "duration": 6,
    "start_time": "2024-07-26T14:06:36.919Z"
   },
   {
    "duration": 79,
    "start_time": "2024-07-26T14:09:48.897Z"
   },
   {
    "duration": 844,
    "start_time": "2024-07-26T19:59:42.476Z"
   },
   {
    "duration": 36,
    "start_time": "2024-07-26T20:06:07.353Z"
   },
   {
    "duration": 667,
    "start_time": "2024-07-29T10:49:02.690Z"
   },
   {
    "duration": 172,
    "start_time": "2024-07-29T10:49:12.430Z"
   },
   {
    "duration": 163,
    "start_time": "2024-07-29T10:49:15.905Z"
   },
   {
    "duration": 9,
    "start_time": "2024-07-29T11:45:14.540Z"
   },
   {
    "duration": 158,
    "start_time": "2024-07-29T11:45:25.656Z"
   },
   {
    "duration": 159,
    "start_time": "2024-07-29T11:45:29.189Z"
   },
   {
    "duration": 12,
    "start_time": "2024-07-29T11:59:03.043Z"
   },
   {
    "duration": 327,
    "start_time": "2024-07-29T12:01:07.226Z"
   },
   {
    "duration": 4,
    "start_time": "2024-07-29T12:01:28.781Z"
   },
   {
    "duration": 5,
    "start_time": "2024-07-29T12:01:30.747Z"
   },
   {
    "duration": 25,
    "start_time": "2024-07-29T12:01:36.812Z"
   },
   {
    "duration": 31,
    "start_time": "2024-07-29T12:02:17.943Z"
   },
   {
    "duration": 6,
    "start_time": "2024-07-29T12:03:55.269Z"
   },
   {
    "duration": 43,
    "start_time": "2024-07-29T12:04:37.318Z"
   },
   {
    "duration": 16,
    "start_time": "2024-07-29T12:08:56.113Z"
   },
   {
    "duration": 14,
    "start_time": "2024-07-29T12:11:38.610Z"
   },
   {
    "duration": 10,
    "start_time": "2024-07-29T12:19:33.050Z"
   },
   {
    "duration": 10,
    "start_time": "2024-07-29T12:19:34.252Z"
   },
   {
    "duration": 12,
    "start_time": "2024-07-29T12:19:34.772Z"
   },
   {
    "duration": 9,
    "start_time": "2024-07-29T12:19:35.306Z"
   },
   {
    "duration": 7,
    "start_time": "2024-07-29T12:29:03.247Z"
   },
   {
    "duration": 627,
    "start_time": "2024-08-01T13:00:17.450Z"
   },
   {
    "duration": 4,
    "start_time": "2024-08-01T13:01:13.538Z"
   },
   {
    "duration": 3,
    "start_time": "2024-08-01T13:01:20.524Z"
   },
   {
    "duration": 154,
    "start_time": "2024-08-01T13:01:23.420Z"
   },
   {
    "duration": 11,
    "start_time": "2024-08-01T13:01:28.258Z"
   },
   {
    "duration": 33,
    "start_time": "2024-08-01T13:01:39.333Z"
   },
   {
    "duration": 3,
    "start_time": "2024-08-01T13:01:46.176Z"
   },
   {
    "duration": 8,
    "start_time": "2024-08-01T13:03:06.996Z"
   },
   {
    "duration": 5,
    "start_time": "2024-08-01T13:05:09.893Z"
   },
   {
    "duration": 6,
    "start_time": "2024-08-01T13:05:37.722Z"
   },
   {
    "duration": 32,
    "start_time": "2024-08-01T13:08:57.155Z"
   },
   {
    "duration": 13,
    "start_time": "2024-08-01T13:09:28.965Z"
   },
   {
    "duration": 4,
    "start_time": "2024-08-01T13:09:44.183Z"
   },
   {
    "duration": 26,
    "start_time": "2024-08-01T13:10:04.400Z"
   },
   {
    "duration": 22,
    "start_time": "2024-08-01T13:11:46.521Z"
   },
   {
    "duration": 25,
    "start_time": "2024-08-01T13:12:03.898Z"
   },
   {
    "duration": 72,
    "start_time": "2024-08-01T13:12:17.897Z"
   },
   {
    "duration": 79,
    "start_time": "2024-08-01T13:12:19.733Z"
   },
   {
    "duration": 78,
    "start_time": "2024-08-01T13:12:21.943Z"
   },
   {
    "duration": 6,
    "start_time": "2024-08-01T13:12:30.526Z"
   },
   {
    "duration": 17,
    "start_time": "2024-08-01T13:14:51.341Z"
   },
   {
    "duration": 12,
    "start_time": "2024-08-01T13:15:50.345Z"
   },
   {
    "duration": 1014,
    "start_time": "2024-08-01T13:17:33.322Z"
   },
   {
    "duration": 12,
    "start_time": "2024-08-01T13:17:56.253Z"
   },
   {
    "duration": 11,
    "start_time": "2024-08-01T13:18:36.023Z"
   },
   {
    "duration": 4,
    "start_time": "2024-08-01T13:23:10.470Z"
   },
   {
    "duration": 3,
    "start_time": "2024-08-01T13:23:48.380Z"
   },
   {
    "duration": 4,
    "start_time": "2024-08-01T13:24:32.623Z"
   },
   {
    "duration": 23,
    "start_time": "2024-08-01T13:25:59.230Z"
   },
   {
    "duration": 20,
    "start_time": "2024-08-01T13:26:19.575Z"
   },
   {
    "duration": 20,
    "start_time": "2024-08-01T13:43:02.370Z"
   },
   {
    "duration": 19,
    "start_time": "2024-08-01T13:43:04.682Z"
   },
   {
    "duration": 23,
    "start_time": "2024-08-01T13:43:06.639Z"
   },
   {
    "duration": 21,
    "start_time": "2024-08-01T13:43:08.779Z"
   },
   {
    "duration": 452,
    "start_time": "2024-08-01T16:07:03.252Z"
   },
   {
    "duration": 182,
    "start_time": "2024-08-01T16:07:03.708Z"
   },
   {
    "duration": 11,
    "start_time": "2024-08-01T16:07:03.893Z"
   },
   {
    "duration": 37,
    "start_time": "2024-08-01T16:07:03.908Z"
   },
   {
    "duration": 10,
    "start_time": "2024-08-01T16:07:03.948Z"
   },
   {
    "duration": 5,
    "start_time": "2024-08-01T16:07:03.963Z"
   },
   {
    "duration": 6,
    "start_time": "2024-08-01T16:07:03.972Z"
   },
   {
    "duration": 12,
    "start_time": "2024-08-01T16:07:04.026Z"
   },
   {
    "duration": 4,
    "start_time": "2024-08-01T16:07:04.042Z"
   },
   {
    "duration": 26,
    "start_time": "2024-08-01T16:07:04.055Z"
   },
   {
    "duration": 56,
    "start_time": "2024-08-01T16:07:04.084Z"
   },
   {
    "duration": 27,
    "start_time": "2024-08-01T16:07:04.144Z"
   },
   {
    "duration": 109,
    "start_time": "2024-08-01T16:07:04.174Z"
   },
   {
    "duration": 90,
    "start_time": "2024-08-01T16:07:04.286Z"
   },
   {
    "duration": 87,
    "start_time": "2024-08-01T16:07:04.379Z"
   },
   {
    "duration": 8,
    "start_time": "2024-08-01T16:07:04.468Z"
   },
   {
    "duration": 14,
    "start_time": "2024-08-01T16:07:04.479Z"
   },
   {
    "duration": 39,
    "start_time": "2024-08-01T16:07:04.495Z"
   },
   {
    "duration": 14,
    "start_time": "2024-08-01T16:07:04.537Z"
   },
   {
    "duration": 15,
    "start_time": "2024-08-01T16:07:04.554Z"
   },
   {
    "duration": 4,
    "start_time": "2024-08-01T16:07:04.573Z"
   },
   {
    "duration": 68,
    "start_time": "2024-08-01T16:07:04.580Z"
   },
   {
    "duration": 22,
    "start_time": "2024-08-01T16:07:04.652Z"
   },
   {
    "duration": 55,
    "start_time": "2024-08-01T16:07:04.678Z"
   },
   {
    "duration": 21,
    "start_time": "2024-08-01T16:07:04.736Z"
   },
   {
    "duration": 31,
    "start_time": "2024-08-01T16:07:04.760Z"
   },
   {
    "duration": 50,
    "start_time": "2024-08-01T16:07:04.796Z"
   }
  ],
  "colab": {
   "collapsed_sections": [
    "E0vqbgi9ay0H",
    "VUC88oWjTJw2"
   ],
   "provenance": []
  },
  "kernelspec": {
   "display_name": "Python 3 (ipykernel)",
   "language": "python",
   "name": "python3"
  },
  "language_info": {
   "codemirror_mode": {
    "name": "ipython",
    "version": 3
   },
   "file_extension": ".py",
   "mimetype": "text/x-python",
   "name": "python",
   "nbconvert_exporter": "python",
   "pygments_lexer": "ipython3",
   "version": "3.9.19"
  },
  "toc": {
   "base_numbering": 1,
   "nav_menu": {},
   "number_sections": true,
   "sideBar": true,
   "skip_h1_title": true,
   "title_cell": "Table of Contents",
   "title_sidebar": "Contents",
   "toc_cell": false,
   "toc_position": {},
   "toc_section_display": true,
   "toc_window_display": false
  }
 },
 "nbformat": 4,
 "nbformat_minor": 1
}
