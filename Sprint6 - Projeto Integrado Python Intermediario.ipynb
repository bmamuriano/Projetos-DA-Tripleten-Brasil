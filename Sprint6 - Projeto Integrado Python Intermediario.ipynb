{
 "cells": [
  {
   "cell_type": "markdown",
   "metadata": {},
   "source": [
    "## Introdução\n",
    "\n",
    "Neste projeto, analisamos dados de vendas de videogames para identificar padrões que determinam o sucesso de um jogo. Utilizando um conjunto de dados com informações de vendas globais, críticas e gêneros, buscamos prever quais jogos podem ter sucesso nas vendas em 2017.\n"
   ]
  },
  {
   "cell_type": "markdown",
   "metadata": {},
   "source": [
    "## Objetivos\n",
    "\n",
    "1. Estudar as informações gerais do conjunto de dados.\n",
    "2. Preparar os dados para análise, lidando com valores ausentes e transformando colunas.\n",
    "3. Analisar as vendas de jogos por plataforma e gênero.\n",
    "4. Criar perfis de usuários para diferentes regiões (América do Norte, Europa e Japão).\n",
    "5. Testar hipóteses relacionadas às classificações de usuários.\n",
    "6. Fornecer conclusões e recomendações baseadas nos dados analisados.\n"
   ]
  },
  {
   "cell_type": "markdown",
   "metadata": {},
   "source": [
    "## Metodologia\n",
    "\n",
    "O projeto seguirá as seguintes etapas:\n",
    "\n",
    "1. Carregar e explorar os dados.\n",
    "2. Limpar e preparar os dados para análise.\n",
    "3. Realizar análises descritivas e visuais.\n",
    "4. Testar hipóteses estatísticas.\n",
    "5. Resumir as descobertas e formular recomendações.\n"
   ]
  },
  {
   "cell_type": "code",
   "execution_count": 17,
   "metadata": {},
   "outputs": [
    {
     "name": "stdout",
     "output_type": "stream",
     "text": [
      "Name                  2\n",
      "Platform              0\n",
      "Year_of_Release     269\n",
      "Genre                 2\n",
      "NA_sales              0\n",
      "EU_sales              0\n",
      "JP_sales              0\n",
      "Other_sales           0\n",
      "Critic_Score       8578\n",
      "User_Score         6701\n",
      "Rating             6766\n",
      "dtype: int64\n"
     ]
    },
    {
     "data": {
      "text/html": [
       "<div>\n",
       "<style scoped>\n",
       "    .dataframe tbody tr th:only-of-type {\n",
       "        vertical-align: middle;\n",
       "    }\n",
       "\n",
       "    .dataframe tbody tr th {\n",
       "        vertical-align: top;\n",
       "    }\n",
       "\n",
       "    .dataframe thead th {\n",
       "        text-align: right;\n",
       "    }\n",
       "</style>\n",
       "<table border=\"1\" class=\"dataframe\">\n",
       "  <thead>\n",
       "    <tr style=\"text-align: right;\">\n",
       "      <th></th>\n",
       "      <th>Name</th>\n",
       "      <th>Platform</th>\n",
       "      <th>Year_of_Release</th>\n",
       "      <th>Genre</th>\n",
       "      <th>NA_sales</th>\n",
       "      <th>EU_sales</th>\n",
       "      <th>JP_sales</th>\n",
       "      <th>Other_sales</th>\n",
       "      <th>Critic_Score</th>\n",
       "      <th>User_Score</th>\n",
       "      <th>Rating</th>\n",
       "    </tr>\n",
       "  </thead>\n",
       "  <tbody>\n",
       "    <tr>\n",
       "      <th>0</th>\n",
       "      <td>Wii Sports</td>\n",
       "      <td>Wii</td>\n",
       "      <td>2006.0</td>\n",
       "      <td>Sports</td>\n",
       "      <td>41.36</td>\n",
       "      <td>28.96</td>\n",
       "      <td>3.77</td>\n",
       "      <td>8.45</td>\n",
       "      <td>76.0</td>\n",
       "      <td>8</td>\n",
       "      <td>E</td>\n",
       "    </tr>\n",
       "    <tr>\n",
       "      <th>1</th>\n",
       "      <td>Super Mario Bros.</td>\n",
       "      <td>NES</td>\n",
       "      <td>1985.0</td>\n",
       "      <td>Platform</td>\n",
       "      <td>29.08</td>\n",
       "      <td>3.58</td>\n",
       "      <td>6.81</td>\n",
       "      <td>0.77</td>\n",
       "      <td>NaN</td>\n",
       "      <td>NaN</td>\n",
       "      <td>NaN</td>\n",
       "    </tr>\n",
       "    <tr>\n",
       "      <th>2</th>\n",
       "      <td>Mario Kart Wii</td>\n",
       "      <td>Wii</td>\n",
       "      <td>2008.0</td>\n",
       "      <td>Racing</td>\n",
       "      <td>15.68</td>\n",
       "      <td>12.76</td>\n",
       "      <td>3.79</td>\n",
       "      <td>3.29</td>\n",
       "      <td>82.0</td>\n",
       "      <td>8.3</td>\n",
       "      <td>E</td>\n",
       "    </tr>\n",
       "    <tr>\n",
       "      <th>3</th>\n",
       "      <td>Wii Sports Resort</td>\n",
       "      <td>Wii</td>\n",
       "      <td>2009.0</td>\n",
       "      <td>Sports</td>\n",
       "      <td>15.61</td>\n",
       "      <td>10.93</td>\n",
       "      <td>3.28</td>\n",
       "      <td>2.95</td>\n",
       "      <td>80.0</td>\n",
       "      <td>8</td>\n",
       "      <td>E</td>\n",
       "    </tr>\n",
       "    <tr>\n",
       "      <th>4</th>\n",
       "      <td>Pokemon Red/Pokemon Blue</td>\n",
       "      <td>GB</td>\n",
       "      <td>1996.0</td>\n",
       "      <td>Role-Playing</td>\n",
       "      <td>11.27</td>\n",
       "      <td>8.89</td>\n",
       "      <td>10.22</td>\n",
       "      <td>1.00</td>\n",
       "      <td>NaN</td>\n",
       "      <td>NaN</td>\n",
       "      <td>NaN</td>\n",
       "    </tr>\n",
       "  </tbody>\n",
       "</table>\n",
       "</div>"
      ],
      "text/plain": [
       "                       Name Platform  Year_of_Release         Genre  NA_sales  \\\n",
       "0                Wii Sports      Wii           2006.0        Sports     41.36   \n",
       "1         Super Mario Bros.      NES           1985.0      Platform     29.08   \n",
       "2            Mario Kart Wii      Wii           2008.0        Racing     15.68   \n",
       "3         Wii Sports Resort      Wii           2009.0        Sports     15.61   \n",
       "4  Pokemon Red/Pokemon Blue       GB           1996.0  Role-Playing     11.27   \n",
       "\n",
       "   EU_sales  JP_sales  Other_sales  Critic_Score User_Score Rating  \n",
       "0     28.96      3.77         8.45          76.0          8      E  \n",
       "1      3.58      6.81         0.77           NaN        NaN    NaN  \n",
       "2     12.76      3.79         3.29          82.0        8.3      E  \n",
       "3     10.93      3.28         2.95          80.0          8      E  \n",
       "4      8.89     10.22         1.00           NaN        NaN    NaN  "
      ]
     },
     "execution_count": 17,
     "metadata": {},
     "output_type": "execute_result"
    }
   ],
   "source": [
    "# Importando bibliotecas\n",
    "import pandas as pd\n",
    "import matplotlib.pyplot as plt\n",
    "import seaborn as sns\n",
    "from scipy import stats\n",
    "import numpy as np\n",
    "\n",
    "df = pd.read_csv('/datasets/games.csv')\n",
    "\n",
    "# Remover duplicados\n",
    "df = df.drop_duplicates()\n",
    "\n",
    "# Exibir quantidade de valores nulos por coluna\n",
    "print(df.isnull().sum())\n",
    "\n",
    "# Substituir valores nulos pela mediana da coluna (exemplo com 'Year_of_Release')\n",
    "df['Year_of_Release'].fillna(df['Year_of_Release'].median(), inplace=True)\n",
    "\n",
    "# Exibir as primeiras linhas do DataFrame\n",
    "df.head()\n"
   ]
  },
  {
   "cell_type": "code",
   "execution_count": 18,
   "metadata": {},
   "outputs": [
    {
     "data": {
      "image/png": "[encoded data removed]",
      "text/plain": [
       "<Figure size 640x480 with 1 Axes>"
      ]
     },
     "metadata": {},
     "output_type": "display_data"
    }
   ],
   "source": [
    "# Filtrar dados de um intervalo de anos\n",
    "df = df[(df['Year_of_Release'] >= 2014) & (df['Year_of_Release'] <= 2017)]\n",
    "\n",
    "### Jogos Lançados por Ano\n",
    "games_per_year = df['Year_of_Release'].value_counts().sort_index()\n",
    "games_per_year.plot(kind='bar', title='Jogos Lançados por Ano')\n",
    "plt.xlabel('Ano')\n",
    "plt.ylabel('Número de Jogos')\n",
    "plt.show()\n"
   ]
  },
  {
   "cell_type": "markdown",
   "metadata": {},
   "source": [
    "A análise revelou uma correlação positiva entre a pontuação crítica dos jogos e suas vendas totais. Isso sugere que jogos com melhores avaliações tendem a ter um desempenho de vendas superior, ressaltando a importância da qualidade percebida pelos críticos."
   ]
  },
  {
   "cell_type": "code",
   "execution_count": 19,
   "metadata": {},
   "outputs": [
    {
     "data": {
      "image/png": "[encoded data removed]",
      "text/plain": [
       "<Figure size 640x480 with 1 Axes>"
      ]
     },
     "metadata": {},
     "output_type": "display_data"
    }
   ],
   "source": [
    "# Calcular total de vendas e criar a coluna total_sales\n",
    "df['total_sales'] = df[['NA_sales', 'EU_sales', 'JP_sales', 'Other_sales']].sum(axis=1)\n",
    "\n",
    "# Vendas Totais por Plataforma\n",
    "platform_sales = df.groupby('Platform')['total_sales'].sum().sort_values(ascending=False)\n",
    "\n",
    "# Plotar as vendas totais por plataforma\n",
    "platform_sales.plot(kind='bar', title='Vendas Totais por Plataforma')\n",
    "plt.xlabel('Plataforma')\n",
    "plt.ylabel('Vendas Totais (milhões de USD)')\n",
    "plt.show()\n"
   ]
  },
  {
   "cell_type": "markdown",
   "metadata": {},
   "source": [
    "- Tendência de Lançamentos: O número de jogos lançados aumentou ao longo dos anos, indicando uma crescente popularidade do mercado de videogames.\n",
    "\n",
    "- Vendas por Plataforma: A criação da coluna de vendas totais revelou que plataformas como PlayStation e Xbox dominaram as vendas, evidenciando sua influência no mercado.\n",
    "\n",
    "- Relação entre Avaliações e Vendas: A análise revelou uma correlação positiva entre as pontuações críticas e as vendas totais, sugerindo que jogos bem avaliados tendem a vender mais."
   ]
  },
  {
   "cell_type": "code",
   "execution_count": 20,
   "metadata": {},
   "outputs": [
    {
     "name": "stdout",
     "output_type": "stream",
     "text": [
      "Top 5 plataformas em América do Norte:\n",
      "Platform\n",
      "PS4     98.61\n",
      "XOne    81.27\n",
      "X360    28.30\n",
      "3DS     22.64\n",
      "PS3     22.05\n",
      "Name: NA_sales, dtype: float64\n",
      "\n",
      "\n",
      "Top 5 plataformas em Europa:\n",
      "Platform\n",
      "PS4     130.04\n",
      "XOne     46.25\n",
      "PS3      25.54\n",
      "PC       17.97\n",
      "3DS      16.12\n",
      "Name: EU_sales, dtype: float64\n",
      "\n",
      "\n",
      "Top 5 plataformas em Japão:\n",
      "Platform\n",
      "3DS     44.24\n",
      "PS4     15.02\n",
      "PSV     14.54\n",
      "PS3     11.22\n",
      "WiiU     7.31\n",
      "Name: JP_sales, dtype: float64\n",
      "\n",
      "\n"
     ]
    }
   ],
   "source": [
    "# Principais plataformas por região\n",
    "regions = ['NA_sales', 'EU_sales', 'JP_sales']\n",
    "region_names = ['América do Norte', 'Europa', 'Japão']\n",
    "\n",
    "for region, name in zip(regions, region_names):\n",
    "    top_platforms = df.groupby('Platform')[region].sum().nlargest(5)\n",
    "    print(f'Top 5 plataformas em {name}:')\n",
    "    print(top_platforms)\n",
    "    print('\\n')\n"
   ]
  },
  {
   "cell_type": "code",
   "execution_count": 21,
   "metadata": {},
   "outputs": [
    {
     "data": {
      "image/png": "[encoded data removed]",
      "text/plain": [
       "<Figure size 640x480 with 1 Axes>"
      ]
     },
     "metadata": {},
     "output_type": "display_data"
    },
    {
     "name": "stdout",
     "output_type": "stream",
     "text": [
      "Correlação: 0.328105086966363\n"
     ]
    }
   ],
   "source": [
    "plt.scatter(df['Critic_Score'], df['total_sales'])\n",
    "plt.title('Correlação entre Pontuação Crítica e Vendas Totais')\n",
    "plt.xlabel('Pontuação Crítica')\n",
    "plt.ylabel('Vendas Totais')\n",
    "plt.show()\n",
    "\n",
    "correlation = df['Critic_Score'].corr(df['total_sales'])\n",
    "print(f'Correlação: {correlation}')\n"
   ]
  },
  {
   "cell_type": "markdown",
   "metadata": {},
   "source": [
    "A correlação obtida entre a pontuação crítica dos jogos e suas vendas totais foi de aproximadamente 0,25. Esse valor indica uma correlação positiva moderada, sugerindo que, à medida que a pontuação crítica aumenta, as vendas totais também tendem a crescer. Embora a relação não seja extremamente forte, ela destaca a importância das avaliações críticas na influência do desempenho de vendas. Portanto, jogos bem avaliados têm maior potencial de sucesso comercial, reforçando a necessidade de focar na qualidade durante o desenvolvimento."
   ]
  },
  {
   "cell_type": "code",
   "execution_count": 22,
   "metadata": {},
   "outputs": [
    {
     "name": "stdout",
     "output_type": "stream",
     "text": [
      "Top 5 gêneros em América do Norte:\n",
      "Genre\n",
      "Shooter         79.02\n",
      "Action          72.53\n",
      "Sports          46.13\n",
      "Role-Playing    33.47\n",
      "Misc            15.05\n",
      "Name: NA_sales, dtype: float64\n",
      "\n",
      "\n",
      "Top 5 gêneros em Europa:\n",
      "Genre\n",
      "Action          74.68\n",
      "Shooter         65.52\n",
      "Sports          45.73\n",
      "Role-Playing    28.17\n",
      "Racing          14.13\n",
      "Name: EU_sales, dtype: float64\n",
      "\n",
      "\n",
      "Top 5 gêneros em Japão:\n",
      "Genre\n",
      "Role-Playing    31.16\n",
      "Action          29.58\n",
      "Fighting         6.37\n",
      "Misc             5.61\n",
      "Shooter          4.87\n",
      "Name: JP_sales, dtype: float64\n",
      "\n",
      "\n"
     ]
    }
   ],
   "source": [
    "# Principais gêneros por região\n",
    "for region, name in zip(regions, region_names):\n",
    "    top_genres = df.groupby('Genre')[region].sum().nlargest(5)\n",
    "    print(f'Top 5 gêneros em {name}:')\n",
    "    print(top_genres)\n",
    "    print('\\n')\n"
   ]
  },
  {
   "cell_type": "code",
   "execution_count": 23,
   "metadata": {},
   "outputs": [
    {
     "name": "stdout",
     "output_type": "stream",
     "text": [
      "                            Top Plataformas  \\\n",
      "América do Norte  PS4, XOne, X360, 3DS, PS3   \n",
      "Europa              PS4, XOne, PS3, PC, 3DS   \n",
      "Japão              3DS, PS4, PSV, PS3, WiiU   \n",
      "\n",
      "                                                    Top Gêneros  \n",
      "América do Norte    Shooter, Action, Sports, Role-Playing, Misc  \n",
      "Europa            Action, Shooter, Sports, Role-Playing, Racing  \n",
      "Japão             Role-Playing, Action, Fighting, Misc, Shooter  \n"
     ]
    }
   ],
   "source": [
    "# Criando um DataFrame para armazenar os resultados\n",
    "summary = {}\n",
    "\n",
    "# Analisando cada região\n",
    "for region, name in zip(regions, region_names):\n",
    "    # Principais plataformas\n",
    "    top_platforms = df.groupby('Platform')[region].sum().nlargest(5).index.tolist()\n",
    "    # Principais gêneros\n",
    "    top_genres = df.groupby('Genre')[region].sum().nlargest(5).index.tolist()\n",
    "    \n",
    "    # Armazenando os resultados em formato unificado\n",
    "    summary[name] = {\n",
    "        'Top Plataformas': ', '.join(top_platforms),\n",
    "        'Top Gêneros': ', '.join(top_genres)\n",
    "    }\n",
    "\n",
    "# Convertendo o resumo em DataFrame para visualização\n",
    "summary_df = pd.DataFrame(summary).T\n",
    "print(summary_df)\n"
   ]
  },
  {
   "cell_type": "markdown",
   "metadata": {},
   "source": [
    "A análise dos perfis de usuários em diferentes regiões revelou os seguintes padrões:\n",
    "\n",
    "- América do Norte: As principais plataformas foram Xbox 360, PS2, Wii, PS3 e DS, com os gêneros mais populares sendo Action, Sports, Shooter, Platform e Misc. Isso indica uma forte preferência por jogos de ação e esportes.\n",
    "\n",
    "- Europa: As plataformas líderes incluíram PS2, PS3, Xbox 360, Wii e PS, com Action, Sports, Shooter e Racing destacando-se como os gêneros preferidos. O foco em jogos de corrida é notável nessa região.\n",
    "\n",
    "- Japão: As plataformas mais populares foram DS, PS, PS2, SNES e 3DS, enquanto os gêneros que se destacaram foram Role-Playing, Action, Sports e Platform. A preferência por jogos de RPG reflete a forte cultura de jogos desse gênero no Japão."
   ]
  },
  {
   "cell_type": "markdown",
   "metadata": {},
   "source": [
    "# Teste de Hipótese 1: Classificações médias dos gêneros Action e Sports"
   ]
  },
  {
   "cell_type": "code",
   "execution_count": 24,
   "metadata": {},
   "outputs": [
    {
     "name": "stdout",
     "output_type": "stream",
     "text": [
      "[nan 8.3 4.3 5.7 5.  6.5 9.1 6.1 7.9 5.4 8.1 6.4 3.4 8.5 4.8 4.9 4.5 6.2\n",
      " 8.4 6.3 7.7 9.2 7.6 8.7 6.7 7.  4.1 8.2 6.8 5.5 7.5 4.4 5.9 7.2 6.9 3.9\n",
      " 4.2 3.2 8.6 3.1 9.  7.3 7.4 6.  4.7 7.1 8.8 5.1 6.6 3.  5.8 2.9 8.9 2.7\n",
      " 8.  3.5 7.8 5.2 5.6 4.6 3.3 9.3 4.  3.6 3.7 2.4 2.8 5.3 1.7 1.6 3.8 1.5\n",
      " 0.7 2.5 2.  2.1 0.2 1.9 1.4 2.3]\n",
      "Número de amostras para Action: 297\n",
      "Número de amostras para Sports: 127\n",
      "Para o gênero Ação, a Média das classificações é 6.76 e a Variância é 1.90\n",
      "Para o gênero Esportes, a Média das classificações é 5.23 e a Variância é 3.45\n",
      "Estatística t: 8.3846, Valor p: 0.0000\n",
      "Rejeitamos a hipótese nula: as classificações médias dos usuários para os gêneros Action e Sports são diferentes.\n"
     ]
    }
   ],
   "source": [
    "# Substituir \"tbd\" por NaN e converter para numérico\n",
    "df['User_Score'] = df['User_Score'].replace('tbd', np.nan)\n",
    "df['User_Score'] = pd.to_numeric(df['User_Score'], errors='coerce')\n",
    "\n",
    "# Verificar se a conversão funcionou corretamente\n",
    "print(df['User_Score'].unique())  # Exibir valores únicos para diagnóstico\n",
    "\n",
    "# Teste de Hipótese 1: Classificações médias dos gêneros Action e Sports\n",
    "action_scores = df[df['Genre'] == \"Action\"]['User_Score'].dropna()\n",
    "sports_scores = df[df['Genre'] == \"Sports\"]['User_Score'].dropna()\n",
    "\n",
    "# Verificação adicional para garantir que temos dados válidos\n",
    "print(f\"Número de amostras para Action: {len(action_scores)}\")\n",
    "print(f\"Número de amostras para Sports: {len(sports_scores)}\")\n",
    "\n",
    "# Calcular as médias e as variâncias\n",
    "if len(action_scores) > 0 and len(sports_scores) > 0:\n",
    "    action_mean_user_score = action_scores.mean()\n",
    "    action_var_user_score = action_scores.var()\n",
    "\n",
    "    sports_mean_user_score = sports_scores.mean()\n",
    "    sports_var_user_score = sports_scores.var()\n",
    "\n",
    "    print(f'Para o gênero Ação, a Média das classificações é {action_mean_user_score:.2f} e a Variância é {action_var_user_score:.2f}')\n",
    "    print(f'Para o gênero Esportes, a Média das classificações é {sports_mean_user_score:.2f} e a Variância é {sports_var_user_score:.2f}')\n",
    "\n",
    "    # Significância estatística crítica (limiar)\n",
    "    alpha = 0.05\n",
    "\n",
    "    # Teste t de Student para duas amostras independentes\n",
    "    t_stat, p_value = stats.ttest_ind(action_scores, sports_scores, equal_var=False)\n",
    "\n",
    "    print(f'Estatística t: {t_stat:.4f}, Valor p: {p_value:.4f}')\n",
    "\n",
    "    # Avaliação do resultado\n",
    "    if p_value < alpha:\n",
    "        print(\"Rejeitamos a hipótese nula: as classificações médias dos usuários para os gêneros Action e Sports são diferentes.\")\n",
    "    else:\n",
    "        print(\"Não rejeitamos a hipótese nula: as classificações médias dos usuários para os gêneros Action e Sports são iguais.\")\n",
    "else:\n",
    "    print(\"Não há amostras suficientes para realizar o teste.\")\n"
   ]
  },
  {
   "cell_type": "markdown",
   "metadata": {},
   "source": [
    "Médias e Variâncias: As médias das classificações dos gêneros \"Action\" e \"Sports\" são muito próximas, e a variância é relativamente baixa para ambos, indicando que as pontuações estão agrupadas em torno da média.\n",
    "\n",
    "Nao foi rejeitada a hipotese nula, o que significa que não há evidências suficientes para afirmar que as classificações médias dos usuários para os gêneros \"Action\" e \"Sports\" são diferentes. O valor p (0.1148) é maior que o limiar alfa (0.05), corroborando essa conclusão.\n"
   ]
  },
  {
   "cell_type": "markdown",
   "metadata": {},
   "source": [
    "# Teste de Hipótese 2: Classificações médias das plataformas Xbox One e PC"
   ]
  },
  {
   "cell_type": "code",
   "execution_count": 25,
   "metadata": {},
   "outputs": [
    {
     "name": "stdout",
     "output_type": "stream",
     "text": [
      "Número de amostras para Xbox One: 0\n",
      "Número de amostras para PC: 122\n"
     ]
    }
   ],
   "source": [
    "# Filtrar os dados por plataforma e remover possíveis NaNs\n",
    "xbox_scores = df[df['Platform'] == \"Xbox One\"]['User_Score'].dropna()\n",
    "pc_scores = df[df['Platform'] == \"PC\"]['User_Score'].dropna()\n",
    "\n",
    "# Verificação adicional para garantir que temos dados válidos\n",
    "print(f\"Número de amostras para Xbox One: {len(xbox_scores)}\")\n",
    "print(f\"Número de amostras para PC: {len(pc_scores)}\")\n",
    "\n",
    "# Calcular as médias e as variâncias\n",
    "if len(xbox_scores) > 0 and len(pc_scores) > 0:\n",
    "    xbox_mean_user_score = xbox_scores.mean()\n",
    "    xbox_var_user_score = xbox_scores.var()\n",
    "\n",
    "    pc_mean_user_score = pc_scores.mean()\n",
    "    pc_var_user_score = pc_scores.var()\n",
    "\n",
    "    print(f'Para a plataforma Xbox One, a Média das classificações é {xbox_mean_user_score:.2f} e a Variância é {xbox_var_user_score:.2f}')\n",
    "    print(f'Para a plataforma PC, a Média das classificações é {pc_mean_user_score:.2f} e a Variância é {pc_var_user_score:.2f}')\n",
    "\n",
    "    # Significância estatística crítica (limiar)\n",
    "    alpha = 0.05\n",
    "\n",
    "    # Tes\n"
   ]
  }
 ],
 "metadata": {
  "ExecuteTimeLog": [
   {
    "duration": 9,
    "start_time": "2024-10-28T19:22:08.941Z"
   },
   {
    "duration": 2677,
    "start_time": "2024-10-28T19:23:03.298Z"
   },
   {
    "duration": 38,
    "start_time": "2024-10-28T19:23:55.825Z"
   },
   {
    "duration": 4,
    "start_time": "2024-10-28T19:24:33.933Z"
   },
   {
    "duration": 640,
    "start_time": "2024-10-28T19:24:53.529Z"
   },
   {
    "duration": 245,
    "start_time": "2024-10-28T19:25:08.129Z"
   },
   {
    "duration": 194,
    "start_time": "2024-10-28T19:26:51.687Z"
   },
   {
    "duration": 206,
    "start_time": "2024-10-28T19:28:18.247Z"
   },
   {
    "duration": 62,
    "start_time": "2024-10-28T19:30:05.190Z"
   },
   {
    "duration": 122,
    "start_time": "2024-10-28T19:30:24.645Z"
   },
   {
    "duration": 171,
    "start_time": "2024-10-28T19:32:48.889Z"
   },
   {
    "duration": 9,
    "start_time": "2024-10-28T19:32:57.685Z"
   },
   {
    "duration": 42,
    "start_time": "2024-10-28T19:33:38.534Z"
   },
   {
    "duration": 11,
    "start_time": "2024-10-28T19:33:53.925Z"
   },
   {
    "duration": 15,
    "start_time": "2024-10-28T19:35:19.773Z"
   },
   {
    "duration": 7,
    "start_time": "2024-10-29T12:37:43.034Z"
   },
   {
    "duration": 2560,
    "start_time": "2024-10-29T12:38:06.749Z"
   },
   {
    "duration": 3,
    "start_time": "2024-10-29T12:38:09.312Z"
   },
   {
    "duration": 0,
    "start_time": "2024-10-29T12:38:09.318Z"
   },
   {
    "duration": 0,
    "start_time": "2024-10-29T12:38:09.319Z"
   },
   {
    "duration": 0,
    "start_time": "2024-10-29T12:38:09.320Z"
   },
   {
    "duration": 0,
    "start_time": "2024-10-29T12:38:09.321Z"
   },
   {
    "duration": 0,
    "start_time": "2024-10-29T12:38:09.322Z"
   },
   {
    "duration": 3,
    "start_time": "2024-10-29T12:38:14.227Z"
   },
   {
    "duration": 111,
    "start_time": "2024-10-29T12:39:15.145Z"
   },
   {
    "duration": 46,
    "start_time": "2024-10-29T12:40:53.496Z"
   },
   {
    "duration": 200,
    "start_time": "2024-10-29T12:41:54.647Z"
   },
   {
    "duration": 11,
    "start_time": "2024-10-29T12:42:08.921Z"
   },
   {
    "duration": 119,
    "start_time": "2024-10-29T12:42:12.530Z"
   },
   {
    "duration": 10,
    "start_time": "2024-10-29T12:42:16.832Z"
   },
   {
    "duration": 16,
    "start_time": "2024-10-29T12:42:20.402Z"
   },
   {
    "duration": 2518,
    "start_time": "2024-10-31T18:28:12.556Z"
   },
   {
    "duration": 118,
    "start_time": "2024-10-31T18:28:15.076Z"
   },
   {
    "duration": 133,
    "start_time": "2024-10-31T18:28:15.196Z"
   },
   {
    "duration": 9,
    "start_time": "2024-10-31T18:28:15.331Z"
   },
   {
    "duration": 133,
    "start_time": "2024-10-31T18:28:15.342Z"
   },
   {
    "duration": 8,
    "start_time": "2024-10-31T18:28:15.477Z"
   },
   {
    "duration": 12,
    "start_time": "2024-10-31T18:28:15.486Z"
   },
   {
    "duration": 221,
    "start_time": "2024-10-31T18:31:23.315Z"
   },
   {
    "duration": 398,
    "start_time": "2024-10-31T18:32:35.899Z"
   },
   {
    "duration": 48,
    "start_time": "2024-10-31T18:33:19.613Z"
   },
   {
    "duration": 671,
    "start_time": "2024-10-31T18:33:53.448Z"
   },
   {
    "duration": 7,
    "start_time": "2024-10-31T18:36:23.981Z"
   },
   {
    "duration": 21,
    "start_time": "2024-10-31T18:36:49.881Z"
   },
   {
    "duration": 37,
    "start_time": "2024-10-31T18:37:48.480Z"
   },
   {
    "duration": 8,
    "start_time": "2024-10-31T18:40:01.854Z"
   },
   {
    "duration": 13,
    "start_time": "2024-10-31T18:41:48.474Z"
   },
   {
    "duration": 44,
    "start_time": "2024-10-31T18:42:12.891Z"
   },
   {
    "duration": 94,
    "start_time": "2024-10-31T18:42:12.938Z"
   },
   {
    "duration": 133,
    "start_time": "2024-10-31T18:42:13.034Z"
   },
   {
    "duration": 9,
    "start_time": "2024-10-31T18:42:13.169Z"
   },
   {
    "duration": 129,
    "start_time": "2024-10-31T18:42:13.181Z"
   },
   {
    "duration": 8,
    "start_time": "2024-10-31T18:42:13.312Z"
   },
   {
    "duration": 11,
    "start_time": "2024-10-31T18:42:13.321Z"
   },
   {
    "duration": 11,
    "start_time": "2024-10-31T18:42:13.334Z"
   },
   {
    "duration": 6,
    "start_time": "2024-10-31T18:42:13.369Z"
   }
  ],
  "kernelspec": {
   "display_name": "Python 3 (ipykernel)",
   "language": "python",
   "name": "python3"
  },
  "language_info": {
   "codemirror_mode": {
    "name": "ipython",
    "version": 3
   },
   "file_extension": ".py",
   "mimetype": "text/x-python",
   "name": "python",
   "nbconvert_exporter": "python",
   "pygments_lexer": "ipython3",
   "version": "3.9.19"
  },
  "toc": {
   "base_numbering": 1,
   "nav_menu": {},
   "number_sections": true,
   "sideBar": true,
   "skip_h1_title": true,
   "title_cell": "Table of Contents",
   "title_sidebar": "Contents",
   "toc_cell": false,
   "toc_position": {},
   "toc_section_display": true,
   "toc_window_display": false
  }
 },
 "nbformat": 4,
 "nbformat_minor": 2
}
